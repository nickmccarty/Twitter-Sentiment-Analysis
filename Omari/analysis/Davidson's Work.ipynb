{
 "cells": [
  {
   "cell_type": "markdown",
   "metadata": {},
   "source": [
    "# Replication for results in Davidson et al. 2017. \"Automated Hate Speech Detection and the Problem of Offensive Language\""
   ]
  },
  {
   "cell_type": "code",
   "execution_count": 87,
   "metadata": {},
   "outputs": [],
   "source": [
    "import pandas as pd\n",
    "import numpy as np\n",
    "import pickle\n",
    "import sys\n",
    "from sklearn.feature_extraction.text import TfidfVectorizer\n",
    "import nltk\n",
    "from nltk.stem.porter import *\n",
    "from nltk.tokenize import word_tokenize\n",
    "from nltk.stem import WordNetLemmatizer\n",
    "lemmatizer = WordNetLemmatizer()\n",
    "from bs4 import BeautifulSoup\n",
    "import string\n",
    "import re\n",
    "from vaderSentiment.vaderSentiment import SentimentIntensityAnalyzer as VS\n",
    "from textstat.textstat import *\n",
    "from sklearn.linear_model import LogisticRegression\n",
    "from sklearn.feature_selection import SelectFromModel\n",
    "from sklearn.metrics import classification_report\n",
    "from sklearn.svm import LinearSVC\n",
    "from sklearn.model_selection import GridSearchCV\n",
    "import matplotlib.pyplot as plt\n",
    "import seaborn\n",
    "%matplotlib inline"
   ]
  },
  {
   "cell_type": "code",
   "execution_count": 93,
   "metadata": {},
   "outputs": [
    {
     "name": "stderr",
     "output_type": "stream",
     "text": [
      "[nltk_data] Downloading package averaged_perceptron_tagger to\n",
      "[nltk_data]     C:\\Users\\obloc_000\\AppData\\Roaming\\nltk_data...\n",
      "[nltk_data]   Package averaged_perceptron_tagger is already up-to-\n",
      "[nltk_data]       date!\n",
      "[nltk_data] Downloading package punkt to\n",
      "[nltk_data]     C:\\Users\\obloc_000\\AppData\\Roaming\\nltk_data...\n",
      "[nltk_data]   Package punkt is already up-to-date!\n",
      "[nltk_data] Downloading package wordnet to\n",
      "[nltk_data]     C:\\Users\\obloc_000\\AppData\\Roaming\\nltk_data...\n",
      "[nltk_data]   Unzipping corpora\\wordnet.zip.\n"
     ]
    },
    {
     "data": {
      "text/plain": [
       "True"
      ]
     },
     "execution_count": 93,
     "metadata": {},
     "output_type": "execute_result"
    }
   ],
   "source": [
    "nltk.download('averaged_perceptron_tagger')\n",
    "  "
   ]
  },
  {
   "cell_type": "markdown",
   "metadata": {},
   "source": [
    "## Loading the data"
   ]
  },
  {
   "cell_type": "code",
   "execution_count": 94,
   "metadata": {},
   "outputs": [],
   "source": [
    "df = pd.read_csv(\"labeled_data.csv\")"
   ]
  },
  {
   "cell_type": "code",
   "execution_count": 47,
   "metadata": {},
   "outputs": [
    {
     "data": {
      "text/html": [
       "<div>\n",
       "<style scoped>\n",
       "    .dataframe tbody tr th:only-of-type {\n",
       "        vertical-align: middle;\n",
       "    }\n",
       "\n",
       "    .dataframe tbody tr th {\n",
       "        vertical-align: top;\n",
       "    }\n",
       "\n",
       "    .dataframe thead th {\n",
       "        text-align: right;\n",
       "    }\n",
       "</style>\n",
       "<table border=\"1\" class=\"dataframe\">\n",
       "  <thead>\n",
       "    <tr style=\"text-align: right;\">\n",
       "      <th></th>\n",
       "      <th>Unnamed: 0</th>\n",
       "      <th>count</th>\n",
       "      <th>hate_speech</th>\n",
       "      <th>offensive_language</th>\n",
       "      <th>neither</th>\n",
       "      <th>class</th>\n",
       "      <th>tweet</th>\n",
       "    </tr>\n",
       "  </thead>\n",
       "  <tbody>\n",
       "    <tr>\n",
       "      <th>0</th>\n",
       "      <td>0</td>\n",
       "      <td>3</td>\n",
       "      <td>0</td>\n",
       "      <td>0</td>\n",
       "      <td>3</td>\n",
       "      <td>2</td>\n",
       "      <td>!!! RT @mayasolovely: As a woman you shouldn't...</td>\n",
       "    </tr>\n",
       "    <tr>\n",
       "      <th>1</th>\n",
       "      <td>1</td>\n",
       "      <td>3</td>\n",
       "      <td>0</td>\n",
       "      <td>3</td>\n",
       "      <td>0</td>\n",
       "      <td>1</td>\n",
       "      <td>!!!!! RT @mleew17: boy dats cold...tyga dwn ba...</td>\n",
       "    </tr>\n",
       "    <tr>\n",
       "      <th>2</th>\n",
       "      <td>2</td>\n",
       "      <td>3</td>\n",
       "      <td>0</td>\n",
       "      <td>3</td>\n",
       "      <td>0</td>\n",
       "      <td>1</td>\n",
       "      <td>!!!!!!! RT @UrKindOfBrand Dawg!!!! RT @80sbaby...</td>\n",
       "    </tr>\n",
       "    <tr>\n",
       "      <th>3</th>\n",
       "      <td>3</td>\n",
       "      <td>3</td>\n",
       "      <td>0</td>\n",
       "      <td>2</td>\n",
       "      <td>1</td>\n",
       "      <td>1</td>\n",
       "      <td>!!!!!!!!! RT @C_G_Anderson: @viva_based she lo...</td>\n",
       "    </tr>\n",
       "    <tr>\n",
       "      <th>4</th>\n",
       "      <td>4</td>\n",
       "      <td>6</td>\n",
       "      <td>0</td>\n",
       "      <td>6</td>\n",
       "      <td>0</td>\n",
       "      <td>1</td>\n",
       "      <td>!!!!!!!!!!!!! RT @ShenikaRoberts: The shit you...</td>\n",
       "    </tr>\n",
       "  </tbody>\n",
       "</table>\n",
       "</div>"
      ],
      "text/plain": [
       "   Unnamed: 0  count  hate_speech  offensive_language  neither  class  \\\n",
       "0           0      3            0                   0        3      2   \n",
       "1           1      3            0                   3        0      1   \n",
       "2           2      3            0                   3        0      1   \n",
       "3           3      3            0                   2        1      1   \n",
       "4           4      6            0                   6        0      1   \n",
       "\n",
       "                                               tweet  \n",
       "0  !!! RT @mayasolovely: As a woman you shouldn't...  \n",
       "1  !!!!! RT @mleew17: boy dats cold...tyga dwn ba...  \n",
       "2  !!!!!!! RT @UrKindOfBrand Dawg!!!! RT @80sbaby...  \n",
       "3  !!!!!!!!! RT @C_G_Anderson: @viva_based she lo...  \n",
       "4  !!!!!!!!!!!!! RT @ShenikaRoberts: The shit you...  "
      ]
     },
     "execution_count": 47,
     "metadata": {},
     "output_type": "execute_result"
    }
   ],
   "source": [
    "df.head()"
   ]
  },
  {
   "cell_type": "code",
   "execution_count": 48,
   "metadata": {},
   "outputs": [
    {
     "data": {
      "text/html": [
       "<div>\n",
       "<style scoped>\n",
       "    .dataframe tbody tr th:only-of-type {\n",
       "        vertical-align: middle;\n",
       "    }\n",
       "\n",
       "    .dataframe tbody tr th {\n",
       "        vertical-align: top;\n",
       "    }\n",
       "\n",
       "    .dataframe thead th {\n",
       "        text-align: right;\n",
       "    }\n",
       "</style>\n",
       "<table border=\"1\" class=\"dataframe\">\n",
       "  <thead>\n",
       "    <tr style=\"text-align: right;\">\n",
       "      <th></th>\n",
       "      <th>Unnamed: 0</th>\n",
       "      <th>count</th>\n",
       "      <th>hate_speech</th>\n",
       "      <th>offensive_language</th>\n",
       "      <th>neither</th>\n",
       "      <th>class</th>\n",
       "    </tr>\n",
       "  </thead>\n",
       "  <tbody>\n",
       "    <tr>\n",
       "      <th>count</th>\n",
       "      <td>24783.000000</td>\n",
       "      <td>24783.000000</td>\n",
       "      <td>24783.000000</td>\n",
       "      <td>24783.000000</td>\n",
       "      <td>24783.000000</td>\n",
       "      <td>24783.000000</td>\n",
       "    </tr>\n",
       "    <tr>\n",
       "      <th>mean</th>\n",
       "      <td>12681.192027</td>\n",
       "      <td>3.243473</td>\n",
       "      <td>0.280515</td>\n",
       "      <td>2.413711</td>\n",
       "      <td>0.549247</td>\n",
       "      <td>1.110277</td>\n",
       "    </tr>\n",
       "    <tr>\n",
       "      <th>std</th>\n",
       "      <td>7299.553863</td>\n",
       "      <td>0.883060</td>\n",
       "      <td>0.631851</td>\n",
       "      <td>1.399459</td>\n",
       "      <td>1.113299</td>\n",
       "      <td>0.462089</td>\n",
       "    </tr>\n",
       "    <tr>\n",
       "      <th>min</th>\n",
       "      <td>0.000000</td>\n",
       "      <td>3.000000</td>\n",
       "      <td>0.000000</td>\n",
       "      <td>0.000000</td>\n",
       "      <td>0.000000</td>\n",
       "      <td>0.000000</td>\n",
       "    </tr>\n",
       "    <tr>\n",
       "      <th>25%</th>\n",
       "      <td>6372.500000</td>\n",
       "      <td>3.000000</td>\n",
       "      <td>0.000000</td>\n",
       "      <td>2.000000</td>\n",
       "      <td>0.000000</td>\n",
       "      <td>1.000000</td>\n",
       "    </tr>\n",
       "    <tr>\n",
       "      <th>50%</th>\n",
       "      <td>12703.000000</td>\n",
       "      <td>3.000000</td>\n",
       "      <td>0.000000</td>\n",
       "      <td>3.000000</td>\n",
       "      <td>0.000000</td>\n",
       "      <td>1.000000</td>\n",
       "    </tr>\n",
       "    <tr>\n",
       "      <th>75%</th>\n",
       "      <td>18995.500000</td>\n",
       "      <td>3.000000</td>\n",
       "      <td>0.000000</td>\n",
       "      <td>3.000000</td>\n",
       "      <td>0.000000</td>\n",
       "      <td>1.000000</td>\n",
       "    </tr>\n",
       "    <tr>\n",
       "      <th>max</th>\n",
       "      <td>25296.000000</td>\n",
       "      <td>9.000000</td>\n",
       "      <td>7.000000</td>\n",
       "      <td>9.000000</td>\n",
       "      <td>9.000000</td>\n",
       "      <td>2.000000</td>\n",
       "    </tr>\n",
       "  </tbody>\n",
       "</table>\n",
       "</div>"
      ],
      "text/plain": [
       "         Unnamed: 0         count   hate_speech  offensive_language  \\\n",
       "count  24783.000000  24783.000000  24783.000000        24783.000000   \n",
       "mean   12681.192027      3.243473      0.280515            2.413711   \n",
       "std     7299.553863      0.883060      0.631851            1.399459   \n",
       "min        0.000000      3.000000      0.000000            0.000000   \n",
       "25%     6372.500000      3.000000      0.000000            2.000000   \n",
       "50%    12703.000000      3.000000      0.000000            3.000000   \n",
       "75%    18995.500000      3.000000      0.000000            3.000000   \n",
       "max    25296.000000      9.000000      7.000000            9.000000   \n",
       "\n",
       "            neither         class  \n",
       "count  24783.000000  24783.000000  \n",
       "mean       0.549247      1.110277  \n",
       "std        1.113299      0.462089  \n",
       "min        0.000000      0.000000  \n",
       "25%        0.000000      1.000000  \n",
       "50%        0.000000      1.000000  \n",
       "75%        0.000000      1.000000  \n",
       "max        9.000000      2.000000  "
      ]
     },
     "execution_count": 48,
     "metadata": {},
     "output_type": "execute_result"
    }
   ],
   "source": [
    "df.describe()"
   ]
  },
  {
   "cell_type": "code",
   "execution_count": 49,
   "metadata": {},
   "outputs": [
    {
     "data": {
      "text/plain": [
       "Index(['Unnamed: 0', 'count', 'hate_speech', 'offensive_language', 'neither',\n",
       "       'class', 'tweet'],\n",
       "      dtype='object')"
      ]
     },
     "execution_count": 49,
     "metadata": {},
     "output_type": "execute_result"
    }
   ],
   "source": [
    "df.columns"
   ]
  },
  {
   "cell_type": "markdown",
   "metadata": {},
   "source": [
    "### Columns key:\n",
    "count = number of CrowdFlower users who coded each tweet (min is 3, sometimes more users coded a tweet when judgments were determined to be unreliable by CF).\n",
    "\n",
    "\n",
    "hate_speech = number of CF users who judged the tweet to be hate speech.\n",
    "\n",
    "\n",
    "offensive_language = number of CF users who judged the tweet to be offensive.\n",
    "\n",
    "\n",
    "neither = number of CF users who judged the tweet to be neither offensive nor non-offensive.\n",
    "\n",
    "\n",
    "class = class label for majority of CF users.\n",
    "\n",
    "    0 - hate speech\n",
    "    1 - offensive  language\n",
    "    2 - neither\n",
    "\n",
    "tweet = raw tweet text\n"
   ]
  },
  {
   "cell_type": "code",
   "execution_count": 7,
   "metadata": {},
   "outputs": [
    {
     "data": {
      "text/plain": [
       "<matplotlib.axes._subplots.AxesSubplot at 0x63697a4f98>"
      ]
     },
     "execution_count": 7,
     "metadata": {},
     "output_type": "execute_result"
    },
    {
     "data": {
      "image/png": "[encoded data removed]",
      "text/plain": [
       "<Figure size 432x288 with 1 Axes>"
      ]
     },
     "metadata": {
      "needs_background": "light"
     },
     "output_type": "display_data"
    }
   ],
   "source": [
    "df['class'].hist()"
   ]
  },
  {
   "cell_type": "markdown",
   "metadata": {},
   "source": [
    "This histogram shows the imbalanced nature of the task - most tweets containing \"hate\" words as defined by Hatebase were \n",
    "only considered to be offensive by the CF coders. More tweets were considered to be neither hate speech nor offensive language than were considered hate speech."
   ]
  },
  {
   "cell_type": "code",
   "execution_count": 95,
   "metadata": {},
   "outputs": [],
   "source": [
    "tweets=df.tweet\n",
    "tweets = [x for x in tweets if type(x)==str]"
   ]
  },
  {
   "cell_type": "markdown",
   "metadata": {},
   "source": [
    "## Feature generation"
   ]
  },
  {
   "cell_type": "code",
   "execution_count": 96,
   "metadata": {},
   "outputs": [],
   "source": [
    "import string\n",
    "stopwords = stopwords = nltk.corpus.stopwords.words(\"english\")\n",
    "\n",
    "other_exclusions = [\"#ff\", \"ff\", \"rt\"]\n",
    "stopwords.extend(other_exclusions)\n",
    "\n",
    "stemmer = PorterStemmer()\n",
    "\n",
    "\n",
    "def preprocess(text_string):\n",
    "    \"\"\"\n",
    "    Accepts a text string and replaces:\n",
    "    1) urls with URLHERE\n",
    "    2) lots of whitespace with one instance\n",
    "    3) mentions with MENTIONHERE\n",
    "\n",
    "    This allows us to get standardized counts of urls and mentions\n",
    "    Without caring about specific people mentioned\n",
    "    \"\"\"\n",
    "    space_pattern = '\\s+'\n",
    "    giant_url_regex = ('http[s]?://(?:[a-zA-Z]|[0-9]|[$-_@.&+]|'\n",
    "        '[!*\\(\\),]|(?:%[0-9a-fA-F][0-9a-fA-F]))+')\n",
    "    mention_regex = '@[\\w\\-\\:]+'\n",
    "    emoji_regex = '&#[0-9\\;\\:]+'\n",
    "    parsed_text = re.sub(space_pattern, ' ', text_string)\n",
    "    parsed_text = re.sub(giant_url_regex, '', parsed_text)\n",
    "    parsed_text = re.sub(mention_regex, '', parsed_text)\n",
    "    parsed_text = re.sub(emoji_regex,'',parsed_text)\n",
    "    parsed_text = parsed_text.strip(string.punctuation)\n",
    "    return parsed_text\n",
    "\n",
    "def tokenize(tweet):\n",
    "\n",
    "    tokens = []\n",
    "    # remove non-alphabetic characters\n",
    "    tweet_text = tweet_text = re.sub(\"[^a-zA-Z]\",\" \", str(tweet))\n",
    "\n",
    "    #remove html content\n",
    "    tweet_text = BeautifulSoup(tweet_text).get_text()\n",
    "\n",
    "    # tokenize\n",
    "    words = word_tokenize(tweet_text.lower())\n",
    "\n",
    "    # lemmatize each word to its lemma\n",
    "    lemma_words = [lemmatizer.lemmatize(i) for i in words]\n",
    "\n",
    "    tokens.append(lemma_words)\n",
    "        \n",
    "    return(tokens[0])\n",
    "#     \"\"\"Removes punctuation & excess whitespace, sets to lowercase,\n",
    "#     and stems tweets. Returns a list of stemmed tokens.\"\"\"\n",
    "#     tweet = \" \".join(re.split('\\s|(?<!\\d)[,.]|[,.](?!\\d)', tweet.lower())).strip(string.punctuation).strip()\n",
    "#     tokens = [stemmer.stem(t) for t in tweet.split()]\n",
    "#     return tokens\n",
    "     \n",
    "\n",
    "def basic_tokenize(tweet):\n",
    "    \"\"\"Same as tokenize but without the stemming\"\"\"\n",
    "    tweet = \" \".join(re.split(\"[^a-zA-Z.,!?]*\", tweet.lower())).strip()\n",
    "    return tweet.split()\n",
    "\n",
    "vectorizer = TfidfVectorizer(\n",
    "    tokenizer=tokenize,\n",
    "    preprocessor=preprocess,\n",
    "    ngram_range=(1, 3),\n",
    "    stop_words=stopwords,\n",
    "    use_idf=True,\n",
    "    smooth_idf=False,\n",
    "    norm=None,\n",
    "    decode_error='replace',\n",
    "    max_features=10000,\n",
    "    min_df=5,\n",
    "    max_df=0.75 #<<<<<<<<<<<<<<<<<<<<<<<<<<<<< This is different \n",
    "    )"
   ]
  },
  {
   "cell_type": "code",
   "execution_count": 99,
   "metadata": {},
   "outputs": [
    {
     "name": "stdout",
     "output_type": "stream",
     "text": [
      "&#8220;@SoTribe_Kasey: I surrounded my bad bitches I can't keep them out my face&#8221;&#128064;&#128064; #WhereTheyAtDoe &#128514;\n"
     ]
    },
    {
     "data": {
      "text/plain": [
       "['i',\n",
       " 'surrounded',\n",
       " 'my',\n",
       " 'bad',\n",
       " 'bitch',\n",
       " 'i',\n",
       " 'can',\n",
       " 't',\n",
       " 'keep',\n",
       " 'them',\n",
       " 'out',\n",
       " 'my',\n",
       " 'face',\n",
       " 'wheretheyatdoe']"
      ]
     },
     "execution_count": 99,
     "metadata": {},
     "output_type": "execute_result"
    }
   ],
   "source": [
    "# with open('tfidfvector.pkl', 'wb') as fin:\n",
    "#     pickle.dump(vectorizer, fin)\n",
    "# import string\n",
    "# def tokenize(tweet):\n",
    "#     tweet = \" \".join(re.split('\\s|(?<!\\d)[,.]|[,.](?!\\d)', tweet.lower())).strip()\n",
    "#     return tweet\n",
    "print(tweets[1526])\n",
    "tokenize(preprocess(tweets[1526]))\n",
    "#name = '8'.join(re.split(\"[^a-zA-Z.,!?]*\",'bl555ocktON'.lower()))  \n",
    "# re split splits chars in string replaces any non-a-z with empty item add empty item at begin&end\n"
   ]
  },
  {
   "cell_type": "code",
   "execution_count": 100,
   "metadata": {},
   "outputs": [],
   "source": [
    "import warnings\n",
    "warnings.simplefilter(action='ignore', category=FutureWarning)"
   ]
  },
  {
   "cell_type": "code",
   "execution_count": 101,
   "metadata": {},
   "outputs": [
    {
     "name": "stderr",
     "output_type": "stream",
     "text": [
      "C:\\Users\\obloc_000\\Anaconda3\\lib\\site-packages\\sklearn\\feature_extraction\\text.py:300: UserWarning: Your stop_words may be inconsistent with your preprocessing. Tokenizing the stop words generated tokens ['doe', 'ha', 'wa'] not in stop_words.\n",
      "  'stop_words.' % sorted(inconsistent))\n"
     ]
    }
   ],
   "source": [
    "#Construct tfidf matrix and get relevant scores\n",
    "tfidf = vectorizer.fit_transform(tweets).toarray()\n",
    "vocab = {v:i for i, v in enumerate(vectorizer.get_feature_names())}\n",
    "idf_vals = vectorizer.idf_\n",
    "idf_dict = {i:idf_vals[i] for i in vocab.values()} #keys are indices; values are IDF scores"
   ]
  },
  {
   "cell_type": "code",
   "execution_count": 102,
   "metadata": {},
   "outputs": [
    {
     "name": "stdout",
     "output_type": "stream",
     "text": [
      "['ab', 'ability', 'able', 'abo', 'abortion', 'absolute', 'absolutely', 'abt', 'accent', 'accept', 'accident', 'accidentally', 'according', 'account', 'accurate', 'across', 'act', 'act like', 'act like bitch', 'actin', 'actin like', 'acting', 'acting like', 'acting like bitch', 'action', 'active', 'activity', 'actor', 'actual', 'actually', 'ad', 'adam', 'add', 'added', 'addicted', 'address', 'admit', 'adorable', 'adult', 'advice', 'ae', 'af', 'afford', 'afraid', 'african', 'afterwards', 'ag', 'age', 'ago', 'agree', 'agreed', 'ah', 'ah bitch', 'aha', 'ahaha', 'ahead', 'ahh', 'ahhh', 'aid', 'aim', 'ainn', 'aint', 'aint bitch', 'aint even', 'aint fuckin', 'aint fucking', 'aint got', 'aint hoe', 'aint hoe get', 'aint loyal', 'aint never', 'aint nobody', 'aint nothing', 'aint shit', 'aint shit bitch', 'air', 'aka', 'al', 'al qaeda', 'alabama', 'alarm', 'albino', 'album', 'alcohol', 'alert', 'alex', 'alex smith', 'alien', 'alike', 'alive', 'allah', 'allen', 'allowed', 'almost', 'almost got', 'alone', 'along', 'alot', 'alotta', 'alpha', 'already', 'already got', 'already know', 'alright', 'alsina', 'also', 'always', 'always bitch', 'always get', 'always got', 'always hoe', 'always look', 'always tryna', 'always wan', 'always wan na', 'always want', 'always wanted', 'amanda', 'amazing', 'amber', 'amber rose', 'amen', 'amendment', 'america', 'american', 'amos', 'amount', 'amp', 'amp amp', 'amp bitch', 'amp fuck', 'amp get', 'amp go', 'amp got', 'amp hoe', 'amp know', 'amp like', 'amp nigga', 'amp say', 'amp shit', 'amp still', 'amp take', 'amp throw', 'amp u', 'amp wa', 'amp white', 'amp yellow', 'anaconda', 'anal', 'anchor', 'anchor baby', 'android', 'android iphone', 'android iphone ipad', 'angel', 'anger', 'anglo', 'angry', 'angry bird', 'animal', 'animal cracker', 'ankle', 'ann', 'annoying', 'annoying bitch', 'anonymous', 'another', 'another bitch', 'another man', 'another man treasure', 'another nigga', 'another nigga bitch', 'another one', 'answer', 'answering', 'ant', 'anthem', 'anthony', 'anti', 'antonio', 'anxiety', 'anybody', 'anymore', 'anyone', 'anything', 'anything bitch', 'anytime', 'anyway', 'anyways', 'anywhere', 'ap', 'apart', 'ape', 'ape shit', 'apologize', 'apologizing', 'app', 'apparently', 'appear', 'apple', 'appreciate', 'area', 'arent', 'argue', 'arguing', 'argument', 'ariana', 'arizona', 'arm', 'armed', 'army', 'around', 'around amp', 'around bitch', 'arrest', 'arrested', 'art', 'article', 'artist', 'asap', 'asf', 'ashamed', 'asian', 'asian bitch', 'asian massage', 'asian massage brooklyn', 'asian massage park', 'aside', 'ask', 'ask bitch', 'ask every', 'ask every bitch', 'asked', 'askin', 'asking', 'asks', 'asleep', 'ass', 'asshole', 'association', 'assume', 'assuming', 'astros', 'ate', 'ate pussy', 'atl', 'atlanta', 'atleast', 'attached', 'attack', 'attempt', 'attend', 'attention', 'attitude', 'attractive', 'audience', 'august', 'aunt', 'austin', 'autocorrect', 'automatically', 'aux', 'aux cord', 'available', 'average', 'avi', 'avoid', 'aw', 'awake', 'award', 'aware', 'away', 'awe', 'awesome', 'awful', 'awkward', 'awkward moment', 'aww', 'ay', 'aye', 'ayo', 'az', 'azz', 'b', 'b bitch', 'b c', 'b like', 'babe', 'baby', 'baby bird', 'baby bitch', 'baby daddy', 'baby momma', 'bacc', 'back', 'back back', 'back bitch', 'back hoe', 'back lol', 'back old', 'back shit', 'background', 'backpack', 'backpage', 'backwards', 'bacon', 'bad', 'bad bitch', 'bad bitch come', 'bad bitch get', 'bad bitch good', 'bad bitch thats', 'bad bitch thing', 'bad built', 'bad hoe', 'badass', 'baddest', 'baddest bitch', 'bae', 'bae bitch', 'bae got', 'bag', 'bait', 'bake', 'baker', 'bald', 'ball', 'ball trash', 'ballin', 'balling', 'baltimore', 'ban', 'banana', 'band', 'bandwagon', 'bang', 'banger', 'bank', 'banking', 'banned', 'bar', 'barber', 'barbie', 'bare', 'barely', 'barrel', 'barrybonds', 'base', 'baseball', 'based', 'basement', 'bash', 'basic', 'basic bitch', 'basically', 'basis', 'basketball', 'bastard', 'bat', 'bath', 'bathroom', 'battle', 'bb', 'bc', 'bday', 'beach', 'bean', 'beaner', 'beany', 'bear', 'beard', 'beast', 'beat', 'beat bitch', 'beat pussy', 'beat yo', 'beatin', 'beating', 'beautiful', 'beautiful bitch', 'beauty', 'became', 'become', 'becomes', 'bed', 'bee', 'beef', 'beefing', 'beer', 'beg', 'begin', 'behind', 'behind back', 'bein', 'belief', 'believe', 'bell', 'belly', 'belong', 'belongs', 'belt', 'ben', 'bend', 'benghazi', 'benz', 'berg', 'besides', 'best', 'best asian', 'best asian massage', 'best friend', 'best pussy', 'bestfriend', 'bet', 'bet bitch', 'bet u', 'betta', 'better', 'better bitch', 'better get', 'better let', 'better pussy', 'better watch', 'bey', 'beyonc', 'beyonce', 'beyond', 'bf', 'bffl', 'bi', 'bible', 'bid', 'biden', 'bieber', 'big', 'big bird', 'big bitch', 'big booty', 'big booty bitch', 'big booty hoe', 'big pussy', 'bigger', 'biggest', 'biggest bitch', 'biggest faggot', 'biggest hoe', 'bike', 'bill', 'billion', 'bin', 'bio', 'bird', 'bird bee', 'bird catch', 'bird catch worm', 'bird feather', 'bird feather flock', 'bird flu', 'bird fly', 'bird get', 'bird get worm', 'bird lol', 'bird make', 'bird man', 'bird one', 'bird one stone', 'bird outside', 'bird plane', 'bird shit', 'birth', 'birth control', 'birthday', 'birthday bitch', 'bit', 'bitch', 'bitch act', 'bitch act like', 'bitch actin', 'bitch actin like', 'bitch acting', 'bitch aint', 'bitch aint shit', 'bitch almost', 'bitch already', 'bitch always', 'bitch always got', 'bitch amp', 'bitch answer', 'bitch anything', 'bitch ask', 'bitch ass', 'bitch attitude', 'bitch b', 'bitch baby', 'bitch back', 'bitch bad', 'bitch bc', 'bitch beautiful', 'bitch bed', 'bitch bet', 'bitch better', 'bitch big', 'bitch bitch', 'bitch bitch bitch', 'bitch blew', 'bitch blew high', 'bitch blow', 'bitch bout', 'bitch boy', 'bitch break', 'bitch bring', 'bitch broke', 'bitch bruh', 'bitch buy', 'bitch bye', 'bitch call', 'bitch called', 'bitch calling', 'bitch came', 'bitch cant', 'bitch car', 'bitch cause', 'bitch cheat', 'bitch chick', 'bitch childish', 'bitch choosin', 'bitch club', 'bitch come', 'bitch coming', 'bitch complain', 'bitch cook', 'bitch cool', 'bitch corny', 'bitch could', 'bitch crazy', 'bitch cry', 'bitch cut', 'bitch cuz', 'bitch da', 'bitch damn', 'bitch dat', 'bitch day', 'bitch dead', 'bitch dick', 'bitch die', 'bitch dm', 'bitch doe', 'bitch done', 'bitch dont', 'bitch dont like', 'bitch drive', 'bitch dude', 'bitch dumb', 'bitch eat', 'bitch eating', 'bitch either', 'bitch even', 'bitch ever', 'bitch every', 'bitch everything', 'bitch face', 'bitch fact', 'bitch fact trippin', 'bitch fake', 'bitch fat', 'bitch feel', 'bitch fight', 'bitch find', 'bitch finna', 'bitch foh', 'bitch follow', 'bitch foot', 'bitch friend', 'bitch fuck', 'bitch fuck nigga', 'bitch fuck u', 'bitch fucked', 'bitch fuckin', 'bitch fucking', 'bitch funny', 'bitch game', 'bitch gave', 'bitch gay', 'bitch get', 'bitch get mad', 'bitch get money', 'bitch gettin', 'bitch getting', 'bitch give', 'bitch giving', 'bitch go', 'bitch goin', 'bitch going', 'bitch gold', 'bitch gon', 'bitch gon fuck', 'bitch gon na', 'bitch gone', 'bitch good', 'bitch got', 'bitch got ta', 'bitch gt', 'bitch gucci', 'bitch guess', 'bitch guessed', 'bitch ha', 'bitch haha', 'bitch hair', 'bitch handle', 'bitch happy', 'bitch hard', 'bitch hate', 'bitch havin', 'bitch head', 'bitch hella', 'bitch hit', 'bitch hoe', 'bitch hold', 'bitch hope', 'bitch hot', 'bitch house', 'bitch huh', 'bitch im', 'bitch ima', 'bitch imma', 'bitch ina', 'bitch inch', 'bitch ion', 'bitch jus', 'bitch keep', 'bitch kill', 'bitch kill vibe', 'bitch knew', 'bitch know', 'bitch knowing', 'bitch last', 'bitch last night', 'bitch leave', 'bitch left', 'bitch let', 'bitch let nigga', 'bitch lie', 'bitch life', 'bitch like', 'bitch like argue', 'bitch like bitch', 'bitch like im', 'bitch lil', 'bitch listen', 'bitch literally', 'bitch live', 'bitch lmao', 'bitch lmfao', 'bitch lol', 'bitch long', 'bitch look', 'bitch look like', 'bitch lookin', 'bitch looking', 'bitch lost', 'bitch lot', 'bitch love', 'bitch loyal', 'bitch lt', 'bitch lucky', 'bitch mad', 'bitch made', 'bitch made nigga', 'bitch main', 'bitch make', 'bitch man', 'bitch maybe', 'bitch mean', 'bitch meet', 'bitch might', 'bitch mind', 'bitch mine', 'bitch moment', 'bitch money', 'bitch move', 'bitch much', 'bitch must', 'bitch n', 'bitch nah', 'bitch name', 'bitch named', 'bitch nap', 'bitch need', 'bitch need get', 'bitch needa', 'bitch never', 'bitch new', 'bitch next', 'bitch next nigga', 'bitch nigga', 'bitch nigga joe', 'bitch nigga u', 'bitch nobody', 'bitch oh', 'bitch ok', 'bitch old', 'bitch one', 'bitch open', 'bitch outta', 'bitch party', 'bitch people', 'bitch phone', 'bitch play', 'bitch playing', 'bitch please', 'bitch pregnant', 'bitch probably', 'bitch prolly', 'bitch pussy', 'bitch put', 'bitch ready', 'bitch real', 'bitch really', 'bitch respect', 'bitch ride', 'bitch right', 'bitch run', 'bitch said', 'bitch saw', 'bitch say', 'bitch saying', 'bitch see', 'bitch seen', 'bitch sending', 'bitch set', 'bitch shit', 'bitch short', 'bitch show', 'bitch shut', 'bitch shut fuck', 'bitch side', 'bitch slap', 'bitch slapped', 'bitch slut', 'bitch smell', 'bitch smell like', 'bitch smh', 'bitch smoke', 'bitch someone', 'bitch something', 'bitch sometimes', 'bitch song', 'bitch stand', 'bitch start', 'bitch stay', 'bitch stfu', 'bitch still', 'bitch stop', 'bitch straight', 'bitch stupid', 'bitch suck', 'bitch suck dick', 'bitch sure', 'bitch swear', 'bitch take', 'bitch talk', 'bitch talk shit', 'bitch talking', 'bitch talking shit', 'bitch tell', 'bitch text', 'bitch texting', 'bitch tf', 'bitch thank', 'bitch thats', 'bitch thing', 'bitch thing like', 'bitch think', 'bitch thinking', 'bitch thirsty', 'bitch tho', 'bitch thot', 'bitch though', 'bitch thought', 'bitch throw', 'bitch time', 'bitch tit', 'bitch today', 'bitch told', 'bitch tonight', 'bitch took', 'bitch tried', 'bitch trust', 'bitch try', 'bitch trying', 'bitch tryna', 'bitch turn', 'bitch tweet', 'bitch twerk', 'bitch twitter', 'bitch u', 'bitch ugly', 'bitch ur', 'bitch use', 'bitch voice', 'bitch w', 'bitch wa', 'bitch wait', 'bitch walk', 'bitch walking', 'bitch wan', 'bitch wan na', 'bitch want', 'bitch wanted', 'bitch watch', 'bitch way', 'bitch wear', 'bitch wearing', 'bitch well', 'bitch went', 'bitch wet', 'bitch white', 'bitch wife', 'bitch wit', 'bitch work', 'bitch world', 'bitch would', 'bitch wtf', 'bitch ya', 'bitch yeah', 'bitch year', 'bitch year old', 'bitch yes', 'bitch yo', 'bitch yu', 'bitchin', 'bitching', 'bitchy', 'bite', 'bitter', 'bitter bitch', 'bitty', 'bitty bitch', 'black', 'black bitch', 'black girl', 'black guy', 'black hoe', 'black man', 'black people', 'black woman', 'black yellow', 'blade', 'blah', 'blah blah', 'blah blah blah', 'blame', 'blanket', 'blast', 'blaxican', 'bless', 'blessed', 'blessing', 'blessjesus', 'blew', 'blew high', 'blind', 'blind bitch', 'blk', 'block', 'block bitch', 'blocked', 'blocking', 'blonde', 'blood', 'bloody', 'blow', 'blowin', 'blowing', 'blue', 'blue clue', 'blue clue left', 'blue yellow', 'blunt', 'blunts', 'bm', 'bo', 'boa', 'boat', 'bob', 'bobby', 'bobby bitch', 'body', 'body count', 'boi', 'bold', 'bomb', 'bone', 'boo', 'boob', 'book', 'boom', 'boon', 'boosie', 'boot', 'booty', 'booty bitch', 'booty hoe', 'border', 'bored', 'boring', 'born', 'borrow', 'bos', 'bos bitch', 'bosh', 'boston', 'bother', 'bottle', 'bottom', 'bought', 'bounce', 'bound', 'bout', 'bout bitch', 'bout get', 'bout hoe', 'bout make', 'bout shit', 'bouta', 'boutta', 'bow', 'bow bitch', 'bow wow', 'bowl', 'box', 'boxing', 'boy', 'boy bitch', 'boy discover', 'boy discover hoe', 'boy got', 'boy pussy', 'boyfriend', 'bra', 'brady', 'brag', 'bragging', 'brah', 'braid', 'brain', 'brake', 'brand', 'brand new', 'brandon', 'brave', 'brazil', 'brazilian', 'bread', 'break', 'break bitch', 'breakfast', 'breaking', 'breast', 'breath', 'breathe', 'breed', 'breh', 'brian', 'brick', 'bridge', 'bright', 'bring', 'bring another', 'bring another bitch', 'bring bitch', 'bring food', 'bring food outside', 'bringing', 'brings', 'british', 'britney', 'bro', 'bro lol', 'broad', 'broadcast', 'broke', 'broke bitch', 'broke hoe', 'broke nigga', 'broken', 'bronx', 'brooklyn', 'brooklyn park', 'brooklyn park slope', 'bros', 'bros hoe', 'brother', 'brought', 'brown', 'brown rejectedpeanutsspecials', 'brownie', 'bruh', 'bruh bitch', 'bruh lol', 'bruise', 'bruno', 'bt', 'btw', 'bubble', 'buck', 'bucket', 'bud', 'buddy', 'bug', 'build', 'building', 'built', 'built like', 'bull', 'bullet', 'bullshit', 'bully', 'bullying', 'bum', 'bum bitch', 'bumblebee', 'bump', 'bumpin', 'bun', 'bunch', 'bunny', 'burger', 'burn', 'burning', 'burnt', 'bus', 'bush', 'business', 'bust', 'busted', 'busting', 'busy', 'butt', 'butter', 'butthurt', 'button', 'buy', 'buy bitch', 'buying', 'bye', 'bye bitch', 'c', 'c mon', 'ca', 'cage', 'cake', 'cali', 'california', 'call', 'call bitch', 'call dumb', 'call duty', 'call girl', 'call girl bitch', 'call hoe', 'call nigger', 'call someone', 'call trash', 'called', 'called bad', 'called bad bitch', 'called bitch', 'called hoe', 'called nigger', 'called pussy', 'callin', 'calling', 'calling bitch', 'calling hoe', 'calm', 'cam', 'came', 'camel', 'camera', 'camp', 'campaign', 'campus', 'canadian', 'cancel', 'cancer', 'candidate', 'candy', 'cannon', 'cant', 'cant even', 'cant stand', 'cant tell', 'cant wait', 'cap', 'captain', 'caption', 'car', 'car bitch', 'card', 'cardinal', 'care', 'care bitch', 'care bout', 'career', 'careful', 'cargo', 'cargo haircut', 'caring', 'carl', 'carry', 'carrying', 'cartel', 'carter', 'cartoon', 'case', 'cash', 'casket', 'cat', 'cat bitch', 'cat inside', 'catch', 'catch hoe', 'catch worm', 'catching', 'catfish', 'caught', 'cause', 'cause bitch', 'cause got', 'cause hoe', 'cause know', 'cause like', 'cause look', 'cause look like', 'cause nigga', 'cause pussy', 'causing', 'cavs', 'cay', 'cc', 'cdfu', 'celebrate', 'celebrity', 'cell', 'center', 'certain', 'chad', 'chain', 'challenge', 'champ', 'champagne', 'champion', 'chance', 'change', 'changed', 'changing', 'channel', 'chaplin', 'character', 'charge', 'charger', 'charles', 'charlie', 'charlie baker', 'charlie brown', 'charlie brown rejectedpeanutsspecials', 'charlie chaplin', 'charlie crist', 'charlie daniel', 'charlie murphy', 'charlie rangel', 'charlie sheen', 'charlie strong', 'charlies', 'chase', 'chasing', 'chat', 'cheap', 'cheaper', 'cheat', 'cheat bitch', 'cheat girl', 'cheat girl wear', 'cheated', 'cheating', 'check', 'checking', 'cheek', 'cheer', 'cheese', 'cheesecake', 'cheesy', 'cherry', 'chest', 'chicago', 'chick', 'chicken', 'chief', 'chief keef', 'child', 'child support', 'childish', 'chill', 'chill bitch', 'chillin', 'chilling', 'china', 'chinese', 'chink', 'chip', 'chipotle', 'chocolate', 'choice', 'choke', 'choke bitch', 'choose', 'choosin', 'choosing', 'chop', 'chose', 'chris', 'chris brown', 'christ', 'christian', 'christmas', 'chu', 'chubby', 'chuck', 'chucker', 'chug', 'chunky', 'church', 'cigarette', 'cinnamon', 'circle', 'citizen', 'city', 'ck', 'claim', 'claiming', 'clam', 'clan', 'clap', 'class', 'class oriental', 'class oriental massage', 'classic', 'classy', 'cle', 'clean', 'clean bitch', 'cleaned', 'cleaning', 'clear', 'clearly', 'cleveland', 'click', 'clingy', 'clip', 'clock', 'close', 'closed', 'closer', 'closet', 'clothes', 'clothing', 'cloud', 'clown', 'club', 'clue', 'clue left', 'clue left u', 'clutch', 'cnn', 'co', 'coach', 'coast', 'coat', 'cocaine', 'cock', 'cocky', 'cod', 'code', 'coffee', 'coke', 'cold', 'cold bitch', 'cole', 'college', 'color', 'colored', 'colored contact', 'colored eye', 'colored folk', 'colored glass', 'colored man', 'coloured', 'coloured cargo', 'coloured cargo haircut', 'columbus', 'combo', 'come', 'come across', 'come amp', 'come around', 'come back', 'come bitch', 'come get', 'come go', 'come hoe', 'come home', 'come wit', 'comeback', 'comedy', 'comfortable', 'comin', 'coming', 'comment', 'commercial', 'commie', 'commit', 'committed', 'common', 'community', 'company', 'compare', 'compared', 'compete', 'complain', 'complaining', 'complete', 'complete trash', 'completely', 'compliment', 'computer', 'con', 'concerned', 'concert', 'condition', 'condom', 'conference', 'confused', 'congrats', 'congratulation', 'conservative', 'consider', 'considered', 'constantly', 'cont', 'contact', 'continue', 'continues', 'contract', 'control', 'conversation', 'convo', 'cook', 'cooked', 'cookie', 'cooking', 'cooky', 'cool', 'cooler', 'coolest', 'coon', 'cop', 'copy', 'cord', 'core', 'corn', 'corner', 'corny', 'correct', 'cost', 'costume', 'cotton', 'couch', 'could', 'could fuck', 'could get', 'could go', 'could never', 'could say', 'coulda', 'count', 'country', 'country bitch', 'county', 'couple', 'course', 'court', 'cousin', 'cover', 'covering', 'coward', 'cowboy', 'crack', 'crack bitch', 'cracked', 'cracker', 'cramp', 'crap', 'crash', 'craving', 'crayon', 'crazy', 'crazy bitch', 'crazy hoe', 'cream', 'create', 'created', 'creator', 'creature', 'credit', 'creepy', 'crew', 'crib', 'cried', 'crime', 'criminal', 'cripple', 'crist', 'critical', 'crooked', 'cross', 'crossed', 'crow', 'crowd', 'crown', 'cruise', 'crush', 'crust', 'crusty', 'cruz', 'cry', 'cry baby', 'cry bitch', 'cry like', 'cry like bitch', 'crybaby', 'cryin', 'crystal', 'ctfu', 'ctfuu', 'cu', 'cu u', 'cuddle', 'cuff', 'cuffed', 'cuffin', 'cuffing', 'cuh', 'culture', 'cum', 'cunt', 'cunt go', 'cunt like', 'cup', 'curb', 'cure', 'curl', 'current', 'currently', 'curse', 'curve', 'curved', 'customer', 'cut', 'cut bitch', 'cut hair', 'cute', 'cute bitch', 'cute pic', 'cute pic dont', 'cutting', 'cuz', 'cuz bitch', 'cuz got', 'cuz hoe', 'cuz u', 'cyrus', 'da', 'da bitch', 'da club', 'da colored', 'da colored folk', 'da fuck', 'da hoe', 'da pussy', 'da way', 'da white', 'dad', 'dad bitch', 'daddy', 'daily', 'dallas', 'dam', 'damage', 'dammit', 'damn', 'damn bitch', 'damn girl', 'damn got', 'damn hate', 'damn hoe', 'damn lol', 'damn near', 'damn sure', 'damn well', 'damned', 'dance', 'dancing', 'daniel', 'danny', 'dare', 'dark', 'dark skin', 'darkie', 'darkskin', 'dat', 'dat bitch', 'dat hoe', 'dat nicca', 'dat pussy', 'dat shit', 'dat u', 'date', 'date dont', 'date dont mean', 'dating', 'daughter', 'dave', 'david', 'davis', 'dawg', 'dawn', 'day', 'day bitch', 'day day', 'day get', 'day hoe', 'day later', 'day like', 'day nigga', 'day u', 'day wont', 'day wont make', 'dayum', 'dc', 'de', 'de hoe', 'dead', 'deal', 'dealer', 'dealing', 'dear', 'death', 'debate', 'december', 'decent', 'decide', 'decided', 'decision', 'deck', 'dee', 'deep', 'deep fried', 'deep pussy', 'deez', 'deez hoe', 'def', 'defeat', 'defend', 'defending', 'defense', 'definitely', 'definition', 'degenerateartist', 'degree', 'dej', 'dej loaf', 'delete', 'deleted', 'delivering', 'dem', 'dem bitch', 'dem hoe', 'dem niccas', 'demand', 'democrat', 'democratic', 'demon', 'dems', 'den', 'denial', 'denna', 'deny', 'deported', 'depressed', 'derek', 'derek jeter', 'dese', 'dese bitch', 'dese hoe', 'desert', 'deserve', 'deserved', 'deserves', 'designer', 'desk', 'desperate', 'destiny', 'destroying', 'detroit', 'devil', 'dey', 'dez', 'di', 'diamond', 'dice', 'dick', 'dick amp', 'dick bitch', 'dick called', 'dick hoe', 'dick like', 'dick pussy', 'didnt', 'die', 'die bitch', 'died', 'diego', 'diet', 'difference', 'different', 'different bitch', 'dig', 'dike', 'dildo', 'dime', 'dink', 'dinner', 'dip', 'direction', 'dirt', 'dirty', 'dirty bitch', 'dis', 'dis bitch', 'dis hoe', 'dis nicca', 'dis shit', 'discover', 'discover hoe', 'discovered', 'discus', 'disease', 'disgrace', 'disgust', 'disgusting', 'dish', 'dislike', 'disrespect', 'disrespectful', 'disrupts', 'disrupts shylock', 'disrupts shylock banking', 'distance', 'diving', 'divorce', 'divorced', 'dj', 'dm', 'dm like', 'dmv', 'dnt', 'doc', 'doctor', 'dodge', 'doe', 'doe bitch', 'doe make', 'doe mean', 'doesnt', 'dog', 'dog house', 'dog like', 'doin', 'doll', 'dolla', 'dollar', 'dollar bad', 'dollar every', 'dolphin', 'dome', 'done', 'dont', 'dont bitch', 'dont call', 'dont even', 'dont fuck', 'dont get', 'dont give', 'dont got', 'dont know', 'dont like', 'dont love', 'dont love hoe', 'dont mean', 'dont mean happy', 'dont mean hoe', 'dont talk', 'dont think', 'dont wan', 'dont wan na', 'dont want', 'doo', 'door', 'dope', 'double', 'doubt', 'douche', 'douche bag', 'download', 'downtown', 'dr', 'draft', 'drafted', 'dragon', 'drake', 'drama', 'dramatic', 'draw', 'drawing', 'dre', 'dread', 'dream', 'dreaming', 'dress', 'dress like', 'dressed', 'dressing', 'drink', 'drinking', 'drive', 'driven', 'driver', 'driving', 'drop', 'drop bitch', 'dropped', 'dropping', 'drove', 'drown', 'drug', 'drunk', 'drunk bitch', 'dry', 'duck', 'dude', 'dude fucking', 'dude get', 'due', 'duh', 'duh bitch', 'dumb', 'dumb bitch', 'dumb cunt', 'dumb fuck', 'dumb hoe', 'dumbass', 'dummy', 'dump', 'dumpster', 'dust', 'dusty', 'dutch', 'duty', 'dwight', 'dy', 'dying', 'dyke', 'dyke bitch', 'e', 'eachother', 'eagle', 'ear', 'earlier', 'early', 'early bird', 'early bird catch', 'early bird get', 'early morning', 'earn', 'earned', 'earth', 'easier', 'easily', 'east', 'easy', 'eat', 'eat bitch', 'eat dick', 'eat pussy', 'eat pussy dip', 'eat pussy like', 'eat shit', 'eaten', 'eater', 'eatin', 'eatin pussy', 'eating', 'eating pussy', 'eats', 'ebola', 'ed', 'edge', 'education', 'een', 'effect', 'egg', 'eggplant', 'ego', 'eh', 'either', 'either way', 'el', 'elect', 'election', 'element', 'elementary', 'elementary school', 'elephant', 'elevator', 'eli', 'elissa', 'elite', 'else', 'em', 'emabiggestfans', 'email', 'embarrassing', 'emoji', 'emojis', 'emotion', 'emotional', 'empty', 'en', 'end', 'ended', 'ending', 'enemy', 'energy', 'english', 'enjoy', 'enjoying', 'enough', 'enter', 'entertain', 'entertaining', 'entire', 'epic', 'episode', 'equal', 'equality', 'er', 'era', 'eric', 'escort', 'especially', 'espn', 'essay', 'esteem', 'etc', 'european', 'eva', 'eve', 'even', 'even funny', 'even get', 'even go', 'even got', 'even know', 'even like', 'even make', 'even need', 'even say', 'even think', 'even tho', 'even though', 'ever', 'ever fuck', 'ever get', 'ever got', 'ever met', 'ever seen', 'every', 'every bad', 'every bad bitch', 'every bitch', 'every bitch gay', 'every day', 'every female', 'every girl', 'every hoe', 'every nigga', 'every night', 'every single', 'every time', 'every week', 'every weekend', 'everybody', 'everybody bitch', 'everyday', 'everyone', 'everyone else', 'everyone know', 'everything', 'everytime', 'everywhere', 'evil', 'evolved', 'ew', 'ewww', 'ex', 'ex bitch', 'ex hoe', 'exactly', 'example', 'except', 'excited', 'excuse', 'excuse bitch', 'exist', 'exit', 'exotic', 'expect', 'expected', 'expecting', 'expensive', 'experience', 'explain', 'explains', 'expose', 'exposed', 'express', 'extra', 'extreme', 'eye', 'eye like', 'eye red', 'eyebrow', 'eyed', 'eyelash', 'f', 'fa', 'face', 'face bitch', 'face hoe', 'facebook', 'faced', 'faced bitch', 'facing', 'fact', 'fact bitch', 'fact hoe', 'fact trippin', 'fade', 'faded', 'fag', 'fag boy', 'faggot', 'faggot bitch', 'faggot ever', 'faggot go', 'faggot like', 'fail', 'failed', 'fails', 'fair', 'fairy', 'fairy tale', 'faith', 'faithful', 'faithful girl', 'fake', 'fake bitch', 'fake hoe', 'fall', 'fall love', 'fallin', 'falling', 'false', 'fam', 'fam think', 'fame', 'familiar', 'family', 'famous', 'famu', 'fan', 'fancy', 'fantasy', 'far', 'far away', 'farewellcaptain', 'farm', 'fart', 'fashion', 'fasho', 'fast', 'faster', 'fat', 'fat bitch', 'fat hoe', 'fat nigga', 'father', 'fault', 'fav', 'fave', 'favor', 'favorite', 'favorite line', 'fb', 'fck', 'fckn', 'fear', 'feather', 'feather flock', 'feather flock together', 'feature', 'fed', 'fee', 'feed', 'feel', 'feel bad', 'feel good', 'feel like', 'feel like bitch', 'feel sorry', 'feelin', 'feelin like', 'feeling', 'feeling bitch', 'feeling like', 'fell', 'fell asleep', 'fell love', 'fella', 'fellow', 'felt', 'felt like', 'female', 'female love', 'female think', 'feminist', 'ferguson', 'fest', 'fever', 'field', 'fight', 'fight bitch', 'fight night', 'fighter', 'fighting', 'figure', 'figured', 'fil', 'fill', 'filled', 'film', 'filth', 'filthy', 'final', 'finally', 'find', 'find bitch', 'find good', 'find hoe', 'finding', 'fine', 'fine bitch', 'finger', 'finish', 'finished', 'finna', 'finna get', 'fire', 'fire cracker', 'fired', 'first', 'first bitch', 'first day', 'first one', 'first place', 'first thing', 'first time', 'fish', 'fishing', 'fist', 'fit', 'fitness', 'five', 'fix', 'fixed', 'fizz', 'flag', 'flame', 'flappy', 'flappy bird', 'flash', 'flat', 'flavored', 'flaw', 'flawless', 'fleek', 'flex', 'flexin', 'flick', 'flight', 'flip', 'flipped', 'flipping', 'flirt', 'flirting', 'flock', 'flock together', 'floor', 'florida', 'flow', 'flower', 'floyd', 'flu', 'fly', 'fly bitch', 'flying', 'fml', 'fo', 'fo da', 'foam', 'fob', 'focus', 'foe', 'foh', 'foley', 'folk', 'follow', 'follow back', 'follow bitch', 'followed', 'follower', 'following', 'food', 'food outside', 'food outside movie', 'fool', 'foot', 'football', 'force', 'foreal', 'forehead', 'foreign', 'forever', 'forever bitch', 'forget', 'forgetting', 'forgot', 'form', 'former', 'forreal', 'forward', 'fought', 'foul', 'found', 'four', 'fox', 'fox news', 'foxnews', 'fr', 'frank', 'franklin', 'freak', 'freak hoe', 'freaky', 'free', 'free bird', 'freedom', 'freeze', 'freeze bitch', 'french', 'fresh', 'freshman', 'freshman year', 'frfr', 'friday', 'friday bitch', 'fridge', 'fried', 'fried chicken', 'fried oreo', 'friend', 'friend bitch', 'friend hoe', 'friend love', 'friend pussy', 'friendly', 'frm', 'fro', 'front', 'front bitch', 'frontin', 'frozen', 'fruit', 'fry', 'ft', 'fu', 'fuc', 'fucc', 'fucc nicca', 'fucced', 'fuccing', 'fuck', 'fuck amp', 'fuck around', 'fuck bad', 'fuck bad bitch', 'fuck bitch', 'fuck bitch get', 'fuck bitch shit', 'fuck boy', 'fuck da', 'fuck dat', 'fuck dat bitch', 'fuck doe', 'fuck em', 'fuck faggot', 'fuck fucking', 'fuck get', 'fuck girl', 'fuck got', 'fuck hoe', 'fuck hoe nigga', 'fuck like', 'fuck lol', 'fuck mean', 'fuck need', 'fuck next', 'fuck next nigga', 'fuck nigga', 'fuck nigga bitch', 'fuck niggah', 'fuck outta', 'fuck pussy', 'fuck right', 'fuck right pussy', 'fuck shit', 'fuck skinny', 'fuck skinny bitch', 'fuck stupid', 'fuck think', 'fuck u', 'fuck u bitch', 'fuck ugly', 'fuck ur', 'fuck ur bitch', 'fuck w', 'fuck wit', 'fuck would', 'fuck wrong', 'fuck ya', 'fuck yall', 'fuck yeah', 'fuck yo', 'fuck yo bitch', 'fucked', 'fucked bitch', 'fucked nigga', 'fucked yo', 'fucked yo bitch', 'fucken', 'fucker', 'fuckin', 'fuckin bitch', 'fuckin faggot', 'fuckin hoe', 'fuckin trash', 'fuckin wit', 'fucking', 'fucking bitch', 'fucking cunt', 'fucking fag', 'fucking faggot', 'fucking gay', 'fucking hate', 'fucking hoe', 'fucking nigga', 'fucking nigger', 'fucking pussy', 'fucking queer', 'fucking retard', 'fucking retarded', 'fucking stupid', 'fucking trash', 'fucking twat', 'fugly', 'fuk', 'fukin', 'full', 'full retard', 'full white', 'full white trash', 'fully', 'fun', 'function', 'funeral', 'funky', 'funniest', 'funny', 'funny bitch', 'future', 'fuzzy', 'fw', 'fwm', 'g', 'ga', 'gabby', 'gaga', 'gain', 'gal', 'game', 'game bitch', 'gang', 'gangster', 'gap', 'garbage', 'garden', 'gas', 'gas station', 'gassing', 'gate', 'gator', 'gave', 'gave bitch', 'gay', 'gay bitch', 'gay shit', 'gear', 'gemini', 'general', 'generation', 'genius', 'genuinely', 'george', 'get', 'get away', 'get back', 'get bad', 'get beat', 'get better', 'get bitch', 'get caught', 'get dem', 'get dick', 'get drunk', 'get em', 'get excited', 'get free', 'get fuck', 'get fucked', 'get fucking', 'get get', 'get good', 'get head', 'get high', 'get hit', 'get hoe', 'get home', 'get hurt', 'get job', 'get know', 'get life', 'get like', 'get mad', 'get money', 'get new', 'get nigga', 'get offended', 'get one', 'get outta', 'get pregnant', 'get pussy', 'get real', 'get real bitch', 'get rid', 'get right', 'get shit', 'get shot', 'get slayed', 'get tf', 'get time', 'get trap', 'get treated', 'get twitter', 'get two', 'get u', 'get way', 'get worm', 'get ya', 'get yellow', 'get yo', 'gettin', 'gettin pussy', 'getting', 'getting bitch', 'getting fucked', 'getting money', 'getting pregnant', 'getting pussy', 'gf', 'ghetto', 'ghetto bitch', 'ghetto fuck', 'ghetto girl', 'ghetto name', 'ghetto people', 'ghetto u', 'ghetto u bring', 'ghost', 'giant', 'gift', 'gim', 'girl', 'girl bitch', 'girl get', 'girl getting', 'girl good', 'girl got', 'girl guy', 'girl hoe', 'girl know', 'girl let', 'girl like', 'girl look', 'girl pussy', 'girl really', 'girl say', 'girl single', 'girl suck', 'girl talk', 'girl tweeted', 'girl tweeted might', 'girl u', 'girl wear', 'girl wear khaki', 'girl worth', 'girlfriend', 'girlfriend got', 'girlfriend like', 'give', 'give attitude', 'give bitch', 'give fuck', 'give head', 'give nigga', 'give pussy', 'give shit', 'give two', 'give u', 'given', 'givin', 'giving', 'giving head', 'glad', 'glass', 'glizzy', 'glo', 'glory', 'gm', 'go', 'go ahead', 'go away', 'go back', 'go bed', 'go bitch', 'go crazy', 'go eat', 'go find', 'go fuck', 'go full', 'go full retard', 'go get', 'go hard', 'go hoe', 'go home', 'go like', 'go party', 'go sleep', 'go suck', 'go talk', 'go talk hoe', 'go text', 'go text hoe', 'go yankee', 'goal', 'goat', 'god', 'god bless', 'god damn', 'goddamn', 'goin', 'going', 'going bitch', 'going get', 'going make', 'gold', 'golden', 'golf', 'gon', 'gon fuck', 'gon get', 'gon hoe', 'gon na', 'gon na bitch', 'gon na die', 'gon na end', 'gon na fuck', 'gon na get', 'gon na go', 'gon na hoe', 'gon na make', 'gon na steal', 'gon na take', 'gon say', 'gone', 'gone get', 'gone hoe', 'good', 'good amp', 'good bitch', 'good day', 'good dick', 'good girl', 'good girl worth', 'good got', 'good job', 'good lol', 'good luck', 'good morning', 'good one', 'good pussy', 'good thing', 'good weed', 'good weed bad', 'good woman', 'goodbye', 'goodnight', 'goofy', 'google', 'gook', 'gop', 'gorgeous', 'gorilla', 'gossip', 'gossip like', 'got', 'got amp', 'got bad', 'got bad bitch', 'got best', 'got big', 'got bitch', 'got body', 'got called', 'got da', 'got damn', 'got fucked', 'got girl', 'got good', 'got good pussy', 'got hella', 'got hella hoe', 'got hit', 'got hoe', 'got job', 'got life', 'got like', 'got mad', 'got man', 'got many', 'got many hoe', 'got money', 'got much', 'got nerve', 'got new', 'got nigga', 'got nigga got', 'got nothing', 'got one', 'got problem', 'got problem bitch', 'got pussy', 'got shit', 'got something', 'got ta', 'got ta bitch', 'got ta chill', 'got ta find', 'got ta get', 'got ta go', 'got ta hit', 'got ta hoe', 'got ta keep', 'got ta love', 'got ta new', 'got ta pay', 'got ta take', 'got ta watch', 'got time', 'got two', 'got type', 'got type bad', 'got u', 'got ugly', 'got ya', 'got yo', 'got yo bitch', 'gots', 'gotten', 'gov', 'government', 'governor', 'grab', 'grade', 'graduation', 'graham', 'graham cracker', 'gram', 'grand', 'grand opening', 'grand opening top', 'grandma', 'grandpa', 'graphic', 'grass', 'grave', 'grease', 'great', 'great day', 'greatest', 'greedy', 'green', 'green bitch', 'greg', 'grew', 'griffin', 'grill', 'grind', 'grinding', 'gross', 'ground', 'group', 'groupie', 'grow', 'growing', 'grown', 'grown man', 'gt', 'gt gt', 'gt gt gt', 'gta', 'gtf', 'gtfo', 'gtfoh', 'guala', 'guarantee', 'guard', 'gucci', 'gucci mane', 'guess', 'guess got', 'guessed', 'guilty', 'guinea', 'guinea pig', 'guitar', 'gum', 'gun', 'gunna', 'gurl', 'gut', 'guy', 'gym', 'h', 'ha', 'ha bitch', 'ha ha', 'ha hoe', 'ha many', 'ha nothing', 'ha two', 'haha', 'haha bitch', 'hahaha', 'hahahaha', 'hair', 'haircut', 'hairy', 'hairy pussy', 'half', 'half bitch', 'half breed', 'half hoe', 'half naked', 'hall', 'halloween', 'hallway', 'ham', 'hand', 'handed', 'handicapped', 'handle', 'handsome', 'hang', 'hangin', 'hanging', 'happen', 'happened', 'happens', 'happiness', 'happy', 'happy birthday', 'happy birthday bitch', 'happy bitch', 'happy halloween', 'hard', 'hard bitch', 'hardcore', 'harder', 'hardly', 'harlem', 'harry', 'hart', 'harvard', 'hashtag', 'hat', 'hate', 'hate bitch', 'hate bitch like', 'hate faggot', 'hate ghetto', 'hate girl', 'hate hoe', 'hate nigger', 'hate people', 'hate shit', 'hate u', 'hate yankee', 'hated', 'hater', 'hatin', 'hating', 'hating bitch', 'havent', 'havin', 'hawk', 'head', 'head bitch', 'head game', 'headed', 'headed bitch', 'headed hoe', 'health', 'hear', 'hear bird', 'heard', 'heard bitch', 'heard wa', 'hearing', 'heart', 'heart rather', 'heart rather purse', 'hearted', 'heartless', 'heartless bitch', 'heat', 'heated', 'heaven', 'heel', 'height', 'held', 'helicopter', 'hell', 'hell naw', 'hell yea', 'hell yeah', 'hella', 'hella hoe', 'hello', 'help', 'help bitch', 'helped', 'henny', 'hero', 'hey', 'hey bitch', 'hi', 'hi ho', 'hick', 'hide', 'hiding', 'high', 'high bitch', 'high hoe', 'high school', 'higher', 'highest', 'highly', 'hilarious', 'hill', 'hillary', 'hillbilly', 'hip', 'hip hop', 'hippo', 'hipster', 'hire', 'hispanic', 'history', 'hit', 'hit bitch', 'hit blunt', 'hit girl', 'hit hoe', 'hit like', 'hittin', 'hitting', 'hmm', 'hmmm', 'hmu', 'ho', 'ho get', 'ho ho', 'hobby', 'hockey', 'hoe', 'hoe acting', 'hoe aint', 'hoe aint loyal', 'hoe always', 'hoe amp', 'hoe around', 'hoe attention', 'hoe b', 'hoe back', 'hoe bitch', 'hoe bout', 'hoe bro', 'hoe broke', 'hoe cause', 'hoe come', 'hoe could', 'hoe crazy', 'hoe cuz', 'hoe da', 'hoe dat', 'hoe day', 'hoe dick', 'hoe dont', 'hoe dumb', 'hoe em', 'hoe even', 'hoe ever', 'hoe every', 'hoe everybody', 'hoe favorite', 'hoe feel', 'hoe feel like', 'hoe fuck', 'hoe fucked', 'hoe fuckin', 'hoe fucking', 'hoe get', 'hoe get slayed', 'hoe getting', 'hoe give', 'hoe go', 'hoe going', 'hoe gon', 'hoe gon hoe', 'hoe gon na', 'hoe gone', 'hoe gone hoe', 'hoe good', 'hoe got', 'hoe got ta', 'hoe ha', 'hoe haha', 'hoe happy', 'hoe hoe', 'hoe house', 'hoe house wife', 'hoe housewife', 'hoe im', 'hoe keep', 'hoe know', 'hoe let', 'hoe like', 'hoe like nigga', 'hoe live', 'hoe lmao', 'hoe lmfao', 'hoe lol', 'hoe look', 'hoe looking', 'hoe love', 'hoe loyal', 'hoe lying', 'hoe made', 'hoe make', 'hoe man', 'hoe mean', 'hoe money', 'hoe move', 'hoe n', 'hoe need', 'hoe never', 'hoe nigga', 'hoe nothing', 'hoe one', 'hoe one hoe', 'hoe put', 'hoe real', 'hoe really', 'hoe right', 'hoe said', 'hoe say', 'hoe saying', 'hoe shit', 'hoe since', 'hoe slut', 'hoe smh', 'hoe start', 'hoe still', 'hoe stop', 'hoe straight', 'hoe suck', 'hoe swear', 'hoe taken', 'hoe talk', 'hoe tell', 'hoe thats', 'hoe think', 'hoe tho', 'hoe though', 'hoe time', 'hoe today', 'hoe trick', 'hoe trying', 'hoe tryna', 'hoe tweet', 'hoe twitter', 'hoe u', 'hoe w', 'hoe wa', 'hoe waiting', 'hoe waiting day', 'hoe wan', 'hoe wan na', 'hoe want', 'hoe way', 'hoe wit', 'hoe would', 'hoe ya', 'hold', 'holder', 'holding', 'hole', 'holiday', 'holla', 'hollywood', 'holy', 'holy fuck', 'holy shit', 'home', 'home bitch', 'homeboy', 'homecoming', 'homegirl', 'homeless', 'homemade', 'homework', 'homie', 'homies', 'homo', 'honest', 'honestly', 'honey', 'honkey', 'honkie', 'honky', 'honor', 'hood', 'hood bitch', 'hoodie', 'hook', 'hooker', 'hoop', 'hoosier', 'hop', 'hope', 'hope get', 'hopefully', 'hoping', 'horn', 'horny', 'horrible', 'horror', 'horse', 'hoser', 'hospital', 'hot', 'hot air', 'hot bitch', 'hot nigga', 'hotel', 'hotter', 'hour', 'house', 'house wife', 'housewife', 'houston', 'howard', 'however', 'hr', 'ht', 'htgawm', 'htt', 'http', 'hug', 'huge', 'huh', 'huh lol', 'human', 'humble', 'humor', 'hun', 'hundred', 'hungry', 'hunt', 'hunter', 'hunting', 'hurricane', 'hurry', 'hurt', 'hurt bitch', 'hurt feeling', 'hurt like', 'hurt like bitch', 'hurting', 'husband', 'hustle', 'hype', 'hypocrisy', 'hypocrite', 'ian', 'ice', 'ice cream', 'icy', 'id', 'id rather', 'idc', 'idea', 'ideology', 'idgaf', 'idiot', 'idk', 'iffy', 'ig', 'iggy', 'ight', 'ignorance', 'ignorant', 'ignorant bitch', 'ignore', 'ignoring', 'ik', 'ike', 'ill', 'illegal', 'illegal alien', 'illiterate', 'ily', 'im', 'im back', 'im bitch', 'im done', 'im going', 'im gon', 'im gon na', 'im hoe', 'im like', 'im ready', 'im sorry', 'im still', 'im talking', 'im tired', 'im tryna', 'ima', 'ima get', 'ima kill', 'ima make', 'ima pull', 'ima pull eat', 'image', 'imaginary', 'imagine', 'imma', 'imma get', 'immature', 'immediately', 'imo', 'important', 'impossible', 'impress', 'impress bitch', 'impression', 'ina', 'inbox', 'inbred', 'inch', 'incident', 'include', 'including', 'inconsiderate', 'incredible', 'indeed', 'indiana', 'industry', 'infection', 'influence', 'info', 'ing', 'injun', 'injury', 'inlove', 'inning', 'innocent', 'insane', 'insecure', 'inside', 'insta', 'instagram', 'instead', 'insult', 'insurance', 'intention', 'interest', 'interested', 'interesting', 'international', 'internet', 'interview', 'invite', 'io', 'ion', 'ion care', 'ion even', 'ion like', 'ion want', 'iont', 'iont got', 'iont got type', 'ipad', 'ipad sex', 'ipad sex xxx', 'iphone', 'iphone ipad', 'iphone ipad sex', 'iraq', 'irish', 'irrelevant', 'irrelevant bitch', 'ish', 'isi', 'isi jihadis', 'island', 'isnt', 'israel', 'issue', 'italian', 'iu', 'iubb', 'iubb hoosier', 'ive', 'j', 'j cole', 'jack', 'jacket', 'jackson', 'jacob', 'jada', 'jail', 'jake', 'jam', 'jamaica', 'jameis', 'james', 'jane', 'japanese', 'jason', 'jaw', 'jay', 'jay z', 'je', 'jealous', 'jealous bitch', 'jean', 'jeff', 'jenna', 'jerk', 'jersey', 'jesus', 'jesus christ', 'jet', 'jeter', 'jew', 'jewish', 'jig', 'jigg', 'jiggaboo', 'jihadi', 'jihadis', 'jim', 'jimmy', 'jj', 'jk', 'job', 'job bitch', 'joe', 'joey', 'john', 'johnny', 'johnson', 'join', 'joint', 'joke', 'jones', 'jordan', 'josh', 'joy', 'joy next', 'joy next getting', 'jr', 'judge', 'judging', 'juice', 'juicy', 'juicy j', 'jump', 'jump bitch', 'jumped', 'jumper', 'jungle', 'jungle bunny', 'jus', 'jus wan', 'jus wan na', 'juss', 'justice', 'justin', 'justin bieber', 'k', 'k bitch', 'k follower', 'k michelle', 'kanye', 'karate', 'kardashian', 'karma', 'karma bitch', 'katy', 'kay', 'keef', 'keep', 'keep bitch', 'keep getting', 'keep hoe', 'keep pussy', 'keep real', 'keep talking', 'keeper', 'keeping', 'kelly', 'kendrick', 'kept', 'ketchup', 'kevin', 'kevin hart', 'key', 'khaki', 'khaki coloured', 'khaki coloured cargo', 'kick', 'kick bitch', 'kicked', 'kicking', 'kid', 'kid bitch', 'kidding', 'kik', 'kike', 'kill', 'kill bitch', 'kill cracker', 'kill dat', 'kill vibe', 'kill yo', 'killa', 'killed', 'killer', 'killer push', 'killer push revenge', 'killin', 'killing', 'kim', 'kim k', 'kim kardashian', 'kind', 'kind bitch', 'kind hoe', 'kinda', 'king', 'kirk', 'kiss', 'kissed', 'kissing', 'kitchen', 'kitty', 'kkk', 'knee', 'knew', 'knew wa', 'knicks', 'knife', 'knight', 'kno', 'knock', 'knocked', 'knocking', 'know', 'know bitch', 'know bout', 'know fuck', 'know get', 'know good', 'know got', 'know hoe', 'know im', 'know know', 'know like', 'know live', 'know love', 'know mean', 'know nigga', 'know nothing', 'know one', 'know pussy', 'know real', 'know right', 'know shit', 'know trash', 'know u', 'know wa', 'knowin', 'knowing', 'knowing bitch', 'knowledge', 'known', 'knw', 'kobe', 'kush', 'l', 'la', 'lab', 'lack', 'lad', 'lady', 'lady bitch', 'ladykimora', 'laid', 'lake', 'lakers', 'lamar', 'lame', 'lame bitch', 'lame nigga', 'lana', 'land', 'landed', 'lane', 'language', 'lap', 'large', 'larry', 'larry bird', 'last', 'last bitch', 'last day', 'last night', 'last night wa', 'last time', 'last week', 'last year', 'lastnight', 'late', 'late night', 'lately', 'later', 'latest', 'latina', 'latino', 'laugh', 'laughed', 'laughin', 'laughing', 'laundry', 'law', 'lawd', 'lawyer', 'lay', 'laying', 'lazy', 'lb', 'le', 'lead', 'leader', 'leaf', 'league', 'lean', 'learn', 'learned', 'leash', 'least', 'leather', 'leave', 'leave alone', 'leavin', 'leaving', 'lebron', 'lee', 'left', 'left u', 'left u bitch', 'leftover', 'leg', 'legal', 'legend', 'legging', 'legit', 'lem', 'lem find', 'lemon', 'leo', 'leprechaun', 'lesbian', 'lesson', 'let', 'let bitch', 'let em', 'let fuck', 'let get', 'let go', 'let hoe', 'let know', 'let nigga', 'let play', 'let say', 'let see', 'let tell', 'letter', 'letting', 'level', 'liar', 'liberal', 'license', 'lick', 'lie', 'lie bitch', 'lied', 'life', 'life amp', 'life bitch', 'life shit', 'light', 'light skin', 'light skin bitch', 'lighter', 'lightskin', 'like', 'like aint', 'like amp', 'like argue', 'like bad', 'like bad bitch', 'like big', 'like bird', 'like bitch', 'like bitch got', 'like black', 'like charlie', 'like cute', 'like da', 'like damn', 'like dat', 'like dyke', 'like eating', 'like even', 'like fag', 'like faggot', 'like fight', 'like fight night', 'like fuck', 'like fuck bitch', 'like fucking', 'like get', 'like girl', 'like give', 'like go', 'like god', 'like gon', 'like gon na', 'like good', 'like got', 'like ho', 'like hoe', 'like hoe got', 'like im', 'like know', 'like let', 'like like', 'like lil', 'like lil bitch', 'like little', 'like little bitch', 'like look', 'like love', 'like make', 'like man', 'like monkey', 'like nasty', 'like need', 'like never', 'like new', 'like nigga', 'like nigger', 'like oh', 'like one', 'like pussy', 'like real', 'like really', 'like rest', 'like retard', 'like retarded', 'like said', 'like see', 'like shit', 'like something', 'like stop', 'like straight', 'like tranny', 'like trash', 'like u', 'like ur', 'like wa', 'like want', 'like week', 'like white', 'like woman', 'like wtf', 'like ya', 'like yankee', 'like yeah', 'like yellow', 'like yellow starburst', 'like yes', 'like yo', 'liked', 'likely', 'liking', 'lil', 'lil b', 'lil bitch', 'lil hoe', 'lil nigga', 'lil stupid', 'lil stupid bitch', 'lil wayne', 'limit', 'line', 'ling', 'ling ling', 'lingerie', 'lingo', 'link', 'lip', 'liquor', 'list', 'listen', 'listening', 'lit', 'literally', 'little', 'little bird', 'little bitch', 'little cunt', 'little girl', 'little hoe', 'little pussy', 'little stupid', 'little stupid bitch', 'live', 'live bitch', 'live life', 'lived', 'livin', 'living', 'living bitch', 'lls', 'lmao', 'lmao bitch', 'lmao fuck', 'lmao got', 'lmao hoe', 'lmao im', 'lmao jk', 'lmao nigga', 'lmao u', 'lmaoo', 'lmaooo', 'lmaoooo', 'lmaooooo', 'lmaoooooo', 'lmaooooooo', 'lmfao', 'lmfao bitch', 'lmfaoo', 'lmfaooo', 'lmfaoooo', 'lmfaooooo', 'lmfaooooooo', 'lml', 'lo', 'load', 'loaded', 'loaf', 'local', 'location', 'lock', 'locked', 'log', 'logic', 'logo', 'lol', 'lol bitch', 'lol got', 'lol hoe', 'lol like', 'lol lol', 'lol look', 'lol nigga', 'lol u', 'lol wa', 'lol want', 'lolol', 'lololol', 'lolz', 'lonely', 'lonely bitch', 'lonely hoe', 'long', 'longer', 'look', 'look better', 'look bitch', 'look cute', 'look fucking', 'look good', 'look like', 'look like bitch', 'look like hoe', 'look like tranny', 'look like trash', 'look mirror', 'looked', 'looked like', 'lookin', 'lookin bitch', 'lookin like', 'looking', 'looking bitch', 'looking hoe', 'looking like', 'loose', 'lord', 'los', 'losangeles', 'lose', 'loser', 'losing', 'loss', 'lost', 'lot', 'lot bitch', 'lotta', 'lottery', 'lou', 'loud', 'louis', 'love', 'love amp', 'love bad', 'love bad bitch', 'love bird', 'love bitch', 'love em', 'love faggot', 'love fat', 'love fuck', 'love hoe', 'love life', 'love pussy', 'love sosa', 'love u', 'loved', 'lovely', 'lover', 'lovin', 'loving', 'low', 'low key', 'lower', 'lowkey', 'loyal', 'loyal girl', 'loyal pussy', 'loyalty', 'lt', 'lt lt', 'lt lt lt', 'luck', 'lucky', 'lucky bitch', 'luke', 'lunch', 'luv', 'lux', 'lyin', 'lying', 'lying bitch', 'lyric', 'maar', 'mac', 'mad', 'mad bitch', 'mad cause', 'mad cuz', 'mad hoe', 'mad like', 'madden', 'made', 'made bitch', 'made hoe', 'made nigga', 'magic', 'mail', 'main', 'main bitch', 'main bitch side', 'main hoe', 'major', 'majority', 'make', 'make bitch', 'make bitch mad', 'make brownie', 'make feel', 'make feel like', 'make fun', 'make happy', 'make hoe', 'make laugh', 'make look', 'make look like', 'make mad', 'make money', 'make pussy', 'make sense', 'make sick', 'make song', 'make sure', 'make think', 'make u', 'make wan', 'make wan na', 'make want', 'make wife', 'make wife cute', 'makeup', 'makin', 'making', 'making fun', 'male', 'mall', 'mama', 'man', 'man bad', 'man bitch', 'man fuck', 'man fuck bitch', 'man get', 'man got', 'man ha', 'man hoe', 'man like', 'man lol', 'man need', 'man nigga', 'man pussy', 'man shit', 'man swear', 'man trash', 'man trash another', 'man treasure', 'man u', 'man wa', 'manager', 'mane', 'mane bitch', 'mango', 'manly', 'mann', 'manner', 'manning', 'mannn', 'mansion', 'many', 'many bitch', 'many hoe', 'many nigga', 'many nigger', 'many nigger store', 'many time', 'manziel', 'march', 'marcus', 'marie', 'marijuana', 'mark', 'market', 'marriage', 'married', 'marry', 'martin', 'mary', 'mass', 'massage', 'massage brooklyn', 'massage brooklyn park', 'massage park', 'massage park slope', 'massage perfect', 'master', 'match', 'matching', 'mate', 'material', 'math', 'matt', 'matter', 'matter fact', 'mature', 'maury', 'may', 'maybe', 'mayne', 'mayweather', 'mc', 'mcdonald', 'mcdonalds', 'mcm', 'meal', 'mean', 'mean bitch', 'mean get', 'mean happy', 'mean hoe', 'mean hoe waiting', 'mean like', 'meaning', 'meant', 'meanwhile', 'meat', 'medical', 'medium', 'mee', 'meek', 'meet', 'meeting', 'melo', 'member', 'memory', 'memphis', 'men', 'mental', 'mentality', 'mentally', 'mention', 'mentioned', 'merica', 'mermaid', 'merry', 'merry christmas', 'mess', 'message', 'messi', 'messing', 'messy', 'messy hoe', 'met', 'met bitch', 'metal', 'mets', 'mexican', 'mexican bitch', 'mexico', 'mf', 'mi', 'mia', 'miami', 'mic', 'michael', 'michael sam', 'michelle', 'michigan', 'mickey', 'microwave', 'mid', 'middle', 'middle school', 'midnight', 'might', 'might get', 'might ghetto', 'might ghetto u', 'might stupid', 'might stupid u', 'might well', 'migos', 'mike', 'mil', 'mile', 'miley', 'miley cyrus', 'milf', 'military', 'milk', 'mill', 'million', 'million dollar', 'mimi', 'min', 'minaj', 'mind', 'mind bitch', 'mind business', 'minded', 'mine', 'mini', 'mint', 'minute', 'miracle', 'mirror', 'miserable', 'miss', 'miss bitch', 'miss ya', 'missed', 'missed call', 'missing', 'mission', 'mississippi', 'mistake', 'mix', 'mixed', 'mixtape', 'mj', 'mk', 'mlb', 'mlk', 'mn', 'mo', 'moan', 'moaning', 'mob', 'mock', 'mock draft', 'mocked', 'model', 'moe', 'moet', 'molly', 'mom', 'mom bitch', 'moma', 'moment', 'momma', 'mommy', 'mon', 'monday', 'money', 'money bitch', 'money fuck', 'money hoe', 'money nigga', 'money weed', 'monkey', 'monkey bar', 'monkey see', 'monkey see monkey', 'montana', 'month', 'month ago', 'mood', 'mook', 'moon', 'moor', 'moral', 'morgan', 'mornin', 'morning', 'morningjoe', 'moron', 'mostly', 'mother', 'mother fucker', 'motherfucker', 'motherfuckin', 'motherfucking', 'mouf', 'mouse', 'mouth', 'mouth bitch', 'move', 'moved', 'movie', 'movie u', 'movie u might', 'moving', 'mr', 'msnbc', 'mt', 'much', 'much better', 'much bitch', 'much hoe', 'much pussy', 'much shit', 'mullet', 'multiple', 'mum', 'murda', 'murder', 'murdered', 'murphy', 'muscle', 'music', 'music trash', 'muslim', 'must', 'mustache', 'mustard', 'mute', 'mutt', 'muzzie', 'muzzies', 'mvp', 'n', 'n bitch', 'n da', 'n nigga', 'n shit', 'na', 'na act', 'na act like', 'na argue', 'na b', 'na bitch', 'na buy', 'na call', 'na come', 'na die', 'na eat', 'na end', 'na fuck', 'na get', 'na give', 'na go', 'na hear', 'na hoe', 'na keep', 'na know', 'na make', 'na play', 'na see', 'na smoke', 'na steal', 'na take', 'na talk', 'na talk shit', 'na text', 'na trash', 'na try', 'na watch', 'naa', 'nah', 'nah bitch', 'nahh', 'nahh bitch', 'nail', 'naked', 'naked bitch', 'naked hoe', 'name', 'name bitch', 'name hoe', 'name mouth', 'named', 'nap', 'nappy', 'nappy headed', 'nappy headed hoe', 'nasty', 'nasty bitch', 'nasty hoe', 'nation', 'national', 'native', 'natural', 'naturally', 'nature', 'naw', 'naw bitch', 'naw nigga', 'nawl', 'nb', 'nba', 'ncaa', 'nd', 'ne', 'near', 'nearly', 'necessary', 'neck', 'neck bitch', 'ned', 'need', 'need bad', 'need bad bitch', 'need bitch', 'need get', 'need go', 'need grow', 'need hoe', 'need know', 'need life', 'need one', 'need pussy', 'need put', 'need real', 'need stop', 'needa', 'needa stop', 'needed', 'needle', 'negative', 'negro', 'neighbor', 'neighborhood', 'neither', 'nem', 'nephew', 'nerd', 'nerve', 'nest', 'net', 'netflix', 'network', 'neva', 'never', 'never date', 'never get', 'never give', 'never hoe', 'never let', 'never met', 'never seen', 'never trust', 'never trust bitch', 'nevermind', 'new', 'new avi', 'new bitch', 'new hoe', 'new one', 'new orleans', 'new pussy', 'new song', 'new way', 'new year', 'new york', 'new york yankee', 'news', 'next', 'next bitch', 'next day', 'next door', 'next getting', 'next getting pussy', 'next nigga', 'next nigga bitch', 'next time', 'next year', 'nfl', 'nicca', 'nicca need', 'niccas', 'nice', 'nice bitch', 'nicer', 'nick', 'nicki', 'nicki minaj', 'niece', 'niet', 'nig', 'nig nog', 'nigga', 'nigga act', 'nigga act like', 'nigga aint', 'nigga always', 'nigga amp', 'nigga amp bitch', 'nigga bitch', 'nigga call', 'nigga cheat', 'nigga come', 'nigga dat', 'nigga dont', 'nigga either', 'nigga even', 'nigga fuck', 'nigga fucked', 'nigga fuckin', 'nigga fucking', 'nigga get', 'nigga get bitch', 'nigga get pussy', 'nigga go', 'nigga gon', 'nigga gon na', 'nigga gone', 'nigga gossip', 'nigga gossip like', 'nigga got', 'nigga got bitch', 'nigga got ta', 'nigga hoe', 'nigga joe', 'nigga know', 'nigga lame', 'nigga let', 'nigga like', 'nigga lol', 'nigga look', 'nigga love', 'nigga made', 'nigga make', 'nigga n', 'nigga need', 'nigga nigga', 'nigga pressed', 'nigga pressed pussy', 'nigga pussy', 'nigga put', 'nigga really', 'nigga said', 'nigga say', 'nigga see', 'nigga shit', 'nigga spend', 'nigga still', 'nigga stop', 'nigga take', 'nigga talk', 'nigga talk bitch', 'nigga talking', 'nigga tell', 'nigga thats', 'nigga think', 'nigga trash', 'nigga try', 'nigga tryna', 'nigga u', 'nigga wa', 'nigga wan', 'nigga wan na', 'nigga want', 'nigga would', 'nigga yo', 'niggah', 'niggah got', 'niggah lol', 'niggah niggah', 'niggah really', 'niggah said', 'niggahs', 'niggaz', 'niggaz bitch', 'nigger', 'nigger amp', 'nigger love', 'nigger store', 'nigglet', 'nigguh', 'nigguhs', 'night', 'night bitch', 'night wa', 'niglet', 'nigs', 'nike', 'nikki', 'nikko', 'ninja', 'nip', 'nip pierced', 'nipple', 'niqqa', 'nite', 'nobody', 'nobody care', 'nobody got', 'nobody want', 'nog', 'noise', 'nomo', 'nomore', 'non', 'none', 'none bitch', 'none hoe', 'nonsense', 'nooo', 'nope', 'normal', 'north', 'nose', 'nosey', 'notch', 'note', 'nothin', 'nothin cut', 'nothin cut bitch', 'nothing', 'nothing better', 'nothing bitch', 'nothing cut', 'nothing cut bitch', 'nothing wrong', 'notice', 'noticed', 'nowadays', 'nowhere', 'nowplaying', 'nt', 'nude', 'nude trash', 'nugget', 'number', 'nun', 'nurse', 'nut', 'nuttin', 'nvm', 'ny', 'nyc', 'obama', 'obamas', 'obsessed', 'obvious', 'obviously', 'ocean', 'october', 'ofay', 'offend', 'offended', 'offense', 'offensive', 'offer', 'office', 'officer', 'official', 'officially', 'often', 'og', 'oh', 'oh bitch', 'oh god', 'oh hell', 'oh really', 'oh well', 'oh yeah', 'ohh', 'ohio', 'oil', 'ok', 'ok bitch', 'ok hoe', 'okay', 'okay bitch', 'ol', 'ol bitch', 'old', 'old bitch', 'old hoe', 'old pussy', 'older', 'ole', 'olympics', 'omfg', 'omg', 'omg bitch', 'oml', 'omm', 'ona', 'one', 'one best', 'one bitch', 'one care', 'one day', 'one friend', 'one girl', 'one go', 'one good', 'one hoe', 'one like', 'one lol', 'one man', 'one man trash', 'one nigga', 'one night', 'one one', 'one stone', 'one thing', 'one time', 'one two', 'one wa', 'one want', 'online', 'ont', 'ooh', 'ook', 'oomf', 'op', 'open', 'opened', 'opening', 'opening top', 'opening top class', 'operation', 'operation disrupts', 'operation disrupts shylock', 'opinion', 'opinion irrelevant', 'opportunity', 'ops', 'option', 'orange', 'order', 'ordered', 'ordering', 'oreo', 'oreo cheesecake', 'oreo ice', 'oreo ice cream', 'oriental', 'oriental massage', 'oriental massage perfect', 'original', 'orleans', 'oscar', 'others', 'otherwise', 'ounce', 'outchea', 'outfit', 'outside', 'outside movie', 'outside movie u', 'outta', 'outta bitch', 'outta face', 'outta line', 'overrated', 'ovum', 'owe', 'owner', 'p', 'pac', 'pacer', 'pack', 'page', 'paid', 'pain', 'paint', 'pair', 'pal', 'pan', 'pancake', 'pant', 'panty', 'paper', 'paper ball', 'paper ball trash', 'papoose', 'parent', 'park', 'park slope', 'park slope top', 'parking', 'part', 'partner', 'party', 'pas', 'passed', 'passing', 'passion', 'past', 'pat', 'pathetic', 'patience', 'patrick', 'pattern', 'patty', 'paul', 'pay', 'pay bill', 'pay pussy', 'payback', 'payback bitch', 'paying', 'peace', 'peanut', 'pecker', 'peckerwood', 'pee', 'peep', 'pencil', 'penis', 'penny', 'people', 'people ask', 'people bitch', 'people call', 'people get', 'people ghetto', 'people hate', 'people like', 'people need', 'people person', 'people say', 'people talk', 'people think', 'people use', 'pepper', 'pepsi', 'per', 'perfect', 'perfectly', 'period', 'perry', 'person', 'personal', 'personality', 'pet', 'peter', 'petty', 'peyton', 'peyton manning', 'phase', 'phil', 'philly', 'phone', 'phone bitch', 'photo', 'pic', 'pic dont', 'pic dont mean', 'pick', 'picked', 'picking', 'picture', 'picture get', 'pie', 'piece', 'piece pussy', 'piece shit', 'pierced', 'pig', 'pill', 'pillow', 'pilot', 'pimp', 'pimpin', 'pineapple', 'pink', 'pinto', 'pipe', 'piss', 'pissed', 'pissing', 'pistol', 'pit', 'pitcher', 'pity', 'pizza', 'pjnet', 'place', 'place bitch', 'plain', 'plan', 'plane', 'planet', 'planet ape', 'plano', 'plant', 'plastic', 'plate', 'play', 'play bitch', 'play flappy', 'play flappy bird', 'play game', 'play hoe', 'play pussy', 'play soccer', 'play soccer cheat', 'played', 'player', 'playin', 'playing', 'playing flappy', 'playing flappy bird', 'playing game', 'playing like', 'playoff', 'please', 'please stop', 'please tell', 'plenty', 'plot', 'plot twist', 'pls', 'plug', 'plus', 'plz', 'pm', 'po', 'pocket', 'point', 'pointless', 'pole', 'police', 'policy', 'political', 'politics', 'poll', 'pollo', 'polo', 'pom', 'pom pom', 'pool', 'poop', 'poor', 'pop', 'pop pussy', 'popcorn', 'popped', 'poppin', 'popping', 'popular', 'porch', 'porch monkey', 'porn', 'porn android', 'porn android iphone', 'porn star', 'pose', 'position', 'positive', 'possessed', 'possible', 'post', 'post picture', 'posted', 'posting', 'pot', 'pot brownie', 'potato', 'pound', 'power', 'ppl', 'practice', 'praise', 'pray', 'pre', 'preach', 'precious', 'prefer', 'pregnant', 'pregnant bitch', 'present', 'president', 'press', 'pressed', 'pressed pussy', 'pressure', 'pretend', 'pretending', 'pretty', 'pretty bitch', 'pretty much', 'pretty sure', 'price', 'priceless', 'pride', 'prime', 'princess', 'print', 'prison', 'private', 'privilege', 'pro', 'probably', 'problem', 'problem bitch', 'problem bitch one', 'product', 'professor', 'profile', 'program', 'project', 'prolly', 'prom', 'promise', 'proof', 'propaganda', 'proper', 'property', 'protect', 'protest', 'proud', 'proved', 'proven', 'proving', 'prude', 'psycho', 'pt', 'public', 'puff', 'pull', 'pull bitch', 'pull eat', 'pull eat pussy', 'pull hoe', 'pulled', 'pulling', 'pump', 'pumpkin', 'punch', 'punch bitch', 'punched', 'punching', 'punk', 'punk bitch', 'puppy', 'pure', 'pure trash', 'purge', 'purple', 'purpose', 'purse', 'pus', 'push', 'push revenge', 'push revenge sweetest', 'pushing', 'pussy', 'pussy aint', 'pussy always', 'pussy amp', 'pussy ate', 'pussy back', 'pussy bad', 'pussy best', 'pussy better', 'pussy bitch', 'pussy boy', 'pussy call', 'pussy cat', 'pussy cat inside', 'pussy come', 'pussy dick', 'pussy dip', 'pussy eating', 'pussy even', 'pussy feel', 'pussy fuck', 'pussy get', 'pussy go', 'pussy good', 'pussy got', 'pussy got ta', 'pussy hoe', 'pussy juice', 'pussy juicy', 'pussy juicy j', 'pussy know', 'pussy life', 'pussy like', 'pussy like fight', 'pussy lip', 'pussy lmao', 'pussy lol', 'pussy love', 'pussy make', 'pussy never', 'pussy nigga', 'pussy one', 'pussy pop', 'pussy poppin', 'pussy pussy', 'pussy put', 'pussy real', 'pussy right', 'pussy shit', 'pussy slowly', 'pussy smell', 'pussy smell like', 'pussy smh', 'pussy stank', 'pussy still', 'pussy stink', 'pussy taste', 'pussy taste like', 'pussy tho', 'pussy time', 'pussy tonight', 'pussy u', 'pussy wa', 'pussy wet', 'pussy whipped', 'put', 'put bitch', 'put hoe', 'put place', 'put pussy', 'put trash', 'put ya', 'putting', 'q', 'qaeda', 'qb', 'quad', 'quality', 'quan', 'queen', 'queer', 'queer folk', 'question', 'quick', 'quiet', 'quit', 'quit bitch', 'quit pussy', 'quite', 'quote', 'r', 'r p', 'r u', 'r u talking', 'race', 'race traitor', 'racial', 'racism', 'racist', 'rack', 'radio', 'raider', 'rain', 'raise', 'raise hoe', 'raised', 'rally', 'ram', 'ran', 'random', 'randomly', 'range', 'rangel', 'rant', 'rap', 'rape', 'rape bitch', 'raped', 'raping', 'rapper', 'rapping', 'rare', 'rat', 'ratchet', 'ratchet bitch', 'ratchet hoe', 'ratchet pussy', 'ratchet pussy juicy', 'rate', 'rated', 'rated spa', 'rather', 'rather purse', 'raven', 'raw', 'ray', 'ray rice', 'rd', 'reach', 'reaction', 'read', 'reading', 'ready', 'real', 'real bitch', 'real life', 'real nicca', 'real nigga', 'real nigger', 'real quick', 'real shit', 'real talk', 'real woman', 'realest', 'reality', 'realize', 'realized', 'really', 'really bitch', 'really care', 'really get', 'really good', 'really got', 'really hate', 'really hoe', 'really like', 'really need', 'really nice', 'really think', 'really trash', 'really wan', 'really wan na', 'really want', 'realtalk', 'reason', 'reason bitch', 'rebel', 'receipt', 'recent', 'recently', 'recognize', 'record', 'red', 'red bone', 'red sox', 'red yellow', 'redneck', 'redneck white', 'redskin', 'ref', 'refer', 'refuse', 'reg', 'regardless', 'regret', 'regular', 'rejectedpeanutsspecials', 'relate', 'related', 'relationship', 'relationship goal', 'relax', 'release', 'released', 'relevant', 'remember', 'remember bitch', 'remember steve', 'remember steve blue', 'remembers', 'remind', 'reminds', 'remix', 'rent', 'rep', 'repeat', 'replied', 'reply', 'report', 'reported', 'represent', 'republican', 'republican teabaggers', 'resist', 'respect', 'respond', 'response', 'rest', 'rest u', 'restaurant', 'resting', 'result', 'retard', 'retarded', 'retarded lol', 'return', 'retweet', 'retweets', 'revenge', 'revenge sweetest', 'revenge sweetest joy', 'review', 'reward', 'rey', 'rhyme', 'rice', 'rich', 'rich bitch', 'rich homie', 'rick', 'rick james', 'rick scott', 'rico', 'rid', 'ride', 'ride dick', 'ride die', 'rider', 'ridin', 'riding', 'right', 'right back', 'right bitch', 'right get', 'right hoe', 'right nigga', 'right pussy', 'rihanna', 'rim', 'ring', 'rip', 'ripped', 'rise', 'rite', 'river', 'rivera', 'rn', 'roach', 'road', 'roast', 'roasted', 'rob', 'robert', 'robin', 'rock', 'rocket', 'rockin', 'rod', 'role', 'roll', 'rolled', 'rollin', 'rolling', 'romney', 'romo', 'ron', 'rookie', 'room', 'roommate', 'root', 'rose', 'rose colored', 'rose colored glass', 'ross', 'rough', 'round', 'row', 'royal', 'rts', 'rub', 'rubbing', 'rube', 'rude', 'rug', 'ruin', 'ruined', 'rule', 'run', 'run bitch', 'run mouth', 'runnin', 'running', 'running around', 'russell', 'russian', 'ruth', 'ryan', 'sack', 'sad', 'safe', 'safe say', 'said', 'said aint', 'said bitch', 'said fuck', 'said got', 'said hoe', 'said like', 'said pussy', 'said pussy cat', 'said wa', 'saint', 'saiyan', 'salad', 'sale', 'salt', 'salty', 'salute', 'sam', 'sample', 'san', 'sand', 'sand nigger', 'sandal', 'sandwich', 'sang', 'sarcastic', 'sat', 'satan', 'saturday', 'sauce', 'saudi', 'savage', 'save', 'save hoe', 'save life', 'saved', 'saving', 'saving hoe', 'saw', 'saw bitch', 'say', 'say anything', 'say bitch', 'say dont', 'say fuck', 'say got', 'say hi', 'say hoe', 'say im', 'say like', 'say love', 'say nigga', 'say nigger', 'say pussy', 'say ratchet', 'say ratchet pussy', 'say shit', 'say shit like', 'say something', 'say u', 'say wa', 'sayin', 'saying', 'saying bitch', 'sc', 'scale', 'scally', 'scally lad', 'scandal', 'scare', 'scared', 'scaring', 'scary', 'scary hoe', 'scene', 'schedule', 'school', 'science', 'scientist', 'score', 'scott', 'scrappy', 'scratch', 'scream', 'screamed', 'screamin', 'screaming', 'screen', 'screen shot', 'screw', 'scrolling', 'scum', 'sea', 'sean', 'search', 'season', 'seat', 'seattle', 'second', 'secret', 'security', 'see', 'see bad', 'see bitch', 'see hoe', 'see monkey', 'see nigga', 'see pussy', 'see u', 'see white', 'see ya', 'seed', 'seeing', 'seem', 'seem like', 'seems', 'seems like', 'seen', 'seen bitch', 'seen hoe', 'self', 'self esteem', 'selfie', 'selfies', 'selfish', 'selfish bitch', 'sell', 'sell pussy', 'sellin', 'selling', 'selling pussy', 'sellout', 'senate', 'send', 'send bitch', 'sending', 'sends', 'senior', 'sense', 'sense humor', 'sensitive', 'sent', 'sentence', 'septic', 'series', 'serious', 'seriously', 'service', 'serving', 'set', 'settle', 'several', 'severely', 'sex', 'sex bitch', 'sex st', 'sex st date', 'sex tape', 'sex xxx', 'sexual', 'sexy', 'sexy bitch', 'sh', 'shade', 'shady', 'shady bitch', 'shake', 'shaking', 'shall', 'shame', 'shape', 'shaped', 'shaped like', 'share', 'sharing', 'shave', 'shaved', 'shawty', 'sheen', 'sheet', 'shes', 'shine', 'shiner', 'shirt', 'shit', 'shit aint', 'shit amp', 'shit back', 'shit bird', 'shit bitch', 'shit cuz', 'shit fuck', 'shit funny', 'shit get', 'shit go', 'shit going', 'shit gon', 'shit got', 'shit hoe', 'shit hoe trick', 'shit im', 'shit like', 'shit like bitch', 'shit lol', 'shit need', 'shit nigga', 'shit outta', 'shit pussy', 'shit retarded', 'shit say', 'shit shit', 'shit still', 'shit tho', 'shit trash', 'shit u', 'shit wa', 'shit yo', 'shittin', 'shitting', 'shitty', 'shocked', 'shoe', 'shoot', 'shoot bitch', 'shooting', 'shop', 'shopping', 'short', 'shorty', 'shot', 'shoulda', 'shout', 'shout bitch', 'shoutout', 'shove', 'shoved', 'shovel', 'show', 'show bitch', 'show hoe', 'show u', 'showed', 'shower', 'showin', 'showing', 'shrug', 'shut', 'shut bitch', 'shut faggot', 'shut fuck', 'shut hoe', 'shut yo', 'shutup', 'shy', 'shy glizzy', 'shylock', 'shylock banking', 'shyt', 'si', 'sick', 'sick bitch', 'side', 'side bitch', 'side bitch main', 'side hoe', 'sideline', 'sideline hoe', 'sight', 'sign', 'signed', 'sike', 'silence', 'silly', 'silly hoe', 'silver', 'simple', 'simply', 'sin', 'since', 'sing', 'singer', 'singing', 'single', 'single hoe', 'single life', 'sings', 'sink', 'sip', 'sir', 'sister', 'sit', 'sit face', 'sit yo', 'site', 'sittin', 'sitting', 'situation', 'six', 'size', 'skank', 'skill', 'skin', 'skin bitch', 'skinny', 'skinny bitch', 'skirt', 'skit', 'sky', 'slam', 'slant', 'slap', 'slap bitch', 'slap hoe', 'slapped', 'slapping', 'slave', 'slavery', 'slay', 'slayed', 'slaying', 'sleep', 'sleeping', 'slept', 'slick', 'slide', 'slim', 'slip', 'slippery', 'slippery slope', 'slit', 'slit throat', 'slope', 'slope top', 'slope top rated', 'sloppy', 'slow', 'slowly', 'slut', 'slutty', 'smack', 'smack bitch', 'smack hoe', 'smacking', 'small', 'smart', 'smart mouth', 'smarter', 'smash', 'smashed', 'smd', 'smdh', 'smell', 'smell like', 'smelly', 'smfh', 'smh', 'smh bitch', 'smile', 'smith', 'smoke', 'smoke good', 'smoke good weed', 'smoke weed', 'smoked', 'smokin', 'smoking', 'snack', 'snake', 'snap', 'snapchat', 'snapchat bitch', 'snatch', 'sneak', 'sneaky', 'sniff', 'snitch', 'snoop', 'snow', 'sober', 'soccer', 'soccer cheat', 'soccer cheat girl', 'social', 'social medium', 'social network', 'society', 'sock', 'soda', 'soft', 'sol', 'sold', 'sold pussy', 'soldier', 'sole', 'sole purpose', 'solid', 'solo', 'somebody', 'somebody tell', 'somehow', 'someone', 'someone bitch', 'someone else', 'someone get', 'someone tell', 'somethin', 'something', 'something bitch', 'something else', 'something like', 'something real', 'something right', 'something say', 'sometimes', 'somewhere', 'son', 'son bitch', 'son bitch moment', 'song', 'song hoe', 'songz', 'soo', 'soon', 'sooo', 'soooo', 'sooooo', 'soooooo', 'sore', 'sorry', 'sorry bitch', 'sorry hoe', 'sosa', 'soul', 'soulja', 'soulja boy', 'sound', 'sound like', 'sounded', 'sounded like', 'sounding', 'soup', 'sour', 'source', 'south', 'southern', 'sox', 'spa', 'space', 'spaghetti', 'spam', 'spanish', 'speak', 'speaking', 'spear', 'spear chucker', 'special', 'specie', 'speech', 'speed', 'spell', 'spelling', 'spend', 'spend money', 'spent', 'spic', 'spice', 'spicy', 'spider', 'spirit', 'spiritual', 'spit', 'spitting', 'splash', 'split', 'spoil', 'spoiled', 'spoke', 'spongebob', 'spook', 'sport', 'spot', 'spray', 'spread', 'spring', 'spy', 'squad', 'square', 'st', 'st date', 'st date dont', 'stack', 'stadium', 'stage', 'stain', 'stair', 'stalk', 'stalking', 'stand', 'standard', 'standing', 'stank', 'stank pussy', 'star', 'starbucks', 'starburst', 'stare', 'staring', 'start', 'start shit', 'started', 'starter', 'starting', 'state', 'statement', 'station', 'status', 'stay', 'stay away', 'stay home', 'stayed', 'staying', 'std', 'steady', 'steak', 'steal', 'stealing', 'steelers', 'step', 'stepping', 'sterling', 'steve', 'steve blue', 'steve blue clue', 'stevie', 'stevie j', 'stfu', 'stfu bitch', 'stfu hoe', 'stfu talking', 'stfu u', 'stick', 'stiff', 'still', 'still bitch', 'still feel', 'still get', 'still getting', 'still go', 'still going', 'still gon', 'still got', 'still hoe', 'still look', 'still love', 'still talking', 'still think', 'still trash', 'still ugly', 'still want', 'stink', 'stock', 'stockboy', 'stole', 'stolen', 'stomach', 'stone', 'stoned', 'stoner', 'stood', 'stop', 'stop acting', 'stop acting like', 'stop bitch', 'stop calling', 'stop cry', 'stop fuckin', 'stop fucking', 'stop hoe', 'stop little', 'stop little bitch', 'stop looking', 'stop making', 'stop playing', 'stop pussy', 'stop talking', 'stopped', 'store', 'story', 'str', 'straight', 'straight bitch', 'straight hoe', 'straight trash', 'stranger', 'strap', 'stream', 'street', 'strength', 'stress', 'stressed', 'stressin', 'stretch', 'stribpol', 'strike', 'string', 'strip', 'stripper', 'stripping', 'strong', 'struggle', 'stuck', 'stuck bitch', 'stud', 'student', 'studio', 'study', 'studying', 'stuff', 'stuffed', 'stunt', 'stupid', 'stupid bitch', 'stupid bitch aint', 'stupid bitch fuckin', 'stupid cunt', 'stupid fucking', 'stupid hoe', 'stupid nigger', 'stupid shit', 'stupid u', 'stupid u pay', 'stupidity', 'style', 'sub', 'subject', 'subtweet', 'subtweeting', 'successful', 'suck', 'suck dick', 'sucka', 'sucked', 'sucker', 'suckin', 'suckin dick', 'sucking', 'sucking dick', 'sudden', 'sue', 'sugar', 'suicide', 'suit', 'sum', 'sum bitch', 'sum hoe', 'summer', 'sumn', 'sun', 'sunday', 'sup', 'super', 'superman', 'support', 'supporter', 'supporting', 'suppose', 'supposed', 'sure', 'sure bitch', 'surgery', 'surprise', 'surprised', 'survive', 'suspect', 'swag', 'swag bitch', 'swag fag', 'swear', 'swear bitch', 'swear god', 'swear hoe', 'sweat', 'sweater', 'sweating', 'sweep', 'sweet', 'sweetest', 'sweetest joy', 'sweetest joy next', 'swerve', 'swing', 'switch', 'swore', 'syria', 'system', 'ta', 'ta bitch', 'ta chill', 'ta find', 'ta get', 'ta go', 'ta hit', 'ta hoe', 'ta keep', 'ta love', 'ta new', 'ta pay', 'ta take', 'ta watch', 'table', 'tackle', 'taco', 'tag', 'tail', 'take', 'take bitch', 'take care', 'take da', 'take note', 'take one', 'take pic', 'take picture', 'take selfies', 'take trash', 'take yo', 'take yo bitch', 'taken', 'takin', 'taking', 'taking trash', 'tale', 'taliban', 'talk', 'talk bitch', 'talk bitch day', 'talk bout', 'talk hoe', 'talk like', 'talk much', 'talk shit', 'talk trash', 'talk ur', 'talked', 'talker', 'talkin', 'talkin bout', 'talkin shit', 'talking', 'talking bout', 'talking bout hoe', 'talking hoe', 'talking like', 'talking shit', 'talking trash', 'talking u', 'talkn', 'tall', 'taller', 'talm', 'talm bout', 'talmbout', 'tan', 'tanaka', 'tank', 'tap', 'tape', 'target', 'taste', 'taste like', 'tat', 'tatted', 'tattoo', 'taught', 'tax', 'taylor', 'tbh', 'tbt', 'tcot', 'tcot pjnet', 'tcot teaparty', 'td', 'te', 'tea', 'teabagger', 'teabaggers', 'teach', 'teacher', 'teacher say', 'teaching', 'team', 'team bitch', 'teaparty', 'tear', 'teddy', 'teddy bear', 'tee', 'teen', 'teeth', 'teixeira', 'tell', 'tell bitch', 'tell em', 'tell hoe', 'tell nigga', 'tell pussy', 'tell shit', 'tell u', 'tell yo', 'tell yo bitch', 'tellin', 'telling', 'temple', 'ten', 'ten bitch', 'tend', 'term', 'terrible', 'terrorist', 'test', 'test bitch', 'texan', 'texas', 'text', 'text back', 'text bitch', 'text first', 'text hoe', 'text u', 'texted', 'textin', 'texting', 'texting bitch', 'tf', 'tf bitch', 'th', 'th grade', 'tha', 'thang', 'thank', 'thank god', 'thanks', 'thanks bitch', 'thanks charlie', 'thanksgiving', 'thats', 'thats hoe', 'thee', 'thenna', 'thenna bitch', 'theory', 'therefore', 'thesis', 'theyre', 'thick', 'thick bitch', 'thigh', 'thin', 'thincc', 'thing', 'thing bitch', 'thing ever', 'thing hoe', 'thing like', 'thing never', 'thing say', 'think', 'think bad', 'think bitch', 'think cute', 'think funny', 'think got', 'think hoe', 'think im', 'think know', 'think nigga', 'think pussy', 'think u', 'thinkin', 'thinking', 'thinking bout', 'third', 'thirst', 'thirsty', 'thirsty bitch', 'thirsty hoe', 'tho', 'tho bitch', 'tho hoe', 'tho lol', 'thot', 'thot bitch', 'thots', 'thou', 'though', 'though bitch', 'thought', 'thought bitch', 'thought wa', 'thousand', 'threat', 'threaten', 'three', 'threesome', 'threw', 'throat', 'throbbing', 'throbbing pussy', 'throw', 'throw pussy', 'throw trash', 'throwing', 'thrown', 'thru', 'thru bitch', 'tht', 'tht bitch', 'thts', 'thug', 'thumb', 'thunder', 'thursday', 'ticket', 'tie', 'tied', 'tiger', 'tight', 'tight pussy', 'til', 'till', 'till get', 'tim', 'timbs', 'time', 'time bitch', 'time day', 'time go', 'time hoe', 'time lol', 'time wa', 'timeline', 'tinker', 'tiny', 'tip', 'tire', 'tired', 'tired bitch', 'tit', 'title', 'titty', 'titty bitch', 'tl', 'tn', 'today', 'today bitch', 'today got', 'today lol', 'today wa', 'toe', 'together', 'toilet', 'told', 'told bitch', 'told hoe', 'told u', 'told wa', 'tom', 'tom brady', 'tomorrow', 'ton', 'tone', 'tongue', 'tonight', 'tonite', 'tony', 'took', 'took bitch', 'tool', 'top', 'top class', 'top class oriental', 'top rated', 'top rated spa', 'topic', 'toss', 'total', 'total bitch', 'totally', 'touch', 'touchdown', 'touched', 'touching', 'tough', 'tour', 'towards', 'towel', 'town', 'toy', 'track', 'trade', 'traded', 'traffic', 'trailer', 'trailer trash', 'train', 'trainer', 'training', 'traitor', 'tranny', 'trap', 'trap house', 'trash', 'trash af', 'trash amp', 'trash another', 'trash another man', 'trash bag', 'trash dump', 'trash fuck', 'trash like', 'trash lol', 'trash man', 'trash nigga', 'trash talk', 'trash talking', 'trash tho', 'trash though', 'trash would', 'trashy', 'traveling', 'treasure', 'treat', 'treat like', 'treat like yellow', 'treated', 'treated like', 'treating', 'tree', 'trend', 'trending', 'trey', 'trey songz', 'trick', 'tried', 'trifling', 'trigger', 'trill', 'trip', 'triple', 'trippen', 'trippin', 'tripping', 'troll', 'trolling', 'trophy', 'trouble', 'truck', 'true', 'truly', 'trunk', 'trust', 'trust bitch', 'trust hoe', 'trust nigga', 'trusted', 'trusting', 'truth', 'try', 'try fuck', 'tryin', 'trying', 'trying get', 'trying make', 'tryn', 'tryna', 'tryna fuck', 'tryna fuck next', 'tryna get', 'tryna hoe', 'tryna make', 'trynna', 'tu', 'tuesday', 'tumblr', 'tupac', 'turd', 'turn', 'turn bitch', 'turn good', 'turn hoe', 'turn hoe house', 'turn hoe housewife', 'turned', 'turned hoe', 'turning', 'turnt', 'turntup', 'turnup', 'turtle', 'tv', 'twat', 'tweakin', 'tweakin hoe', 'tweaking', 'tweet', 'tweet bitch', 'tweet hoe', 'tweet like', 'tweet shit', 'tweet wa', 'tweeted', 'tweeted might', 'tweeted might ghetto', 'tweetin', 'tweeting', 'twerk', 'twerkin', 'twerking', 'twice', 'twin', 'twinkie', 'twist', 'twisted', 'twitpic', 'twitpic selfie', 'twitter', 'twitter bitch', 'twitter hoe', 'twitter like', 'twitter name', 'twitter nigga', 'two', 'two bird', 'two bird one', 'two bitch', 'two hoe', 'two year', 'tx', 'tx trash', 'tyga', 'tyler', 'type', 'type bad', 'type bad bitch', 'type bitch', 'typical', 'tyrese', 'u', 'u aint', 'u amp', 'u bad', 'u better', 'u bitch', 'u bitch nigga', 'u bout', 'u bring', 'u bring food', 'u call', 'u dont', 'u dumb', 'u dumb bitch', 'u eat', 'u even', 'u ever', 'u fag', 'u faggot', 'u feel', 'u fuck', 'u fuckin', 'u fucking', 'u get', 'u ghetto', 'u go', 'u going', 'u gon', 'u gone', 'u got', 'u got ta', 'u guy', 'u hoe', 'u know', 'u let', 'u like', 'u look', 'u look like', 'u love', 'u mad', 'u mean', 'u might', 'u might stupid', 'u need', 'u never', 'u nigga', 'u nigger', 'u one', 'u pay', 'u pussy', 'u put', 'u r', 'u really', 'u remember', 'u remember steve', 'u say', 'u see', 'u shut', 'u stfu', 'u still', 'u stupid', 'u talk', 'u talking', 'u tell', 'u think', 'u u', 'u ugly', 'u wa', 'u wan', 'u wan na', 'u want', 'u white', 'u white trash', 'uber', 'ugh', 'ugliest', 'ugliest bitch', 'ugly', 'ugly bitch', 'ugly girl', 'ugly hoe', 'ugly like', 'ugly nigga', 'uh', 'uh oh', 'uk', 'ultimate', 'um', 'umm', 'un', 'unattractive', 'uncle', 'uncle tom', 'undercover', 'understand', 'understood', 'unemployed', 'unfollow', 'unfollow bitch', 'unfollowed', 'unfollowing', 'ungrateful', 'uniform', 'union', 'university', 'unless', 'unless bitch', 'unlike', 'unloyal', 'update', 'upon', 'upper', 'upset', 'ur', 'ur bitch', 'ur faggot', 'ur fucking', 'ur hoe', 'ur pussy', 'urge', 'urge smack', 'urge smack bitch', 'urself', 'us', 'usa', 'use', 'use word', 'used', 'useless', 'using', 'usually', 'v', 'vagina', 'valentine', 'valentine day', 'value', 'vampire', 'van', 'vega', 'vega bitch', 'vegetable', 'verse', 'version', 'vet', 'via', 'vibe', 'vice', 'vick', 'victim', 'victoria', 'video', 'video game', 'view', 'vile', 'vine', 'virgin', 'virginia', 'vision', 'visit', 'vodka', 'voice', 'volunteer', 'voor', 'vote', 'voted', 'voting', 'w', 'w bitch', 'wa', 'wa always', 'wa bad', 'wa best', 'wa bird', 'wa bitch', 'wa bitch nigga', 'wa born', 'wa bout', 'wa cute', 'wa eating', 'wa first', 'wa fucking', 'wa funny', 'wa getting', 'wa ghetto', 'wa going', 'wa gon', 'wa gon na', 'wa good', 'wa high', 'wa hoe', 'wa last', 'wa like', 'wa like bitch', 'wa never', 'wa one', 'wa playing', 'wa pussy', 'wa ready', 'wa real', 'wa really', 'wa right', 'wa sleep', 'wa talkin', 'wa talking', 'wa trash', 'wa trying', 'wack', 'wacko', 'wacko bird', 'waffle', 'wage', 'wait', 'wait see', 'wait til', 'wait till', 'waiting', 'waiting day', 'waiting day wont', 'waka', 'wake', 'waking', 'walk', 'walk around', 'walk bitch', 'walked', 'walkin', 'walking', 'walking around', 'walking dead', 'wall', 'wallah', 'wallet', 'walmart', 'wan', 'wan na', 'wan na b', 'wan na bitch', 'wan na eat', 'wan na fuck', 'wan na get', 'wan na go', 'wan na hear', 'wan na play', 'wan na see', 'wan na smoke', 'wan na talk', 'wana', 'want', 'want bitch', 'want fuck', 'want get', 'want girl', 'want go', 'want good', 'want hoe', 'want love', 'want man', 'want nigga', 'want none', 'want one', 'want oreo', 'want pussy', 'want see', 'wanted', 'wanted know', 'wantin', 'wanting', 'war', 'warm', 'warm fuzzy', 'warning', 'warrior', 'wash', 'washed', 'washing', 'washington', 'washy', 'wasnt', 'wasp', 'wassup', 'waste', 'waste time', 'wasted', 'wasting', 'wat', 'watch', 'watch bitch', 'watch hoe', 'watch yo', 'watched', 'watchin', 'watching', 'water', 'watermelon', 'wats', 'wave', 'way', 'way fuck', 'way fuck bitch', 'way get', 'wayne', 'wcvb', 'wcw', 'weak', 'weak bitch', 'weapon', 'wear', 'wear beany', 'wear khaki', 'wear khaki coloured', 'wearin', 'wearing', 'weather', 'weave', 'website', 'wedding', 'wee', 'weed', 'weed bad', 'weed bad bitch', 'weed bitch', 'weed brownie', 'week', 'week ago', 'weekend', 'weeknd', 'weezy', 'weight', 'weird', 'welcome', 'welfare', 'well', 'well bitch', 'well damn', 'welp', 'wen', 'went', 'went jail', 'west', 'westside', 'wet', 'wet pussy', 'wetback', 'wh', 'whatchu', 'whatever', 'whats', 'wheel', 'whenever', 'whether', 'whine', 'whining', 'whiny', 'whiny bitch', 'whip', 'whipped', 'whisper', 'white', 'white bitch', 'white boy', 'white folk', 'white girl', 'white hoe', 'white kid', 'white man', 'white people', 'white ppl', 'white trash', 'white woman', 'whitey', 'whoa', 'whoever', 'whole', 'whole lot', 'whole team', 'whole time', 'whoop', 'whore', 'whose', 'wi', 'wid', 'wide', 'wife', 'wife bitch', 'wife cute', 'wife cute pic', 'wife hoe', 'wifey', 'wifi', 'wig', 'wigga', 'wigger', 'wiggers', 'wild', 'williams', 'willing', 'wilson', 'win', 'win lose', 'wind', 'window', 'wine', 'wing', 'winner', 'winning', 'winston', 'winter', 'wipe', 'wise', 'wish', 'wish bitch', 'wish bitch would', 'wish could', 'wish wa', 'wish would', 'wishing', 'wishy', 'wishy washy', 'wit', 'wit bad', 'wit bitch', 'wit da', 'wit dis', 'wit hoe', 'wit u', 'wit ya', 'wit yo', 'witch', 'witcha', 'without', 'witness', 'wiz', 'wizard', 'wnba', 'woke', 'wolf', 'woman', 'woman bitch', 'woman hoe', 'woman love', 'woman want', 'wonder', 'wonder many', 'wonderful', 'wondering', 'wont', 'wont make', 'wont make wife', 'wood', 'woof', 'woof woof', 'wop', 'word', 'word bitch', 'word cunt', 'wore', 'work', 'work bitch', 'worked', 'worker', 'working', 'workout', 'world', 'world bitch', 'world series', 'worm', 'worried', 'worried bout', 'worried bout bitch', 'worry', 'worry bout', 'worse', 'worst', 'worth', 'worthless', 'would', 'would bitch', 'would call', 'would get', 'would go', 'would like', 'would love', 'would make', 'would never', 'would probably', 'would put', 'would rather', 'would say', 'would stop', 'would think', 'would trash', 'would u', 'would want', 'woulda', 'wouldnt', 'wow', 'wrap', 'wreck', 'wrist', 'write', 'written', 'wrong', 'wrong bitch', 'wrong w', 'wrong wit', 'wrote', 'wtf', 'wtf bitch', 'wth', 'wu', 'wussup', 'wut', 'x', 'xbox', 'xxx', 'xxx hairy', 'ya', 'ya bitch', 'ya face', 'ya friend', 'ya girl', 'ya hoe', 'ya know', 'ya life', 'ya man', 'ya name', 'ya nigga', 'ya pussy', 'ya side', 'yah', 'yal', 'yall', 'yall bitch', 'yall got', 'yall hoe', 'yall nigga', 'yall think', 'yank', 'yankee', 'yankee ever', 'yankee fan', 'yankee game', 'yankee mlb', 'yankee stadium', 'yankee win', 'yard', 'yardie', 'yass', 'yasss', 'yasss bitch', 'yassss', 'yay', 'yea', 'yea bitch', 'yeah', 'yeah bitch', 'yeah fuck', 'yeah hoe', 'yeah right', 'year', 'year ago', 'year bitch', 'year old', 'yeen', 'yell', 'yelled', 'yelling', 'yellow', 'yellow bone', 'yellow card', 'yellow jacket', 'yellow light', 'yellow rice', 'yellow starburst', 'yep', 'yer', 'yes', 'yes bitch', 'yesterday', 'yet', 'yo', 'yo bitch', 'yo bitch choosin', 'yo bitch get', 'yo bitch like', 'yo fat', 'yo girl', 'yo hoe', 'yo hoe get', 'yo life', 'yo main', 'yo main bitch', 'yo mama', 'yo man', 'yo nigga', 'yo pussy', 'yo self', 'yo shit', 'yoga', 'yokel', 'yolo', 'york', 'york yankee', 'young', 'young bitch', 'young hoe', 'young niggah', 'young thug', 'younger', 'youre', 'youre bitch', 'youre little', 'yous', 'youtube', 'yr', 'yr old', 'yu', 'yuh', 'yung', 'yup', 'z', 'zebra', 'zero', 'zimmerman', 'zone', 'zoo']\n"
     ]
    }
   ],
   "source": [
    "thing = (vectorizer.get_feature_names())\n",
    "print(thing)"
   ]
  },
  {
   "cell_type": "code",
   "execution_count": 103,
   "metadata": {},
   "outputs": [],
   "source": [
    "#Get POS tags for tweets and save as a string\n",
    "tweet_tags = []\n",
    "for t in tweets:\n",
    "    tokens = basic_tokenize(preprocess(t))\n",
    "    tags = nltk.pos_tag(tokens)\n",
    "    tag_list = [x[1] for x in tags]\n",
    "    tag_str = \" \".join(tag_list)\n",
    "    tweet_tags.append(tag_str)"
   ]
  },
  {
   "cell_type": "code",
   "execution_count": 104,
   "metadata": {},
   "outputs": [
    {
     "data": {
      "text/plain": [
       "['NN VBZ DT NN DT NN NN VBD DT JJ NN NN JJ NN NN JJ JJ NN NN JJ NN NN IN JJ NN VBD DT NN VBP DT NN NN JJ NN NN NN VBZ DT NN NN VBP NN JJ NN NN NN JJ NN NN JJ JJ NN NN . DT NN NN DT NN DT NN DT JJ NN NN JJ NN NN JJ JJ NN VBZ DT NN WRB DT NN NN VBZ DT NN NN NN NN NN NN VBZ DT JJ NN NN JJ NN',\n",
       " 'NN NN NN NN NN VBZ DT JJ NN NN NN NN NN . . . JJ NN VBD DT NN NN NN VBD DT NN NN NN NN NN JJ JJ NN NN VBP VBZ DT NN NN IN NN NN VBP NN NN NN NN NN NN VBZ DT NN NN',\n",
       " 'NN NN VBZ DT JJ NN . . . . NN NN NN NN JJ NN NN NN NN NN JJ NN VBD DT NN NN VBP NN NN DT JJ NN NN NN NN NN VBD DT NN NN NN NN NN NN NN . UH NN JJ NN NN NN NN JJ NN JJ NN NN VBZ DT JJ NN NN NN VBP',\n",
       " 'NN NN NN NN NN NN NN NN NN NN NN VBP VBZ DT NN NN DT JJ NN NN',\n",
       " 'NN NN NN NN NN NN NN JJ VBP JJ NN JJ NN VBZ DT NN DT NN NN JJ NN NN IN NN NN VBP NN NN NN NN NN NN JJ NN IN NN NN VBP NN NN VBP NN NN NN NN VBZ DT NN NN NN NN VBD DT JJ NN NN NN NN NN VBP NN NN NN NN JJ NN NN NN NN NN VBP NN NN VBZ DT',\n",
       " 'NN NN NN NN NN JJ VBP NN JJ NN NN NN NN NN NN NN NN NN . . JJ IN DT JJ NN NN NN JJ NN NN VBD DT JJ NN NN JJ JJ NN DT JJ NN NN NN NN JJ NN NN NN NN IN NN NN NN NN NN NN NN JJ NN NN NN NN VBP NN NN JJ NN NN JJ VBP JJ NN NN VBP NN NN JJ NN NN .',\n",
       " 'NN VBP DT JJ NN NN NN NN JJ NN NN NN NN VBP JJ NN DT JJ NN VBD DT NN NN VBP IN DT JJ NN NN NN NN NN NN NN VBP NN NN . . JJ VBP JJ NN NN NN IN NN JJ NN NN JJ NN NN VBP NN NN NN VBP NN NN NN',\n",
       " 'VB DT JJ NN NN JJ VBP NN NN VBP NN NN NN NN NN NN JJ NN NN VBP NN NN VBP NN NN NN VBD JJ IN NN NN VBP NN NN NN NN JJ NN NN NN JJ VBP JJ NN NN NN VBP NN NN',\n",
       " 'DT NN NN NN NN JJ NN NN VBP NN NN JJ NN NN NN NN NN VBZ DT NN NN VBP NN NN VBZ DT NN NN DT NN NN NN VBD DT NN NN NN VBD DT NN',\n",
       " 'NN NN NN NN NN VBP NN NN VBP NN NN JJ NN NN NN NN VBP NN NN NN VBP NN NN DT NN NN DT NN NN NN VBP NN NN',\n",
       " 'NN VBZ JJ NN NN NN VBP DT NN NN VBP NN NN JJ NN NN NN JJ NN NN NN NN NN NN NN NN NN NN JJ NN NN IN NN NN VBP DT NN NN IN NN NN VBP NN VBP DT NN NN JJ NN NN NN VBD DT NN NN VBP IN NN NN VBP NN NN NN JJ NN . JJ NN NN',\n",
       " 'NN JJ NN VBZ DT NN DT JJ NN NN NN VBP NN NN JJ VBP JJ NN DT JJ NN VBZ DT JJ NN',\n",
       " 'NN NN NN JJ NN NN NN VBD DT NN NN NN NN NN VBZ DT NN NN NN NN NN NN NN NN . UH VBZ DT . . . JJ JJ IN JJ NN NN',\n",
       " 'VB DT NN NN NN VBP NN NN IN NN NN VBP NN NN NN IN JJ NN NN NN NN JJ VBP JJ NN VBD DT NN NN VBP NN VBP NN',\n",
       " 'NN NN VBP NN NN NN NN NN JJ NN NN NN JJ NN NN',\n",
       " 'NN NN VBP NN NN NN NN VBP NN DT NN NN VBP JJ NN NN NN NN VBP NN NN VBP',\n",
       " 'NN NN VBP NN NN NN NN NN NN VBD DT NN NN NN NN NN',\n",
       " 'NN NN VBP NN NN NN NN JJ NN NN NN NN JJ NN NN NN NN',\n",
       " 'NN NN VBP NN NN NN NN NN NN NN NN JJ NN NN NN NN NN NN NN NN NN VBZ DT NN NN',\n",
       " 'NN NN DT NN NN SYM JJ NN NN NN VBZ DT NN NN DT NN DT NN NN NN VBP NN NN',\n",
       " 'NN NN NN NN NN NN NN VBP NN NN VBZ DT JJ NN NN NN NN NN NN NN JJ NN NN NN JJ VBP NN',\n",
       " 'VB DT JJ NN NN NN NN VBD DT NN NN NN VBP NN NN NN NN VBP IN NNS VBP VBP NN',\n",
       " 'VB DT JJ NN NN NN JJ NN NN NN NN NN NN NN NN NN JJ NN NN NN NN JJ NN NN VBD DT JJ NN NN',\n",
       " 'JJ JJ NN NN JJ NN NN VBD DT NN NN NN VBP NN NN NN NN JJ NN NN NN NN JJ NN JJ NN NN NN NN VBP NN NN NN NN NN FW NN NN NN VBP NN NN VBP NN NN NN NN NN JJ NN NN NN NN JJ NN NN JJ VBP JJ NN',\n",
       " 'NN MD VB VB DT NN NN VBP NN NN NN NN VBP NN IN NN NN VBP NN NN JJ NN NN VBD DT NN NN NN NN NN NN NN NN NN NN NN NN',\n",
       " 'NN NN NN NN JJ NN NN NN NN NN VBP JJ NN NN VBP NN NN VBZ DT NN NN JJ NN NN NN NN NN',\n",
       " 'NN MD VB JJ NN DT NN NN VBP NN NN JJ VBP NN NN VBP NN NN NN NN',\n",
       " 'JJ VBP JJ NN NN VBD DT NN NN JJ NN NN NN NN JJ JJ NN VBZ DT JJ NN NN . VB VBP DT NN NN NN VBD DT NN NN JJ NN NN VBZ DT NN NN VBP NN',\n",
       " 'NN VBP NN NN VBZ DT JJ NN NN VBP NN NN NN NN VBP NN NN NN NN JJ NN JJ NN NN IN JJ NN NN JJ JJ NN NN NN NN',\n",
       " 'NN VBP NN NN JJ NN NN NN NN NN JJ NN NN NN IN NN NN VBP DT JJ NN NN NN VBP NN NN JJ VBP JJ NN NN NN JJ NN NN VBP NN NN NN',\n",
       " 'NN VBP JJ NN NN NN NN NN NN NN NN VBP NN NN NN NN JJ NN NN NN NN VBP NN NN NN JJ NN NN NN NN NN NN NN NN NN',\n",
       " 'NN VBP PDT DT NN NN VBP IN DT NN NN JJ NN NN NN NN IN NN NN NN NN NN JJ NN NN NN NN NN NN NN NN VBP NN NN NN NN NN NN JJ NN NN NN NN NN NN NNP NN NN VBP NN NN',\n",
       " 'NN VBP NN NN IN DT JJ NN NN NN NN JJ NN NN VBD DT JJ NN JJ NN NN NN NN VBD DT NN NN NN JJ NN NN NN NN NN VBP NN DT NN NN JJ NN JJ NN',\n",
       " 'NN VBP NN NN JJ NN NN NN NN NN VBD DT JJ NN NN NN NN JJ NN NN NN JJ NN JJ NN NN NN NN NN NN VBP NN NN',\n",
       " 'JJ VBP JJ NN JJ NN NN NN VBP NN NN NN VBP NN NN NN NN NN VBP NN NN IN NN NN VBP PDT DT NN NN DT NN NN NN NN NN VBD DT NN . JJ VBP JJ NN VBZ DT DT JJ NN NN NN NN NN VBP NN NN NN NN NN NN VBD DT DT JJ NN NN NN NN NN VBD DT NN',\n",
       " 'NN VBP NN NN DT NN NN DT NN NN VBP NN NN',\n",
       " 'NN VBP DT NN MD VB JJ NN NN NN JJ VBP JJ NN NN NN JJ NN DT NN NN VBP NN NN JJ NN NN',\n",
       " 'NN JJ JJ NN NN NN NN NN NN JJ JJ NN NN NN NN VBZ DT NN DT JJ NN DT NN NN NN NN VBP NN NN NN NN NN NN JJ NN NN',\n",
       " 'NN DT NN NN VBD JJ NN NN NN VBP NN NN NN NN NN NN JJ NN NN NN VBD DT NN NN NN VBZ DT NN NN NN VBD DT JJ NN NN NN NN',\n",
       " 'NN NN VBP NN NN JJ NN NN NN VBD DT JJ NN NN VBP NN NN NN NN JJ NN NN NN NN NN NN NN NN NN NN NN JJ NN NN',\n",
       " 'NN MD VB VB DT NN DT NN NN JJ JJ NN JJ NN NN NNP VBZ DT JJ NN NN VBP NN NN VBP NN NN NN NN NN NN NN JJ JJ NN NN',\n",
       " 'NN MD VB NN NN DT NN NN NN NN JJ NN NN NN NN NN JJ NN NN VBD DT NN IN NN NN VBP NN NN NN NN NN NN NN JJ NN NN NN',\n",
       " 'NN NN VBP NN NN NN VBP NN NN VBD DT NN , VB DT NN NN NN NN NN NN NN IN DT JJ NN NN NN NN . VB DT NN NN NN NN NN NN NN JJ NN , NN VBD DT NN NN NN VBP NN NN NN NN NN . NN JJ NN JJ NN NN JJ NN NN NN NN JJ VBP NN , NN NN VBP NN NN NN NN VBZ DT NN NN NN JJ VBP NN',\n",
       " 'NN NN VBP NN NN JJ NN NN NN VBP NN NN JJ NN NN JJ NN NN NN NN NN JJ NN JJ NN JJ NN NN IN NN NN VBP NN',\n",
       " 'NN MD VB VB DT NN NN VBP NN JJ NN NN IN JJ NN VBD DT NN NN JJ NN NN NN NN NN IN NN NN VBP NN NN',\n",
       " 'NN JJ NN NN NN NN VBP DT NN NN NN NN NN NN JJ NN NN NN JJ NN VBD DT NN NN NN NN JJ NN NN VBZ DT NN',\n",
       " 'NN NN NN VBP NN NN NN VBP NNS VBP JJ NN NN JJ NN NN NNP VBZ DT JJ NN NN VBP DT NN NN NN VBP NN NN NN',\n",
       " 'NN JJ JJ NN NN VBP NN NN NN JJ JJ NN NN NN NN NN NN NN VBP NN NN IN NN NN NN NN DT JJ NN JJ NN NN NN JJ NN NN NN NN VBD DT NN NN NN NN JJ NN NN NN NN NN NN NN JJ NN NN VBZ NN',\n",
       " 'NN NN NN NN NN NN NN VBP NN NN NN NN NN NN NN JJ NN NN NN NN NN NN NN NN NN NN NN NN NN JJ NN NN NN NN NN NN JJ NN NN NN NN NN NN NN NN',\n",
       " 'NN NN NN NN NN NN JJ NN NN NN NN VBP IN NNS VBP VBP VBP DT NN NN VBD DT NN NN NN NN JJ NN NN NN JJ NN NN JJ NN NN VBD DT NN NN SYM JJ JJ NN NN VBP',\n",
       " 'NN NN NN NN JJ NN NN NN JJ NN NN NN NN NN NN NN IN JJ VBP VBP DT NN DT NN NN NN NN NN NN NN NN NN VBP NN NN NN NN',\n",
       " 'VB DT NN NN NN NN VBP NN DT NN NN NN JJ JJ NN NN VBP NN NN JJ NN NNS VBP DT JJ NN NN VBZ DT NN NN DT NN MD VB JJ NN NN NN NN VBD DT NN NN NN NN VBP NN NN NN NN',\n",
       " 'NN MD VB JJ NN NN NN VBZ DT NN JJ NN NN NN VBD DT NN NN VBZ DT NN NN VBP NN NN IN NN NN VBP JJ NN NN NN NN NN NN NN NN IN DT JJ NN NN NN NN NN JJ JJ NN NN NN NN NN . . . . NN VBD DT JJ NN NN NN NN',\n",
       " 'NN MD VB JJ NN NN NN VBP NN NN VBD DT NN NN NN NN VBZ DT JJ NN NN NN NN NN NN NN NN VBP NN NN NN NN NN NN NN NN NN NN NN JJ NN NN VBP',\n",
       " 'NN VBZ DT JJ NN DT NN NN JJ NN NN NN NN NN VBD DT NN NN NN NN NN VBZ DT JJ NN NN NN VBD DT JJ NN NN NN NN NN NN NN NN NN NN NN IN NN NN VBP NN NN NN NN JJ NN NN NN NN NN',\n",
       " 'VB DT NN NN NN VBP NN DT JJ NN NN JJ NN NN JJ NN IN DT JJ NN NN IN DT JJ NN NN NN VBP NN NN NN VBP NN NN NN NN NN IN JJ NN VBP NN NN',\n",
       " 'DT JJ NN NN VBP DT NN NN VBZ DT NN NN JJ VBP VBP DT NN JJ NN NN NN VBZ DT JJ NN NN VBP NN NN VBP PDT DT NN NN VBP NN JJ NN NN NN NN NN VBZ DT NN NN VBP NN NN NN NN JJ NN NN JJ JJ NN NN NN NN NN VBP',\n",
       " 'DT NN NN NN NN NN NN NN JJ VBZ DT NN WRB DT NN NN NN VBZ DT NN NN NN',\n",
       " 'NN MD VB JJ NN DT NN NN VBP NN NN JJ NN NN NN NNP NN NN NN VBP IN DT JJ NN . JJ NN NN VBP NN NN NN JJ VBP JJ IN NN NN VBP',\n",
       " 'DT NN NN NN VBP DT JJ NN DT NN NN NN VBP NN NN NN NN NN JJ NN VBZ DT JJ NN NN JJ NN NN NNP VBZ JJ NN NN NN NN VBP NN NN JJ NN . NN JJ NN NN NN NN NN NN NN VBP NN NN NN NN',\n",
       " 'NN VBP NN NN VBD DT NN NN NN NN NN JJ NN NN JJ JJ NN NN VBP NN NN NN NN JJ NN VBZ DT JJ NN JJ NN NN JJ VBP JJ NN NN NN VBP JJ NN VBD DT NN NN NN NN NN VBZ DT NN NN NN VBP NN NN NN VBP NN NN DT JJ NN NN VBZ DT NN NN NN NN NN . NN NN NN NN NN NN NN',\n",
       " 'NN VBP DT JJ JJ NN NN JJ VBP JJ VBP DT NN NN NN NN NN VBD DT NN NN',\n",
       " 'JJ NN VBD DT NN NN NN NN NN NN VBP NN VBZ DT NN NN VBP NN DT NN JJ NN NN NN NN VBP NN JJ NN NN JJ NN NN . NN NN NN NN NN NN NN NN NN NN VBP NN NN NN JJ VBP JJ NN JJ NN NN VBZ DT NN NN NN JJ VBP DT NN JJ NN NN NN',\n",
       " 'NN NN VBP NN NN VBZ DT JJ NN NN VBP NN NN NN NN NN NN JJ NN NN NN NN NN NN NN NN NN NN NN JJ NN NN VBZ DT NN NN NN VBZ DT NN',\n",
       " 'VB DT NN NN VBZ DT NN NN NN VBZ DT JJ NN NN NN NN NN JJ NN NN NN VBP NN NN JJ NN NN NN NN NN NN NN NN NN VBP NN NN NN NN VBD DT JJ NN NN IN NN NN VBP NN NN NN NN',\n",
       " 'NN MD VB JJ NN NN NN NN IN NN NN VBP NN JJ NN NN NN VBP NN NN NN VBP NN NN NN IN DT NN DT NN NN NN NN NN NN NN NN NN JJ NN JJ NN NN VBZ DT NN NN VBP NN NN VBP JJ NN VBD DT NN . . NN VBP NN NN DT NN',\n",
       " 'NN MD VB JJ NN NN NN VBD DT JJ NN NN JJ NN NN NN NN NN NN',\n",
       " 'NN NN FW NN NN VBP VBZ DT NN DT JJ NN NN IN DT NN NN NN NN NN NN NN NN NN NN NN VBP NN NN NN . JJ JJ NN NN NN NN NN . NN NN NN',\n",
       " 'NN NN VBP NN NN JJ JJ NN NN JJ VBZ DT NN NN NN NN NN JJ NN NN NN NN NN NN NN NN NN NN NN . NN JJ NN NN',\n",
       " 'JJ JJ NN NN NN NN VBZ VBZ DT NN NN JJ NN VBD DT NN NN NN VBP NN NN DT JJ NN NN NN VBP NN DT NN NN NN JJ NN NN NN NN JJ NN NN VBZ DT JJ NN JJ NN NN VBP JJ NN NN NN NN NN NN NN NN JJ NN NN JJ NN NN NN',\n",
       " 'NN NN NN NN NN NN NN NN NN NN VBZ DT JJ NN NN NN IN NN NN VBP NN NN . NN NN NN VBD DT NN NN NN NN NN NN NN NN FW NN NN NN VBP NN NN NN NN VBZ DT NN NN VBD DT NN',\n",
       " 'NN NN JJ JJ NN NN NN NN NN NN NN JJ JJ NN NN NN NN VBD DT NN NN NN JJ NN NN NN NNP NN NN NN VBP NN NN',\n",
       " 'NN JJ VBP JJ NN NN NN NN NN JJ NN NN NN NN NN NN NN NN NN NN NN NN IN DT NN NN JJ NN NN NN NN JJ NN IN DT JJ NN . . . . DT JJ NN NN NN NN NN NN NN NN JJ NN NN NN NN NN NN VBD DT NN',\n",
       " 'VB DT NN NN NN NN IN DT NN NN VBP IN DT JJ NN NN NN NN NN NN VBZ DT NN NN NN NN JJ NN NN NN NN NN NN NN NN NN VBD DT NN NN VBP VBP JJ VBP JJ NN NN NN NN NN NN NN NN NN NN VBZ DT JJ NN NN NN VBD DT NN NN NN VBP NN NN NN JJ NN NN VBD DT JJ NN NN NN NN NN NN NN NN VBZ DT NN NN VBP NN NN NN NN VBP',\n",
       " 'NN MD VB JJ NNS VBP JJ NN DT NN NN NN IN DT NN NN NN VBP NN , DT NN NN VBZ DT NN NN NN IN NN NN NN NN NN NN NN JJ NN NN JJ VBP JJ VBP DT NN NN NN NN NN VBD DT NN , VB DT NN NN NN VBP NN NN VBP NN',\n",
       " 'NN DT NN NN NN NN JJ NN NN NN VBD DT NN NN NN NN VBP VBZ DT JJ NN NN NN NN . NN NN JJ VBP JJ VBP JJ NN NN NN IN DT NN NN NN DT NN NN NN',\n",
       " 'VB DT NN MD VB JJ NN NN NN . VB DT NN NN NN NN JJ VBP JJ NN NN NN NN',\n",
       " 'JJ NN NN NN NN NN JJ VBP VBP DT DT JJ NN NN JJ NN NN NN NN NN VBP NN VBP DT NN NN DT JJ NN NN NN NN VBP NN VBZ DT NN JJ NN VBD DT NN NN VBP NN NN DT NN NN NN VBP NN DT NN DT JJ NN IN NN NN VBP WRB DT NN NN NN NN NN NN NN IN NN NN NN JJ NN NN NN NN NN NN NN NN JJ NN NN NN NN NN NN VBD DT JJ NN NN',\n",
       " 'NN NN VBP NN NN NN NN NN NN NN NN VBP NN NN NN NN NN NN NN',\n",
       " 'NN NN NN VBD DT NN NN VBD DT NN DT NN NN JJ NN NN NN NN NN NN NN NN NN NN NN JJ NN NN . . . NN JJ NN DT NN DT NN NN VBP NN NN IN NN NN VBP NN JJ NN , DT NN NN VBP NN DT NN DT NN NN JJ JJ NN JJ JJ NN NN NN',\n",
       " 'NN NN NN VBD DT JJ NN NN NN JJ VBZ DT NN NN NN NN NN . . . VB DT NN NN NN NN NN NN VBD DT NN JJ NN NN NN NN NN VBP NN JJ NN NN VBD DT NN NN IN NN NN VBP NN NN NN NN NN NN NN VBP NN NN NN NN',\n",
       " 'NN NN NN NN VBP NN NN NN NN NN NN VBD DT JJ NN NN VBP NN NN IN DT JJ NN NN NN VBP IN NNS VBP VBP VBP DT NN NN NN VBD DT NN NN VBD DT NN NN NN NN VBP DT NN MD VB JJ JJ NN NN NN NN NN NN NN JJ NN NN NN VBP NN DT NN DT NN NN NN NN VBP NN NN NN VBP NN NN NN NN',\n",
       " 'NN NN NN NN NN NN NN NN JJ VBP JJ VBP NN NN NN VBP NN NN . NN JJ NN NN NN NN NN NN',\n",
       " 'NN NN NN . NN NN NN VBP NN NN NN NN . DT NN NN NN NN JJ NN NN NN JJ NN NN NN NN NN NN NN NN NN VBP NN NN NN VBP NN NN . UH VBZ DT NN NN NN NN VBD DT NN NN NN',\n",
       " 'NN NN , NN NN VBP . JJ NN NN NN VBZ DT NN NN NN NN NN NN DT NN NN NN NN NN NN NN VBP NN NN . NN NN NN JJ NN NN NN NN NN NN NN VBD DT NN NN NN NN NN NN NN NN NN NN NN IN NN NN VBP NN NN NN NN VBD JJ JJ NN NN NN NN',\n",
       " 'NN JJ NN NN NN VBD DT NN WRB DT NN',\n",
       " 'VB DT NN NN NN NN NN VBZ DT JJ NN NN NN NN NN NN NN VBD DT JJ NN NN NN VBZ DT JJ NN NN VBP WRB DT NN JJ NN NN NN NN JJ NN JJ JJ NN NN NN NN NN',\n",
       " 'NN NN NN VBP NN NN VBP NN NN VBZ DT JJ NN NN JJ NN NN VBZ DT NN NN NN JJ NN NN NN . . . . . JJ JJ NN NN NN JJ NN NN',\n",
       " 'NN VBP NN NN IN NN NN VBP IN DT NN NN NN NN NN IN NN NN VBP NN NN',\n",
       " 'DT NN NN DT NN DT NN NN NN NN NN NN VBD DT NN NN DT JJ NN NN NN NN NN NN NN JJ VBZ DT JJ NN NN NN NN NN NN VBD DT NN NN NN NN VBP DT NN',\n",
       " 'VB DT NN NN NN NN NN VBP NN NN VBZ DT JJ NN NN VBP NN NN VBD DT JJ NN VBD CD NN',\n",
       " 'NN NN NN JJ JJ NN NN VBZ DT NN NN NN NN NN NN NN NN NN JJ NN VBD DT NN JJ VBZ DT NN NN NN JJ NN NN NN NN NN NN IN NN NN VBP NN NN VBP NN NN JJ NN NN NN NN NN NN NN',\n",
       " 'NN VBZ DT JJ NN NN VBP NN DT NN DT NN VBZ DT NN NN VBP NN NN VBD DT NN NN JJ NN NN NN NN NN NN NN NN NN VBZ DT NN NN NN NN NN NN JJ VBZ DT JJ NN NN NN VBP NN DT NN DT NN NN NN NN NN JJ VBZ DT JJ NN . .',\n",
       " 'NN VBZ DT NN NN NN JJ NN NN VBZ DT NN NN NN NN VBP JJ NN NN NN VBD DT NN NN NN VBZ DT NN NN NN NN NN VBP NN NN NN NN NN NN NN VBP NN NN NN NN NN NN NN NN VBZ DT NN NN VBP NN NN DT NN NN JJ VBZ DT NN NN NN VBZ DT NN NN',\n",
       " 'NN VBZ DT JJ NN NN NN NN NN NN NN NN NN VBP NN NN JJ VBP VB DT NN NN VBD DT NN NN VBD JJ NN VBP DT JJ NN IN NN NN VBP IN DT JJ NN NN NN JJ VBP VBP DT NN NN NN NN NN NN NN VBP NN NN DT JJ NN NN NN NN NN NN NN NN NN NN VBD DT NN NN NN NN IN NN NN VBP NN NN NN NN NN VBP',\n",
       " 'NN NN NN VBP NN NN DT NN NN JJ NN NN NN NN JJ NN NN NN JJ NN NN JJ NN NN NN NN NN NN VBP NN NN VBZ DT JJ NN NN NN NN JJ NN NN NN NN IN DT NN NN NN IN NN NN VBP',\n",
       " 'JJ JJ NN NN VBD DT NN NN NN NN JJ NN NN NNP NN NN NN VBP NN NN NN VBZ DT NN DT NN NN DT NN NN NN NN',\n",
       " 'NN MD VB JJ JJ NN NN NN NN JJ JJ NN NN NN NN IN NN NN VBP NN NN NN NN NN IN NN NN VBP JJ JJ NN VBD DT NN VBZ DT NN DT NN NN NN VBD DT NN NN',\n",
       " 'NN VBP NN NN VBP NN JJ NN NN NN NN NN NN JJ NN NN NN JJ NN JJ NN NN NN VBP NN NN NN NN VBZ DT NN NN VBP NN NN NN NN JJ NN NN NN VBP JJ NN NN NN JJ VBP JJ NN NN VBP RB VB DT JJ NN NN NN NN NN VBP NN JJ VBP NN NN VBP NN NN JJ NN NN IN NN NN VBP IN NN NN VBP NN NN NN NN NN NN NN',\n",
       " 'NN NN NN NN NN JJ NN NN NN NN FW NN NN NN NN NN NN NN . . . . JJ NN JJ NN JJ NN NN JJ NN NN NN',\n",
       " 'NN VBZ DT JJ NN NN NN NN NN NN NN NN NN NN NN NN JJ VBP JJ NN VBP NN DT NN NN NN NN VBP NN NN VBZ DT JJ NN NN NN VBP NN NN NN NN NN NN IN NN NN NN NN NN NN NN VBD JJ NN VBP NN NN NN JJ NN . . JJ NN NN',\n",
       " 'NN NN VBP NN NN NN JJ NN JJ IN NN NN VBP DT NN NN NN NN VBP NN NN VBP NN NN VBD DT NN NN NN NN JJ VBP JJ NN NN NN IN DT NN NN NN NN JJ VBZ DT JJ NN NN NN VBP NN NN NN NN NN NN NN VBP NN NN NN NN NN',\n",
       " 'NN NN NN NN NN VBZ DT NN VBZ DT JJ NN JJ NN NN NN NN NN NN NN NN NN NN NN JJ NN JJ NNP NN NN VBZ DT NN NN , JJ NN NN VBP JJ JJ NN NN NN NN NN VBP IN NN NN VBP NN NN NN VBZ DT JJ NN . NN VBD DT NN NN NN VBP NN NN NN NN JJ NN NN NN NN VBP NN NN VBZ DT NN DT NN NN',\n",
       " 'NN DT NN NN NN NN NN VBZ DT NN NN NN VBP NN JJ NN VBD DT JJ NN NNP VBZ JJ JJ NN NN NN NN NN NN JJ NN NN NN NN VBD DT NN NN NN NN NN NN NN VBP JJ JJ NN NN',\n",
       " 'DT NN NN IN NN NN VBP NN NN NN VBD DT NN , NN JJ NN NN NN NN NN NN JJ NN JJ NN NN NN NN IN DT JJ NN NN NN VBP VBZ DT NN NN NN NN JJ NN NN NN NN NN NN NN NN NN NN IN NN NN VBP IN DT NN NN NN VBZ DT NN DT NN NN NN NN NN NN',\n",
       " 'VB DT NN NN VBP NN NN JJ NN NN NN VBZ DT NN NN NN VBZ DT NN NN NN VBP WRB DT NN NN NN NN NN NN NN NN NN NN NN NN VBD DT JJ NN DT NN NN VBP NN NN JJ NN NN , JJ VBP NNS',\n",
       " 'NN JJ NN NN NN NN NN VBP NN JJ VBP JJ NN JJ NN NN NN . . . . JJ NN NN NN NN NN IN JJ NN NN NN NN NN NN JJ VBP JJ NN NN IN NN NN NN',\n",
       " 'NNS VBP JJ NNS VBP JJ JJ NN NN JJ NN NN NN VBZ DT NN . VB JJ NN NN NN NN NN IN DT NN NN VBP JJ NN NN NN IN NN NN VBP PDT DT NN NN NN NN JJ NN NN VBD DT NN NN NN NN JJ NN VBD DT JJ NN NN VBP NN NN NN NN VBD DT JJ NN NN',\n",
       " 'NN VBZ DT NN NN DT NN NN NN JJ NN NN NN NN NN NN NN NN VBP NN JJ NN NN NN NN NN VBP NN NN NN NN NN NN NN NN NN NN NN VBZ DT NN DT JJ NN NN NN NN NN NN NN NN NN NN NN NN NN VBP NN NN NN VBP VBZ DT JJ NN NN NN NN JJ NN NN NN NN VBP NN NN',\n",
       " 'JJ VBP JJ NN NN NN NN VBP NN NN JJ VBZ DT NN JJ JJ NN NN NN VBZ DT NN NN NN NN',\n",
       " 'NN NN JJ NN NN NN JJ NN NN JJ VBP JJ NN DT NN , NN NN DT NN NN NN NN VBP NN NN NN NN JJ NN NN JJ NN NN NN VBP NN NN JJ NN NN NN NN NN NN NN NN NN NN VBP VBZ DT NN DT JJ NN VBD DT NN',\n",
       " 'NN NN NN NN JJ NN NN SYM NN NN NN NN JJ NN NN NN VBP NN NN NN NN NN NN NN NN VBP NN NN NN NN . JJ NN NN NN NN NN NN JJ NN NN NN',\n",
       " 'VB DT NN NN NN NN JJ NN JJ NN NN VBZ DT NN NN NN NN NN NN VBP NN NN',\n",
       " 'NN VBP DT NN IN DT JJ NN NN NN NN NN IN DT JJ NN NN NN NN NN NN NN NN NN VBP NN NN',\n",
       " 'NN NN NN NN NN VBP NN NN IN NN NN VBP NN NN NN NN NN NN JJ NN NN VBP JJ JJ NN NN NN NN NN NN VBZ DT NN NN NN NN NN JJ VBP NN JJ VBP JJ NN NN JJ NN NN NN NN',\n",
       " 'VB DT NN NN VBD DT NN NN NN VBZ DT JJ NN JJ NN NN NN NN NN NN NN NN VBP . VB DT JJ NN NN NN NN NN NN JJ VBP JJ VBP JJ NN NN NN NN NN NN NN NN NN NN NN NN VBD DT NN NN NN NN',\n",
       " 'NN NN VBP NN NN NN NN NN JJ NN NN VBP DT NN NN NN VBP NN NN JJ VBP JJ JJ NN NN JJ NN NN NN NN VBP NN NN NN NN NN NN NN NN JJ JJ NN NN',\n",
       " 'NN NN NN NN VBZ DT NN NN VBZ DT JJ NN NN NN NN NN NN VBD DT NN NN VBZ DT NN DT JJ NN NN NN NN NN VBP JJ NN NN NN NN , DT NN NN NN VBP JJ JJ NN NN VBD DT NN WRB DT NN NN NN VBP NN NN NN NN NN NN NN NN NN NN',\n",
       " 'NN VBP DT JJ NN DT NN NN NN NN NN VBP VBZ DT JJ NN NN VBP DT NN NN VBP NN NN NN NN NN , JJ NN NN VBP NN NN VBP VBZ DT JJ NN VBD DT NN NN NN NN NN NN NN',\n",
       " 'JJ NN NN NN NN IN NN NN VBP NN NN JJ NN VBZ DT NN NN NN NN JJ NN NN NN NN NN NN JJ NN NN NN JJ JJ NN VBD DT NN NN IN JJ NN VBP NN NN . JJ VBP JJ NN VBD DT NN NN JJ NN NN NN NN NN JJ VBP JJ NN NN NN NN VBZ DT NN',\n",
       " 'NN NN VBP NN JJ NN NN NN NN NN JJ NN NN NN VBZ DT NN NN NN VBZ DT JJ NN NN NN NN NN NN VBD DT JJ NN NN VBD DT NN NN VBP NN VBP DT NN JJ NN NN NN NN NN NN VBZ DT NN NN VBD DT JJ NN NN VBD DT NN NN VBP NN VBP DT NN JJ NN NN NN',\n",
       " 'DT NN . . . . VB DT NN , NN NN JJ NN NN NN NN NN VBD DT NN NN IN NN NN NN NN NN',\n",
       " 'DT JJ NN NN JJ NN DT JJ NN NN NN VBZ DT NN NN NN NN NN VBZ DT JJ NN NN NN IN NN JJ NN NN NN NN , JJ VBP JJ JJ NN NN VBZ DT NN NN NN NN NN NN . DT JJ NN NN VBD DT NN NN NN VBZ DT NN . . JJ NN VBD DT NN DT NN DT',\n",
       " 'JJ VBP JJ VBP JJ NN VBD DT NN DT JJ NN NN NN JJ VBP JJ NN NN IN NN NN VBP JJ NN NN NN NN NN JJ VBZ DT NN NN NN NN',\n",
       " 'NN NN JJ VBP JJ NN NN NN VBP NN DT NN NN IN JJ NN NN NN , VBP JJ NN DT NN NN IN NN NN VBP NN NN , DT JJ NN NN VBZ DT NN NN VBZ DT NN JJ VBP JJ NN NN JJ NN NN VBZ VBZ DT NN NN NN NN VBD DT JJ NN NN JJ NN NN JJ NN',\n",
       " 'JJ VBP JJ JJ NN NN NN NN NN NN VBZ DT NN DT NN DT NN NN NN NN VBP NN NN JJ JJ NN NN VBZ DT NN VBZ DT NN NN',\n",
       " 'NN NN VBP NN NN VBZ VBZ DT NN NN NN . . . . VB DT JJ NN NN NN . NN NN NN VBP NN NN IN NN NN VBP NN NN NN NN NN VBP IN DT NN NN NN NN NN VBZ DT NN NN NN NN NN VBP NN NN JJ NN NNS VBP JJ NN NN NN',\n",
       " 'VB DT NN NN VBP NN NN NN VBP NN NN NN NN NN VBZ DT NN JJ IN NN NN VBP NN NN JJ NN NN NN NN NN NN NN JJ VBP JJ NN NN NN . . DT JJ NN NN NN NN VBZ DT JJ NN NNP VBZ JJ NN NN NN NN JJ NN NN VBP JJ NN NN NN NN NN NN NN NN NN NN NN NN VBP NN NN VBP NN NN JJ NN NN IN NN NN VBP NN NN NN NN VBD DT NN',\n",
       " 'DT NN NN NN NN NN NN NN VBP JJ NN JJ NN NN NNP VBZ DT NN',\n",
       " 'NN NN NN NN NN NN JJ NN NN NN NN NN NN NN VBP NN NN VBP NN NN VBZ DT NN NN NN JJ NN NN VBZ DT NN NN NN NN VBZ DT JJ NN DT NN MD VB DT NN NN JJ NN',\n",
       " 'VB DT NN NN NN NN VBP NN NN NN VBD NN NN VBP JJ NN NN NN NN NN NN NN NN NN NN NN VBP NN NN NN NN NN NN NN NN VBD DT NN NN JJ VBP NN',\n",
       " 'VB DT NN NN NN NN NN VBP NN NN NN NN VBP NN NN NN NN VBP NN JJ NN NN NN VBZ DT NN NN VBP NN NN NN JJ VBP JJ NN DT NN NN NN IN DT NN . NN NN NN NN NN VBZ DT NN NN VBP DT NN NN VBZ DT JJ NN NN NN NN NN NN NN NN NN VBZ DT JJ NN NN VBP NN NN VBZ DT NN NN NN VBP NN NN NN NN VBD DT NN NN JJ NN NN NN VBP',\n",
       " 'NN VBP DT JJ NN DT NN DT NN NN NN NN NNP NN NN VBP NN NN NNP NN NN NN NN JJ NN NN NN NN NN NN NN VBP NN NN NN VBP NN NN DT NN NN JJ NN NN NN NN NN NN NN NN VBP VBP DT NN NN NN NN IN NN NN DT NN JJ NN NN JJ NN NN NN VBD DT JJ NN NN NN NN NN VBP NN NN JJ NN NN',\n",
       " 'NN VBP NN NN NN NN JJ VBP JJ JJ NN NN VBP NN NN NN NN NN NN NN NN NN NN NN JJ VBZ DT JJ NN NN NN VBD DT NN NN NN VBP NN NN . NN NN VBD DT NN',\n",
       " 'NN MD VB DT NN NN JJ NN VBZ DT JJ NN JJ NN VBZ DT JJ NN NN JJ NN VBZ DT DT JJ NN NN NN NN',\n",
       " 'VB DT NN NN NN NN NN DT NN NN NN VBP NN NN DT JJ NN NN NN VBP NN DT NN NN IN NN VBP DT NN NN NN VBD DT NN NN NN VBP NN NN NN NN NN NN JJ NN',\n",
       " 'JJ NN NN NN NN NN NN NN JJ NN NN VBD DT NN NN NN VBP NN NN JJ NN',\n",
       " 'JJ NN NN NN NN NN VBP NN NN NN NN NN NN NN NN VBP NN NN VBP NN NN NN NN JJ NN NN NN NN JJ NN NN NN VBP NN NN NN NN IN DT JJ NN NN NN NN NN NN NN NN NN NN NN NN NN',\n",
       " 'NN NN VBP NN DT NN NN JJ NN JJ NN NN NN NN VBD DT JJ NN NNP VBZ DT JJ NN NN JJ NN NN . . . . CC DT NN , JJ VBP JJ NN NN NN JJ NN NN NN NN NN VBZ DT JJ NN NN NN NN VBD DT NN',\n",
       " 'NN VBZ DT NN NN VBP NN NN IN NN NN VBP NN NN JJ NN VBZ DT DT NN NN DT JJ NN DT . JJ JJ NN NN JJ VBP NN NN JJ NN DT NN JJ JJ NN NN JJ JJ NN NN VBP NN DT NN NN VBP DT NN NN NN JJ NN VBD DT NN DT NN VBP DT NN NN NN JJ NN NN NN NN VBP NN NN NN VBD NN NN VBP NN NN DT NN NN JJ VBP JJ NN JJ NN NN JJ VBP JJ NN',\n",
       " 'NN NN JJ VBP JJ VBP JJ NN NN NN NN NN NN NN . . . . . JJ VBP JJ NN VBD DT NN NN NN VBP NN NN NN VBP NN NN NN JJ VBP JJ VBP NNS',\n",
       " 'NN VBP JJ JJ NN NN NN NN VBP VBZ DT NN NN NN IN JJ NN NN NN JJ NN NN NN NN NN JJ NN NN JJ NN VBD DT NN NN NN VBD DT NN NN NN NN NN VBZ DT NN NN VBP NN NN VBP VBZ DT NN NN JJ NN NN NN NN . . . . JJ NN NN NN NN NN NN NN NN NN NN NN NN VBZ DT NN NN VBP JJ NN NN JJ VBP JJ VBP JJ NN NN NN NN VBP NN NN NN VBZ DT NN NN',\n",
       " 'NN NN NN VBP NN NN NN VBP NN NN NN NN VBP RB VB DT JJ NN NNP VBZ JJ JJ NN NN NN NN VBZ DT NN NN NN .',\n",
       " 'NN NN JJ VBP NN NN NN NN NN NN NN NN NN NN NN VBP NN NN NN NN DT NN NN NN NN NN NN NN NN NN VBP NN NN',\n",
       " 'NN NN NN NN NN NN NN NN NN JJ JJ NN , NN NN NN NN NN NN NN NN NN , JJ NN NN VBP NN NN JJ VBP JJ NN DT NN NN SYM NN JJ JJ NN VBD DT NN NN NN JJ NN NN NN JJ NN NN . NN NN NN NN NN JJ VBP JJ NN JJ NN NN NN VBD DT NN NN JJ JJ NN NN JJ NN NN',\n",
       " 'NN NN VBP NN NN NN NN NN NN NN JJ NN NN NN IN DT NN NN JJ JJ NN NN NN NN NN NN NN NN VBZ DT JJ NN VBD DT NN NN . NN NN NN NN NN NN NN NN NN NN NN NN',\n",
       " 'JJ VBP JJ VBP JJ JJ NN NN NN NN NN NN NN NN VBP NN JJ JJ NN NN VBZ VBZ DT JJ NN NN VBZ DT NN NN NN NN NN DT NN DT NN NN NN VBP NN NN JJ NN NN NN NN NN JJ NN NN NN NN NN VBP JJ NN NN NN NN',\n",
       " 'JJ MD VB NN NN VBP NN NN NN NN IN JJ JJ NN NN . NN JJ NN NN NN NN NN NN VBD DT NN NN NN VBD DT NN NN JJ NN NN NN IN NN NN VBP DT NN NN NN',\n",
       " 'NN VBP NN NN NN NN NNP VBZ DT NN NN NN NN JJ NN NN NN NN VBP PDT DT NN WRB DT NN DT NN DT NN NN VBP NN NN NN NN NN NN NN JJ NN NN NN VBD DT NN . NN VBD DT JJ NN DT NN JJ VBZ DT NN IN DT JJ NN VBD DT NN VBZ DT NN NN NN',\n",
       " 'NN NN JJ VBZ DT JJ NN NN NN NN NN NN NN NN NN NN NN NN JJ NN NN NN NN VBP NN NN NN NN NN VBD DT NN NN NN NN VBP NN NN NN JJ NN VBD DT NN NN NN NN VBD DT NN NN IN JJ NN JJ NN NN NN VBP NN JJ NN NN VBP NN NN VBP NN NN JJ NN NN NN VBZ DT JJ NN NN NN NN NN',\n",
       " 'JJ VBP JJ VBP NN NN VBP DT NN DT NN NN VBP NN NN NN NN VBP JJ NN NN NN NN NN NN NN NN NN NN NN VBP NN NN NN NN NN NN IN NN NN VBP NN NN NN NN JJ NN NN',\n",
       " 'NN VBP NN NN JJ NN NN NN NN NN NN NN JJ NN DT NN DT NN DT NN NN NN NN VBD DT NN NN NN NN NN NN JJ NN NN IN DT NN NN VBD DT NN NN VBP . . . . JJ NN DT NN JJ NN NN NN',\n",
       " 'VB DT JJ NN NN NN JJ NN JJ NN NN JJ NN NN NN NN VBD DT NN DT NN NN VBP NN NN NN NN VBZ DT NN NN VBZ DT NN JJ NN NN NN NN NN NN NN NN NN NN JJ NN NN NN NN VBP NN NN NN VBD VBZ DT JJ NN NN NN NN NN NN NN IN JJ NN VBP VB DT NN NN VBP NN NN',\n",
       " 'NN NN NN NN IN NN NN VBP NN NN VBZ DT NN NN NN NN IN JJ NN JJ NN NN NN NN NN NN JJ NN NN VBP NN NN NN NNP NN NN NN VBP NN NN DT JJ NN NN NN VBP NN DT NN . JJ NN NN NN NN NN NN VBP NN NN NN . . VB DT NN NN NN NN NN NN JJ NN NN NN IN NN NN VBP NN NN IN NN NN JJ NN JJ NN NN NN NN NN NN . JJ NN NN',\n",
       " 'VB DT NN NN NN NN NN VBP JJ NN NN NN NN VBP DT NN NN NN NN NN NN NN JJ NN NN NN NN VBZ DT NN NN NN NN NN NN NN NN NN NN JJ NN NN NN NN NN NN NN NN VBZ DT NN NN VBD DT NN NN NN NN NN NN NN JJ NN NNS VBP JJ NN NN VBP',\n",
       " 'NN NN VBZ DT NN . . JJ VBP PDT DT NN , CC JJ JJ NN NN VBD DT NN NN NN NN NN , NN JJ NN NN NN NN NN NN NN NN NN JJ NN NN VBZ DT JJ NN NN VBZ DT NN . . NN NN VBP NN NN',\n",
       " 'NN NN JJ NN NN JJ NN VBD DT NN DT NN NN VBP NN NN JJ NN NN NN NN NN NN NN NN NN NN NN NN NN NN VBP NN DT NN DT NN NN VBP NN NN',\n",
       " 'NN NN VBD DT JJ NN NN JJ VBP VBP DT NN NN VBD DT NN NN NN NN NN VBZ DT NN NN VBP NN NN NN NN NN NN JJ VBP JJ JJ NN NN JJ NN NN NN NN NN NN VBP NN DT NN NN VBP DT NN NN NN NN NN NN NN IN NN NN NN JJ NN NN NN . . . JJ NN NN NN VBP NN DT',\n",
       " 'NN NN NN NN JJ NN NN NN NN NN JJ NN NN NN NN VBP NN NN VBP IN DT NN NN JJ NN NN NN NN NN VBP NN NN DT NN NN WRB NN NN NN NN JJ NN NN NN IN NN NN NN NN NNP NN NN NN NN NN VBD DT NN NN NN IN NN NN NN NN NN NN VBP NN NN NN NN NN NN NN NN NN JJ NN NN VBD DT JJ NN NN VBD DT NN NN VBZ DT NN NN',\n",
       " 'JJ VBP JJ VBP DT NN JJ NN NN NN NN NN NN NN IN NN NN VBP NN VBP DT NN NN NN VBD DT NN DT NN DT NN DT NN NN VBZ DT JJ NN VBD DT DT DT DT DT DT JJ NN . . . . . VB DT NN DT',\n",
       " 'RB DT NN NN VBP JJ NN NN NN NN NN VBD DT NN NN . JJ NN NN NN NN NN NN NN . NN NN JJ NN NN IN NN NN VBP NN NN NN VBP IN DT NN NN NN VBP NN NN VBP NN NN NN NN NN NN NN JJ NN NN NN VBZ DT NN NN VBP IN DT JJ NN NN VBP NN NN JJ NN VBD DT NN NN JJ NN VBD DT NN NN NN',\n",
       " 'JJ NN NN NN VBP NN NN NN NN NN VBD DT NN NN NN NN VBP NN NN NN NN . . JJ NN NN VBP WRB DT NN NN NN NN NN JJ JJ NN NN NN IN NN NN',\n",
       " 'NN VBZ DT NN NN NN NN NN NN NN NN VBP NN NN NN NN NN NN NN NN NN NN NN VBZ DT NN NN NN NN NN IN NN NN VBP NN DT NN DT NN NN VBP NN NN NN NN NN NN VBZ DT NN NN NN VBP NN NN',\n",
       " 'NN MD VB JJ NN NN IN NN NN VBP NN NN NN NN NN NN VBP NN NN NN NN NN NN NN VBZ DT JJ NN NN VBP NN VBP NN NN',\n",
       " 'JJ NN NN NN NN VBP NN NN DT NN NN NN NN IN JJ NN NN JJ NN VBD DT NN DT NN NN VBP NN NN IN JJ VBP JJ NN NN IN DT NN NN VBP NN . . . . JJ NN NN VBP NN VBP JJ NN NN VBP NN NN NN NN VBZ DT NN NN NN NN NN VBP NN NN NN IN NN VBP DT NN . VB JJ NN VBZ DT JJ NN NN JJ NN',\n",
       " 'NN NN NN NN NN NN JJ NN VBD DT JJ NN NN NN NN VBZ DT NN JJ NN NN NN NN IN DT JJ NN NN NN NN NN VBD DT NN NN NN NN JJ NN NN NN NN NN NN NN NN NN NN NN NN NN NN VBP NN JJ NN VBD DT JJ NN NN NN NN NN NN',\n",
       " 'NN NN JJ NN , CC JJ JJ NN NN JJ NN NN NN FW FW FW NN NN NN VBP NN NN VBP NN NN VBP NN NN NN VBD DT NN NN NN NN NN . DT JJ NN VBZ DT NN NN VBP NN NN JJ NN VBD DT JJ NN NN NN VBP NN NN NN NN NN VBD JJ NN VBZ DT NN NN NN NN NN NN VBD DT JJ NN NN NN NN VBP NN NN . JJ NN NN VBD DT NN . JJ NN NN NN . NN NN NN NN NN NN',\n",
       " 'NN NN NN NN JJ NN NN NN NN NN VBP NN NN NN VBD DT NN WRB DT NN NN NN NN DT NN NN NN VBP JJ JJ NN NN NN VBP JJ JJ NN NN NN',\n",
       " 'NN NN JJ NN NN IN NN NN VBP NN NN DT JJ NN JJ NN .',\n",
       " 'NN JJ JJ NN NN VBP DT JJ NN NN VBP NN DT NN VBP DT JJ NN NN NN NN NN NN NN VBP NN NN NN VBP IN DT NN NN NN NN NN NN NN NN NN NN JJ NN VBD DT JJ NN NN NN JJ NN NN NN VBD VBZ DT JJ NN NN NN NN JJ NN NN NNP NN VBD DT NN NN',\n",
       " 'NN MD VB NN IN JJ NN NN NN NN NN NN NN JJ NN NNS VBP JJ NN NN NN NN NN JJ NN NN JJ NN NN VBD DT NN NN NN NN NN JJ NN NN NN NN NN NN IN JJ VBP VBP DT NN',\n",
       " 'DT NN NN VBZ DT NN NN NN VBP NN NN JJ NN NN NN NN NN NN NN JJ NN NN NN NN NN VBP NN NN JJ NN VBZ DT NN NN NN NN VBP NN JJ NN NN NN VBP NN NN VBP IN NN NN VBP NN NN VBP NN DT NN NN NN NN NN VBZ DT NN NN JJ VBP JJ NN NN NN NN NN . . . . JJ JJ JJ JJ NN NN VBP NN NN NN VBP JJ NN NN IN NN NN NN NN NN NN NN NN NN NN NN',\n",
       " 'VB DT JJ NN NN JJ NN , VB DT JJ NN NN JJ NN NN VBD DT NN VBZ DT NN DT NN NN',\n",
       " 'NNS VBP DT NN NN NN VBP NN NN NN IN JJ NN VBP NN NN NN NN VBZ DT NN NN DT NN NN NN NN JJ NN NN JJ VBP JJ NN NN NN NN NN VBP NN NN NN NN NN VBD DT NN NN NN VBP NN NN NN NN NN',\n",
       " 'NN NN VBP NN NN VBP DT NN DT NN DT NN NN NN JJ NN NN VBD DT NN NN NN NN NN NN JJ NN NN NN NN NN',\n",
       " 'JJ JJ NN NN JJ NN NN NN NN JJ VBP NN NN NN VBP NN NN VBZ DT JJ NN NN JJ NN NN NN NN',\n",
       " 'NN NN VBP NN NN JJ NN NN',\n",
       " 'NN NN JJ NN JJ NN NN NN NN NN NN VBP NN NN NN NN NN JJ NN NN NN NN NN NN NN NN NN . JJ VBP JJ NN NN NN , VB DT NN . CC JJ NN DT NN NN NN NN NN NN VBZ DT DT NN . NN JJ NN VBZ DT NN NN JJ NN JJ NN NN',\n",
       " 'NN VBZ DT JJ NN JJ NN NN JJ VBP JJ NN IN DT NN NN NN NN VBP NN NN NN NN NN NN',\n",
       " 'NN NN VBP NN NN NN NN NN NN JJ NN NN NN NN NN NN NN NN NN NN NN NN NN NN NN NN NN NN VBZ DT NN NN',\n",
       " 'NN VBZ DT NN NN JJ JJ NN NN NN NN NN NN VBZ DT JJ JJ NN VBZ DT JJ NN NN JJ NN NN NN NN NN NN NN NN NN NN VBD DT NN NN NN NN VBP NN NN NN NN JJ NN NN NN NN NN NN NN JJ NN',\n",
       " 'NN VBP NN DT NN NN IN JJ NN NN NN , VBP JJ NN DT NN NN IN NN NN VBP NN NN , DT JJ NN NN VBZ DT NN NN VBZ DT NN JJ VBP JJ NN NN JJ NN NN VBZ VBZ DT NN NN NN NN VBD DT JJ NN NN JJ NN NN NN NN NN NN VBD DT NN',\n",
       " 'JJ NN NN NN NN JJ NN NN JJ NN NN NN NN NN NN NN NN NN VBZ DT NN NN NN NN NN NN NN NN NN NN NN NN VBP NN NN NN VBZ DT NN NN DT JJ NN NN NN NN NN VBZ DT NN NN NN NN',\n",
       " 'NN NN JJ JJ NN NN NN NN NN NN NN NN NN NN NN NN NN NN NN NN NN NN NN NN NN NN NN JJ NN VBD DT JJ NN NN NN NN NN NN NN VBZ DT NN NN VBZ DT NN NN NN NN NN NN NN NN NN NN NN NN . . JJ JJ NN NN VBP NN NN VBP NN NN NN VBP VBZ DT NN NN VBP NN NN JJ JJ NN NN , JJ NN NN NN NN IN NN NN',\n",
       " 'NN NN VBD DT JJ NN IN NN NN VBP DT NN NN NN NN DT NN NN NN NN IN NN NN NN IN NN NN VBP NN VBP NN NN NN NN NN NN NN NN NN NN NN DT NN NN NN NN IN NN NN VBZ DT JJ NN NN NN VBP NN NN NN NN',\n",
       " 'NN MD VB JJ NN JJ NN NN JJ NN NN NN NN JJ VBP JJ JJ NN NN NN NN VBP NN NN NN NN NN NN NNS VBP',\n",
       " 'DT NN NN VBP NN NN NN VBZ DT NN NN DT JJ NN NN JJ NN . JJ VBP JJ JJ NN NN NN NN VBP NN NN NN VBP NN NN VBP NN NN NN NN NN NN NN NN NN JJ NN NN NN NN NN NN NN NN NN',\n",
       " 'NN MD VB NN NN VBZ DT NN NN NN NN NN NN NN NN NN NN NN JJ NN NN NN NN NN NN',\n",
       " 'NN NN NNP NNP VBZ DT JJ NN NN VBP NN NN JJ NN NN NN NN NN VBD DT JJ NN DT NN NN NN NN NN',\n",
       " 'RB DT NN VBZ DT NN NN VBP JJ NN VBD DT NN NN VBZ DT JJ NN NN VBP NN NN NN NN NN JJ NN NN NN NN NN NN JJ NN NN NN JJ NN NN NN NN NN VBZ DT NN NN NN VBP NN NN NN',\n",
       " 'NN VBP JJ NN NN JJ VBP NN JJ NN NN NN',\n",
       " 'NN NN JJ VBP JJ NN NN IN NN NN VBP NN NN NN NN VBP NN NN JJ NN JJ NN NN VBP NN NN NN NN NN NN JJ VBP JJ JJ NN NN JJ NN NN . NN NN VBD DT NN NN JJ NN NN NN JJ NN VBD DT NN NN NN NN VBP DT NN NN VBP NN NN',\n",
       " 'NN MD VB JJ NN VBZ DT JJ NN DT JJ NN NN NN IN DT NN NN VBP DT . NN VBP NN NN VBP NN NN JJ NN NN NNP VBZ DT JJ NN NN NN NN NN NN VBD DT JJ NN NN VBP VBP NN NN VBP NN FW DT NN NN NN NN JJ NN NN NN',\n",
       " 'NN JJ NN NN VBD DT NN NN VBP NN NN DT NN NN IN DT NN NN NN NN NN NN VBD JJ NN JJ NN NN NN NN NN NN JJ NN NN NN NN NN VBP NN NN JJ NN NN NN NN NN NN . NN NN VBZ DT JJ NN NN JJ NN NN NN NN VBZ DT NN',\n",
       " 'NN NN VBP NN NN JJ NN JJ NN NN JJ NN NN JJ NN NN NN NN NN NN VBP NN NN VBP PDT DT NN NN NN VBP NN . NN NN VBP NN NN NN NN VBP JJ NN NN NN NN VBP NN NN',\n",
       " 'JJ VBP NN NN VBP NN NN NN NN NN NN VBP NN NN NN NN VBD DT NN NN VBP NN NN VBP NN NN NN NNP VBZ DT NN . . JJ JJ NN VBD DT NN NN JJ NN NN VBP DT NN , VBP VBZ DT NN NN NN VBP NN NN NN NN JJ VBP JJ NN , DT JJ NN NN NN NN VBP NN NN NN NN NN NN NN NN NN',\n",
       " 'NN NN VBP NN NN NN NN JJ NN NN VBZ DT JJ NN NN JJ VBP JJ FW DT NN JJ NN NN NN NN NN NN NN , NN VBD DT JJ NN VBD JJ JJ NN NN NN VBP DT NN NN VBP PDT DT JJ NN NN VBP NN NN VBP DT NN NN',\n",
       " 'NN VBZ DT NN NN VBZ DT JJ NN NN VBP JJ NN NN NN JJ NN NN VBP NN NN',\n",
       " 'NN JJ NN NN JJ VBP VB DT NN NN JJ NN NN NN NN . VB JJ NN NN NN NN NN VBP VBZ DT JJ NN NN JJ VBP NN JJ NN NN VBD DT JJ NN JJ NN NN VBZ DT NN NN VBP JJ JJ NN NN NN NN NN JJ NN NN VBP NN JJ NN NN VBZ DT JJ NN . NN JJ NN NN VBP JJ NN NN VBP NN NN NN JJ VBP JJ NN NN NN JJ NN JJ NN NN JJ NN NN NN',\n",
       " 'NN MD VB NN NN NN NN IN NN NN VBP NN NN DT NN NN NN VBZ DT JJ NN NN NN VBP NN NN NN NN NN NN IN NN NN VBP NN NN NN JJ NN NN NN',\n",
       " 'VB DT NN MD VB JJ NN NN NN NN NN NN NN IN DT NN NN VBP NN NN JJ NN NN NN NN NN NN NN NN NN NN NN VBP NN NN NN NN NN NN NN VBP NN DT JJ NN NN NN NN NN NN NN NN NN NN NN VBP NN NN NN VBP NN',\n",
       " 'NN NN NN NN NN VBD DT NN NN DT NN NN JJ VBP NN NN VBZ DT JJ NN . NN JJ NN NN NN NN NN JJ NN NN NN NN NN NN NN NN NN VBP VBZ DT JJ NN NN NN NN NN NN NN JJ VBP JJ JJ NN . JJ NN NN',\n",
       " 'DT NN NN VBZ DT JJ NN NN VBP JJ NN VBD DT NN NN VBP NN NN NN NN NN VBD DT NN',\n",
       " 'NN NN IN NN NN VBZ DT NN WRB DT NN VBZ DT JJ NN NN VBP NN NN NN NN VBD DT NN NN VBP NN NN VBP NN JJ NN NN VBP NN . JJ NN VBZ DT NN DT NN DT NN NN DT NN NN NN VBP NN NN NN NN NN',\n",
       " 'DT NN NN VBP DT NN VBP DT NN VBZ DT NN VBZ DT JJ NN DT JJ NN VBD DT NN NN NN JJ NN DT NN NN VBZ DT JJ NN NN NN NN VBP RB VB DT JJ NN NN VBP NN NN NN NN NN VBP NN NN NN JJ NN NN NN NN NN NN IN DT NN NN NN VBD DT NN NN',\n",
       " 'JJ NN NN NN NN NN NN NN JJ NN NN NN IN NN NN VBP DT NN NN VBP DT NN NN NN VBZ DT JJ NN NN NN IN DT JJ NN NN VBP NN NN VBD DT NN NN NN JJ NN VBD DT JJ NN NN NN NN NN NN NN JJ VBP JJ NN NN',\n",
       " 'VB DT NN NN NN NN NN FW CC NN NN VBP NN NN . . . . JJ VBP JJ NN JJ NN NN VBP NN NN , NN NN NN NN NN VBP IN DT JJ NN NN NN NN NN NN NN NN NN NN NN NN NN',\n",
       " 'NN NN NN NN IN NN NN VBP NN NN VBP NN NN NN NN VBP NN NN NN VBP NN NN NN NN NN VBP NN NN NN NN NN NN IN NN NN VBP JJ NN .',\n",
       " 'NN NN NN NN JJ NN NN NN NN NN NN NN NN NN NN NN JJ NN NN',\n",
       " 'NN VBP NN IN NN NN VBP NN VBP DT JJ NN VBD DT NN NN NN JJ NN NN NN NN NN NN NN NN IN DT JJ NN NN VBZ DT NN NN NN VBP NN NN DT JJ NN NN NN VBP NN DT',\n",
       " 'NN VBP NN NN VBP NN NN NN NN NN VBD DT NN NN NN VBP NN NN VBP DT NN NN NN NN JJ VBZ DT JJ NN NN JJ NN NN VBZ DT NN JJ NN NN VBZ DT JJ NN NN NN NN NN NN JJ NN NN NN NN',\n",
       " 'NN JJ NN NN NN IN NN NN VBP NN NN NN NN IN NN NN VBP NN NN NN JJ NN VBD DT NN IN NN NN VBP VBZ DT NN NN VBP DT NN . NN JJ NN NN NN',\n",
       " 'NN VBP DT NN NN NN NN NN JJ NN NN NN NN VBP NN NN NN NN NN NN NN NN NN NN JJ NN NN NN NN NN NN VBZ DT JJ NN NN NN NN . NN JJ NN , VB DT NN NN NN NN VBZ DT JJ NN NN NN NN NN NN JJ NN NN NN NN NN NN NN NN VBP NN JJ NN NN NN NN NN NN NN NN NN NN JJ NN NN NN . CC JJ NN DT NN NN NN NN VBP NN NN NN',\n",
       " 'DT JJ NN NN NN NN NN NN VBZ DT JJ NN NN NN NN NN VBZ DT JJ NN NN JJ NN NN NN NN NN VBP NN VBP IN DT JJ NN NN NN NN NN NN NN NN NN NN NN NN . . . JJ NN NN NN NN NN NN JJ NN NN NN NN NN NN',\n",
       " 'NN NN NN IN NN NN VBP NN NN NN NN NN NN NN NN NN IN JJ NN NN NN VBP JJ NN NN JJ NN NN NN . . . . JJ NN NN VBP PRP DT , JJ VBP PDT DT NN DT NN NN',\n",
       " 'NN NN NN VBP NN NN , JJ NN NN VBP NN VBP DT NN NN . CC JJ NN NN NN NN VBZ DT NN NN VBP NN NN VBP NN NN VBP NN NN',\n",
       " 'JJ NN NN NN NN VBD DT NN NN NN NN NN NN NN JJ NN NN JJ IN DT JJ NN NN VBP NN NN DT JJ NN NN NN NN NN NN NN JJ VBP JJ NN NN IN NN NN NN . JJ JJ NN DT NN NN NN NN DT NN NN VBZ VBZ DT JJ NN NN NN NN VBP NN NN DT NN NN JJ NN NN',\n",
       " 'NN NN NN NN NN NN NN VBP NN NN NN NN NN NN JJ NN VBD DT NN NN NN NN NN NNP NN JJ NN NN NN VBZ DT NN NN VBD DT NN NN NN NN NN',\n",
       " 'NN VBP NN NN NN VBD DT NN NN JJ NN NN NN NN NN NN NN JJ NN IN NN NN VBP NN NN NN , NN JJ NN NN VBP DT NN NN JJ VBP JJ VBP NN NN VBP NN NN NN NN NN VBP NN NN NN NN NN . NN NN VBP NN NN VBP NN NN JJ VBP VB DT NN NN NN JJ NN NN NN NN NN NN NN NN',\n",
       " 'NN VBZ DT NN NN NN JJ NN NN NN NN JJ NN NN NN VBD DT NN NN NN VBP NN NN NN NN NN NN VBZ DT JJ NN NN NN NN NN NN VBP JJ NN NN NN VBZ DT NN . . . . CC JJ NN , NN NN NN NN NN NN NN NN NN VBP NN NN NN NN JJ NN NN NN NN NN JJ NN NN . . . . JJ JJ NN NN VBD DT NN DT NN',\n",
       " 'NN VBP IN DT NN NN VBP NN NN NN NN NN . . . NN JJ VBZ DT NN NN JJ NN NN VBD DT NN NN',\n",
       " 'NN MD VB VB DT JJ NN NN NN VBP NN NN DT NN NN JJ VBZ DT JJ NN NN NN VBP . JJ VBP VBP DT NN NN JJ NN NN NN NN NN NN NN NN NN JJ NN NN NN NN . NN VBD DT NN VBZ DT NN NN NN VBP JJ NN NN',\n",
       " 'NN NN VBP NN NN NN VBD VBZ DT JJ NN NN NN NN NN SYM JJ NN NN JJ NN NN NN JJ NN NN NN NN JJ NN NN NN NN VBP NN . . JJ JJ NN NN NN NN NN IN JJ NN NN NN VBD DT NN VBZ DT JJ NN NN NN NN NN NN',\n",
       " 'VB DT NN NN JJ NN NN NN NN NN NN NN JJ NN NN NN NN NN',\n",
       " 'NN MD VB VB DT NN MD VB NN NN VBZ DT NN NN NN NN NN NN NN NN NN NN NN NN JJ NN NN , JJ NN NN JJ NN NN NNP NN NN VBP NN NN NN NN NN NN NN NN NN NN NN NN VBZ DT NN',\n",
       " 'NN NN NN NN VBP NN NN DT NN NN',\n",
       " 'NN NN JJ NN NN VBP NN NN VBP NN NN NN JJ NN NN VBP NN DT JJ NN NN NN NN NN IN NN NN VBP NN NN VBP NN NN NN NN NN JJ NN IN DT NN NN NN NN VBD DT NN NN NN VBP NN NN DT NN MD VB JJ NN NN NN NN NN NN NN NN VBD DT NN NN VBD DT JJ NN NN',\n",
       " 'NN JJ NN NN NN NN VBZ DT JJ NN NN NN NN NN NN NN IN NN VBP DT NN NN NN NN VBD DT NN NN VBD DT NN NN NN NN JJ NN NN VBZ DT JJ NN NN VBD NN NN VBP NN JJ NN VBD DT NN NN VBP NN NN NN VBD DT NN . . JJ JJ NN NN NN NN FW NN NN IN NN NN VBP NN NN NN NN NN NN NN VBP NN NN JJ JJ NN NN NNP VBZ JJ',\n",
       " 'NN MD VB JJ NN NN NN NN , JJ NN NN NN NN NN VBP NN NN VBP NN NN NN NN NN VBD DT NN NN VBP NN NN DT NN NN NN VBP DT JJ NN NN NN NN NN NN JJ NN NN VBZ DT NN NN VBD DT JJ NN NN NN NN NN NN NN NN NN NN NN NN JJ NN NN NN NN NN NN NN NN , VBZ DT JJ NN NN JJ VBP NN',\n",
       " 'NN VBP JJ JJ NN VBD DT JJ NN NN NN VBD DT NN NN NN NN NNP NN NN VBP NN NN NN NN NN NN NN VBZ DT JJ NN NN NN VBP NN NN NN NN NN VBP NN NN VBP JJ NN NN VBP NN NN NN NN . . DT JJ NN JJ NN NN NN JJ NN NN VBD DT NN DT NN DT NN NN NN NN',\n",
       " 'JJ JJ NN NN NN NN NN JJ NN NN NN NN NN NN NN NN NN NN NN NN VBP NN NN NN JJ VBP JJ JJ NN NN NN NN NN NN , NN NN VBP NN NN JJ VBP JJ NN JJ NN NN NN NN',\n",
       " 'NN VBP PDT DT NN NN VBP NN NN DT NN WRB DT NN NN NN NN VBP NN NN JJ VBP JJ NN NN VBZ DT NN NN NN NN NN NN VBZ DT NN NN . JJ NN NN JJ NN VBD DT NN DT JJ NN IN NN NN VBP NN NN NN VBP NN NN',\n",
       " 'NN NN NN NN NN VBZ DT JJ NN NN VBP NN NN JJ NN NN NN NN NN VBP NN NN VBP NN NN NN NN NN NN NN VBP NN . . NN JJ NN NN NN VBP NN DT JJ NN DT JJ NN NN JJ VBP JJ NN NN',\n",
       " 'VB DT JJ NN NN NN NN NN VBZ DT NN NN JJ NN DT NN NN VBP NN NN NN VBD DT NN DT NN MD VB NN IN NN NN NN VBP NN NN NN JJ NN NN NN NN VBZ DT NN',\n",
       " 'NN NN VBP NN NN JJ NN VBD DT NN NN NN IN NN NN VBP NN NN NN JJ NN NN IN JJ VBP VBP DT NN NN VBD DT NN VBZ DT JJ NN VBD DT JJ NN NN VBZ DT NN VBZ DT NN NN NN NN',\n",
       " 'NN NN NN VBD DT NN . NN NN NN VBP NN NN VBP NN NN JJ JJ NN NN VBD JJ JJ IN NN NN VBP NN NN VBP NN NN NN NN NN JJ NN NN NN VBP NN NN NN VBZ DT NN NN JJ NN NN NN NN JJ NN NN JJ JJ NN NN NN NN JJ VBP JJ NN .',\n",
       " 'NN CC NN NN JJ NN NN VBP PDT DT JJ NN NN NN NN VBD DT NN NN NN JJ NN NN NN NN VBP NN NN NN VBP NN NN NN NN NN NN NN NN . NN NN VBD DT JJ NN NN VBD DT NN NN VBP NN NN VBP VB DT NN NN VBP NN DT JJ NN NN NN NN NN NN NN NN NN VBP NN NN NN NN NN NN NN NN',\n",
       " 'JJ VBP JJ JJ NN NN NN NN NN JJ NN NN VBP JJ JJ NN DT JJ NN DT JJ NN NN JJ NN NN NN NN NN JJ NN NN NN JJ NN NN NN NN NN NN NN NN NN NN JJ NN NN NN NN NN NN NN NN NN',\n",
       " 'NN NN JJ NN NN JJ NN NN NN NN NN NN NN VBP NN VBP DT NN NN NN NN JJ NN NN NN VBP NN DT',\n",
       " 'NN NN NN VBZ DT NN NN JJ NN NN NN VBZ DT NN NN NN VBP NN NN',\n",
       " 'NN NN NN VBP DT JJ NN NN VBP NN NN JJ NN NN NN NN NN NN IN NN NN VBP JJ NN NN NN VBZ DT NN NN VBP NN NN NN JJ VBP JJ NN NN NN NN IN NN NN VBP JJ NN NN NN NN NN NN VBZ DT JJ NN NN . NN VBD DT NN NN VBZ DT NN NN',\n",
       " 'JJ NN NN NN IN JJ NN VBP NN NN VBD DT JJ NN NN JJ JJ NN NN NN NN NN JJ VBZ DT NN NN NN NN VBZ DT JJ NN IN DT NN NN JJ NN NN NN NN VBD DT NN NN JJ VBP VBP DT NN DT NN DT NN NN VBP IN DT JJ NN NN JJ NN VBP NN NN VBZ DT NN . NN NN VBD DT NN NN VBP NN NN',\n",
       " 'NN JJ NN NN NN NN VBD DT NN . VB DT NN NN NN VBD DT NN NN NN NN NN IN NN NN VBP NN NN NN NN NN NN JJ NN VBD DT JJ NN NN VBZ DT JJ NN NN VBP NN . DT NN NN VBP NN . NN NN NN JJ NN JJ NN NN NN',\n",
       " 'JJ NN NN VBP NN NN VBP NN NN NN NNP NNP VBD VB DT NN NN NN VBZ DT NN',\n",
       " 'VB DT NN MD VB JJ NN DT NN NN VBP NN NN IN NN NN VBP NN NN JJ VBP JJ NN JJ NN NN VBP NN NN NN NN JJ NN NN VBP NN NN',\n",
       " 'NN MD VB NN NN NN JJ NN NN NN VBP NN NN NN NN NN NN NN NN NN NN VBP NN NN NN NN NN NN NN NN NN NN VBP NN NN NN NN',\n",
       " 'NN NN VBP NN NN JJ NN NN VBP NN JJ NN NN NN NN NN VBZ DT JJ NN NN NN NN NN NN NN NN VBP NN NN , NN NN NN NNP NN NN JJ NN NN NN NN NN NN IN NN NN NN VBP JJ JJ NN NN NN NN NN NN NN VBD DT JJ NN NN NN NN NN NN . NN NN VBP NN NN NN NN NN',\n",
       " 'NN JJ NN JJ NN NN NN VBP NN NN NN DT NN NN NN DT NN NN NN DT NN',\n",
       " 'JJ VBP JJ NN NN VBD DT NN NN JJ NN VBZ DT NN DT NN DT JJ JJ JJ NN NN . . JJ JJ NN JJ NN NN NN VBP DT .',\n",
       " 'NN NN NN NN NN NN JJ NN NN NN VBP NN NN DT NN NN',\n",
       " 'NN MD VB DT NN MD VB NN NN NN NN NN NN JJ VBZ DT NN NN DT JJ NN NN VBP NN NN NN VBP NN NN . VB JJ NN NN VBP PDT DT NN NN .',\n",
       " 'JJ MD VB JJ NN NN NN JJ NN NN JJ VBP NN NN VBP NN NN NN JJ VBZ DT NN NN NN NN , NN NN JJ NN NN NN JJ NN NN NN VBP NN NN',\n",
       " 'NN VBP JJ JJ NN NN NN NN VBP NN NN NN NN NN VBP NN NN VBD DT NN NN DT NN NN NN VBZ DT NN NN NN NN NN NN NN NN NN VBZ DT JJ NN NN VBP NN NN VBP PDT DT NN DT NN JJ NN VBD DT JJ NN NN NN VBP NN NN NN NN NN NN NN NN NN NN NN NN NN NN JJ NN NN JJ JJ NN NN JJ NN NN NN VBD DT NN NN',\n",
       " 'JJ NN NN VBD DT NN NN JJ NN NN NN NN VBP JJ NN NN VBZ DT NN NN NN VBP NN NN , PRP VBP DT NN NN NN VBP NN NN , VB DT NN NN NN VBZ DT . NN DT NN NN NN NN . JJ NN NN NN NN JJ NN . VB DT NN NN NN NN . NN NN NN NN NN NN NN VBP NN FW DT NN',\n",
       " 'NN NN VBP NN JJ VBP JJ NN VBP NN NN NN NN NN NN JJ NN NN NN NN NN JJ VBP NN JJ NN NN VBP NN NN NN NN NN NN NN NN JJ NN NN NN NN NN NN NN NN NN NN VBP NN NN JJ NN NN NN NN VBP NN NN',\n",
       " 'NN MD VB NN NN NN NN JJ NN NN NN VBP NN NN NN NN NN NN NN NN NN NN IN JJ VBP JJ NN NN NN JJ NN NN NN NN NN JJ JJ NN DT JJ NN NN VBZ DT JJ NN NN VBP JJ NN . JJ NN . JJ NN NN NN NN NN JJ NN NN VBZ DT NN NN',\n",
       " 'VB DT NN NN NN IN JJ NN NN NN NN NN JJ NN NN NN NN NN NN NN NN JJ NN . NN NN VBP NN NN VBP DT NN MD VB JJ IN NN NN VBP NN',\n",
       " 'VB DT NN NN NN NN NN NN VBP NN NN',\n",
       " 'NN VBZ DT , JJ VBP JJ JJ NN NN NN VBP DT NN . JJ VBP JJ JJ NN NN NN NN NN IN NN NN VBP JJ NN NN VBP DT NN . NN NN NN NN VBD DT NN NN NN NN JJ VBP VBP DT NN NN NN NN JJ NN NN VBP NN NN NN',\n",
       " 'NN NN JJ VBP JJ VBP DT NN NN NN VBZ DT NN NN NN JJ NN NN NN NN NN NN VBP',\n",
       " 'NN NN NN NN NN NN VBD DT NN NN NN NN NN NN JJ NN DT NN NN NN VBD DT NN NN NN NN NN NN JJ VBZ DT JJ NN NN NN NN NN NN VBZ DT NN NN NN JJ NN NN VBP NN NN VBP NN NN NN',\n",
       " 'NN NN NN JJ NN NN NN NN VBP NN NN JJ VBZ DT NN NN NN NN NN JJ VBZ DT NN NN VBD JJ NN NN NN NN VBZ DT NN NN NN NN NN NN VBP NN NN NN NN NN , NN NN NN NN NN NN NN VBD NN NN VBP NN NN DT NN NN NN VBP NN NN JJ NN NN VBZ DT NN',\n",
       " 'NN VBP JJ NN NN VBZ DT NN NN VBP NN NN JJ NN NN NN NN IN NN NN VBP NN NN NN NN NN NN NN NN JJ NN NN NN IN NN NN VBP DT JJ NN DT NN NN VBD DT NN NN NN JJ VBP JJ NN NN NN NN NN NN NN NN VBZ DT JJ NN NN NN NN NN',\n",
       " 'JJ NN NN NN JJ NN NN NN NN NN JJ NN NN IN DT JJ NN VBZ DT JJ NN VBD DT NN VBZ DT NN NN NN NN NN NN JJ NN NN VBD DT JJ NN NN NN NN VBP JJ NN NN NN NN',\n",
       " 'JJ NN NN NN JJ NN NN NN NN NN JJ NN NN IN DT JJ NN VBZ DT JJ NN VBD DT NN VBZ DT NN',\n",
       " 'NN NN NN NN NN NN NN VBP NN NN NN NN NN NN NN NN IN NN NN VBP NN NN NN NN NN VBP VBZ DT JJ NN JJ NN NN NN NN NN NN NN IN DT JJ NN VBD DT NN NN VBD DT NN NN NN NN NN NN NN NN NN NN NN NN NN NN NN NN IN JJ NN',\n",
       " 'NN NN NN NN VBP NN NN JJ VBP JJ JJ NN NN NN VBP DT JJ NN NN NN NN NN NN NN VBP NN NN DT JJ NN NN NN NN NN',\n",
       " 'NN VBP DT JJ NN NN VBP NN NN NN JJ NN NN NN VBP NN NN NN NN VBP NN JJ NN VBD DT JJ NN NN NN VBD DT NN NN',\n",
       " 'DT JJ NN NN VBP NN NN IN DT JJ NN VBD DT NN NN NN NN NN NN JJ NN NN JJ NN NN NN NN VBZ DT NN NN JJ JJ NN NN NN NN NN NN NN NN',\n",
       " 'VB DT NN NN NN NN VBD DT NN DT NN NN NN NN NN VBZ DT NN NN JJ NN NN NN NN VBD NN NN VBP NN NN NN VBP NN NN NN NN NN NN NN . . . JJ NN NN NN VBD DT NN NN VBD DT JJ NN NN NN VBD DT NN',\n",
       " 'NN NN NN NN NN VBD DT NN NN NN NN NN NN VBP NN NN NN VBD DT NN VBZ DT NN NN VBZ DT NN NN NN NN JJ NN NN JJ NN NN NN NN VBZ DT NN NN',\n",
       " 'NN JJ NN NN NN NN NN IN NN NN VBP',\n",
       " 'JJ NN NN VBZ DT NN NN VBP NN NN JJ NN NN NN NN VBP NN NN , JJ VBP JJ NN IN NN NN VBP NN NN NN JJ NN NN VBP NN NN NN NN NN VBP NN NN . NN NN NN NN JJ NN NN NN NN NN VBZ DT NN DT NN NN NN NN NN NN NN NN VBP NN NN NN NN NN IN NN NN',\n",
       " 'JJ JJ NN NN VBD DT NN NN NN NN JJ NN NN NNP NN NN NN NN NN VBP NN NN JJ NN VBD DT JJ NN NN VBP NN NN NN NN NN NN NN NN',\n",
       " 'DT JJ NN JJ NN NN NN NN NN NN NNP NN VBD DT JJ NN NN NN JJ NN NN NN NN NN NN NN NN NN NN NN VBP NN NN NN NN VBD DT NN NN JJ NN NN NN IN NN NN VBP DT NN NN VBP JJ VBP JJ VBP DT NN',\n",
       " 'DT NN NN NN NN NN NN VBP DT NN NN VBP NN NN NN NN VBD JJ NN JJ NN NN NN NN NN NN NN NN NN NN NN NN NN VBP JJ NN VBD DT NN NN NN NN VBP VBZ DT NN NN VBP JJ NN NN NN VBP NN NN VBP NN NN',\n",
       " 'NN VBP JJ NN NN VBP NN NN NN , NN NN JJ NN NN VBZ DT NN NN NN NN NN JJ NN NN NN NN NN VBZ DT NN NN JJ NN NN NN NN VBP NN NN NNP NN NN NN NN NN NN NN VBP NN NN NN NN NN NN NN',\n",
       " 'NN NN NN NN NN NN NN VBP NN NN VBP NN NN NN NN NN NN NN NN VBP NN NN NN NN NN NN NN NN NN NN NN NN NN VBP NN NN VBP JJ NN NN VBZ DT JJ NN NN NN NN NN NN NN NN NN NN NN VBZ DT NN NN NN NN NN NN NN',\n",
       " 'NN NN NN JJ NN NN NN NN JJ NN NN NN VBP NN NN JJ NN . NN JJ NN NN NN NN',\n",
       " 'VB DT NN JJ JJ NN DT NN NN NN NN VBD DT NN NN NN NN NN VBP JJ NN NN NN NN NN NN NN NN . . JJ NN DT NN NN FW NN NN IN NN NN VBP NN DT JJ NN IN NN NN VBP NN NN NN JJ NN NN NN NN VBD DT NN NN NN NN NN NN NN VBP NN . NN NN NN VBP NN NN NN NN NN NN NN NN VBP NN NN NN NN NN IN NNS VBP',\n",
       " 'JJ VBP PDT DT NN NN VBP NN NN DT NN DT NN NN NNP NN NN NN VBP NN NN NN NN VBP JJ NN . DT NN NN NN NN NN JJ NN JJ NN NN NN VBP NN NN NN VBD JJ JJ NN NN NN NN VBP NN NN VBD DT JJ NN NN NN NN NN NN',\n",
       " 'NN NN JJ JJ NN VBD DT NN NN NN NN NN NN JJ NN NN NN NN NN NN',\n",
       " 'JJ VBP JJ NN NN NN NN DT NN NN VBP NN NN NN NN IN DT NN NN NN NN VBP NN FW DT NN NN NN JJ VBP JJ NN NN NN VBZ DT NN WRB DT NN NN NN NN NN NN NN VBP NN',\n",
       " 'NN MD VB RB , PRP DT JJ NN NN NN NN NN NN NN NN NN NN VBZ DT NN NN NN NN VBP NN NN NN NN NN NN NN IN NN NN NN NN NN NN NN NN . VB DT NN NN NNP VBZ DT NN',\n",
       " 'NN MD VB JJ NN DT NN VBZ DT NN NN DT JJ NN DT NN NN VBP VBZ DT NN NN VBP NN NN NN NN NN NN JJ NN NN NN NN NN NN NN NN NNP NN VBD DT NN',\n",
       " 'VB DT NN NN NN NN NN VBP NN NN VBZ DT NN NN NN VBP NN NN NN NN VBP NN DT NN NN DT JJ NN VBD PDT DT NN',\n",
       " 'VB DT NN NN JJ IN NN NN VBP NN NN VBD DT JJ NN NN NN NN NN JJ NN NN NN NN JJ NN NN JJ NN NN NN NN VBP NN NN NN NN NN NN NN VBP IN DT JJ NN NN NN NN NN NN VBD DT JJ NN NN . IN DT JJ NN NN NN VBP NN NN NN NN VBP DT NN',\n",
       " 'NN NN VBP NN NN NN NN JJ VBP PDT DT NN NN NN NN NN JJ NN NN NN NN VBP NN DT NN NN NN NN JJ NN NN NN JJ NN JJ NN NN NN NN VBP NN NN VBP NN NN IN NN NN VBP NN JJ NNP NN DT NN NN VBZ DT NN JJ NN NN NN NN NN NN JJ NN NN NN JJ VBP VBP DT',\n",
       " 'NN WRB NN NN NN VBP DT NN NN NN VBD DT NN NN DT JJ NN NN JJ JJ NN DT NN . . DT NN NN VBP NN NN NN VBZ DT JJ NN NN JJ JJ NN DT NN NN VBP DT NN NN NN NN NN NN . NN VBZ DT NN NN VBP DT NN DT NN VBP NN NN VBP NN',\n",
       " 'NN VBP JJ NN NN NN JJ JJ NN NN NN VBZ DT NN NN NN VBP NN DT NN NN VBP NN NN NN VBD DT JJ NN VBZ DT JJ NN VBZ DT NN JJ NN NN NN NN NN VBP NN DT NN NN NN NN JJ VBZ DT NN JJ JJ NN NN NN NN NN NN VBP NN NN VBD DT NN NN VBD JJ NN NN JJ NN NN JJ NN NN JJ NN NN VBZ DT NN NN',\n",
       " 'NN NN NN JJ NN NN NN NN NN NN VBP NN NN NN NN NN NN NN NN NN IN NN NN IN NN NN VBP NN NN VBD DT JJ NN NN NN VBP NN NN VBD DT NN',\n",
       " 'DT JJ NN NN VBZ DT NN NN NN VBP NN NN VBP JJ JJ NN NN NN NN NN NN VBZ DT NN NN NN NN NN NN JJ VBP JJ NN . VB DT NN DT . NN VBP NN DT NN NN NN VBZ DT NN NN VBP NN NN JJ NN NN VBZ DT JJ NN . . JJ NN NN NN NN NN VBD DT NN IN DT NN MD VB JJ NN NN NN JJ NN NN NN NN NN VBZ DT JJ NN NN NN',\n",
       " 'NN VBZ DT NN NN NN VBZ DT JJ NN DT NN NN NN IN NN JJ NN NN NN NN NN NN NN NN NN NN JJ NN JJ NN NN JJ VBP JJ NN NN VBD DT NN NN NN VBP NN NN NN VBD DT NN NN NN JJ NN NN VBD DT NN DT NN NN JJ NN NN NN NN VBP',\n",
       " 'JJ NN NN IN NN NN VBP JJ NN NN NN VBP NN NN DT NN NN NN NN VBP NN NN NN VBD NN NN VBP NN NN NN NN JJ NN NN . . JJ NN VBZ DT JJ NN VBD DT NN NN NN NN NN NN VBZ DT NN NN VBZ DT NN NN NN JJ NN . . . JJ JJ IN NN NN VBP NN NN NN VBP NN NN NN DT NN NN DT NN NN NN NN VBP NN NN NN JJ NN NN NN NN NN',\n",
       " 'NN NN NN NN NN VBD DT NN DT JJ NN NN IN NN NN NN NN VBP NN NN NN NN JJ NN NN NN NN NN NN VBD DT NN NN VBP NN NN NN NN NN NN NN JJ NN NN IN NN NN VBP NN NN NN NN NN NN JJ NN NN IN JJ NN VBD DT NN JJ NN VBD DT NN NN',\n",
       " 'NN VBP DT NN NN NN NN NN NN NN NN NN NN NN NN JJ NN NN VBD DT NN NN NN NN NN VBD DT NN NN NN NN VBP NN NN NN NN NN NN NN',\n",
       " 'VB DT NN NN VBP NN NN JJ NN NN NN NN NN NN VBD NN NN VBP NN NN DT NN NN VBP NN NN DT NN NN NN NN JJ NN VBZ DT NN NN JJ NN NN . . NN JJ VBP PDT DT NN NN VBZ DT JJ NN NN NN VBD DT NN NN',\n",
       " 'NN VBP DT NN NN NN VBD DT NN NN NN NN VBP NN NN . . . NN VBD DT NN JJ NN NN NN NN NN IN NN NN VBP NN VBP DT NN NN NN NN NN NN',\n",
       " 'NN NN VBD DT NN NN NN , JJ VBP DT JJ NN',\n",
       " 'NN VBZ DT JJ NN VBZ DT JJ NN NN NN NN VBP NN NN VBP NN NN JJ NN NN NN IN NN NN VBP NN NN JJ VBZ DT NN NN NN NN NN VBZ DT JJ NN NN NN FW JJ NN NN NN NN NN JJ NN NN VBP NN NN VBP NN NN NN NN NN NN NN VBD DT NN NN DT NN NN JJ NN VBZ DT JJ NN NN NN NN NN NN',\n",
       " 'NN NN VBP NN NN NN NN NN JJ NN NN NN NN NN NN NN NN VBP NN DT NN NN NN JJ NN NN NN JJ NN NN NN NN NN NN IN JJ NN NN NN JJ NN . . . NN JJ NN NN VBP DT NN NN VBP NN DT NN NN NN IN JJ JJ NN NN NN NN NN IN NN NN NN IN NN NN VBP NN VBP DT NN NN NN VBP PDT DT NN NN VBP NN NN NN NN JJ NN NN NN NN NN NN .',\n",
       " 'NN NN NN NN IN JJ NN NN NN NN VBP JJ NN NN VBD DT NN NN NN NN NN NN VBZ DT JJ NN NN NN NN IN DT NN DT NN NN NN NN NN NN NN NN',\n",
       " 'JJ NN NN NN NN NN NN NN NN NN NN NN NN NN NN JJ NN NN IN JJ VBP VBP DT NN NN JJ NN NN',\n",
       " 'NN MD VB NN IN DT NN NN NN NNP VBZ DT JJ NN JJ NN NN VBZ VBZ DT NN NN NN VBZ DT NN . JJ VBP JJ JJ NN NN NN NN NN NN NN IN NN NN NN IN NN NN VBP DT JJ NN NN JJ VBP JJ NN DT NN NN NN NN NN',\n",
       " 'JJ NN NN VBP JJ NN NN NN NN NN NN JJ NN NN VBZ DT NN NN NN VBZ DT NN . JJ JJ NN NN NNP VBZ DT NN',\n",
       " 'NN NN NN NN NN NN NN VBP NN NN NN NN NN NN NN NN NN NN VBD DT',\n",
       " 'NN VBP NN NN NN VBP WRB DT NN NN NN IN NN NN VBP NN NN VBZ DT NN NN JJ NN NN NN NN NN VBP JJ JJ NN NN NN IN NN NN VBP NN VBP NN NN NN NN NN NN VBP DT JJ NN NN NN NN NN NN NN NN VBD DT NN NN NN NN NN NN NN',\n",
       " 'NN VBZ DT NN NN NN JJ JJ NN NN NN VBP DT NN NN NN NNP VBZ DT NN , JJ VBP VBP DT NN . NN NN NN JJ NN NN NN',\n",
       " 'NN MD VB JJ NN NN NN NN . JJ NN NNP NNP NN NN JJ NN NN NN NN NN VBZ DT NN NN NN',\n",
       " 'JJ NN NN NN NN NN NN VBZ DT NN JJ NN NN JJ NN NN NN NN VBP NN NN VBP NN . NN NN NN JJ NN NN JJ NN DT NN NN NN VBP NN NN NN VBP NN NN NN VBD PDT DT NN NN NN NN NN VBD DT JJ NN NN . . . . NN JJ JJ NN DT NN NN JJ NN VBD DT NN NN NN NN NN NN',\n",
       " 'NN NN NN NN VBP NN VBP NN NN VBD DT NN IN NN NN VBP NN NN NN NN NN JJ NN NN NN NN NN VBP NN NN VBP NN NN NN NN NN NN NN JJ JJ NN NN NN NN NN NN VBZ DT NN NN NN JJ NN NN . NN VBD DT JJ NN NN NN VBD DT NN NN VBP NN NN NN NN NN NN',\n",
       " 'NN NN NNP NN IN NN NN VBP NN VBP JJ NN IN DT NN NN NN JJ VBP JJ NN DT NN JJ VBZ DT NN NN NN JJ NN NN JJ VBP JJ NN NN NN NN NN JJ NN NN JJ NN VBD DT NN NN VBP NN NN',\n",
       " 'NN VBP NN NN NN NN NN NN JJ NN NN NN NN NN NN NN NN NN NN NN JJ NN NN , CC JJ JJ NN DT NN NN NN NN . JJ NN NN NN NN NN VBP NN NN',\n",
       " 'JJ JJ NN VBD DT JJ NN NN VBZ DT JJ NN NN VBP DT JJ NN NN NN NN NN VBD DT JJ NN NN NN VBZ DT NN JJ NN NN',\n",
       " 'NN VBP JJ JJ NN NN NN NN JJ NN NN NN NN NN . VB DT NN NN NN VBP NN NN IN NN NN VBP NN NN NN IN JJ NN NN NN NN JJ VBP NN NN VBP NN VBP NN NN VBP JJ NN NN NN JJ NN NN NN NN NN',\n",
       " 'NN DT JJ NN NN JJ NN NN , JJ NN NN VBP IN DT NN NN VBZ DT JJ NN NN NN NN NN VBP NN NN NN NN VBP NN NN JJ NN NN NN NN NN NN NN NN NN NN NN NN NN VBP JJ NN NN NN JJ NN NN',\n",
       " 'NN MD VB JJ NN NN NN NN , NN NN NN NN NN VBD DT JJ NN NN NN JJ VBP NN NN NN VBP NN NN NN NN , VBP JJ VBP DT JJ NN NN',\n",
       " 'NN VBP JJ NN NN NN JJ NN , JJ VBP JJ NN NN NN JJ NN NN NN NN NN NN NN',\n",
       " 'NN DT NN . NN . , JJ NN VBD DT NN NN NN NN NN NN NN NN NN NN NN NN NN , JJ VBP JJ NN NN VBP DT NN NN NN VBZ DT NN NN NN NN NN NN NN NN JJ NN NN . DT NN NN DT NN NN IN JJ NN DT NN NN NN NN VBP DT NN NN NN NN VBD DT NN NN NN NN NN JJ NN JJ NN NN IN DT NN DT NN NN NN',\n",
       " 'JJ VBP JJ NN NN IN DT NN NN VBP NN NN VBD DT NN NN NN VBP NN NN JJ VBZ DT NN JJ NN NN NN NN VBP NN NN . . . JJ JJ NN NN JJ NN NN JJ NN . NN JJ JJ NN NN NN VBP',\n",
       " 'VB DT NN NN NN NN NN IN NN NN VBP NN NN NN NN NN NN VBZ DT JJ NN NN JJ NN NN IN JJ NN VBP NN NN NN VBP NN NN VBP JJ NN NN NN JJ NN . NN NN VBP NN NN JJ NN NN NN NN NN VBP NN NN NN NN NN NN NN NN JJ NN NN NN NN VBP NN NN NN NN JJ NN NN NN JJ NN NN NN . NN NN . JJ JJ NN NN',\n",
       " 'DT NN NN NN NN NN NN NN JJ JJ NN VBD DT NN NN NN NN VBP NN NN NN NN NN JJ NN NN VBD DT NN NN NN VBP NN NN VBZ DT JJ NN NN NN NN VBP NN NN VBP NN NN JJ NN NN NN NN VBD DT NN DT NN DT',\n",
       " 'VB DT NN NN NN NN NN NN NN NN VBP NN NN NN JJ NN . . DT NN MD VB NN NN VBZ DT NN NN VBP NN NN NN JJ NN NN NN NN',\n",
       " 'VB DT NN NN NN NN NN NN VBZ DT NN NN VBP NN NN NN NN JJ NN NNS VBP JJ NN NN NN NN NN NN NN',\n",
       " 'NN NN NN NN NN IN NN NN VBP JJ NN NN NN NN VBP NN IN NN VBP DT NN NN VBP NN NN NN NN VBZ DT NN NN NN NN NN NN VBP NN NN NN NN NN NN NN NN NN NN',\n",
       " 'NN VBZ DT NN NN NN JJ NN NN NN VBP IN DT JJ NN NN JJ NN NN VBP WRB DT NN NN JJ VBP JJ NN NN NN NN NN NN NN VBP NN NN VBZ DT JJ NN NN VBZ DT NN NN VBP NN JJ NN NN NN',\n",
       " 'NN NN NN NN NN NN VBP NN NN VBP NN NN VBP NN NN NN IN NN NN VBP NN NN NN NN NN NN NN',\n",
       " 'NN NN NN NN VBD DT JJ NN DT NN NN JJ NN NN NN NN NN NN NN NN VBP VBZ DT NN NN NN NN NN NN NN VBD DT NN DT NN . NN NN VBP NN NN JJ NN NN NN VBZ DT NN NN NN VBP NN',\n",
       " 'NN MD VB NN VB DT NN NN NN NN VBZ DT JJ NN NN NN VBP NN NN NN VBD DT NN NN NN NN JJ VBZ DT JJ NN NN NN VBP NN NN NN VBD DT NN NN NN NN DT NN NN , CC JJ JJ NN JJ NN NN NN VBD DT NN NN NN NN JJ NN .',\n",
       " 'NN NN VBP NN NN VBP NN NN JJ NN NN NN NN VBP NN NN IN NN NN VBP NN , NN NN VBP NN NN NN NN NN NN NN , NN NN VBP NN NN NN NN VBP JJ NN NN NN NN NN NN VBP . VB FW DT NN NN IN NN NN NN . NN NN NN NN NN VBP NN NN NN VBZ DT NN NN VBP DT NN NN',\n",
       " 'NN JJ NN DT NN NN VBP NN DT NN NN NN NN VBZ DT NN NN VBP NN DT , NN NN DT NN NN VBP NN DT . NN JJ JJ NN NN JJ JJ NN NN JJ NN NN NN VBP NN NN VBD DT NN NN NN NN',\n",
       " 'DT NN NN VBP NN VBP DT JJ NN IN NN NN VBP NN NN NN NN VBZ DT NN NN VBP NN NN NN VBP NN NN NN NN IN JJ NN . VB DT NN NN JJ NN VBD DT JJ NN NN VBD DT NN NN',\n",
       " 'JJ VBP JJ NN NN NN NN NN JJ NN NN NN NN NN NN JJ NN NN VBP JJ VBP JJ JJ NN NN VBZ DT JJ NN NN NN NN VBP JJ NN DT JJ NN NN NN NN VBP JJ NN VBD NN NN VBP NN NN NN NN VBP NN NN VBZ DT JJ NN IN NN NN VBP NN NN JJ NN',\n",
       " 'NN NN VBP NN NN NN NN NN NN NN NN NN JJ NN NN NN IN NN NN NN NN NN NN NN VBZ DT NN NN NN VBD DT JJ NN NN NN VBP NN NN NN JJ NN VBZ DT JJ NN NN VBZ DT NN NN VBZ DT NN NN NN NN NN NN NN NN NN NN JJ NN NN NN VBD DT JJ NN NN NN VBP NN NN DT NN NN NN NN VBP NN NN . JJ NN NN .',\n",
       " 'VB DT NN NN DT NN VBP DT NN NN VBP NN NN VBZ DT NN JJ NN NN NN NN NN NN NN NN VBP NN NN NN NN VBP DT JJ NN NN NN NN NN NN VBP NN NN VBZ DT',\n",
       " 'JJ JJ NN NN JJ VBP JJ JJ NN NN NN NN NN JJ NN NN NN NN JJ NN NN NNP VBZ DT NN',\n",
       " 'NN NN VBP DT NN NN VBP DT NN NN NN NN VBD DT NN NN DT NN DT NN DT NN NN NN VBP VBP DT NN NN NN NN NN NN VBZ DT JJ NN JJ IN DT NN VBP DT NN NN NN NN NN NN',\n",
       " 'NN MD VB VB DT JJ NN DT NN NN NN NN NN NN VBP NN NN DT JJ NN DT JJ NN NN NN VBP JJ NN JJ NN NN NN NN JJ NN NN NN NN',\n",
       " 'JJ VBP JJ JJ NN NN JJ NN NN NN NN VBD DT NN NN DT NN NN NN NN NN DT NN NN VBP NN NN VBP NN NN NN NN NN NN NN VBP NN NN DT DT NN NN NN NN NN VBP NN NN NN NN NN NN VBZ DT NN NN NN NN VBP NN NN JJ NN NN NN NN NN NN',\n",
       " 'VB DT NN NN NN JJ JJ NN NN JJ NN NN NN NN IN DT NN NN JJ NN NN NN VBP NN NN NN NN NN VBP NN NN NN NN NN VBD DT NN VBZ DT NN NN VBP VB DT JJ NN DT JJ NN IN DT NN NN NN NN JJ NN NN FW NN NN IN NN NN NN JJ NN NN NN NN NN NN NN NN NN NN VBP DT NN NN NN NN NN IN NN NN VBP NN NN NN NN NN NN NN VBD DT NN',\n",
       " 'DT JJ NN NN NN NN NN FW NN NN IN NN NN VBP NN NN IN NN NN VBP , JJ JJ NN NN VBP JJ NN NN VBD DT NN , NN NN NN VBD DT NN NN NN JJ VBZ DT JJ NN DT NN NN , NN NN NN NNP NN NN JJ NN NN NN JJ NN NN NN , NN JJ NN NN VBP NN NN NN NNP VBZ JJ NN VBZ DT NN NN NN NN JJ NN NN VBD DT NN NN NN NN',\n",
       " 'NN NN NN NN NN NN NN NN VBP NN NN NN NN',\n",
       " 'NN NN NN JJ NN NN NN NN NN NN NN IN NN NN VBP NN VBP DT NN NN NN NN NN NN NN JJ NN NN JJ NN NN NN NN NN NN NN NN',\n",
       " 'NN NN NN JJ NN NN NN VBP NN NN NN VBZ DT NN NN NN NN NN NN NN NN NN NN NN NN NN VBP NN NN DT NN NN NN NN VBP NN NN',\n",
       " 'NN MD VB NN NN NN VBP NN NN NN VBD DT JJ NN NN NN NN NN',\n",
       " 'NN NN NN JJ NN IN DT NN NN NN NN NN NN NN NN NN NN VBP NN NN NN JJ NN IN NN NN VBP NN NN NN VBD DT NN NN JJ NN . NN NN JJ JJ NN',\n",
       " 'NN VBP NN NN DT NN NN VBP JJ JJ NN NN NN NN NN VBD DT NN NN JJ VBP JJ NN NN NN NN NN IN NN NN NN NN NN NN . . JJ JJ NN NN NN',\n",
       " 'NN NN JJ NN NN VBP NN NN NN NN NN NN NN NN NN NN NN IN NN NN VBP NN NN NN NN NN NN NN VBP NN DT NN NN . . CC JJ IN DT JJ NN NN JJ NN NN NN NN NN NN VBP NN',\n",
       " 'NN SYM NN NN NN JJ NN JJ NN NN NN NN',\n",
       " 'NN DT JJ NN JJ VBP PDT DT NN NN VBD DT NN NN NN NN NN JJ NN NN NN NN NN NN NN NN NN VBD DT NN NN VBZ DT JJ NN NN VBP DT JJ NN DT NN VBZ DT JJ NN NN VBP NN NN NN NN NN NN NN NN NN',\n",
       " 'NN VBP DT NN NN NN NN NN IN NN NN VBP NN VBP NN NN NN NN NN NN NN JJ NN NN VBZ DT JJ NN NN NN VBP NN DT NN DT NN NN VBZ DT JJ NN JJ NN NN VBD DT NN NN',\n",
       " 'NN NN JJ NN NN NN NN NN VBP NN VBP NN NN NN NN NN VBZ DT NN NN NN',\n",
       " 'NN VBZ DT JJ NN NNP VBZ DT JJ NN NN NN NN VBD DT NN NN NN NN NN NN NN VBP NN NN NN VBZ DT DT DT DT',\n",
       " 'NN NN VBP NN NN NN VBP NN NN JJ JJ NN VBZ DT NN',\n",
       " 'VB DT NN NN NN NN VBD DT NN NN DT NN NN NN VBZ DT NN NN NN NN NN VBP NN NN VBZ DT NN NN IN NN NN VBP NN NN JJ NN . NN VBD DT NN',\n",
       " 'JJ JJ NN NN NN NN VBP JJ VBP DT JJ NN NN NN NN JJ NN NN NN NN VBZ DT NN NN VBP NN NN NN NN NN NN JJ NN VBZ DT',\n",
       " 'NN VBZ DT JJ NN NN VBP NN NN VBP NN NN VBP NN NN NN NN NN NN VBZ DT NN NN NN NN NN NN',\n",
       " 'NN VBP NN NN NN VBZ DT NN NN VBZ DT JJ NN NN VBP NN NN VBP NN NN JJ NN NNS VBP DT JJ NN NN NN JJ NN NN NN NN JJ NN NN NN NN NN NN NN NN VBZ DT NN NN JJ NN NN VBP PDT DT NN DT NN NN',\n",
       " 'NN NN JJ VBP JJ VBP JJ NN NN JJ NN NN JJ VBP JJ NN JJ NN . . JJ VBZ DT NN NN NN NN JJ VBZ DT NN NN NN NN NN NNP NN NN NN NN JJ NN NN NN VBP NN JJ NN NN VBP NN NN VBZ DT JJ NN NN NN NN NN NNP NN NN NN NN NN NN NN IN NN NN NN NN VBP NN NNP VBZ VB DT NN NN NN VBP NN',\n",
       " 'VB DT NN NN NN JJ NN VBD DT NN NN NN NN VBP NN DT NN NN NN NN NN NN NN NN NN NN NN NN NN NN VBD DT NN NN NN JJ NN NN . VB DT NN NN NN VBZ DT NN DT JJ NN JJ NN VBD DT JJ NN JJ NN NN . . . JJ NN NN NN NN NN NN NN NN JJ NN NN , JJ NN NN IN JJ NN NN NN',\n",
       " 'NN VBP DT JJ NN JJ NN JJ NN NN NN NN VBP NN NN JJ VBP JJ IN DT NN DT NN NN NN NN NN NN NN NN NN NN NN',\n",
       " 'NN VBP JJ JJ NN NN NN JJ NN NN NN NN JJ NN NN JJ NN NN NN NN VBP NN NN VBP JJ NN NN NN NN NN NN NN NN NN NN VBP IN DT NN DT NN DT NN NN NN NN VBD DT JJ NN NN NN NN NN NN JJ NN NN JJ VBZ DT NN DT NN NN NN NN NN VBP IN DT JJ NN NN NN NN IN JJ NN NN VBP DT NN DT JJ NN NN NN JJ NN NN NN JJ NN NN',\n",
       " 'DT NN NN VBZ DT NN NN NN VBP DT NN NN NN NN JJ NN NN NN NN NN NN NN NN NN NN NN NN VBP NN NN VBZ DT NN NN NN NN NN NN NN NN NN JJ NN NN VBZ DT JJ NN NN NN NN NN JJ JJ NN NN NN NN NN NN NN NN NN IN NN NN NN NN NN NN VBD DT NN NN',\n",
       " 'JJ NN NN JJ NN NN NN NN VBD DT NN JJ VBZ DT JJ NN NN NN VBP NN NN . NN JJ NN IN NN NN VBP JJ NN NN NN NN JJ VBP JJ VBP DT NN NN DT NN NN VBZ DT NN NN NN NN VBP JJ JJ NN NN NN NN NN NN NN IN DT NN NN NN JJ NN',\n",
       " 'NNS VBP JJ NN NN NN NN NN NN JJ VBZ DT JJ NN NN NN VBP NN NN JJ NN NN NN NN NN . IN NN NN VBP NN NN NN NN NN IN NN NN VBP NN . VB DT JJ NN NN VBP VBP DT JJ NN NN NN NN NN NN IN DT NN DT NN NN . NN VBD DT NN',\n",
       " 'VB DT NN NN NN NN JJ NN NN NN NN NN NN JJ NN NN JJ NN NN VBP NN NN JJ NN NN VBD DT NN NN NN NN NNP NN NN JJ NN NN NN NN NN JJ NN NN',\n",
       " 'NN VBP NN NN DT NN NN DT NN NN NN VBD DT JJ NN JJ VBP NN NN NN VBP NN NN NN NN NN NN NN NN VBP NN . NN NN JJ JJ NN NN VBP DT NN NN VBP NN NN NN NN NN',\n",
       " 'NN NN VBP NN NN DT NN NN VBP NN NN , DT JJ NN NN NN NN JJ NN NN JJ NN NN VBP NN NN DT NN NN NN NN NN NN NN NN NN IN NN NN VBP NN , VB DT JJ NN NN NN NN JJ JJ NN VBZ DT NN JJ NN NN NN NN NN JJ NN NN JJ NN NN NN NN JJ VBZ DT NN NN NN NN NN NN VBP NN NN NN NN VBP NN NN NN NN NN NNS VBP',\n",
       " 'JJ JJ NN NN NN JJ NN NN VBP JJ NN NN NN JJ NN NN , DT JJ NN NN VBP JJ NN NN NN JJ NN NN NN JJ NN NN VBD NN NN VBP NN NN NN NN JJ NN VBD DT NN DT NN DT NN DT NN DT NN DT NN NN VBP DT NN NN VBP NN NN JJ JJ NN NN NN NN VBP NN NN',\n",
       " 'JJ VBP JJ NN NN NN NN VBP NN NN NN NN NN NN NN NN JJ NN NN JJ VBP JJ NN NN NN NN NN NN NN NN',\n",
       " 'NN NN VBZ DT NN NN NN VBP PDT DT JJ NN DT NN NN VBP NN NN DT NN NN VBP NN NN NN NN JJ VBP VB DT JJ NN NN NN VBP NN NN VBP',\n",
       " 'NN NN JJ VBP JJ VBP DT NN NN JJ NN NN NN VBP NN NN NN NN NN VBP NN NN VBP NN NN NN VBD DT NN NN NN NN NN JJ NN NN VBZ DT NN DT NN DT NN DT NN',\n",
       " 'NN . NN . NN NN NN NN VBD DT JJ NN NN VBD DT NN NN NN VBP NNS VBP DT NN NN NN VBP NN NN VBP NN NN NN NN NN NN JJ NN NN NN VBZ DT NN NN NN',\n",
       " 'DT NN NN NN VBP NN NN NN VBP NN NN JJ JJ NN NN NN NN VBP NN NN DT JJ NN NN JJ NN NN IN NN NN VBP NN NN NN JJ NN NN . NN NN NN NN NN JJ JJ NN VBD DT NN NN NN VBD DT NN NN NN NN NN NN NN NN NN VBZ DT NN NN IN NN NN VBP NN',\n",
       " 'NN VBP DT NN NN JJ NN NN IN JJ JJ NN NN VBD DT NN NN NN NN NN NN JJ NN NN IN NN NN VBP NN NN IN JJ NN NN VBP NN DT',\n",
       " 'JJ VBP JJ NN NN JJ NN NN NN NN VBP NN NN JJ NN NN NN NN NN',\n",
       " 'NN NN NN VBP NN NN NN NN VBP JJ NN VBD DT JJ NN JJ NN NN NN IN JJ JJ NN NN NN NN NN IN DT NN VBZ DT JJ NN NN NN JJ NN JJ NN NN JJ VBP JJ NN NN VBD DT NN NN NN NN VBP NN VBP NN NN NN JJ NN NN NN , DT NN NN , JJ NN NN , JJ NN NN , JJ NN VBD DT NN VBZ DT NN NN NN FW FW NN NN VBP NN NN NN NN VBP NN',\n",
       " 'NN MD VB DT NN NN JJ NN NN NN NN NN VBP NN NN NN NN VBD DT NN NN VBP NN NN NN NN NN NN JJ NN NN NN NN NN JJ NN NN VBP DT NN NN NN NN NN NN NN NN JJ NN NN VBD DT NN NN NN NN NN NN VBZ DT JJ NN NN VBP NN NN VBP NN . . . JJ NN NN NN',\n",
       " 'NN NN JJ NN NN NN VBD DT NN NN NN NN NN IN NN NN VBP NN NN VBD DT JJ NN NN NN VBP NN NN NN NN',\n",
       " 'NN VBP JJ NN NN VBD DT NN NN DT NN NN NN NN JJ NN NN NN VBP DT NN NN NN NN NN NN NN NN NN NN NN NN NN NN VBP NN NN VBZ DT NN NN NN IN DT NN NN VBP VBZ DT NN NN NN NN NN NN NN VBZ DT NN NN NN NN',\n",
       " 'NN NN NN IN JJ NN VBP JJ NN IN JJ NN VBP NN NN NN VBD DT NN NN JJ VBP NN',\n",
       " 'JJ NN NN NN NNP NN VBD DT NN NN . JJ VBP JJ JJ NN NN NN VBP VBZ DT JJ JJ NN NN , JJ VBP JJ NN NN NNP VBZ DT JJ NN NN NN NN NN NN NN VBP NN NN VBZ DT NN JJ NN NN NN NN IN JJ NN NN VBP NN JJ NN NN NN NN NN',\n",
       " 'JJ NN NN NN NN NN NN NN VBD DT NN NN NN JJ NN NN NN NN JJ NN NN NN NN IN NN NN NN NN NN NN IN NN NN VBP NN NN NN NN VBZ DT NN NN VBD DT JJ NN',\n",
       " 'JJ NN NN VBP NN NN NN NN NN NN IN NN NN VBP NN NN NN NN NN NN NN NN NN IN JJ NN VBD DT NN DT NN NN',\n",
       " 'NN NN VBP NN DT NN NN . NN JJ VBP JJ NN VBZ DT NN . NN NN NN NN NN VBD VBZ DT NN NN NN VBZ DT NN NN JJ NN NN DT NN NN NN NN NN NN NN JJ NN NN NN NN NN NN VBP',\n",
       " 'NN NN NN NN NN VBZ DT NN NN NN NN . JJ JJ NN NN NNP VBZ DT NN NN NN NNP NNP VBD VB DT NN NN NN VBZ DT NN NN VBP NN NN NN NN VBZ DT NN',\n",
       " 'NN NN NN NN NN VBP NN NN JJ VBZ DT NN DT NN NN . . JJ VBP JJ NN NN VBD VBZ DT NN NN NN NN VBZ DT NN . JJ JJ NN NN NNP VBZ DT NN',\n",
       " 'NN DT NN NN IN NN NN VBP NN NN DT NN NN . JJ JJ NN NN NNP VBZ DT NN . JJ VBP JJ NN NN VBD VBZ DT NN NN NN VBZ DT NN DT JJ NN NN VBP NN . NN JJ NN NN VBZ DT JJ NN NN NN NN NN NN NN',\n",
       " 'JJ NN NNP NN NN VBZ DT NN NN NN VBP NN NN IN NN NN VBP NN NN JJ VBZ DT NN NN NN NN VBP NN NN NN JJ NN NN NN VBD DT NN NN IN NN NN VBP NN NN NN JJ NN NN JJ NN NN NNP NN NN NN NN NN NN',\n",
       " 'NN NN NN JJ NN . . NN IN NN NN VBP NN NN NN , NN NN VBP NN NN JJ JJ NN NN NNP VBZ DT NN . VB DT NN NN VBD DT NN NN VBZ DT JJ NN NN NN JJ NN NN VBP NN NN NN JJ NN NN VBZ NN',\n",
       " 'VB DT NN NN NN NN NN VBP NN NNS VBP JJ NN IN NN NN VBP NN NN JJ NN NN NN NN NN VBP NN NN NN NN JJ NN NN NN IN NN NN NN NN NN VBP VBZ DT NN NN . UH VBZ DT JJ NN NN NN VBD DT JJ NN NN NN NN NN NN VBP',\n",
       " 'NN VBP DT NN DT NN DT NN JJ NN VBD DT NN DT NN NN IN JJ NN NN VBP NN NN NN NN NN NN NN VBP NN NN VBP NN NN DT NN NN VBP NN , WP IN NN , JJ NN NN VBP NN VBP NN NN NN VBZ DT JJ NN NN VBD DT NN NN VBP DT JJ NN NN NN NN IN NN NN VBP NN NN JJ NN NN NN NN . . JJ NN DT NN NN',\n",
       " 'JJ NN NN NN NN NN NN NN NN NN NN NNP NN JJ NN NN NNP VBZ DT NN . JJ VBP JJ NN VBZ DT NN NN VBP NN NNP VBZ VB DT NN NN NN VBZ DT NN NN VBZ DT JJ NN VBD JJ FW DT JJ NN NN JJ VBZ DT NN NN',\n",
       " 'NN VBP JJ JJ NN NN NN NN NN NN NNP NN NN NN NN NN NN VBZ DT NN NN VBD NN NN VBP NN NN VBD DT NN . . NN VBD DT NN NN NN NN JJ VBP NN NN VBP NN . . NN NN VBP NN NN NN NN VBP NN DT JJ NN NN VBP VBP VBP',\n",
       " 'VB DT JJ NN NN NN NN NN NN JJ NN NN NN NN JJ VBP JJ NN NN NN VBP NN NN NN NN NN VBP NN NN VBP JJ NN NN NN VBP NN NN NN NN JJ NN NN NN NN JJ NN NN NN NN',\n",
       " 'NN JJ NN NN NN NN NN NN NN NN NN NN NN NN JJ VBP JJ NN NN NN NN VBP NN NN . JJ NN NN NN NN NN NN NN NN NN VBP NN NN JJ NN NN VBP NN NN VBD DT NN',\n",
       " 'NN NN JJ VBP NN NN DT NN NN JJ NN NN VBZ DT NN IN NN NN VBP PDT DT JJ NN JJ NN NN NN NN VBP NN NN IN NN NN VBP NN DT NN NN NN NN IN JJ NN',\n",
       " 'VB DT NN NN . . NN JJ NN NN NN NN NNP NN NN NN NN JJ NN NN JJ VBZ DT NN NN NN . JJ VBP JJ NN NN NN JJ NN . JJ NN NN JJ NN NN JJ VBZ DT NN NN NN NN NN NNP NNP VBD VB DT NN NN NN NN NN NN NN NN NN NN NN',\n",
       " 'JJ NN NN NN JJ VBP JJ VBP NN NN VBP NN NN VBP JJ NN NN NN . . JJ JJ NN NN IN JJ NN NN JJ NN NN VBP NN NN NN NN JJ NN NN NN NN NN IN NN NN VBP NN NN VBD DT NN NN JJ VBZ DT NN DT JJ NN NN VBP NN',\n",
       " 'NN VBP JJ JJ NN NN NN NN NN JJ NN NN VBP NN NN NN NN VBD DT JJ NN NN IN NN NN IN JJ NN NN NN JJ NN NN NN VBP JJ JJ NN DT JJ NN DT JJ NN NN NN VBZ DT NN NN NN NN IN NN NN VBP NN NN JJ NN . VB DT NN DT',\n",
       " 'NN NN VBP NN DT JJ NN NN JJ NN NN NN JJ NN NN NN JJ NN NN NN NN NN NN JJ NN NN NN JJ NN NN JJ NN VBD DT NN VBZ DT JJ NN NN VBP NN NN NN NN NN NN',\n",
       " 'NN DT NN NN NN NN NN NN VBD DT NN NN NN VBZ DT JJ NN DT NN DT JJ NN NN NN NN NN NN NN . NN NN NN VBP WRB DT NN NN NN . JJ JJ NN NN NN NN NN NN NN NN NN NN NN NN NN NN NN . NN NN NN VBP NN NN NN NN VBP NN VBP NN NN DT NN NN NN . JJ JJ NN NN NN NN VBP NN NN NN NN',\n",
       " 'NN NN JJ NN NN JJ NN NN NN NN NN NN NN NN NN VBP NN NN VBD DT NN NN NN VBP NN NN NN NN NN NN IN DT NN NN NN NN NN NN NN NN NN NN NN VBD DT JJ NN NN JJ NN NN . NN VBD DT NN NN DT NN VBZ DT NN DT NN NN NN NN VBP NN NN NN NN VBP NN NN NN NN NN NN',\n",
       " 'DT JJ NN IN NN NN VBP NN NN NN VBP NN NN NN VBD DT NN NN VBP JJ NN NN NN JJ NN VBZ DT JJ NN NN NN NN NN NN NN NN NN NN',\n",
       " 'NN VBZ DT NN NN NN VBP NN NN NN NN NN NN JJ NN NN NN NN NN JJ NN NN NN VBP NN',\n",
       " 'NN NN VBP NN VBP NN NN JJ NN NN NN VBP NN NN NN NN NN NN NN VBP NN NN',\n",
       " 'NN MD VB JJ NN NN NN NN NN NN NN NN VBP VBZ DT NN NN VBP NN NN .',\n",
       " 'NNS VBP DT NN NN NN NN JJ NN NN JJ NN NN NN JJ NN NN',\n",
       " 'VB DT JJ NN NN VBD DT JJ NN DT JJ NN NN JJ NN NN JJ NN NN NN VBD DT NN NN VBP DT JJ NN DT JJ NN NN NN VBP NN DT NN NN VBP NN NN',\n",
       " 'JJ VBP JJ JJ NN NN VBD DT NN NN NN NN VBZ DT NN NN DT NN NN JJ NN NN NN NNP NNP VBD VB DT NN NN NN NN JJ NN NN VBZ NN',\n",
       " 'NN NN NN NN NN JJ NN NN NN NN VBD DT NN NN NN VBP NN NN NN NN NN NN JJ NN NN JJ NN NN JJ NN NN NN JJ VBP JJ NN NN NN NN',\n",
       " 'NN NN NN IN DT NN NN VBP NN NN NN NN JJ NN VBD DT JJ NN DT NN VBZ DT NN NN NN NN NN NN NN NNP NN JJ NN NN NN NN NN IN JJ NN NN IN NN NN VBP NN NN NN NN NN NN NN NN NN NN',\n",
       " 'DT NN NN NN NN VBZ DT JJ NN VBZ DT NN NN VBP NN NN VBP JJ NN NN NN NN VBP NN VBP DT NN MD VB JJ NN NN NN NN IN NN NN VBP NN NN NN NN VBP NN NN',\n",
       " 'NN VBP DT JJ NN NN IN DT NN NN NN NN VBP NN NN , FW NN NN VBP NN JJ NN NN NN VBZ DT NN NN NN VBP NN NN NN VBP DT NN NN DT NN DT NN NN NN NN NN NN NN NN JJ VBZ DT JJ NN NN JJ NN IN NN NN VBP JJ NN VBZ DT',\n",
       " 'NN DT NN NN DT NN NN NN VBP NN',\n",
       " 'NN NN NN NN NN NN JJ NN VBD DT JJ NN NN NN NN VBZ DT NN',\n",
       " 'VB DT JJ NN NN NN NN NN , JJ NN NN NN NN NN NN NN NN JJ VBP JJ NN NN NN NN VBP NN NN NN NN JJ NN JJ NN VBD DT NN NN VBD DT JJ NN NN NN NN JJ VBZ DT NN NN JJ NN NN',\n",
       " 'NN VBP DT NN NN NN VBD DT NN NN NN VBP NN NN NN JJ JJ NN NN . NN NN VBP NN NN NN NN NN NN NN NN NN JJ JJ NN NN',\n",
       " 'DT JJ NN NN NN DT NN NN NN NN NN JJ NN DT JJ NN NN NN IN DT JJ NN NN NN VBP NN NN VBP NN NN NN NN NN NN NN NN VBP NN JJ VBP JJ IN NN NN VBP NN VBP DT NN NN NN NN NN NN , NN NN NN NN NN VBP NN NN NN NN VBP NN NN VBD DT JJ NN NN . NN IN NN NN VBP NN VBP DT NN NN NN JJ NN NN NN .',\n",
       " 'DT NN JJ NN NN VBZ DT NN DT NN NN FW FW FW FW NN NN NN NN NN NN NN VBP DT NN DT NN',\n",
       " 'DT JJ NN NN NN VBD DT NN DT NN NN JJ NN DT NN NN VBP NN NN . . . NN VBD DT NN NN NN NN NN NN VBD DT JJ NN VBZ DT NN',\n",
       " 'DT NN NN NN NN NN NN NN NN NN VBP NN NN NN NN VBD DT JJ NN DT NN DT NN NN , JJ VBP JJ JJ NN VBD DT JJ NN JJ JJ NN NN JJ NN NN NN NN NN',\n",
       " 'DT JJ NN NN NN VBP NN NN NN NN JJ NN JJ NN NN NN NN NN NN NN NN',\n",
       " 'NN DT NN NN NN VBP NN VBP NN NN NN NN VBP NN NN JJ NN NN JJ NN NN NN NN IN NN NN VBP NN JJ NN NN NN VBP NN NN NN NN JJ VBZ DT JJ NN NN NN NN NN NN NN NN NN JJ NN NN NN NN NN NN NN NN NN NN NN JJ NN VBD DT NN NN NN VBP VBZ DT JJ NN NN NN NN VBP NN NN NN VBD DT JJ NN VBP DT NN NN NN NN VBZ DT NN NN VBP NN NN JJ NN NN',\n",
       " 'VB DT NN NN NN JJ JJ NN NN NN NN VBP NN NN JJ NN VBD DT NN NN NN NN NN NN NN NN NN NN . JJ JJ NN NN IN NN NN IN NN NN VBP NN NN NN NN NN',\n",
       " 'VB DT NN NN NN NN NN NN NN NN NN VBP NNS JJ JJ NN NN NN NN NN VBP NN NN NN NN NN NN NN JJ NN NN FW NN NN NN NN NNP . JJ NN VBD DT JJ NN NN NN VBD DT NN NN NN NN NN VBP NN NN NN NN NN NN VBP NN NN NN VBP NN IN DT JJ NN NN NN . JJ VBP JJ NN NN NN NN NN NN NN , JJ NN NN NN IN NN NN VBP NN DT NN JJ NN NN NN JJ NN NN NN VBP JJ NN NN NN NN NN',\n",
       " 'NN NN NN NN NN NN JJ NN NN JJ NN . . . DT JJ NN VBZ DT',\n",
       " 'NN NN IN NN NN VBP NN VBP NN NN NN VBD DT JJ NN IN NN NN VBP DT JJ NN NN NN NN VBP NN NN NN NN',\n",
       " 'NN NN NN IN JJ NN VBP JJ NN NN NN NN NN NN NN NN IN JJ NN VBP JJ VBP JJ NN NN IN NN NN VBP NN IN NN NN VBP .',\n",
       " 'NN JJ NN NN VBP NN NN VBZ DT NN DT NN NN NN VBP NN NN NN VBD DT NN NN NN JJ NN NN NN NN NN VBD DT JJ NN NN NN NN VBP NN NN NN NN NN NN NN NN VBZ DT NN NN VBP NN NN NN JJ VBP VBP DT NN NN NN JJ NN NNP NN NN NN NN NN NN NN NN NN VBD DT JJ NN . NN VBD DT NN NN NN IN NN NN VBP NN NN NN IN NN NN VBP NN NN NN NN NN VBZ DT NN',\n",
       " 'NN NN NN NN NN VBD DT NN NN NN NN NN NN JJ JJ NN NN NN NN VBP NN NN NN NN',\n",
       " 'VB DT NN VBZ DT NN NN VBP NN JJ NN NN NN NN NN NN NN NN NN NN NN IN NN JJ NN NN IN NN NN VBP NN NN VBP NN NN NN NN NN NN VBD NN NN VBP NN . NN NN NN NN NN VBD DT NN NN NN NN VBP PDT DT NN NN NN NN NN VBP',\n",
       " 'JJ NN NN VBP NN NN NN VBD DT NN NN NN NN VBP NN NN NN NN NN NN NN VBP JJ NN NN JJ NN NN VBP DT NN NN VBP NN NN NN NN VBZ DT NN NN , JJ NN JJ NN NN NN NN VBP NN VBP NN NN NN NN JJ VBP NN NN NN VBZ DT NN NN VBP NN NN DT JJ NN VBD JJ NN NN NN NN VBP NN NN VBP',\n",
       " 'VB DT NN VBZ DT NN NN JJ VBP JJ NN NN NN IN DT JJ NN VBD DT NN VBZ DT NN NN JJ NN NN NN NN NN VBP NN NN',\n",
       " 'NN MD VB JJ JJ NN NN NN NN VBP NN NN NN NN NN NN NN NN JJ NN VBD DT NN NN JJ IN NN NN VBP VBZ DT JJ NN NN NN VBZ DT NN . JJ NN NN VBP DT NN NN NN IN NN NN VBP NN NN VBD DT NN , JJ VBP NN NN NN NN NN VBP NN NN NN NN NN VBZ DT NN NN NN VBP VBZ DT JJ NN NN NN NN NN NN VBZ DT NN NN NN NN NN JJ JJ NN NN , NN NN NN NN NN NN JJ NN NN',\n",
       " 'NN MD VB JJ NN JJ NN NN JJ NN JJ NN NN NN NN NN VBP NN NN JJ NN . NN JJ JJ NN NN JJ NN NN NN NN NN NN NN NN IN JJ NN VBP NN DT NN',\n",
       " 'NN MD VB JJ NN DT NN NN NN NN VBZ DT NN NN NN NN JJ VBZ DT NN NN NN VBP NN NN VBP NN NN NN VBP PDT DT NN NN VBP NN DT NN NN VBP JJ NN NN NN NN . . . JJ NN NN NN NN VBP NN NN DT NN NN DT NN NN NN NN VBD DT NN IN NN NN VBP NN NN NN JJ NN NN NN NN NN NN NN NN JJ NN',\n",
       " 'NN MD VB JJ NN NN NN NN VBZ DT NN NN JJ NN NN NN NN IN JJ VBP VBP DT NN NN JJ NN NN NN , WP IN NN NN VBZ DT NN NN JJ NN NN NN NN IN JJ VBP VBP DT NN NN JJ NN NN JJ NN NN NN NN . . . VB DT NN NN VBZ DT JJ NN VBP NN DT JJ JJ NN NN JJ VBP JJ NN NN NN VBP NN NN',\n",
       " 'NN MD VB JJ NN NN JJ NN NN NN NN NN NN VBP NN NN NN NN JJ NN NN VBZ DT NN DT NN . CC JJ JJ NN NN IN NN NN VBP NN NN VBP NN NN , DT NN NN NN VBP NN NN',\n",
       " 'NN NN NN NN NN NN VBZ DT JJ NN DT NN NN VBZ DT JJ NN NN NN NN VBP NN NN JJ VBP JJ NN . JJ JJ NN NN VBZ DT NN NN NN NN NN NN NN NN . NN JJ NN JJ NN IN DT NN NN NN IN NN NN VBP IN DT NN NN NN NN NN NN',\n",
       " 'NN JJ NN NN NN NN VBP NN NN NN NN NN NN NN JJ NN NN NN NN JJ VBP NN NN',\n",
       " 'VB DT NN NN NN NN NN JJ NN NN NN NN NN VBP VBZ DT NN VBZ DT NN NN NN VBP NN DT NN JJ NN NN NN NN',\n",
       " 'NN NN NN NN NN . NN NN NN NN NN IN DT JJ NN NN NN NN NN NN VBP NN NN VBP NN NN NN .',\n",
       " 'NN NN NN NN NN NN NN JJ VBP JJ NN NN NN NN SYM NN NN NN NN NN NN NN VBP PDT DT NN NN VBP NN NN JJ NN NNP NN NN NN NN VBP',\n",
       " 'VB DT NN NN IN NN NN JJ VBZ DT NN NN NN NN VBP NN NN IN DT NN NN NN NN NN NN JJ NN NN JJ NN DT JJ NN NN NN NN NN VBD NN NN VBP NN NN NN NN NN .',\n",
       " 'NN MD VB NN NN NN NN NN VBD DT NN NN NN VBP NN NN NN NN NN NN NN NN VBP DT NN NN VBP NN DT NN NN VBP NN NN NN NN NN JJ NN NN JJ VBP JJ NN NN NN',\n",
       " 'NN MD VB NN NN VBP JJ NN NN JJ VBP NN , JJ IN NN NN NN . . VB DT JJ NN VBD DT NN NN NN VBP NN NN NN VBZ DT JJ NN NN VBP JJ NN',\n",
       " 'JJ NN NN NN NN NN NN VBP NN DT JJ NN NN NN JJ NN IN NN NN VBP NN NN VBZ DT JJ NN VBZ DT JJ NN NN VBP NN NN . . . JJ NN NN NN IN NN NN VBP NN NN NN NN JJ VBP JJ NN JJ NN NN VBP DT JJ NN DT JJ NN NN NN NN NN VBZ DT NN NN NN VBP NN .',\n",
       " 'JJ JJ NN NN JJ VBP DT NN NN NN NN NN NN JJ NN JJ NN NN NN . JJ JJ NN NN NNP NNP VBZ VB DT NN NN NN VBD DT NN NN NN NN NN VBP NN NN VBZ DT NN NN NN NN NN NN NN NN',\n",
       " 'NN NN JJ NN VBZ DT NN VBZ DT JJ NN NN VBP VBP JJ NNP NN VBD NN NN VBP NN JJ NN NN NN NN VBD DT NN NN NN VBP NN NN NN VBP NN NN VBZ DT NN NN VBP NN VBP NN NN NN IN NN NN VBP NN NN VBZ DT NN NN NN NN NN VBP NN NN VBP JJ NN NN NN NN VBZ DT DT JJ NN NN VBP VBP JJ NN NN VBD DT JJ NN NN NN VBP NN',\n",
       " 'NN NN NN NN NN NN VBD DT NN NN NN NN VBP NN NN VBP NN NN NN IN JJ NN VBP NN NN VBP NN NN NN DT NN',\n",
       " 'NN NN NN NN NN JJ NN DT NN NN VBD DT NN NN JJ NN NN NN NN NN NN NN VBP PDT DT JJ JJ NN NN JJ VBP NN NN VBP NN NN NN',\n",
       " 'NN NN VBP NN NN NN VBD DT NN NN VBP DT NN NN NN , JJ VBP JJ NN VBD DT NN IN DT NN MD VB VB DT NN NN NN , JJ FW NN NN NN NN NN NN JJ NN VBD DT NN NN NN NN NN NN NN VBP NN NN NN NN VBZ DT NN NN , JJ NN NN NN NN NN NN NN NN',\n",
       " 'NN MD VB JJ NN NN NN JJ NN JJ NN NN NN NN IN NN NN VBP NN NN NN VBZ DT JJ NN NN NN NN NN NN NN VBP NN NN NN NN VBZ DT NN NN',\n",
       " 'VB DT NN NN NN NN JJ NN NN NN JJ NN NN NN NN JJ NN NN . VB DT NN NN NN NN JJ NN NN NN JJ NN NN NN JJ NN NN . JJ VBP JJ VBP DT NN JJ NN NN JJ NN NN NN JJ NN NN NN NN NN NN NN NN NN NN NN NN JJ VBP NN',\n",
       " 'NN VBZ DT NN NN VBP NN NN JJ NN NN NN JJ VBP NN NN VBP NN NN VBD DT NN NN NN NN',\n",
       " 'NN NN VBD DT NN NN NN VBP NN NN IN DT NN NN JJ VBP JJ NN MD VB DT NN . . . JJ JJ NN NN NNP NN JJ NN NN NN VBP NN NN JJ JJ NN NN NN NN JJ NN NN JJ NN',\n",
       " 'NN NN VBD DT JJ NN DT NN NN NN NN NN NN VBP NN DT , NN JJ NN NN VBP NN JJ NN NN IN NN NN VBP IN DT NN NN NN JJ VBP PDT DT NN NN VBP NN NN DT JJ NN NN JJ JJ NN NN NN NN NN VBP PDT DT JJ JJ NN NN VBZ DT NN NN NN NN VBP NN NN VBZ DT NN , NN JJ NN NN VBD DT NN NN NN VBZ DT NN NN NN NN VBP',\n",
       " 'NN NN NN NN NN VBZ DT NN NN VBZ DT JJ NN VBD DT NN DT NN NN NN , NN NN NN NN VBZ DT JJ NN VBD DT NN DT NN NN NN , NN NN NN NN IN NN VBP DT JJ NN DT NN NN NN , DT JJ NN NN NN NN VBD DT NN JJ NN . NN VBP PDT DT NN NN JJ NN NN NN VBP NN NN NN NN JJ NN NN . NN VBZ DT JJ NN VBZ DT NN DT NN NN NN NN NN NN NN NN NN NN',\n",
       " 'NN NN NN NN NN NN NN NN VBD DT NN NN VBD DT NN NN NN VBP NN NN NN NN NN NN NN VBD DT JJ NN VBD DT NN NN NN JJ JJ NN NN NN NN NN JJ VBP PDT DT NN NN NN NN NN NN VBP NN NN NN VBP IN NN NN VBP . . . . . . . . NN VBD DT NN DT NN NN VBP NN NN NN NN NN JJ VBP NN NN NN NN NN NN VBD DT NN NN',\n",
       " 'NN NN NN NN JJ NN NN NN NN NN JJ NN NN NN VBP NN NN NN NN NN NN',\n",
       " 'NN MD VB DT NN NN JJ NN NN NN NN VBZ DT JJ NN DT NN NN NN NN JJ NN NN NN JJ JJ NN NN JJ NN NN NN NN VBD DT JJ NN NN NN JJ NN NN NN NN NN NN IN DT JJ NN VBD DT NN NN VBP IN DT JJ NN NN NN NN NN NN NN VBD DT NN NN NN JJ NN NN NN NN NN NN NN NNP VBZ DT JJ NN NN JJ NN NN NN NN NN NN . . .',\n",
       " 'NN MD VB NN JJ NN NN NN NN NN VBD DT NN NN VBP NN NN . DT NN NN VBP NN NN',\n",
       " 'NN MD VB JJ NN DT NN NN JJ VBP JJ NN NN NN JJ NN NN NN NN JJ NN NN NN NN JJ NN NN . . JJ NN NN NN NN JJ VBZ DT NN NN JJ VBP JJ NN NN NN JJ NN NN NN NN JJ NN NN NN NN JJ NN NN',\n",
       " 'NN MD VB JJ NN JJ NN NN NN VBP NN , VBP VB DT NN NN NN NN VBP NN NN . JJ VBP NN NN VBP DT NN NN VBP JJ NN',\n",
       " 'NN VBP JJ NN NN NN NN NN NN JJ NN NN NN NN VBP NN NN DT JJ NN JJ NN NN , NN VBD DT NN NN NN NN NN , NN NN VBP NN NN . CC JJ JJ NN NN JJ NN VBD DT NN NN NN VBP VBZ DT JJ NN . NN JJ NN NN , JJ NN NN NN NN . . . JJ JJ NN NN NN NN NN NN NN NN VBP NN NN NN NN JJ VBP JJ NN NN NN NN NN NN NN NN VBD DT NN NN VBP NN NN JJ NN NN , NN NN NN',\n",
       " 'VB DT NN DT NN NN NN NN VBP NN NN NN VBP NN NN . . NN NN VBP PDT DT NN NN VBP NN NN NN VBP NN NN NN VBZ DT NN NN . . VB DT NN DT NN DT NN DT NN DT NN NN NN JJ JJ NN JJ NN NN NN NN',\n",
       " 'NN VBP DT NN NN NN JJ VBP NN NN NN NN VBP NN NN',\n",
       " 'NN VBP DT JJ NN VBD DT JJ NN NN NN JJ IN NN NN VBP JJ NN NN . . . NN JJ NN NN NN NN NN NN NN NN VBP NN NN NN VBD VBZ DT JJ NN VBD DT JJ NN NN NN NN NN NN NN NN NN NN NN JJ VBP JJ NN NN VBD DT',\n",
       " 'NN VBP JJ JJ NN NN VBD DT NN VBZ DT JJ NN NN NN NN JJ NN NN NN . . . JJ VBP PDT DT NN VBZ DT JJ NN NN NN NN NN VBP NN NN NN NN . CC JJ NN DT NN NN DT JJ NN NN VBP NN DT',\n",
       " 'NN VBP JJ JJ NN NN NN NN NN NN NN NN NN NN NN JJ NN NN , VB DT NN NN NN VBP JJ NN VBZ DT JJ NN NN NN JJ NN NN NN NN NN NN NN',\n",
       " 'NN VBP JJ JJ NN NN NN NN JJ JJ NN NN VBZ DT NN NN VBP NN JJ NN NN IN JJ NN DT NN DT NN , NN VBD DT NN NN NN VBP NN NN NN VBP NN NN DT NN NN VBP NN NN NN NN NN NN NN VBP NN JJ NN NN',\n",
       " 'NN VBP JJ JJ NN VBD DT NN NN NN JJ NN NN',\n",
       " 'NN VBP JJ JJ NN VBZ DT JJ NN NN VBD DT NN NN IN JJ NN JJ NN NN NN JJ VBZ DT NN NN NN NN NN NN NN JJ NN NN JJ NN NN NN JJ NN VBD DT NN NN NN NN NN NN VBP DT NN NN NN VBD DT NN NN',\n",
       " 'NN VBP JJ NN NN JJ VBP NN NN DT NN NN NN VBD DT NN NN NN VBP NN NN JJ JJ NN JJ NN NN JJ VBP DT JJ NN DT JJ NN DT NN NN NN NN NN NN VBP NN NN NN VBD DT JJ NN NN NN NN JJ NN NN JJ NN JJ NN NN JJ VBP JJ NN NN NN',\n",
       " 'NN VBP NN NN DT NN NN VBP NN NN JJ NN NN NN VBP JJ NN NN NN NN VBP FW NN DT NN DT NN NN VBP NN NN NN . . JJ JJ NN NN JJ NN DT NN NN VBP DT NN NN NN JJ NN NN VBP NN VBP NN NN NN JJ JJ NN NN NN VBP NN NN NN JJ NN NN NN VBP NNS VBP JJ NN NN VBP NN NN NN NN JJ NN NN VBP NN',\n",
       " 'NN VBP NN NN DT NN NN VBP NN NN NN , JJ NN NN NN NN NN NN NN NN NN NN NN NN VBZ DT JJ NN NN VBP NN NN IN NN NN IN NN NN VBP NN NN NN NN',\n",
       " 'NN VBP JJ NN NN NN NN NN JJ VBP JJ VBP JJ NN NN IN JJ VBP NN NN NN NN VBP NN NN NN VBD NN NN NN . . . . . . . JJ NN NN NN NN VBP JJ VBP JJ NN DT NN NN NN VBP NN DT',\n",
       " 'NN VBP DT NN DT NN NN VBP NN NN NN VBD DT NN NN DT NN DT NN NN VBP NN NN , VB DT NN NN NN NN NN NN VBP NN NN VBZ DT NN NN VBP NN NN DT NN NN VBP JJ NN . . JJ NN NN NN NN NN NN NN NN NN VBD NN NN NN NN VBD JJ IN DT NN NN NN NN NN NN NN NN NN',\n",
       " 'NN VBP DT NN NN IN NN NN VBP NN DT NN NN NN NN NN NN NN NN NN VBD PDT DT NN NN NN VBP NN , NN JJ NN NN VBP NN NN VBP NN NN DT JJ NN DT NN DT JJ NN NN NN NN NN NN NN NN NN JJ NN VBD DT NN NN NN NN NNP NN NN VBP NN NN NN NN VBD DT NN DT NN NN VBP NN NN DT NN NN NN NN VBD DT NN NN JJ NN , NN NN NN VBD DT NN NN NN',\n",
       " 'NN VBP NN DT NN NN NN NN JJ VBZ DT JJ NN NN IN NN NN VBP NN NN NN NN VBZ DT JJ NN NN VBD DT NN , NN NN VBP NN NN',\n",
       " 'NN VBP JJ NN NN NN NN JJ NN NN JJ NN NN NN NN VBD DT NN , VBZ DT NN NN VBP NN . JJ VBP JJ NN NN VBZ DT NN NN NN NN JJ NN NN VBP NN NN NN NN NN NN VBP NN NN NN NN IN NN NN VBP JJ JJ NN NN JJ NN NN NN NN JJ NN IN DT NN NN NN NN VBP NN NN VBP NN VBP IN DT NN NN NN . VB DT NN NN NN NN VBP NN NN DT NN NN',\n",
       " 'JJ NN JJ NN NN NN NN VBD DT JJ JJ NN NN NN NN NN VBP DT NN NN VBP NN NN NN NN NN',\n",
       " 'NN VBP JJ NN NN NN VBD DT NN NN NN JJ VBP VBP DT NN NN VBP NN NN NN VBP . NN JJ JJ NN NN VBP NN NN NN NN JJ NN NN NN JJ NN NN FW NN NN NN NN NN NN VBP NN NN NN NN NN JJ NN NN NN VBZ DT NN NN NN NN NN NN JJ NN NN NN VBZ DT NN DT NN . NN NN NN JJ NN NN NN NN JJ NN VBZ DT NN DT NN NN NN NN . NN VBD DT NN NN NN NN JJ NN NN NN NN',\n",
       " 'NN VBP JJ NN NN NN NN NN NN VBP NN NN NN NN NN NN NN NN JJ VBZ DT JJ NN NN NN NN NN NN NN NN NN NN NN NN VBD DT NN JJ NN NN NN VBD DT NN NN JJ NN NN NN NN NN NN NN NN NN NN NN NN JJ NN NN NN VBP NN NN',\n",
       " 'NN VBP NN NN NN NN NN NN VBZ DT NN NN JJ NN NN JJ NN NN NN NN VBP NN NN VBP NN NN NN NN VBP NN NN NN NN JJ NN NN NN VBP NN NN VBD DT JJ NN DT JJ NN NN NN VBD DT JJ NN NN VBP NN NN NN NN NN NN NN VBD DT JJ NN',\n",
       " 'NN VBP DT JJ NN NN VBP JJ JJ NN NN NN VBP NN NN VBP , JJ VBP VB DT JJ NN NN VBD NN NN VBP NN NN NN NN NN NN JJ NN NN NN NN VBD DT NN . NN NN NN NN NN NN NN JJ NN NN NN JJ NN JJ NN NN NN VBD DT NN NN VBD DT NN NN DT JJ NN NN VBD NN NN VBP NN',\n",
       " 'NN VBP DT JJ NN NN JJ NN NN NN NN NN NN NN JJ NN NN NN VBZ DT NN NN JJ NN NN NN , DT JJ NN NN JJ NN NN NN NN NN NN VBD DT JJ NN NN VBP DT JJ NN NN JJ NN NN NN NN NN NN NN JJ NN NN NN VBZ DT NN NN JJ NN NN NN VBD DT JJ NN IN DT NN NN NN NN NN NN IN NN NN VBP',\n",
       " 'NN VBP NN NN NN NN NN NN NN NN NN NN JJ NN NN NN VBP VBZ DT JJ NN NN NN NN NN . NN NN NN VBZ DT NN NN NN . UH VBZ DT NN . . . NN NN VBP NN NN DT JJ NN NN NN . . . VB DT NN NN JJ NN NN NN . NN VBZ DT NN NN NN . UH NN NN . . . JJ VBP JJ JJ NN NN NN NN NN NN NN NN NN NN',\n",
       " 'NN VBP NN JJ NN NN VBP NN DT NN NN NN NN VBZ DT JJ NN NN NN NN , DT NN NN VBZ DT JJ NN NN JJ NN NN NN NN VBP DT NN NN NN NN VBP NN . . CC JJ JJ NN NN JJ NN NN VBP NN DT NN VBP DT NN DT NN NN VBP NN NN , VB DT NN NN NN JJ NN VBZ DT NN DT NN NN VBP NN',\n",
       " 'JJ VBP JJ VBP JJ NN JJ NN NN JJ NN NN NN NN NN JJ NN VBD DT JJ NN . JJ NN NN VBP NN NN NN NN VBP NN NN . NN NN NN JJ NN NN VBP JJ NN DT NN NN NN NN VBZ DT NN DT NN NN NN NN VBZ DT JJ NN NN NN VBP NN NN NN NN VBZ DT NN NN DT NN NN VBZ DT NN NN VBP NN VBP DT NN NN VBP NN NN NN NN IN JJ VBP DT NN NN NN JJ JJ NN NN NN',\n",
       " 'NN VBP JJ NN NN JJ NN NN NN VBP NN NN NN NN VBP NN VBP NN NN NN NN VBD DT NN NN NNP NN NN NN NN',\n",
       " 'NN VBP JJ JJ NN NN VBZ DT NN NN NN NN NN NN JJ VBZ DT NN NN NN NN NN NN VBP NN NN NN VBD DT JJ NN NN VBP NN NN VBD DT NN DT NN NN NN',\n",
       " 'NN VBP NN NN VBZ DT NN NN JJ NN VBD DT NN NN JJ NN NN NN NN NN VBD DT NN NN',\n",
       " 'NN VBP NN NN NN NN VBP NN NN JJ NN NN NN NN IN DT NN JJ NN NNS VBP',\n",
       " 'NN VBP DT JJ JJ NN NN VBZ DT JJ NN NN JJ JJ NN NN NN . JJ NN NN JJ JJ NN NN JJ NN NN NN NN IN JJ NN VBP NN NN NN NN NN NN NN NN VBZ DT NN DT NN NN NN NN NN NN NN JJ NN',\n",
       " 'JJ VBP JJ JJ NN NN DT NN NN VBP NN NN JJ NN NN IN NN NN NN NN JJ NN NN NN',\n",
       " 'JJ VBP JJ NN NN JJ NN IN DT NN NN VBP NN NN NN IN DT JJ NN NN NN NN NN NN NN IN DT NN NN VBP PDT DT JJ NN NN NN NN NN NN NN VBP NN NN NN IN DT JJ NN NN VBD DT JJ NN . NN NN JJ NN NN VBP NN NN . . JJ VBP JJ NN NN NN NN NN . . JJ JJ NN VBZ DT JJ NN NN VBP . DT JJ NN NN NN NN NN NN NN NN NN NN VBP NN DT NN NN JJ VBP JJ NN NNP NN NN NN NN NN',\n",
       " 'JJ VBP JJ NN NN NN NN VBP NN NN VBP FW FW DT NN NN NN NN NN NN VBP NN NN IN NN NN VBP NN NN NN , NN NN NN NN NN NN NN VBP NN NN NN NN NN JJ NN NN NN JJ JJ NN NN NN NN NN NN NNP VBZ DT JJ NN NN NN VBP NN NN NN',\n",
       " 'JJ VBP JJ NN NN IN DT NN NN VBP NN NN JJ NN NN JJ NN NN NN VBP NN NN NN NN NN NN NN VBD DT JJ NN NN VBP NN NN VBZ DT NN NN NN NN NN NN NN VBZ DT JJ NN NN VBZ DT NN NN NN NN NN',\n",
       " 'JJ VBP JJ NN NN VBD DT NN NN NN NN NN JJ NN VBD DT NN NN NN NN VBP NN NN NN NN JJ NN NN VBZ DT NN NN NN NN VBP NN NN IN NN NN VBP IN DT NN NN IN DT NN NN NN NN',\n",
       " 'JJ VBP NN NN VBP NN JJ NN NN JJ VBP JJ NN NN VBP PDT DT JJ NN NN VBP NN NN VBP NN NN VBP NN NN DT NN NN , JJ VBP JJ NN NN JJ NN NN NN NN NN NN NN NN JJ NN NN NN NN NN NN NN NN VBD DT JJ NN NN NN NN NN NN NN VBP NN JJ NN NN',\n",
       " 'JJ VBP JJ NN NN NN NN NN VBP JJ NN NN FW NN NN IN NN NN VBP NN NN . . . NN JJ NN NN NN NN NN VBZ DT NN NN NN NN NN VBP DT NN NN VBP NN DT',\n",
       " 'NN VBP NN NN VBP NN NN VBP DT NN NN NN NN NN VBP NN NN JJ NN NN NN NN IN NN NN',\n",
       " 'NN VBP NN NN JJ NN NN NN NN NN NN NN NN NN NN IN NN NN VBP NN NN IN NN NN VBP NN NN JJ NN NN NN JJ NN NN NN FW FW FW FW NN NN NN NN NN .',\n",
       " 'NN VBP NN NN JJ VBZ DT NN NN VBD DT NN NN JJ JJ NN NN NN NN IN DT JJ NN NN NN NN IN NN NN VBP NN JJ NN NN JJ NN NN NN . NN NN',\n",
       " 'NN VBP NN NN JJ NN VBZ DT NN DT NN NN NN VBP NN NN NN JJ NN NN NN JJ NN VBD DT JJ NN NN JJ NN NN JJ VBP JJ NN NN NN NN NN NN NN VBP NN NN VBP NN NN NN NN NN IN NN NN VBD DT NN NN NN VBD DT NN NN VBP NN NN NN NN NN NN VBD DT JJ NN VBD DT NN NN JJ NN NN',\n",
       " 'JJ VBP PDT DT NN NN VBP NN NN DT NN NN NN VBP NN NN JJ NN NN VBP NN NN NN VBD DT NN NN NN NN JJ VBZ DT JJ NN NN NN JJ NN NN NN NN JJ NN NN NN NN VBZ DT JJ NN NN NN NN NN NN NN NN NN NN NN VBD JJ NN NN DT NN NN NN NN VBD DT NN DT NN DT NN DT NN DT NN DT NN DT NN DT NN DT NN NN JJ NN NN IN NN NN VBP NN NN NN NN NN NN NN VBP NN NN NN NN NN NN NN NN JJ NN NN',\n",
       " 'NN VBP NN NN NN NN VBP NN NN NN NN VBD DT NN NN NN NN NN NN JJ NN NN NN NN VBZ DT JJ NN NN NN NN',\n",
       " 'NN VBP NN NN DT NN DT NN DT NN NN NN VBP JJ NN NN NN NN VBP DT NN . JJ NN VBZ DT NN , JJ NN VBD DT NN NN DT NN',\n",
       " 'NN VBP IN DT NN NN VBZ DT NN NN JJ NN NN NN VBP NN NN NN NN VBP JJ NN NN NN IN DT JJ NN NN NN NN VBZ DT NN NN NN NN NN JJ NN JJ NN NN NN VBD DT NN NN NN VBP NN NN JJ VBP JJ VBP DT JJ NN NN NN VBP NN NN NN JJ NN VBD DT NN NN DT NN NN NN NN NN NN NN NN NN NN NN NN . NN VBD DT JJ NN NNP VBZ JJ IN DT JJ NN NN NN NN NN NN IN NN NN VBP NN NN VBP NN NN DT NN NN NN',\n",
       " 'NN VBP PDT DT NN NN NN VBD DT NN NN VBP JJ NN , WP FW NN NN JJ NN VBP NN NN NN NN NN NN NN NN IN NN . NN NN VBP JJ NN NN NN NN NN . NN NN NN NN NN NN VBD DT FW DT NN NN VBP DT NN NN IN NN NN VBP NN NN NN VBP NN NN . NN NN NN JJ NN NN JJ NN NN JJ NN VBD DT JJ NN NN NN VBZ DT NN NN NN NN JJ NN . VB DT NN NN IN DT JJ NN NN JJ NN NN',\n",
       " 'NN VBP NN JJ NN NN NN NN NN NN NN VBZ DT NN NN NN NN VBD DT NN DT NN NN VBP NN NN .',\n",
       " 'NN VBP NN NN NN NN NN NN NN FW NN NN JJ JJ NN NN NN NN NN NN IN NN NN VBP PDT DT NN NN NN NN',\n",
       " 'NN JJ NN NN DT NN NN NN NN NN NN NN , CC JJ JJ NN VBZ DT NN NN JJ NN NN NN NN VBP NN NN JJ NN NN',\n",
       " 'NN JJ NN NN NN NN NN NN NN NN NN NN NN NN NN NN NN NN NN IN NN NN VBP NN JJ NN NN VBP NN NN NN',\n",
       " 'NN NN VBD DT JJ NN NN NN NN NN NN NN NN NN NN NN NN NN NN NN IN NN NN VBP NN NN JJ NN NN JJ NN NN NN NN VBP NN NN NN NN NN JJ NN NN NNP VBZ DT NN DT NN NN JJ NN NN NN VBP NN NN NN NN . JJ JJ NN NN NN NN NN JJ NN NN NN VBD DT NN NN . . JJ NN VBD DT NN DT',\n",
       " 'NN MD VB , VB NN NN VBP NN NN NN . NN NN JJ NN NN VBZ DT NN NN VBP . NN NN VBD NN NN VBP IN NN NN VBP NN NN NN NN VBZ DT NN NN NN NN NN NN NN NN VBP JJ JJ NN NN NN NN NN NN NN NN NN JJ VBP NN NN NN NN NN JJ NN NN NN NN NN NN NN JJ NN NN NN VBP NN',\n",
       " 'NN NN NN NN NN IN JJ NN VBP PDT DT NN NN VBZ DT JJ NN NN VBZ DT JJ NN NN VBZ VBZ DT NN NN NN',\n",
       " 'NN NN NN NN NN JJ NN NN VBP VB DT NN NN NN NN VBD DT NN NN VBP NN . . JJ NN NN NN NN VBP JJ NN JJ NN NN NN VBZ DT NN . . . . . . . . NN NN NN',\n",
       " 'NN NN VBP NN . . . JJ NN NN NN NN VBP JJ NN NN NN VBP JJ VBP JJ NN NN NN NN NN JJ NN . . . JJ JJ NN NN JJ NN NN NN VBP NN NN VBP NN VBP NN NN NN NN NN VBD PDT DT JJ NN NN VBP NN NN VBP NN NN NN NN NN NN NN NN NN JJ NN NN',\n",
       " 'NN VBZ DT JJ NN NN NN NN JJ JJ NN VBZ DT NN NN NN NN NN NN NN NN VBP NN NN JJ NN NN NN',\n",
       " 'NN VBZ DT JJ NN NN NN NN . NN JJ NN VBZ DT NN NN VBP DT NN DT NN NN NN NN VBP NN NN NN NN NN VBD DT JJ NN NN NN NN JJ JJ NN . . . . JJ NN NN VBP NN VBP NN NN VBD DT NN NN NN NN',\n",
       " 'VB DT NN , NN NN JJ NN NN NN NN NN NN VBP PDT DT DT NN NN NN NN JJ NN NN NN NN NN NN IN JJ NN NN NN NN NN NN NN NN VBP WRB DT NN NN VBP JJ JJ NN NN NN NN NN NN NN . IN DT JJ NN DT NN NN NN NN NN NN NN VBZ DT NN NN JJ VBZ DT DT NN NN NN NN NN JJ NN NN NN JJ NN NN NN NN NN VBP NN NN VBP NN NN NN NN NN NN VBP',\n",
       " 'VB DT NN NN NN NN NN NN VBD DT JJ NN NN NN NN NN NN NN NN NN NN NN VBD DT JJ NN NN JJ NN NN NN NN VBP JJ NN NN NN VBD DT NN NN NN NN NN NN VBD DT JJ NN JJ NN NN VBP NN NN VBP NN NN . CC JJ JJ NN NN NN NN NN NN JJ NN NN JJ JJ NN NN VBP NN NN JJ VBZ DT NN NN NN NN NN NN JJ NN .',\n",
       " 'NN NN VBP NN NN VBZ DT NN NN NN NN VBZ DT JJ NN NN JJ NN NN VBZ VBZ DT JJ NN NN NN VBP JJ NN NN NN NN NN NN NN NN IN NN NN VBP NN NN NN NN VBD DT NN NN NN NN NN NN NN NN . NN NN NN NN NN NN NN JJ VBZ DT JJ NN NN VBP VBZ DT NN DT JJ NN NN VBZ DT NN NN NN NN NN VBP NN NN VBP NN',\n",
       " 'NN NN NN VBZ DT JJ NN VBD DT JJ NN NN NN NN VBP VBZ DT NN NN NN VBZ DT NN NN NN NN NN NN NN JJ NN NN VBZ DT NN NN NN NN NN NN NN VBP NN . . . JJ JJ NN NN NN NN NN NN NN VBP NN IN NN NN VBP NN NN NN NN NN VBP NN NN NN NN NN NN VBZ DT NN NN NN NN NN NN NN NN NN NN NN VBZ DT NN DT NN NN VBP NN NN NN NN IN JJ VBP NN',\n",
       " 'NN CC NN VBP NN NN DT NN NN NN NN NN NN NN NN NN NN NN NN NN NN JJ NN IN NN NN VBP NN NN NN NN NN NN VBZ DT NN JJ NN NN NN VBD DT JJ JJ NN NN JJ NN NN JJ NN NN VBP NN NN NN NN NN JJ JJ NN NN NN JJ IN NN NN VBP NN NN DT NN NN VBP NN VBP NN NN VBP NN NN',\n",
       " 'NN NN NN NN VBP PDT DT NN NN NN NN NN NN NN NN IN NN NN VBP NN . . . DT JJ NN NN VBD DT NN NN JJ NN NN NN VBD DT NN NN NN VBZ DT JJ NN NN NN NN NN NN NN NN VBD NN NN VBP NN VBP NN NN NN NN NN JJ NN NN NN NN NN NN DT . . . .',\n",
       " 'NN NN IN NN NN VBP NN NN NN VBD DT NN NN DT NN NN IN NN NN VBP NN NN NN NN JJ NN NN NN NN IN DT JJ NN NN VBP NN NN DT NN NN VBP DT JJ NN NN VBP DT JJ NN JJ IN NN NN VBP DT JJ NN NN IN DT JJ NN NN NN VBP NN NN VBP NN NN NN NN VBD DT JJ NN NN VBP',\n",
       " 'RB DT NN NN NN VBP NN VBP DT NN MD VB JJ NN NN NN NN DT NN NN NN NN VBP VBZ DT NN NN NN VBP , JJ VBP NN NN NN NN IN NN NN VBP NN NN NN NN VBP NN NN NN JJ NN NN NN NN NN NN NN JJ VBP NN NN NN NN IN JJ NN VBP NN NN NN VBD DT NN NN NN NN VBP NN NN DT NN NN NN NN VBP NN NN NN VBZ DT NN NN NN',\n",
       " 'RB DT NN NN VBP NN NN NN JJ NN NN NN VBP NN NN JJ NN NN NN NN IN NN NN NN NN JJ NN NN NN NN JJ NN NN NN NN NN NN VBD DT JJ NN MD VB NN NN DT NN VBZ DT NN NN NN NN NN NN NN NN NN . . . JJ VBP DT NN NN VBZ DT NN NN',\n",
       " 'JJ NN NN NN VBZ DT NN NN NN NN NN NN NN JJ NN NN NN NN NN NN NN NN NN NN NN NN VBD DT NN NN NN VBP NN NN JJ JJ NN NN NN NN JJ JJ NN NN VBP NN',\n",
       " 'NN NN VBP NN DT NN DT NN WRB DT NN NN NN NN NN NN NN VBP NN NN JJ NN NN NN NN VBP NN NN NN NN , NN NN NN NN NN JJ NN NNS VBP VB DT JJ NN NN JJ NN NN NN NN NN NN NN NN NN NN NN NN VBZ DT JJ NN NN NN NN VBP NN NN DT JJ NN NN NN NN NN NN VBP NN NN NN NN',\n",
       " 'NN NN VBP NN DT NN NN NN NN NN NN NN NN NN NN NN NN NN NN JJ NN NN NN , FW FW FW FW FW FW FW FW FW NN NN NN VBP',\n",
       " 'JJ NN NN NN VBP NN NN NN NN IN DT NN',\n",
       " 'JJ NN NN IN DT NN VBZ DT JJ NN NN JJ NN NN NN NN VBZ DT JJ NN NN VBD DT JJ NN VBD JJ NN NN',\n",
       " 'JJ NN IN DT NN NN NN FW FW FW NN NN VBP NN NN DT NN DT NN NN NN NN VBP NN NN VBZ DT NN NN',\n",
       " 'JJ JJ NN NN NN NN NN NN VBZ DT NN , JJ NN NN NN JJ NN VBD DT NN NN NN NN IN DT JJ NN DT JJ NN NN NN NN NN NN NN JJ NN . DT JJ NN NN JJ NN NN NN NN NN NN NN JJ JJ NN NN JJ NN NN . CC JJ NN JJ NN NN NN VBD DT NN NN NN NN NN NN NN NN . NN NN VBP IN DT NN NN NN',\n",
       " 'JJ JJ NN VBZ DT JJ NN JJ NN NN NN NN NN NN NN NN NN NN NNP VBZ DT NN NN NN NN NN NN NN JJ VBZ DT JJ NN NN NN VBP NN NN VBD DT JJ NN . JJ VBP JJ NN NN VBP NN NN DT JJ NN NN JJ JJ NN . VB DT NN NN NN NN NN NN VBZ DT JJ NN VBD JJ NN NN NN NN NN NN VBZ DT NN NN NN NN NN NN NN IN NN NN VBD DT NN NN',\n",
       " 'NN JJ NN NN NN IN NN NN NN . JJ IN NN NN VBP NN NN NN NN NN VBP NN NN NN NN NN NN VBZ DT NN NN DT JJ NN DT NN NN VBP IN DT JJ NN JJ NN DT JJ NN VBD DT NN JJ JJ NN NN NN NN . NN NN NN NN NN NN NN NN NN NN NN JJ NN NN NN NN NN NN JJ NN JJ NN NN NN NN NN NN NN NN NN VBP NN VBP DT NN NN NN NN NN NN NN NN JJ NN .',\n",
       " 'NN NN VBP NN NN NN NN NN JJ VBP JJ NN NN NN VBP VB DT NN , JJ NN NN NN NN NN IN NN NN VBP NN NN JJ NN NN NN JJ NN . JJ JJ NN NN NN NN VBP NN NN NN NN NN NN NN NN NN NN NN NN NN NN NN NN NN NN NN NN NN NN NN NN . DT JJ NN NN VBP NN NN DT NN NN NN VBP NN NN VBD DT NN',\n",
       " 'NN NN NN VBP NN NN NN NN NN . NN NN VBZ DT JJ NN DT JJ NN NN VBD DT JJ NN VBD NN NN VBP DT NN NN VBP NN NN NN NN NN JJ NN NN NNP NN JJ NN NN NN IN NN VBP DT NN NN IN JJ JJ NN NN NN NN VBP NN NN NN VBP NN',\n",
       " 'NN NN NN NNP VBZ DT JJ NN VBZ DT NN NN NN NN NN VBP NN JJ NN NN NN JJ NN NN NN NN VBZ DT NN NN NN NN NN NN NN NN NN VBP NN NN',\n",
       " 'NN NN NN NN NN NN NN NN NN IN DT NN NN IN JJ NN IN DT JJ NN NN NN NN NN',\n",
       " 'NN NN NN NN NNP NN NN VBP DT JJ NN VBZ DT NN NN NNP NN JJ NN NN NN VBP NN NN NN NN VBD DT NN NN . NN VBD DT NN NN VBP NN NN NN NN NN NN NN IN JJ NN NN JJ NN NN IN DT NN JJ NN NN NN VBP NN NN VBP NN NN NN VBZ DT NN NN NN NN VBP NN IN NN NN VBP NN NN NN VBP NN NN VBP IN NN NN VBP NN NN . JJ JJ NN NN VBD DT JJ JJ NN NN JJ VBP NN NN NN VBP NN NN',\n",
       " 'NN VBZ DT NN NN NN JJ VBP JJ NN NN NN NN VBP NN NN IN NN NN VBP NN NN NN NN NN NN NN NN NN NN NN JJ VBP JJ FW DT JJ NN NN JJ NN NN NN NN IN NN NN VBP NN NN NN NN NN VBP NN NN NN NN NN VBP JJ NN NN JJ NN NNS VBP JJ NN DT NN NN NN VBP VBZ DT NN NN VBZ DT NN NN VBP NN NN DT JJ NN NN NN NN FW NN NN NN JJ VBP NN NN NN NN VBP NN NN NN JJ NN NNS VBP VBZ DT JJ NN',\n",
       " 'NN NN NN NN NN VBP NN NN NN NN NN JJ NN NN NN NN VBD DT NN NN NN VBZ DT NN NN NN VBP NN NN NN VBD DT JJ NN VBD DT NN VBZ DT JJ NN NN NN VBP NN NN NN NN NN JJ VBZ DT JJ NN NN NN VBP NN NN IN NN NN VBP',\n",
       " 'NN VBZ DT NN NN NN VBD DT NN NN NN DT NN . . . DT NN DT NN NN NN NN NN NN JJ NN NNS VBP JJ NN DT NN NN VBP NN NN NN NNP VBZ FW DT NN VBZ DT NN NN NN DT NN',\n",
       " 'NN VBZ DT NN NN NN VBP JJ NN NN DT NN NN NN NN NN NN NN IN DT JJ JJ NN NN NN NN NN VBZ DT NN . JJ NN , DT JJ JJ NN NN NN NN NN VBZ DT NN NN VBP JJ NN VBD DT NN NN VBP NN NN',\n",
       " 'NN NN NN NN NN NN VBD DT NN NN DT NN NN JJ NN NN NN NN NN JJ NN NN NN NN NN VBP NN NN NN JJ NN NN JJ NN NN NN NN VBZ DT NN NN NN VBD DT NN NN VBP NN JJ NN NN NN',\n",
       " 'NN NN NN VBD DT JJ NN NN NN VBP NN DT NN DT JJ NN NN JJ NN NN VBP NN . . . VB DT NN NN NN NN NN NN JJ NN DT NN NN NN NN',\n",
       " 'NN NN NN VBD DT NN DT NN NN VBP NN NN DT JJ NN VBD DT NN',\n",
       " 'NN NN NN NN NN NN IN NN NN NN IN NN NN VBP DT JJ NN NN NN JJ NN NN NN NN NN NN NN NN NN NN NN NN VBD JJ NN VBP JJ NN NN VBD NN NN VBP NN NN JJ NN NN NN VBD DT NN NN NN JJ NN NN NN VBP NN',\n",
       " 'NN NN NN NN NN NN NN NN JJ NN NN NN NN NN NN , NN NN VBP NN NN , JJ VBP JJ NN NN NN NN NN NN NN NN NN JJ NN NN VBP NN . NN VBD DT JJ NN NN NN NN JJ JJ NN VBZ DT NN NN',\n",
       " 'NN NN NN NN VBD DT NN NN NN NN NN NN NN NN VBD DT NN NN NN VBZ DT NN NN NN . . . NN JJ NN NN NN VBD NN NN VBP NN DT NN NN JJ NN NN VBP VBZ DT NN NN VBP',\n",
       " 'NN NN NN NN IN NN NN VBP NN DT NN JJ NN NN NN , JJ NN NN , DT JJ NN NN NN JJ NN NN NN VBD DT NN JJ NN NN NN NN NN NN VBP NN NN NN NN JJ NN NN NN JJ NN VBZ DT NN NN . DT JJ NN NN NN VBZ DT NN NN NN',\n",
       " 'NN NN NN NN NN NN IN NN NN VBP NN JJ VBZ DT JJ NN NN NN VBZ DT NN NN IN NN NN NN JJ NN NN NN , CC JJ JJ NN JJ NN NN NN VBP JJ JJ NN NN NN',\n",
       " 'VB DT NN NN VBP NN VBP NN NN VBZ DT JJ NN NN NN NN IN NN NN VBP NN , WP VBD JJ NN NN VBP NN NN NN NN NN NN NN JJ NN NN NN NN NN NN NN NN VBP JJ IN NN NN VBP DT JJ NN JJ NN NN NN NN NN VBP NN JJ VBP JJ NN .',\n",
       " 'NN VBZ DT NN DT NN NN NN NN NN NN NN NN NN NN NN , NN VBD DT NN NN NN JJ NN NN NN NN NN NN',\n",
       " 'NN VBZ DT JJ NN NN VBP NN NN VBP NN NN DT NN MD VB JJ IN NN NN VBP NN NN NN NN NN NN NN NN NN VBP NN JJ NN NN VBZ DT NN NN NN NN JJ JJ NN NNP . NN NN VBZ DT NN NN VBZ DT JJ NN NN NN NN NN NN NN VBD DT NN NN VBP NN JJ NN NN VBP VBZ DT NN NN DT NN NN VBZ DT NN NN NN NN NN NN IN DT NN NN VBP NN',\n",
       " 'NN NN NN NN NN NN NN VBP NN NN NN IN NN NN VBP NN NN VBP NN NN NN NN NN VBZ DT NN NN NN NN NN NN NN NN NN NN NN NN NN VBP PDT DT JJ NN NN NN VBP NN NN NN NN NN JJ NN NN , NN NN NN NN NN , CC NN NN NN NN VBD DT JJ NN NN NN DT NN NN VBP JJ NN IN NN NN VBP JJ NN NN NN NN NN IN NN NN VBP NN NN NN',\n",
       " 'NN NN NN VBD DT NN NN NN NN VBP JJ NN NN NN NN NN NN NN , JJ VBP DT NN VBZ DT NN NN NN NN NN NN JJ NN NN JJ NN',\n",
       " 'NN NN NN NN NN NN JJ NN VBD DT JJ NN NN NN NN VBZ DT NN',\n",
       " 'NN NN NN NN NN NN JJ NN NN NN FW FW FW VBP DT NN NN NN VBP NN JJ NN IN DT NN MD VB NN NN VBP NN JJ VBP JJ NN',\n",
       " 'NN NN NN NN NN NN NN JJ NN DT NN NN NN NN NN NN VBP NN NN NN NN NN VBP NN NN NN NN , JJ VBP JJ NN NN NN JJ NN NN JJ VBP NN NN VBP NN NN',\n",
       " 'NN NN NN NN VBD DT NN NN NN NN NN IN NN NN VBP NN NN NN NN NN NN NN VBZ DT JJ NN JJ NN NN . . . JJ JJ NN NN NN NN NN NN JJ NN NN JJ NN VBD DT NN NN NN VBP NN NN VBP NN NN',\n",
       " 'NN NN NN NN VBD DT NN NN NN IN NN NN NN NN NN NN NN IN DT NN NN VBD DT JJ NN NN NN NN NN NN NN JJ JJ NN NN',\n",
       " 'NN NN NN NN VBD DT NN NN NN NN . NN VBD DT NN NN NN VBP JJ VBP JJ VBP JJ NN VBP NN NN DT NN NN VBD DT JJ NN NN NN NN NN IN NN NN VBP NN NN NN JJ JJ NN NN IN JJ NN NN . . . VB DT NN NN NN',\n",
       " 'NN NN JJ VBP JJ VBP JJ NN NN DT NN NN NN NN NN VBD DT JJ NN NN VBD DT NN IN DT JJ NN NN NN , NN NN NN NN NN VBP NN NN NN NN VBP NN DT JJ NN VBD DT NN NN DT NN NN NN NN NN NN NN JJ NN NN NN NN VBZ DT JJ NN NN , NN NN NN NN VBD DT NN DT , NN NN',\n",
       " 'NN NN JJ VBP JJ VBP JJ NN NN NN NN NN NN NN NN NN IN NN NN NN NN NN NN NN JJ NN NN FW NN VBP NN NN VBP NN NN NN NN NN NN VBP NN NN',\n",
       " 'NN NN NN VBP NN NN NN NN VBP NN VBP DT NN NN NN NN NN VBZ DT NN NN NN NN NN NN NN NN NN NN NN IN JJ NN NN . NN VBD DT NN NN NN NN NN NN NN NN NN VBP DT NN NN NN NN NN NN NN NN NN NN NN IN JJ NN NN . NN VBD DT NN NN NN JJ NN VBD DT NN NN NN IN JJ NN VBP NN NN JJ VBZ DT NN NN JJ NN VBZ DT NN NN JJ NN NN NN',\n",
       " 'NN NN JJ NN NN VBZ DT JJ NN NN NN NN NN NN IN DT NN NN NN NN JJ NN NN NN NN NN NN NN NN JJ NN NN NN NN JJ NN NN NN JJ NN NN NN JJ VBP VBP DT NN NN VBZ DT JJ NN VBD DT NN NN NNP VBZ DT NN NN DT NN NN JJ NN NN NN NN FW VBZ DT JJ NN NN NN NN JJ NN NN VBZ DT NN NN VBP NN NN NN NN VBP NN NN DT NN NN',\n",
       " 'NN NN JJ NN NN JJ NN JJ NN NN NN NN , NN NN VBP NN NN JJ VBP JJ JJ NN',\n",
       " 'NN NN NN VBP NN NN NN NN VBP IN NN NN VBP NN NN NN NN NN VBP NN NN IN NN NN VBP NN NN NN NN VBP NN NN VBP NN',\n",
       " 'NN NN NN NN IN DT NN NN NN NN VBP NN NN NN NN NN NN VBP DT NN NN NN NN NN NN NN NN NN NN , DT JJ NN NN VBP NN JJ NN NN NN NN NN IN JJ NN NN IN NN NN JJ JJ NN NN NN VBP NN NN NN NN NN NN NN NN NN NN NN IN NN VBP DT NN NN',\n",
       " 'JJ NN NN NN NN NN NN NN NN VBP NN NN NN NN VBP NN DT DT NN NN DT NN NN NN JJ NN IN DT JJ NN IN JJ NN VBP NN DT NN NN NN NN',\n",
       " 'JJ NN JJ NN , NN VBD DT NN NN NN NN NN VBD DT NN NN . UH NN JJ NN NN NN NN NN NN NN VBZ DT NN NN , FW FW FW FW FW NN NN NN NN NN NN NN NN , DT NN NN NN NN NN WRB NN DT NN . . NN VBD DT NN NN NN JJ NN NN JJ NN NN NN NN VBP NN NN VBP VBZ DT JJ NN NN NN JJ NN NN NN VBZ DT NN NN NN NN NN NNP VBZ DT NN NN JJ VBZ DT NN',\n",
       " 'JJ NN NN NN NN NN VBD DT NN VBZ DT NN NN VBP NN NN NN NN VBP JJ NN , JJ NN VBD DT NN NN NN VBP IN NN NN VBP NN NN NN NN . . JJ VBP DT NN NN NN IN NN NN VBP NN NN VBZ DT NN NN NN NN NN NN VBP NN , NN JJ NN NN NN NN VBD DT JJ NN JJ NN NN JJ VBP JJ JJ NN NN NN NN NN NN',\n",
       " 'NN NN VBP NN NN VBP NN JJ NN NN NN , NN NN NN JJ NN DT NN NN JJ NN NN NN , JJ FW FW FW FW JJ NN NN NN',\n",
       " 'NN VBZ DT DT DT DT DT DT NN . NN VBD DT JJ NN NN . . . NN VBD DT NN NN NN NN NN NN VBP JJ NN JJ VBZ DT NN NN NN VBP NN NN NN VBD JJ JJ NN VBZ DT NN NN NN NN NN NN IN NN NN NN NN VBP JJ NN NN NN NN VBP NN NN VBP PDT DT JJ NN NN VBD DT NN NN NN IN NN NN VBP NN',\n",
       " 'VB DT NN NN IN NN NN VBP NN NN DT NN NN NN VBP NN NN NN NN VBP NN , JJ NN VBP NN DT NN NN VBD DT NN NN NN VBP',\n",
       " 'NN NN VBD DT NN NN IN JJ VBP NN NN NN NN , WP VBZ VBP DT NN NN VBD DT NN NN NN NN VBD DT JJ NN NN NN VBD DT NN NN VBD NN NN VBP NN NN NNP NNP VBZ DT NN NN NN',\n",
       " 'NN NN NN NN IN JJ NN NN NN NN NN , DT JJ NN NN NN NN NN NN JJ NN NN NN . , , , JJ JJ NN . NN IN NN NN VBP NN NN VBP NN VBP NN JJ NN NN JJ NN NN',\n",
       " 'NN NN NN NN NN NN VBP NN NN , NN NN VBP NN NN NN NN VBD DT JJ NN . . .',\n",
       " 'NN VBZ DT NN NN VBP NN . JJ NN NN VBD DT NN NN NN NN NN NN NN NN IN DT JJ NN VBZ DT NN NN NN VBZ DT NN NN VBP JJ NN NN NN VBP NN NN JJ NN NN VBZ DT NN NN DT NN NN NN NN NN NN NN NN NN VBD DT JJ NN NN JJ NN NN JJ NN NN NN',\n",
       " 'NN NN NN IN JJ VBP JJ NN JJ NN NN NN VBP PDT DT NN IN NN NN VBP DT NN NN NN NN NN NN NN NN NN NN NN NN IN DT NN NN',\n",
       " 'NN NN JJ NN NN NN NN JJ NN NN NNP VBZ JJ VB DT NN NN NN VBP NN NN VBP NN DT NN NN NN , JJ NN VBP NN DT',\n",
       " 'NN NN NN NN NN IN NN NN NN IN NN NN VBP NN NN DT NN NN DT NN NN VBZ DT NN NN NN VBP NN NN DT NN NN VBP NN NN NN NN JJ NN NN NN . NN NN NN NN NN NN VBP JJ JJ NN VBD DT JJ NN NN NN NN JJ NN JJ NN NN NN NN JJ NN NN NN NN VBP NN VBP DT NN NN VBD DT NN NN JJ VBP JJ NN NN NN JJ NN NN NN NN NN NN NN NN NN NN JJ NN NN NN VBP NN NN DT JJ NN VBD DT NN',\n",
       " 'NN NN NN NN IN NN NN VBP NN NN JJ NN VBD DT NN NN VBP NN NN NN NN NN VBP NN NN NN NN NN NN VBP NN NN IN DT JJ NN NN NN NN VBP NN NN VBP NN NN DT NN NN NN VBP JJ JJ NN NN NN NN',\n",
       " 'NN NN NN NN NN JJ NN NN NN VBP DT JJ NN NN NN NN VBZ DT JJ NN NN VBP NN NN IN NN NN NN JJ NN NN NN . NN VBZ DT NN NN NN NN',\n",
       " 'NN NN NN NN NN JJ NN NN NN NN JJ VBZ DT JJ NN DT NN NN NN NN NN NN NN NN NN JJ NN DT JJ NN NN NN . NN NN NN NN NN NN NN . NN JJ NN NN NN VBP NN NN',\n",
       " 'NN NN NN NN NN JJ NN NN NN NN JJ VBZ DT JJ NN NN JJ NN NN NN NN JJ NN NN JJ NN NN NN VBP NN NN JJ NN NN NN . . . NN VBD DT NN VBZ DT NN NN NN NN NN JJ NN NN NN NN VBP RB VB DT NN DT NN DT NN DT NN DT',\n",
       " 'NN NN VBP NN NN VBD DT JJ NN DT NN NN VBP NN NN JJ NN NN NN NN NN NN VBP NN NN',\n",
       " 'NN MD VB NN NN NN NN NN NN NN NN NN NN NN JJ NN NN NN NN JJ NN NN NN NN JJ NN NN VBZ DT NN NN VBD DT NN DT NN DT NN NN NN NN',\n",
       " 'NN MD VB JJ NN IN DT NN NN DT NN NN VBP NN NN NN NN NN NN VBD DT NN VBZ DT NN NN VBZ DT NN NN NN NN NN JJ NN NN VBD DT NN NN NN VBP NN NN NN , DT JJ NN NN NN JJ VBP JJ NN NN NN NN NN NN JJ VBZ DT NN NN NN NN VBD DT NN',\n",
       " 'VB DT NN NN NN NN NN NN NN NN NN NN VBD DT JJ NN NN VBP NN NN DT JJ NN JJ NN NN VBD DT NN NN NN NN VBP NN DT NN NN JJ NN NN NN NN VBP NN NN NN NN NN VBP JJ IN NN NN VBP PDT DT NN NN NN JJ NN NN NN VBP NN',\n",
       " 'VB DT NN NN DT NN VBZ DT JJ NN NN VBP NN NN VBP NN NN NN NN NN VBD DT NN NN NN NN NN NN NN VBZ DT JJ NN NN NN NN NN NN VBZ DT JJ NN DT NN NN NN JJ VBP JJ NN NN NN NN VBZ DT JJ NN NN NN VBZ DT NN DT NN NN VBP NN NN VBP NN VBP NN NN NN NN VBP DT JJ NN VBZ DT JJ NN NN NN NN NN JJ NN NN JJ VBP JJ NN NN NN JJ VBP NN NN DT JJ NN',\n",
       " 'VB DT JJ NN NN NN NN NN NN VBP VBZ DT JJ NN NN VBP PDT DT NN NN NN VBP NN .',\n",
       " 'NN NN NN NN VBP NN NN JJ JJ NN NN NN NN JJ NN NN . NN NN NN IN DT NN NN JJ NN VBD DT NN NN NN NN . NN VBD DT NN NN NN NN NN JJ VBP JJ NN NN NN NN NN NN NN NN NN NN',\n",
       " 'NN MD VB DT NN NN VBP JJ NN NN NN NN NN NN JJ NN NN JJ NN NN NN NN NN JJ VBP VBP DT NN NN VBD DT NN NN',\n",
       " 'NN MD VB NN NN NN NN NN NN NN NN NN NN VBP JJ NN NN NN JJ NN NN NN NN JJ NN . NN NN VBP NN NN NN NN NN NN NN NN NN NN VBP NN NN JJ NN NN',\n",
       " 'NN MD VB DT NN DT , NN NN VBP NN NN . NN NN NN VBD DT NN WRB DT NN NN NN NN IN JJ NN NN NN JJ NN NN JJ NN NN NN VBD DT NN NN JJ NN NN NN NN NN JJ NN NN NN VBZ DT NN NN VBP JJ NN NN NN VBP',\n",
       " 'NN MD VB DT NN MD VB JJ JJ NN IN DT NN NN NN NN JJ VBP JJ NN VBZ DT NN NN NN JJ NN NN VBZ NN',\n",
       " 'NN MD VB DT NN MD VB NN NN NN NN VBP NN NN JJ VBP JJ NN VBD DT NN IN NN NN VBP NN NN NN NN NN NN JJ NN NN NN NN NN NN JJ NN NN NN NNP NN NN',\n",
       " 'NN MD VB DT JJ NN NN NN NN NN NN NN NN IN NN NN NN JJ NN NN NNP VBZ DT NN NN',\n",
       " 'NN MD VB DT NN VBZ DT JJ JJ NN NN',\n",
       " 'NN MD VB VB DT JJ NN JJ NN NN NN NN NN NN NN JJ NN NN NN NN NN VBP PDT DT NN NN NN NN VBZ DT JJ NN NN NN NN NN NN VBP NN NN NN NN NN VBZ DT JJ NN NN VBP PDT DT NN NN NN VBP NN NN . JJ NN NN NN NN VBZ DT JJ NN NN DT NN NN',\n",
       " 'NN MD VB VB DT JJ NN DT NN NN NN IN NN NN IN JJ NN NN JJ NN NN NN NN NN NN NN NN NN NN NN NN , NN JJ NN NN NN JJ VBZ DT JJ NN VBZ DT NN NN NN NN NN NN NN NN NN NN NN NN JJ NN NN NN NN NN NN NN',\n",
       " 'NN MD VB JJ NN JJ NN NN NN VBP NN JJ JJ NN NN NN NN NN NN NN NN NN NN NN NN , NN VBD DT NN NN NN NN NN NN NN NN NN NN JJ NN NN JJ NN NN NN NN NN NN NN NN NN NN NN JJ NN NN JJ VBP JJ JJ JJ NN NN NN',\n",
       " 'NN MD VB JJ NN NN NN NN NN VBZ DT NN NN NN NN',\n",
       " 'NN MD VB NN JJ VBP JJ IN NN NN VBP NN NN NN , JJ IN NN NN VBP NN NN NN NN NN IN NN NN NN NN NN VBZ DT NN NN VBP NN NN NN NN NN NN NN VBP NN , DT JJ NN NN VBZ DT NN DT NN NN DT NN NN JJ VBP NN NN NN NN JJ JJ NN NN . JJ VBP PDT DT NN NN VBP DT NN NN NN VBP PDT DT NN NN NN VBP',\n",
       " 'NN MD VB NN IN JJ NN NNS JJ JJ NN NN NN VBZ DT NN . . NN VBZ DT NN NN NN . . NN JJ NN NN NN JJ NN , JJ NN NN NN NN NN NN NN NN',\n",
       " 'NN MD VB NN IN JJ NN NN NN VBP IN NN NN VBP NN NN NN NN NN VBP NN NN NN NN NN NN NN NN JJ NN NN NN NN NN NN NN NN NN NN NN VBP NN NN NN NN NN NN NN NN VBP NN',\n",
       " 'NN MD VB JJ NN NN NN NN JJ NN NN NN JJ NN VBD DT NN NN NN NN VBP NN NN NN NN NN NN VBZ DT DT DT DT NN NN',\n",
       " 'NN MD VB VB DT NN NN NN NN VBP VBZ DT NN DT NN DT JJ NN NN NN JJ NN NN NN JJ VBP JJ NN NN VBD DT NN NN NN NN . NN JJ NN NN VBD DT NN NN NN NN IN NN NN NN NN NN , NN NN NN NN NN NN VBD DT NN NN NN NN JJ NN NN NN NN NN NN NN NN VBP NN VBP NN NN NN VBD DT NN NN JJ VBP VB DT JJ NN NN NN VBP NN NN',\n",
       " 'NN MD VB JJ NN NN NN IN JJ NN VBZ DT JJ NN NN NN NN NN JJ NN NN JJ NN NN VBZ DT NN NN VBZ DT NN NN JJ NN NN NN NN NN NN VBD DT NN NN NN NN NN VBP NN NN DT NN NN NN NN . JJ JJ NN NN . . . . JJ JJ NN NN JJ NN NN VBP DT NN NN . . . . JJ JJ NN NN . . . . NN NN NN NN NN JJ VBP JJ JJ NN NN NN NN JJ NN JJ JJ NN NN VBP JJ NN NN NN NN NN',\n",
       " 'NN NN JJ NN VBZ DT NN DT NN NN NN JJ NN NN NN NN , DT JJ NN NN VBD DT NN NN NN VBP NN NN JJ VBP DT NN NN NN NN',\n",
       " 'NN NN JJ NN NN NN JJ NN NN FW NN JJ NN JJ NN NN NN JJ VBP JJ NN JJ NN JJ NN VBD DT NN NN NN JJ JJ NN JJ NN NN NN NN NN NN NN IN NN NN VBP NN JJ NN NN NN NN VBP NN NN JJ NN NN VBZ DT NN DT JJ NN NN NN VBP NN NN VBP JJ IN JJ NN VBP NN NN JJ NN',\n",
       " 'NN NN JJ NN DT NN JJ NN NN NN .',\n",
       " 'NN NN JJ NN NN JJ NN NN NN NN NN NN NN IN NN NN VBP NN NN DT NN DT JJ NN NN NN JJ NN NN VBP NN VBP NN VBP DT NN NN NN NN NN NN NN NN NN JJ NN NN',\n",
       " 'NN NN JJ NN NN NN NN NN VBD DT NN NN NN NN VBP NN NN NN NN NN VBD DT NN NN . DT JJ NN NN VBD DT JJ NN NN . NN VBZ DT NN . . . CC JJ NN NN NN VBD DT JJ NN VBD DT NN DT NN DT NN NN NN IN NN VBP DT NN NN JJ NN NN NN NN',\n",
       " 'NN JJ NN . JJ JJ NN NN FW FW FW FW DT NN NN VBP NN NN NN VBP NN NN VBZ DT NN NN NN NN VBP NN NN VBP NN NN NN NN NN NN JJ NN VBD DT JJ NN DT NN NN DT NN NN NN NN',\n",
       " 'DT JJ JJ NN NN VBP NN NN VBP NN NN NN NN NN NN JJ NN NN NN NN NN NN NN NN NN NN JJ NN NN NN NN NN NN NN NN NN NN NN NN JJ VBP JJ VBP JJ NN DT NN DT NN NN DT NN DT JJ NN NN NN VBD DT NN NN NN NN JJ NN',\n",
       " 'DT NN NN NN NN NN NN VBP NN NN NN NN .',\n",
       " 'DT NN NN NN VBP NN NN IN NN NN VBP NN NN DT JJ NN NN VBP DT NN NN NN VBZ DT JJ NN NN NN NN VBP NN NN NN NN NN NN VBP NN NN NN NN NN NN NN VBD DT JJ NN NN NN VBZ DT NN NN NN VBZ DT NN NN NN IN JJ NN DT JJ NN NN NN JJ NN NN NN NN NN IN NN NN VBP NN NN NN NN VBP NN NN',\n",
       " 'NN NN VBP NN NN JJ NN VBZ DT NN NN NN NN NN NN VBP',\n",
       " 'NN NN VBP NN NN NN NN IN DT NN NN VBP DT NN VBP DT NN NN VBP NN NN NN NN NN NN NN NN NN NN NN VBP NN VBP JJ NN NN VBD DT JJ NN VBD DT NN',\n",
       " 'NN JJ NN NN VBP JJ NN NN NN JJ VBP PDT DT NN NN NN VBP NN NN NN VBD DT NN DT NN MD VB NN IN NN NN',\n",
       " 'NN JJ NN NN JJ NN NN NN NN VBP NN NN NN NN NN NN NN NN VBD DT NN NN NN VBZ DT NN DT DT NN DT NN NN NN NN VBP JJ NN NN NN JJ NN JJ NN NN VBP NN NN NN NN NN VBZ DT NN NN NN NN NN NN NNP VBZ DT NN DT',\n",
       " 'VB DT NN NN NN NN NN FW CC JJ NN DT NN JJ NN NN NN JJ NN NN JJ VBZ DT JJ NN NN JJ VBP VBP DT JJ NN NN JJ VBP NN NN NN NN NN NN NN',\n",
       " 'VB DT NN IN DT JJ NN VBD DT NN VBZ DT NN IN NN NN VBP NN NN NN NN NN NN VBD DT JJ NN IN NN NN VBP NN NN NN VBZ DT NN NN',\n",
       " 'VB DT NN NN JJ NN JJ NN NN NN NN NN JJ NN NN NN NN NN NN NN NN NN NN NN NN JJ VBZ DT NN NN NN NN IN NN NN VBP NN DT NN NN NN NN NN NN VBP NN JJ NN NN NN NN NN NN JJ VBZ DT JJ NN NN JJ VBP JJ NN NN NN JJ NN NN IN NN NN VBP PDT DT NN NN NN VBP NN NN JJ JJ NN NN VBP NN NN',\n",
       " 'NN MD VB JJ NN NN NN NN NN JJ NN NN NN VBP NN NN NN VBP NN NN JJ NN NN NN NN NN NN VBP , JJ VBP JJ VBP JJ NN VBD DT NN NN NN NN NN VBZ DT NN NN JJ NN NN NN NN JJ NN NN NN NN NN NN',\n",
       " 'NN MD VB JJ NN NN JJ NN NN NN JJ NN NN NN VBP NN NN JJ JJ NN NN NN NN NN NN NN NN NN NN NN NN NN VBP NN NN NN NN NN NN VBZ DT NN NN NN NN',\n",
       " 'JJ JJ NN NN NNP VBZ JJ NN NN JJ NN JJ NN NN VBZ DT JJ NN VBD DT NN NN NN NN NN NN JJ NN VBD DT NN NN VBP VB DT JJ NN NN NN VBP JJ NN NN VBP NN JJ JJ NN NN IN JJ NN , JJ FW NN NN , JJ VBP JJ NN JJ NN NN NN NN NN IN JJ NN NN JJ NN NN . JJ VBP NN NN VBP NN NN NN NN NN NN NN NN NN NN VBP NN NN VBP JJ NN NN',\n",
       " 'NN NN VBP VB DT JJ NN NN DT NN NN NN NN VBP DT NN NN JJ JJ NN VBZ DT NN NN DT NN NN VBD DT NN NN DT NN DT NN NN NN NN VBZ DT NN NN NN NN VBP NN NN NN NN NN VBP NN NN VBP NN',\n",
       " 'NN MD VB JJ NN JJ NN NN NNP NNP NN NN VBP NN NNS JJ VBP JJ VBP JJ NN NN NN NN VBP JJ NN NN NN JJ NN NN IN JJ NN NN NN IN NN NN VBP NN NN NN NN VBP NN NN NN NN NN JJ NN NN DT , NN JJ NN NN VBZ DT NN NN NN JJ NN VBD DT NN NN NN NN NN NN',\n",
       " 'JJ VBP JJ VBP DT NN IN NN NN VBP DT NN NN NN NN NN VBZ DT JJ NN NN VBP NN NN VBP NN NNP VBZ RP DT NN NN NN JJ NN NN JJ VBP JJ NN NN VBP NN NN , JJ VBP NN NN VBP NN NN NN IN DT NN NN NN NN JJ NN NN NN NN NN JJ NN NN JJ NN NN NN JJ NN NN VBP PDT DT JJ JJ NN NN NN NN NN JJ NN . JJ NN JJ NN NN NN NN NN JJ NN NN JJ NN NN NN VBP NN NN',\n",
       " 'NN VBP NN NN NN VBZ DT JJ NN JJ NN NN NNP NN JJ NN NN NN VBP NN NN NN VBP PDT DT NN NN VBP NN NN , JJ NN NN NN JJ NN NN NN JJ NN VBZ DT NN NN NN NN NN NN NN JJ NN DT NN NN JJ NN NN NN NN JJ NN NNS VBP JJ NN VBD DT NN . NN JJ VBP JJ NN DT NN',\n",
       " 'JJ VBP JJ NN NN IN DT NN NN VBP NN NN DT NN NN NN VBP NN NN DT NN DT NN NN NN NN VBP NN NN DT NN DT NN DT NN NN NN NN NN',\n",
       " 'NN VBP NN NN NN NN VBP JJ NN NN NN NN VBP NN NN NN NN NN NN NN VBP NN NN NN NN NN NN VBP JJ VBP JJ NN',\n",
       " 'NN NN VBP NN DT NN NN NN VBP NN NN NN NN NN NN VBP NN NN DT JJ NN NN NN VBP NN DT JJ NN NN VBP VBZ DT JJ NN NN JJ NN NN NN NN DT NN NN DT NN VBZ DT JJ NN NN NN NN VBP NN NN DT JJ NN NN JJ NN NN VBD DT NN NN DT NN VBZ DT JJ NN NN VBZ DT NN NN NN VBD DT NN NN',\n",
       " 'JJ NN NN JJ NN NN NN , JJ NN JJ NN NN NN NN NN IN DT NN NN NN NN NN NN NN NN NN JJ NN NN VBP , JJ NN JJ NN VBD DT NN NN NN NN NN JJ NN JJ NN NN JJ VBP JJ NN NN VBP NN NN VBP NN NN VBD DT NN , NN NN NN . CC JJ . NN JJ NN NN JJ NN NN IN NN NN VBP NN NN NN NN JJ NN NN NN NN NN NN NN NN , NN NN NN , WP IN NN NN JJ NN',\n",
       " 'NN NN VBZ DT NN NN NN NN NN NN JJ NN NN NN NN NN VBP NN NN NN NN NNP VBZ JJ IN NN NN VBP JJ NN NN VBP NN NN VBP NN NN VBZ DT JJ NN NN NN VBP PDT DT JJ NN JJ NN NN VBP NN NN VBD DT NN NN NN NN NN NN IN NN NN VBP JJ NN NN NN NN IN NN NN VBP NN IN NN NN VBP NN JJ NN NN',\n",
       " 'JJ NN NN NN NN NN VBP NN NN VBP NN NN JJ VBP JJ JJ NN NN JJ VBP JJ NN NN JJ NN NN VBP NN VBP NN NN DT NN NN NN DT NN NN NN DT NN NN NN DT NN DT NN NN NN NN VBZ DT NN NN NN IN JJ NN NN VBP NN NN NN VBD DT NN JJ NN NN NN NN NN NN NN VBP NN NN VBP IN NN NN VBP NN NN DT NN',\n",
       " 'JJ JJ NN NN VBD DT NN NN NN NN JJ NN NN NNP NN NN NN NN NN VBP NN NN JJ VBP JJ NN NN IN DT NN NN IN JJ NN NN NN NN NN NN NN NN NN . VB DT NN NN',\n",
       " 'NN NN NN NN NN NN JJ VBP NN NN',\n",
       " 'NN NN VBP NN VBP NN NN NN VBP NN NN NN NN NN NN NN NN NN NN VBP NN NN NN JJ NN NN NN JJ NN NN NN NN NN NN NN NN JJ NN NN',\n",
       " 'NN NN JJ VBP JJ NN NN NN FW JJ NN NN NN NN NN VBP NN NN NN NN NN VBZ DT NN JJ NN NN JJ NN VBZ DT DT NN DT NN , CC JJ JJ NN NN NN NN NN NN VBP NN FW DT NN NN JJ JJ NN . JJ VBP JJ NN JJ NN NN NN NN NN NN NN NN NN NN NN IN JJ NN NN VBP NN NN VBP JJ JJ NN NN NN VBZ DT NN . VB DT NN NN NN . JJ JJ NN NN NN NN',\n",
       " 'NN VBZ DT NN NN NN NN NN NN NN IN DT NN NN , NN NN DT NN NN NN NN NN JJ NN . DT NN NN DT NN DT NN NN NN VBP NN NN NN NN , JJ NN NN VBP NN JJ NN NN NN NN VBP JJ NN NN NN NN NN VBZ DT NN NN NN JJ NN NN',\n",
       " 'NN NN NN JJ NN JJ NN NN VBD DT NN NN DT NN NN VBP DT NN NN NN NN NN NN NNP NN VBZ DT JJ NN NN NN NN JJ VBP VB DT NN VBZ DT JJ NN VBZ DT JJ NN NN IN NN NN VBP NN NN NN VBP NN NN JJ NN NN NN NN JJ NN NN VBP NN NN NN NN NN VBD DT NN NN VBD DT NN NN NN NN NN VBP VBZ DT NN NN VBP NN VBP NN NN VBP NN NN DT NN NN NN NN NN NN NN NN NN VBP NN NN NN NN NN NN VBP NN DT NN',\n",
       " 'NN NN NN JJ NN DT NN NN NN NN NN VBD DT NN NN VBD DT NN NN VBP NN DT NN NN JJ NN NN NN NN NN NN IN NN NN VBP NN',\n",
       " 'NN NN NN NN NN NN NN NN NN NN NN VBP NN NN NN JJ NN NN JJ NN NN NN NN NN NN JJ NN NN NN NN NN NN NN NN NN NN VBD DT JJ NN NN NN NN NN NN NN NN VBD DT NN NN NN NN JJ NN VBZ DT NN',\n",
       " 'NN MD VB JJ JJ NN NN JJ VBP JJ NN JJ NN NN NN NN NN JJ NN NN JJ NN NN JJ NN NN NN NN NN NN VBZ DT NN NN NN JJ NN NN NN VBP NN . DT JJ NN NN NN NN NN JJ NN NN NN NN NN IN JJ NN NN NNS VBP',\n",
       " 'NN NN JJ NN NN IN NN NN VBP NN DT NN JJ JJ NN NN NN VBP NN NN JJ NN NN',\n",
       " 'NN VBZ DT NN NN NN JJ NN VBD DT NN NN VBP NN NN NN IN NN NN JJ NN NN NN NN IN NN VBP NN DT NN MD VB DT JJ NN NN NN JJ NN NN NN NN NN NN NN NN JJ NN VBD DT NN NN NN VBP NN NN NN VBD DT NN NN NN NN NN NN',\n",
       " 'NN NN JJ VBP JJ NN NN VBD DT NN NN NN NN NN NN JJ NN NN NN NN NN NN NN NN JJ NN NN NN NN NN JJ NN NN , VB DT NN NN NN NN NN NN JJ NN NN , NN NN VBP NN NN NN VBP NN NN JJ NN NN , NN NN NN NN NN VBP NN NN NN NN , NN JJ NN NN NN JJ NN NN , NN NN IN NN NN VBP NN NN NN NN NN NN NN NN IN JJ VBP DT NN NN NN NN NN NN NN JJ NN NN',\n",
       " 'NN NN NN NN IN NN NN VBP DT JJ NN NN NN VBP NN NN JJ JJ NN DT NN NN JJ NN NN NN VBD DT JJ NN NN NN NN',\n",
       " 'NN NN NN NN IN JJ NN VBP NN NN VBP NN NN JJ NN DT NN . VB DT NN NN IN NN NN VBP NN NN NN NN . JJ NN NN NN VBP VBZ DT NN NN VBP NN NN NN NN NN VBZ DT NN NN NN NN VBP NN NN VBZ DT NN NN VBP IN DT JJ NN NN NN JJ NN NN NN',\n",
       " 'VB DT NN NN NN NN NN NN JJ NN NN VBZ DT JJ NN NN JJ NN NN NN VBP DT NN NN VBD DT NN NN VBP NN NN IN NN JJ NN NN JJ JJ FW DT NN NN NN JJ VBP JJ NN DT NN NN NN VBP NN NN VBP NN NN NN IN NN NN VBP JJ NN NN NN NN VBZ DT NN DT NN NN NN',\n",
       " 'VB DT JJ NN NN JJ NN NN NN JJ NN NN JJ NN NN NN NN NN NN NN NN',\n",
       " 'NN MD VB NN VB DT JJ NN NN NN NN NN NN NN VBP NN NN DT NN DT NN NN NN JJ NN NN NN NN NN VBP NN NN',\n",
       " 'DT NN NN NN JJ NN NN NN JJ NN NN NN NN NN VBZ DT NN NN , JJ NN NN VBD DT NN NN VBP WRB DT NN JJ NN NN JJ NN JJ NN NN NN NN VBD DT NN NN DT NN DT NN NN NN NN NN VBZ DT NN DT NN NN NN NN VBZ DT NN NN VBP NN NN NN JJ VBP NN NN VBZ DT JJ NN NN VBP NN NN NN NN VBD DT NN NN . JJ JJ NN NN NN VBZ DT NN DT NN NN VBZ DT NN NN NN NN IN NN NN VBP NN',\n",
       " 'DT NN NN NNP NN NN IN NN NN DT NN NN NN NN NN NN NN VBD DT NN NN VBP NN NN VBP JJ NN NN NN NN NN NN NN NN NN JJ NN NN NN NN NN VBP JJ NN NN NN VBD DT NN NN DT NN NN VBZ DT JJ NN NN NN NN JJ NN NN VBD DT NN NN VBP NN NN JJ NN NN NN NNP NN NN NN VBP IN DT NN NN . . . .',\n",
       " 'DT NN NN NNP NN NN IN NN NN DT NN NN NN NN VBD DT NN NN NN NN NN NN NN VBP NN NN NN NN NN NN NN . . . JJ NN NN VBD DT NN',\n",
       " 'DT JJ JJ NN NN JJ NN NN NN NN NN NN NN VBP NN VBP DT NN NN NN VBP NN NN VBD DT NN DT DT JJ NN NN NN JJ NN NN VBP NN NN NN VBD DT NN NN VBP NN NN NN NN NN NN NN VBZ DT . NN NN NN NN , JJ NN NN NN VBP JJ NN NN VBP NN NN JJ JJ NN DT JJ NN NN NN NN . JJ JJ NN VBD DT NN',\n",
       " 'DT NN DT NN NN VBP DT JJ NN NN NN NN JJ NN NN NN',\n",
       " 'DT JJ NN NN NN NN VBD DT NN NN JJ NN NN NN JJ NN NN VBD DT NN NN DT JJ NN NN NN NN VBD DT JJ NN VBD DT NN NN NN VBP VB DT JJ NN NN NN NN NN VBD DT JJ JJ NN NN VBP NN NN JJ NN VBD DT JJ NN JJ NN',\n",
       " 'NN NN NN NN DT NN NN NN NN NN NN NN NN VBP NN NN NN NN NN NN VBP NN NN NN NN NN IN NN NN VBP NN NN VBP NN , NN NN VBP NN NN NN NN JJ NN NN NN NN IN NNS NNS',\n",
       " 'NN NN VBZ DT NN NN VBP NN DT NN VBZ DT NN NN NN VBD DT JJ NN . NN JJ NN NN NN NN NN NN VBZ DT JJ NN NN NN NN NN VBD DT NN NN NN VBP IN DT NN NN NN . VB DT NN NN NN NN NN VBP NN NNS VBP JJ NN VBZ DT NN NN IN JJ NN NN NN NN , NN NN NN VBZ DT NN NN VBP NN NN IN NN NN VBP NN .',\n",
       " 'VB DT JJ NN VBD DT JJ NN NN NN VBP NN NN DT JJ NN NN DT NN NN VBP NN NN NN NN NN . . . JJ NN NN NN VBP NN NN NN NN',\n",
       " 'NN DT NN NN NN IN NN NN VBP NN NN NN NN IN JJ NN VBD DT NN VBZ DT NN NN NN VBP NN NN NN NN NN JJ NN NN JJ NN NN NN VBD DT NN NN NN JJ NN NN VBZ DT NN NN VBD DT NN WRB DT NN NN DT NN NN NN NN NN VBD DT JJ NN NN NN VBD DT NN WRB DT NN NN NN NN NN VBP JJ NN NN NN NN NN . NN JJ NN NN VBD DT NN NN IN DT JJ NN NN',\n",
       " 'NN NN NN NN NN NN JJ NN NN NN VBD DT NN NN NN NN NNP NN NN NN NN VBP NN NN NN NN NN NN NN NN NN NN VBD DT NN DT JJ NN VBD DT JJ NN',\n",
       " 'NN NN VBP NN NN VBP NN NN DT JJ NN DT NN NN NN NN DT NN DT NN NN NN JJ NN NN NN . JJ JJ NN NN NN , JJ FW NN NN VBZ DT NN NN NN NN NN NN NN NN NN NN NN NN NN VBP NN NN NN JJ NN NN JJ JJ NN VBD DT NN NN IN NNP NN VBP NN NN NN NN NN VBP NN NN JJ VBP JJ NN NN VBZ DT NN NN NN NN NN NN JJ NN NN IN NN NN VBP NN DT NN NN NN NN NN NN NN NN IN NN NN',\n",
       " 'NN NN VBP NN NN JJ NN DT NN NN NN JJ NN NN VBZ DT NN NN NN NN VBP NN NN JJ NN NN VBZ DT JJ NN NN VBP JJ NN NN NN NN NN NN NN NN NN . . . . NN JJ NN NN NN VBD DT JJ NN NN JJ VBP JJ NN NN NN VBD DT NN NN NN VBP NN NN DT NN NN NN VBP NN NN JJ NN NN',\n",
       " 'NN NN NN NN NN NN NN NN JJ VBZ DT NN NN NN VBZ DT JJ NN NN NN VBD DT NN NN NN NN NN NN NN NN NN NN , FW NNP VBP JJ NN NN NN NN NN NN NN VBZ DT NN NN NN NN NN',\n",
       " 'NN NN NN NN NN NN NN NN JJ VBZ DT NN NN NN NN NN NN NN VBZ DT NN NN NN NN JJ NN NN NN NN NN VBD DT NN NN NN NN NN IN JJ NN NN NN JJ JJ NN NN JJ NN NN NN NN JJ NN NN NN VBP NN NN VBP NN NN JJ NN VBD DT JJ NN NN NN NN NN NN NN NN NN NN IN JJ NN NN NN JJ NN NN NN NN NN NN NN NN NN NN JJ NN NN',\n",
       " 'NN NN NN NN NN NN NN NN JJ NN NN NN NN VBP NN NN NN JJ NN NN NN JJ VBP JJ NN DT NN NN NN NN NN NN NN NN NN NN IN JJ NN NN VBP JJ NN NN NN',\n",
       " 'NN NN NN NN NN NN NN NN JJ VBZ DT JJ NN VBD DT NN NN NN NN NN NN NN NN VBD DT NN NN NN NN NN NN VBP NN NN NN NN NN NN IN DT JJ NN . . DT JJ NN NN NN NN NN NN JJ NN NN VBZ DT NN NN JJ NN NN VBD DT NN NN NN NN NN NN NN NN NN NN NN NN NN . DT NN NN NN NN JJ JJ NN NN NN JJ NN NN NN NN NN NN IN DT NN NN DT NN NN NN NN VBD DT JJ NN NN NN NN',\n",
       " 'NN NN NN NN NN NN NN NN JJ NN NN NN NN NN VBD DT NN NN NN NN NN VBZ DT NN NN NN NN NN VBP NN NN NN NN VBP NN NN NN NN VBP NN NN VBZ DT NN DT JJ NN NN VBD DT NN NN DT NN JJ NN NN NN NN NN NN NN NN',\n",
       " 'NN NN JJ NN NN NN VBP NN DT NN IN DT JJ NN NN JJ NN NN NN NN NN NN NNP NN NN VBP NN NN JJ VBP JJ JJ NN NN NN NN VBP NN NN NN NN IN DT NN NN DT NN NN JJ NN IN DT NN NN VBP NN NN VBP',\n",
       " 'NN JJ NN JJ JJ IN NN NN VBP NN NN NN VBP NN NN NN NN NN NN VBZ DT NN NN DT NN NN NN JJ JJ NN VBD DT NN NN NN NN NN JJ NN NN JJ NN NN NN NN NN VBP VBZ DT NN NN VBP NN NN NN NN JJ NN NN NN NN NN',\n",
       " 'VB DT NN NN VBP JJ NN NN VBP DT NN NN NN JJ NN NN NN NN NN NN JJ VBP NN NN VBZ DT NN NN',\n",
       " 'VB DT NN NN VBP JJ NN NN VBP DT NN NN NN JJ NN NN NN NN NN NN JJ VBP NN NN VBZ DT JJ NN NN NN JJ NN NN NN NN NN NN NN IN NN NN NN VBZ DT NN JJ VBZ DT',\n",
       " 'NNS VBP JJ NN IN NN NN VBP NN NN VBZ DT NN NN NN NN NN JJ NN NN NN NN VBZ DT NN NN NN JJ NN NN NN NN JJ NN JJ NN NN NN IN NN NN VBP JJ NN NN NN NN NN JJ IN NN NN VBP NN NN NN NN JJ VBZ DT JJ NN NN IN DT NN NN NN JJ NN NN NN JJ JJ NN NN . JJ JJ NN VBP NN NN JJ VBP JJ VBP JJ NN NN VBP JJ NN JJ NN NN NN VBP NN NN VBP NN NN NN NN',\n",
       " 'NN NN NN NN VBP NN NN DT NN NN DT NN NN NN NN JJ JJ NN NN NN NN NN JJ VBP NN NN VBP NN NN NN NN NN VBD DT JJ NN NN NN NN NN JJ VBP NN NN VBP NN NN NN NN VBP NN NN NN NN , JJ NN NN NN NN NN NN VBP NN NN IN NN NN VBP NN NN DT NN NN NN NN NN JJ NN NN JJ VBP JJ NN VBZ DT NN NN NN NN NN VBD DT NN NN NN VBZ DT JJ NN DT NN NN IN NN VBP DT NN NN NN NN',\n",
       " 'NNS VBP JJ NN NN JJ NN JJ NN NN NN NN VBP NN NN VBP NN NN NN NN NN JJ NN JJ NN NN NN NN NN NN NN NN',\n",
       " 'NNS VBP NN NN NN NN VBD DT NN NN NN NN VBP NN NN NN VBD JJ NN NN NN NN NN NN IN DT NN NN VBP IN DT JJ NN NN NN NN NN NN NN VBZ DT JJ NN NN VBP NN VBP JJ NN NN IN NN NN VBP NN NN DT NN',\n",
       " 'NNS VBP DT NN NN NN VBZ DT NN NN NN NN NN , VBP VB DT NN NN VBZ NN',\n",
       " 'NN NN VBZ DT JJ NN NN VBZ DT NN NN NN NN VBZ DT JJ NN NN IN JJ JJ NN JJ NN JJ NN NN NN VBZ DT JJ NN DT NN VBZ DT NN NN NN NN NN NN NN IN NN NN VBP NN NN NN NN NN NN',\n",
       " 'NN JJ NN NN VBD DT NN NN NN NN VBZ DT JJ NN NN NN NN NN NN NN NN NN NN NN NN NN VBP NN NN NN JJ NN NN JJ VBP VBP DT NN NN IN JJ VBP JJ NN NN VBP NN NN VBP NN NN NN NN NN VBD DT NN NN NN NN NN NN',\n",
       " 'NN VBZ DT NN NN IN NN NN VBP NN VBP NN NN NN JJ NN NN NN NN VBZ DT NN NN VBZ DT NN NN VBP NN NN DT NN NN NN NN NN NN NN JJ NN NN NN NN NN JJ NN VBD DT JJ NN NN VBP JJ VBP JJ VBP JJ NN NN JJ NN VBD DT JJ NN NN NN NN . . . NN NN NN NN NN VBD DT NN NN NN NN NN NNP NN NN IN NN NN VBP NN NN JJ NN NN NN IN NN NN VBP NN JJ NN NN NN NN NN NN NN NN NN NN NNS VBP',\n",
       " 'NN NN NN NN JJ NN VBZ DT NN NN DT NN NN NN VBP IN DT JJ NN NN NN JJ NN NN JJ VBP DT NN NN JJ JJ NN NN NN VBP PDT DT NN NN DT NN NN NN NN VBD DT NN NN NN NN NN NN NN NN NN NN VBP NN NN NN NN NN NN NN NN NN NN NN NN NN NN JJ VBZ DT JJ NN NN NN IN DT NN NN JJ NN NN JJ NN NNP NN , CC JJ JJ NN DT NN VBZ DT JJ NN NN NN NNP NN NN NN',\n",
       " 'NN NN NN NN JJ NN VBZ DT NN NN DT NN NN NN VBP NN VBP DT JJ NN NN NN NN VBP DT NN NN NN JJ VBZ DT NN NN NN NN NN VBP JJ NN VBD DT JJ NN NN JJ NN NN NN JJ NN NN NN VBP NN NN VBD DT NN NN NN NN NN VBP JJ JJ NN NN NNP NN NN VBP NN NN NN NN NN VBD DT JJ NN DT JJ NN NN VBP NN NN NN NN VBP NN NN DT NN NN , VBP JJ NN NN VBP JJ NN VBD DT JJ NN NN VBP NN NN NN',\n",
       " 'NN NN NN NN JJ NN VBZ DT NN NN DT NN NN NN VBP NN NN VBP RB VB DT NN NN VBP NN NN VBZ DT NN NN NN VBZ DT NN NN NN NN VBP NN NN NN NN NN NN NN NN VBP RB VB DT NN NN VBP NN NN NN NN JJ NN JJ NN NN NN NN VBP RB VBP DT NN JJ NN NN NN NN NN VBP DT NN NN NN VBP NN NN NN NN JJ NN NN NN NN NN NN NN NN NN JJ NN DT NN NN JJ NN NN',\n",
       " 'NN NN NN NN JJ NN VBZ DT NN NN DT NN NN NN VBP NN NN JJ NN NN NN NN NN NN NN NN NN NN NN IN NN NN VBP NN NN VBZ DT JJ NN NN NN VBD DT JJ NN VBZ DT JJ NN NN NN , NN NN VBP NN NN DT JJ NN NN NN VBP NN NN NN JJ NN NN NN NN VBP NN NN NN NN VBP VB DT NN DT NN NN NN NN VBP NN NN NN JJ NN NN NN JJ VBZ DT JJ NN NN VBZ DT NN NN NN VBP NN VBP DT JJ NN NN NN',\n",
       " 'NN NN NN NN JJ NN VBZ DT NN NN DT NN NN NN VBP NN NN NN NN VBP JJ NN NN NN JJ VBP JJ NN VBD DT NN NN NN NN VBP NN NN NN JJ JJ NN DT NN NN , VBP JJ NN DT NN DT NN NN NN VBD DT NN NN VBD JJ JJ NN JJ NN NN NN NN VBD DT JJ NN NN , VBP NN NN VBP DT NN NN VBP PDT DT JJ NN VBZ DT NN NN NN JJ NN NN VBZ DT NN NN NN NN JJ NN NN IN JJ NN NN VBP NN NN NN VBP NN NN NN JJ NN NN NN NN NN NN',\n",
       " 'NN NN NN NN NNP NNP VBZ JJ NN VBZ DT NN DT NN NN VBP NN NN NN JJ NN VBZ DT JJ NN NN NN VBD PDT DT NN , JJ VBP JJ VBP JJ NN NN VBP NN NN NN NN . NN NN VBP NN NN VBD DT NN NN NN NN JJ VBZ DT NN NN VBP JJ JJ NN',\n",
       " 'NN JJ NN NN NN VBZ DT NN NN NN NN VBD DT NN NN IN NN NN VBP NN NN VBZ DT NN NN',\n",
       " 'NN JJ NN NN NN NN NN IN NN NN NN NN NN IN NN NN VBP NN NN JJ NN NN NN VBP NN NN NN JJ NN NN NN NN NN NN VBP NN VBP PDT DT NN VBZ DT NN NN NN NN JJ VBP NN NN VBZ DT NN NN',\n",
       " 'VB DT NN NN NN NN NN VBP NN NN DT NN NN NN NN NN NN NN NN VBP NN NN JJ JJ NN NN VBP NN NN DT NN NN NN NN VBP NN NN NN NN NN NN VBP NN NN NN NN NN NN NN NN NN NN VBD DT JJ NN DT JJ NN NN VBP NN',\n",
       " 'NN NN NN VBZ DT NN NN VBZ DT NN DT JJ NN NN VBP NN NN JJ NN NN NN NN NN NN VBZ DT NN NN VBP JJ NN NN NN NN NN VBP NN NN NN JJ VBZ DT NN NN DT NN . JJ VBP VBP DT NN NN IN DT JJ NN NN NN NN IN NN NN VBP NN NN NN NN NN VBD DT NN',\n",
       " 'NN NN NN VBZ DT JJ NN DT NN NN VBZ DT JJ NN NN VBD DT NN NN JJ NN NN NN NN NN JJ NN NN NN NN NN VBZ DT NN DT NN NN NN NN IN NN NN VBP NN VBP JJ NN DT NN NN NN NN NN VBP NN NN VBP DT NN NN NN VBD DT JJ NN JJ JJ NN NN VBP NN NN NN NN JJ NN NN NN NN VBP NN . JJ JJ NN NN NN VBZ DT NN DT NN NN NN NN NN',\n",
       " 'NN NNP NN VBD DT NN VBP DT NN DT NN NN VBP NN NN NN NN NN VBD DT NN NN NN NN NN NN NN NN VBP PDT DT NN NN JJ NN NN NN IN DT JJ NN NN NN NN NN NN JJ NN NN NN NN NN NN NN NN NN VBD DT NN NN VBP NN NN VBD DT JJ JJ NN JJ NN NN VBP NN NN VBP NN NN NN NN NN NN VBZ DT NN NN NN',\n",
       " 'VB DT NN NN NN NN VBD DT JJ NN NN NN VBP NN NN NN NN NN NN NN IN DT NN NN NN NN NN NN VBP NNS VBP JJ NN NN JJ NN NN NN NN JJ NN NN JJ NN NN VBP JJ NN NN NN',\n",
       " 'VB DT NN NN NN NN VBZ DT NN NN NN NN VBD DT NN NN NN NN NN VBD DT NN NN NN NN NN VBZ DT NN JJ NN VBZ DT NN NN NN JJ NN NN NN VBD DT NN JJ NN NN VBZ DT JJ NN NN IN NN NN VBP NN NN VBP NN NN NN JJ NN NN NN NN NN NN',\n",
       " 'JJ NN VBD DT NN NN NN IN NN NN VBP NN VBP NN NN NN NN NN NN VBD DT JJ NN NN IN NN NN VBP , JJ VBP JJ NN IN NN NN VBP NN NN NN',\n",
       " 'NN NN VBP NN VBP DT NN NN VBZ DT JJ NN NN NN . . NN NN VBZ DT JJ NN NN VBZ DT NN NN DT NN NN VBP NN NN NN NN NN NN NN NN NN NN NN NN NN NN NN VBZ DT NN NN NN VBP JJ NN NN NN NN NN NN . VB DT JJ NN NN NN NN',\n",
       " 'JJ NN NN NN NN NN NN VBD DT NN NN NN VBP NN NN NN IN NN NN VBP NN . . NN NN NN NN JJ NN NN NN NN JJ NN NN NN NN JJ VBZ DT NN DT NN NN NN VBP NN NN DT NN NN . . NN NN JJ NN JJ NN NN JJ NN VBD DT NN NN NN NN VBP NN NN NN NN NN NN VBP NN NN NN JJ NN NN NN VBP NN NN VBP NN DT NN NN NN NN NN VBZ DT NN NN NN NN NN NN NN NN NN NN',\n",
       " 'JJ NN NN NN VBD DT NN NN NN JJ NN NN DT NN NN NN VBZ DT NN NN NN NN VBP NN NN JJ VBP JJ NN NN NN VBP NN . NN JJ NN NN NN NN NN',\n",
       " 'JJ NN NN NN NN VBZ DT NN DT NN NN NN VBP VBZ DT JJ NN NN VBP NN NN IN DT JJ NN VBD DT NN NN NN NN NN NN JJ NN NN JJ NN NN NN NN VBZ DT NN NN JJ JJ NN NN NN NN NN NN NN NN NN',\n",
       " 'NN NN NN NN NN NN VBP DT NN DT NN NN VBP VBZ DT JJ NN NN NN NN NN NN VBP NN VBP DT JJ NN NN VBZ DT NN NN NN IN JJ NN VBP NN VBP DT NN NN , JJ NN NN VBD DT JJ NN VBD JJ NN NN VBD DT JJ NN NN VBD DT NN DT NN NN VBD DT JJ NN NN VBP NN',\n",
       " 'NN IN NN NN VBP DT NN NN VBZ DT JJ NN IN NN NN VBP NN NN NN NN NN NN NN VBP NN NN NN VBZ DT NN NN NN NN VBP NN NN NN NN NN NN VBD DT NN DT JJ NN',\n",
       " 'VB DT NN NN NN NN NN NN JJ NN NN JJ NN VBZ DT NN . . . . JJ VBP JJ VBP VBP DT NN JJ NN NN NN VBZ DT NN NN NN NN VBP DT . . . . . . . . . . . . . . . . . VB DT NN NN VBD DT NN NNP NN NN JJ NN NN JJ NN NN NN NN VBD DT NN NN NN NN JJ JJ NN NN NN NN NN NN VBZ DT NN NN VBP NN NN NN NN IN NN VBP DT NN NN VBP NN NN NN VBP NN NN VBP NN JJ NN NN',\n",
       " 'VB DT NN NN NN NN NN NN JJ NN NN JJ NN VBZ DT NN . . . . . VB DT NN NN NN NN NN NN JJ JJ NN DT NN NN NN NN VBD DT NN DT NN NN NN JJ VBZ DT JJ NN DT NN NN . . . . . . . . NN JJ NN NN JJ NN VBD DT NN NN VBD DT NN NN VBP DT NN NN NN NN NN NN NN NN NN VBD DT JJ NN NN NN NN VBP NN JJ NN NN',\n",
       " 'VB DT NN IN NN NN VBP JJ JJ NN VBD DT NN NN NN VBP NN NN JJ NN JJ NN NN JJ NN VBD DT JJ NN DT NN NN NN NN NN NN VBP NN NN NN NN NN IN DT JJ NN VBD DT NN NN',\n",
       " 'NN NN NN NN NN VBZ DT NN NN NN NN NN NN NN VBD DT NN NN NN VBD DT NN NN . NN JJ NN NN NN JJ VBP JJ NN NN VBP NN JJ NN NN VBP PDT DT NN NN NN NN NN NN',\n",
       " 'NN NN NN NN NN NN NN NN NN NN VBZ DT JJ NN . NN NN NN NN NN NN NN VBZ DT NN NN NN NN IN NN NN IN JJ VBP NN . NN NN NN NN NN VBP NN NN NN NN NN VBD DT NN NN NN NN NN NN VBP NN NN VBP NN NN , FW FW FW DT JJ NN NN NN VBP NN NN NN , NN NN NN IN JJ NN VBP NN .',\n",
       " 'NN MD VB JJ JJ NN NN VBP NN VBP NN NN NN NN IN DT NN NN NN NN NN NN VBZ DT JJ NN NN VBD DT NN NN NN NN NN NN NN NN IN JJ NN NN JJ NN NN NN NN NN NN VBD DT NN NN NN NN VBZ DT NN JJ NN NN NN , NN VBD DT NN NN DT NN NN NN VBP NN VBP NN JJ JJ NN NN NN NN NN NN , DT NN NN VBP DT NN NN JJ JJ NN NN NN NN NN NN NN',\n",
       " 'NN MD VB NN JJ NN NN NN NN JJ NN NN VBP NN NN VBP NN NN NN VBD JJ NN JJ NN NN NN JJ NN NN JJ NN NN NN NN VBP VBZ DT NN NN NN VBZ DT NN DT JJ NN NN VBP NN NN VBD DT NN NN NN VBP NN',\n",
       " 'NN VBP JJ JJ NN VBD DT NN NN NN NN VBP NN NN NN NN VBZ DT JJ NN NN NN NN NN JJ NN NN',\n",
       " 'NN VBP JJ NN NN NN IN NN NN VBZ DT NN NN VBD DT NN NN NN NN NN NN NN JJ NN NNS VBP JJ NN NN NN NN VBP NN NN NN NN NN VBP JJ NN JJ NN NN VBZ DT NN NN VBP JJ NN NN JJ VBP JJ VBP JJ NN VBZ DT NN NN NN NN NN NN VBP NN VBP NN NN NN NN NN NN NN',\n",
       " 'NN VBP IN DT JJ NN NN NN VBP NN NN DT JJ NN NN NN VBP NN JJ NN NN NN VBP JJ NN JJ NN NN NN VBP NN , NN VBD DT NN NN VBZ DT NN NN NN NN NN NN VBP NN NN DT JJ NN , JJ NN JJ NN , NN NN NN , VB DT NN NN VBZ DT JJ NN NN NN NN . DT JJ NN IN DT NN NN NN NN NN NN VBP NN . NN NN VBP NN NN NN NN NN NN NN JJ NN NN . NN VBZ DT NN DT NN NN NN',\n",
       " 'NN VBP NN NN VBZ DT JJ NN NN NN IN DT NN NN VBP JJ NN NN NN NN NN NN NN NN IN JJ NN NN NN NN VBD DT NN NN NN VBP JJ NN . NN JJ NN . NN JJ IN NN NN VBP NN FW DT NN NN VBP JJ NN NN IN NN NN VBP NN NN',\n",
       " 'NN VBP NN NN JJ JJ NN NN VBZ DT NN NN NN VBZ DT JJ NN NN NN NN NN DT NN NN NN NN JJ NN NN JJ NN , NN NN NN NN VBD DT NN NN NN IN NN NN NN NN VBD DT JJ NN NN NN IN NN NN NN NN NN VBP NN NN NN IN DT NN NN VBP IN DT NN NN NN JJ NN NN JJ NN NN . NN VBD DT NN NN NN NN NN NN JJ NN NN NN NN VBD DT NN NN VBZ DT NN NN . NN JJ IN NN NN VBP NN NN',\n",
       " 'NN VBP NN NN NN NN JJ NN NN NN VBD DT JJ NN VBZ DT NN NN VBP NN NN NN NN NN NN NN NN NN NN NN NN NN NN NN VBP JJ NN VBZ DT JJ NN VBD DT NN DT NN NN NN NN NN . NN NN NN , JJ VBP JJ NN JJ NN NN NN NN JJ NN NN NN , CC JJ JJ NN NN JJ JJ NN NN NN NN NN NN NN NN NN NN NN , NN NN VBP NN NN . NN VBD DT JJ NN NN',\n",
       " 'NN VBP NN NN VBZ DT JJ NN NN VBP DT NN VBZ DT NN JJ NN NN NN NN NN NN NN NN NN NN VBD DT NN DT NN NN NN NN NN DT NN',\n",
       " 'NN VBP NN NN VBP NN NN NN VBD JJ NN JJ IN NN NN VBP DT NN VBZ DT NN DT NN NN NN NN VBZ DT JJ NN VBD DT NN DT NN DT JJ NN VBD DT NN NN NN NN . NN VBD DT JJ NN NN IN NN NN VBP NN DT NN NN NN NN NN NN NN NN VBD DT JJ NN NN NN NN NN NN VBZ DT NN VBZ DT JJ NN NN NN VBP JJ NN NN VBD DT NN NN VBP IN DT JJ NN',\n",
       " 'NN VBP NN NN VBP NN JJ NN JJ NN NN NN IN NN NN NN NN VBZ DT NN . . . . . . . . . NN NN VBP NN NN . NN NN VBZ DT JJ NN NN NN NN NN NN NN NN NN NN NN NN JJ VBP JJ NN DT NN DT NN NN NN NN NN NN JJ NN NN JJ NN , NN NN VBP NN NN . JJ NN NN NN . JJ JJ NN JJ JJ NN NN',\n",
       " 'NN VBP NN NN VBP NN JJ NN JJ NN NN NN IN NN NN NN NN VBZ DT NN NN DT NN DT . . . NN JJ JJ NN JJ NN NN NN VBP NN NN VBD DT NN NN NN NN NN IN JJ NN NN VBP NN . . . . . NN JJ JJ NN NN NN NN NN VBP NN JJ NN NN NN NN NN NN NN NN NN NN NN VBP NN NN DT NN NN NN NN NN NN VBP IN DT JJ NN NN NN JJ NN NN NN NN JJ NN NN NN . NN NN VBP NN NN DT NN NN',\n",
       " 'NN VBP IN DT JJ NN NN JJ NN NN NN NN NN NN JJ VBP NN NN VBZ DT NN NN',\n",
       " 'NN VBP DT NN NN NN NN NN NN NN NN NN NN NN NN NN NN VBD DT JJ NN NN VBZ DT JJ NN NN NN NN NN NN NN VBP VBZ DT NN NN NN NN VBP NN VBP DT NN VBZ DT NN NN DT NN NN VBP DT NN NN NN NN NN VBD JJ NN DT NN NN NN NN NN NN NN NN NN NN NN NN NN NN NN VBP NN NN NN NN NN VBD DT NN NN NN NN VBP DT NN NN VBP NN DT NN NN VBP NN DT NN NN JJ NN NN VBP',\n",
       " 'NN NN NN JJ JJ NN NN NN NN VBP NN NN DT JJ NN NN VBZ DT JJ NN NN NN NN NN NN VBD DT NN NN NN NN NN NN NN NN VBD DT NN NN NN NN NN NN JJ NN NN NN NN NN JJ NN . NN IN NN NN VBP NN NN NN JJ NN NN NN NN NN NN NN',\n",
       " 'VB DT JJ NN NN NN NN NN JJ NN NN NN NN NN NN JJ NN NN NN NN NN NN VBP NN NN NN NN JJ NN NN NN NN VBZ DT NN NN NN JJ VBP JJ NN NN NN NN NN NN NN VBP NN NN NN VBD VBZ DT JJ NN NN NN NN NN',\n",
       " 'NN NN VBP NN NN NN IN DT NN NN VBP VB DT NN NN NN NN NN NN JJ VBZ DT NN NN NN NN VBP JJ NNS VBP',\n",
       " 'NN NN IN NN NN VBP IN DT NN NN VBP NN NN VBP NN NN JJ NN NN NN NN NN VBP NN NN VBP NN NN NN NN VBD DT NN NN NN NN IN JJ VBP JJ NN NN VBZ DT NN NN NN VBP NN VBP NN NN NN NN NN NN NN NN NN NN VBP NN NN VBZ DT JJ NN NN NN NN JJ VBZ DT NN NN VBZ DT NN NN',\n",
       " 'NN NN NN VBD DT NN NN NN IN NN NN NN JJ NN JJ NN NN NN NN NN JJ NN NN JJ NN NN NN NN NN NN NN NN VBP VB DT JJ NN NN NN VBZ DT JJ NN NN NN NN NN NN NN VBP NN NN . JJ VBP JJ NN NN VBP NN VBP DT NN NN NN NN NN NN JJ NN NN NN JJ NN IN DT NN MD VB JJ NN VBZ DT NN NN VBP JJ IN NN NN VBP NN NN VBD DT JJ NN VBZ DT NN NN VBP NN NN NN NN JJ NN VBZ DT NN NN',\n",
       " 'NN NN VBP JJ NN NN NN IN DT JJ NN NN JJ NN NN NN NN NN NN JJ VBP NN NN VBZ DT NN NN',\n",
       " 'NN NN JJ JJ NN NN NN JJ NN DT NN IN NN NN VBP NN VBP JJ NN VBZ DT NN NN VBP NN NN NN VBP NN NN NN NN NN JJ NN NN NN NN VBP NN NN NN DT JJ NN VBD DT NN NN VBD DT NN NN VBP NN NN NN NN NN VBZ DT JJ NN NN NN NN NN NN NN VBZ DT NN NN VBZ DT NN NN NN NN VBP VBZ DT JJ NN NN NN NN VBD JJ NN VBP NN NN NN JJ NN NN NN',\n",
       " 'JJ NN NN . JJ . NN . NN . NN . DT JJ NN NN IN NN NN VBP NN NN NN NN VBP NN NN VBP NN NN NN JJ NN NN NN NN NN NN NNP VBZ DT JJ NN NN NN NN NN NN IN DT NN NN VBP NN NN NN NN NN NN NN NN NNP NN NN NN VBD DT NN NN NN IN NN NN NN IN NN NN VBP NN NN NN NN NN NN JJ NN NN NN',\n",
       " 'JJ NN NN NN JJ NN JJ NN NN VBP JJ NN NN NN',\n",
       " 'RB DT NN NN VBP IN DT NN VBZ DT JJ NN DT NN . . . JJ JJ NN NN . VB JJ NN NN NN NN DT NN NN IN NN NN NN NN NN VBP NN NN VBP IN NN NN VBP NN NN VBZ DT NN NN VBZ DT JJ NN NN NN DT NN NN NN VBP JJ JJ NN NN NN VBP DT NN NN VBP PDT DT JJ NN NN NN NN JJ NN JJ NN NN JJ VBP JJ JJ NN NN NN VBP NN',\n",
       " 'RB DT NN NN VBP JJ NN NN . JJ NN DT NN . JJ VBP JJ JJ NN NN NN NN NN VBP NN NN NN VBD DT NN NN VBP JJ JJ NN NN . VB JJ NN NN NN NN NN NN NN DT NN NN NN . NN JJ NN NN NN VBP NN NN NN NN',\n",
       " 'JJ NN NN NN VBZ DT NN NN VBP NN NN NN NN VBZ DT NN . NN IN NN VBP DT NN NN NN NN NN JJ NN NN NN JJ VBP JJ NN DT NN NN VBP NN NN NN VBP JJ JJ NN NN VBZ DT NN NN NN NN',\n",
       " 'JJ NN NN NN VBZ DT NN NN VBP NN NN NN VBZ DT NN NN NN JJ VBP JJ JJ JJ NN NN NN NN VBP NN NN JJ NN NN NN VBP NN NN NN NN NN JJ NN NN VBZ DT NN NN NN NN',\n",
       " 'JJ NN NN NN VBZ DT NN NN VBP NN NN DT JJ NN JJ JJ NN NN NN NN JJ NN NN NN NN VBP NN NN JJ NN NN NN VBP NN NN NN NN NN JJ NN NN VBZ DT NN NN NN NN',\n",
       " 'JJ NN NN NN VBZ DT NN NN VBP NN NN NN NN NN NN NN NN NN NN NN NN VBD DT JJ NN NN NN VBZ DT JJ NN DT NN NN VBP DT JJ NN NN NN NN NN NN VBP NN NN DT NN NN JJ NN NN VBZ DT NN NN NN NN',\n",
       " 'JJ MD VB NN NN VBD DT NN NN VBD DT NN NN VBZ DT NN . . . . . JJ VBP JJ NN NN NN NN NN JJ NN NN NN NN NN JJ VBP JJ NN NN NN VBD DT NN NN NN NN NN NN NN NN VBP NN DT NN MD VB JJ NN JJ NN NN NN VBP NN DT NN NN VBP NN IN JJ NN NN . . . .',\n",
       " 'JJ JJ NN NN NN VBP DT NN NN VBP PDT DT NN NN NN NN NN NN NN NN IN NN NN VBP NN NN VBP NN NN NN VBP NN JJ JJ NN NN VBP NN DT NN JJ NN NN NN NN NN NN NN NN NN NN VBZ DT JJ NN NN JJ NN NN JJ VBP JJ NN VBP PDT DT NN NN JJ VBZ DT JJ NN IN DT NN NN NN VBZ DT NN NN VBP NN NN JJ VBP NN NN VBP NN VBP DT NN NN JJ VBP VBP DT NN NN JJ NN NN NN VBP NN NN NN IN NN NN VBP NN NN NN',\n",
       " 'NN NN NN NN NN VBP NN NN VBP JJ JJ NN NN NN NN NN NN NN NN NN NN . NN NN NN NN NN JJ NN VBZ DT NN NN NN NN NN VBP NN NN NN VBP NN NN NN NN NN NN NN NN',\n",
       " 'VB DT NN NN NN IN DT NN NN VBP JJ NN JJ NN NN NN NN IN DT NN . NN NN NN NN NN VBP NN VBP DT NN NN IN JJ JJ JJ NN NN VBP JJ NN DT JJ NN NN NN NN VBP NN NN NN DT NN NN NN NN VBP NN VBP NN NN NN NN VBD DT NN DT NN NN NN NN NN VBP NN NN DT NN DT NN NN IN NN NN VBP NN NN',\n",
       " 'NN NN IN NN NN NN NN IN DT NN NN NN VBP IN DT NN NN NN NN VBP NN DT NN NN NN NN NN , JJ NN NN VBP JJ JJ NN NN NN NN NN NN NN NN NN NN NN NNP NN NN NN NN VBP NN NN JJ NN DT NN NN NN NN',\n",
       " 'NN NN IN NN NN NN NN NN JJ VBZ DT NN NN NN NN NN NN NN NN VBP NN NN NN NN NN NN NN NN NN VBZ DT JJ NN NN VBP DT NN NN NN IN DT JJ NN NN VBP NN NN NN JJ NN DT JJ NN NN NN NN JJ NN NN NN NN NN NN . NN JJ NN NN NN NN NN NN NN VBP NN DT NN NN VBP NN NN VBP NN NN NN NN JJ JJ NN NN . JJ JJ NN NN NNP VBZ JJ',\n",
       " 'NN NN IN DT NN NN NN JJ NN VBZ DT NN NN NN NN VBP NN NN NN NN NN NN NN NN NN VBZ DT JJ NN NN NN NN NN NN NN VBP NN NN VBP NN NN NN NN NN VBP NN NN .',\n",
       " 'NN JJ NN NN NN NN VBP NN NN DT NN NN NNP NN NN NN NN NN NN NN NN NN NN JJ JJ NN NN NN VBP NN NN VBZ DT NN NN NN VBP NN NN NN JJ VBP JJ JJ NN NN JJ NN NN NN NN NN NN NN IN NN NN IN NN NN VBP NN , JJ VBP DT NN VBZ DT JJ NN NN VBP DT NN NN JJ NN . . . . . . . . . . . . . . JJ JJ NN NN NN NN JJ NN IN DT NN NN NN NN NN VBP NN NN JJ NN NN NN NN NN NN NN NN',\n",
       " 'VB DT NN NN VBP JJ NN NN NN JJ NN NN NN NN NN NN NN NN NN IN NN NN VBP NN NN NN JJ NN VBZ DT NN NN NN NN NN NN NN JJ NN NN VBD DT NN NN NN IN JJ NN NN NN NN NN , DT JJ NN NN NN JJ NN VBZ DT NN NN IN NN NN VBP JJ VBP NN , NN NN VBP JJ JJ NN NN VBZ DT NN DT NN NN NN NN VBP NN , NN NN NN NN NN NN NN NN',\n",
       " 'VB DT NN NN NN VBP NN NN VBP DT NN NN VBP NN NN . NN JJ NN NN VBD DT NN NN VBP NN',\n",
       " 'VB DT NN NN NN VBP NN NN VBP JJ NN NN VBP NN DT NN NN VBP NN NN . NN JJ NN NN NN JJ VBP JJ JJ NN NN NN NN JJ NN . NN JJ NN NN JJ VBZ DT JJ NN NN NN JJ JJ NN NN NN NN NN NN VBP JJ NN . JJ JJ NN NNP VBZ JJ JJ NN NN',\n",
       " 'NN VBZ DT JJ NN JJ NN NN NN VBZ DT JJ NN NN NN NN NN NN NN NN NN NN NN NN VBP JJ VBP DT NN NN DT NN NN JJ VBP JJ JJ NN NN NN NN VBP JJ NN NN VBD DT NN NN NN NN VBZ DT NN IN NN NN VBP NN',\n",
       " 'NN VBZ DT JJ NN JJ NN NN NN NN NN NN NN NN JJ NN NN NN VBD DT NN NN JJ NN NN NN JJ NN VBZ DT NN NN NN . JJ NN NN NN NN IN JJ JJ NN NN VBP NN NN JJ NN JJ NN NN JJ VBP JJ NN NN VBP NN , JJ FW NN JJ NN NN JJ NN NN IN NN NN VBP NN NN NN VBP NN',\n",
       " 'NN NN NN NN NN VBD NN NN VBP JJ NN NN . . . . . . JJ VBP PDT DT NN NN JJ NN NN VBD DT NN NN VBP NN NN VBD DT NN NN JJ NN NN NN NN NN IN JJ NN NN . JJ VBP JJ NN VBD DT NN NN JJ NN NN JJ NN NN NN VBP NN NN NN NN NN NN VBP NN NN JJ NN NN NN VBP NN NN NN NN VBP VBZ DT JJ JJ NN NN JJ VBP VBP DT NN NN DT NN NN NN JJ NN VBD DT NN NN VBP NN NN',\n",
       " 'NN NN NN NN NN VBD NN NN VBP JJ NN NN . . . . . . JJ VBP JJ NN NN VBP NN DT NN DT NN NN IN DT NN NN VBP VBZ DT NN DT NN DT NN NN JJ NN NN NN VBP NN JJ NN NN VBP NN NN NN NN VBP NN NN DT NN NN NN VBZ DT NN NN IN DT NN JJ NN DT NN NN NN IN JJ NN NN . . . . . JJ NN NN IN NN NN IN NN NN VBP NN . . . . . . VB DT NN NN NN NN NN IN NN NN',\n",
       " 'NN NN NN NN NN NNP , JJ FW NN JJ NN NN JJ NN NN NN IN NN NN VBP NN NN NN NN VBD DT NN NN JJ NN NN NN FW NN NN NN JJ NN JJ NN VBZ DT JJ NN NN VBZ DT NN , DT JJ NN JJ JJ NN NN NN JJ NN VBD DT NN NN NN NN NN NN NN NN NN VBZ DT JJ NN NN NN NN NN NN NN JJ NN NN NN NN JJ NN VBZ DT NN NN . NN NN NN',\n",
       " 'NN NN VBZ DT NN NN NN NN VBP NN NN VBZ DT JJ NN NN NN NN NN IN JJ JJ NN NN NN NN NN NN VBP NN NN NN NN JJ NN NN NN VBZ DT NN NN VBP IN DT NN NN JJ NN NN NN IN JJ NN NN NN VBZ DT NN JJ NN VBD DT NN NN NN VBP NN NN DT NN DT NN . . . . NN VBD DT NN NN DT NN NN NN . . .',\n",
       " 'NN MD VB DT NN NN . . VB DT JJ NN DT JJ NN NN VBP . NN VBZ DT NN NN NN NN NN NN IN NN NN NN NN NN NN NN NN NN NN NN NN NN NN NN NN NN NN NN VBP NN NN NN NN NN NN NN . VB DT JJ NN NN NN NN NN NN NN NN NN NNP VBZ JJ NNS VBP JJ NN NN VBP NN NN JJ NN NN',\n",
       " 'NN MD VB DT NN NN NN NN VBP WRB DT JJ NN NN NN NN NN NN NN NN NN NN NN NN . JJ JJ NN NN NN NN NN NN NN VBP NN NN NN NN NN NN NN VBD DT NN JJ NN VBD DT JJ NN NN NN NN NN NN NN JJ NN NN . NN JJ VBZ DT NN NN JJ NN JJ NN NN . NN NN NN NN NN NN NN JJ NN NN NN VBP JJ NN NN NN NN NN . VB DT JJ NN NN NN VBD NN NN VBP NN NN NN VBP DT NN NN NN VBP JJ NN NN',\n",
       " 'NN NN NN VBP DT NN NN NN NN NN VBZ DT JJ NN VBD DT NN NN NN VBP VBZ DT NN VBZ DT JJ NN NN',\n",
       " 'NN NN NN VBP DT NN NN JJ NN NN NN NN VBD DT JJ NN NN NN JJ NN NN NN . JJ JJ NN NN NN NN NN VBP JJ NN NN FW NN NN VBD DT NN DT NN DT JJ NN NN VBP PDT DT NN DT NN NN',\n",
       " 'NN NN JJ JJ NN NN JJ NN NN NN NN NN NN NN NN NN NN NN NN NN VBD DT NN NN NN NN NN NN VBD DT NN NN VBP VBZ DT',\n",
       " 'NN NN JJ JJ NN NN JJ NN NN IN NN NN NN NN NN VBP NN NN VBP VB DT NN . VB DT NN JJ NN NN',\n",
       " 'NN NN JJ JJ NN NN JJ NN NN IN NN NN VBD DT JJ NN NN NN NN IN JJ JJ VBP VBP DT NN',\n",
       " 'NN NN JJ JJ NN NN JJ NN NN IN NN NN NN NN NN VBP NN NN VBP VB DT NN . NN VBZ DT NN NN NN VBP VB DT NN DT NN JJ NN NN',\n",
       " 'NN NN VBP JJ NN NN JJ NN NN NN NN SYM NN NN VBP NN JJ VBP NN NN NN IN JJ NN VBP NN DT NN NN NN NN NN NN NN VBP NN NN JJ NN NN NN VBP NN NN NN JJ VBZ DT NN NN JJ VBP JJ NN NN NN FW NN JJ NN NN NN NN NN VBP DT JJ NN NN NN NN NN JJ NN JJ NN NN IN JJ VBP VBP DT NN NN',\n",
       " 'NN VBZ DT NN NN VBP NN NN VBP NN NN NN NN VBZ DT NN NN',\n",
       " 'JJ NN NN VBP NN NN NN VBZ DT JJ NN JJ NN NN NN NN NN VBD DT NN NN NN NN NN VBP NN NN NN NN VBD DT JJ NN DT NN NN NN VBP JJ JJ NN NN , JJ NN NN NN NN , DT JJ NN NN NN NN VBP NN NN NN VBP VBZ DT NN NN NN NN NN NN VBZ DT DT NN NN VBZ DT NN',\n",
       " 'NN MD VB NN IN NN NN VBP NN NN VBP NN NN DT NN NN VBD DT NN NN NN NN NN . . . DT NN NN DT NN . NN NN DT NN NN . VBZ DT NN DT NN VBP DT NN . VB DT NN . NN NN VBD DT NN NN NN NN . JJ NN JJ NN NN',\n",
       " 'NN MD VB NN NN VBZ DT NN IN NN NN VBP DT NN NN NN JJ NN NN NN NN NN NN JJ VBP NN NN VBZ DT NN NN',\n",
       " 'NN NN VBZ DT JJ NN NN DT JJ NN NN JJ NN NN JJ NN JJ NN NN NN IN DT NN DT NN NN VBP NN NN VBP NN NN NN NN NN NN NN IN DT NN',\n",
       " 'NN NN NN NN NN NN JJ VBP JJ NN NN IN NN NN NN NN NN VBZ DT JJ NN NN NN NN NN NN NN IN JJ NN VBP NN NN NN VBP JJ NN NN VBP JJ NN VBP NN NN VBP JJ NN NN NN NN NN NN NN NN NN NN VBP NN NN DT JJ NN NN VBP JJ JJ NN NN NN NN NN JJ VBP JJ NN DT NN NN VBZ DT NN NN NN VBP NN NN NN NN JJ JJ NN VBD DT NN NN NN NN VBP NN NN NN VBP JJ NN',\n",
       " 'NN NN NN NN NN NN NN NN NN JJ NN NN NN NN NN NN NN NN NN VBP NN NN NN VBP NN',\n",
       " 'NN NN NN NN NN NN JJ NN NN NN NN VBD DT JJ NN NN NN NN VBP VBZ DT',\n",
       " 'NN NN JJ NN NN NN NN VBZ DT NN NN VBP NN VBP NN NN NN VBP PDT DT NN NN NN VBP NN NN NN NN JJ NN NN NN VBZ DT JJ NN DT NN',\n",
       " 'NN VBZ DT NN NN NN JJ NN VBD DT NN NN VBP NN NN NN IN NN NN JJ NN NN NN NN JJ NN NN JJ NN NN VBP DT NN NN NN NN NN NN NN VBP NN NN VBZ DT JJ NN NN NN JJ NN NN NN DT NN NN NN NN NN IN NN NN VBP NN NN NN VBP JJ NN NN VBP NN NN IN NN NN VBP NN',\n",
       " 'NN VBZ DT NN NN NN JJ NN VBD DT NN NN VBP NN NN NN IN NN NN JJ NN NN NN NN JJ NN NN JJ NN JJ NN JJ NN NN NN VBZ DT NN NN VBP NN FW DT JJ NN NN NN JJ NN VBD DT NN IN NN NN VBP NN NN NN IN NN NN VBP NN NN NN JJ NN NN VBP NN NN NN NN NN JJ NN NN NN NN NN NN NN NN NN NN',\n",
       " 'NN VBZ DT NN NN NN JJ NN VBD DT NN NN VBP NN NN NN IN NN NN JJ NN NN NN NN JJ NN NN JJ NN VBD DT NN NN JJ VBP JJ NN NN NN NN JJ NN NN NN NN JJ NN NN JJ JJ NN NN NN VBP NN NN NN VBZ DT NN NN DT JJ NN NN NN NN NN NN NN JJ NN NN NN VBP NN NN NN NN NN NN IN JJ NN NN NN VBD DT NN NN',\n",
       " 'NN VBZ DT NN NN JJ NN NN NNP VBZ FW JJ NN NN JJ NN NN NN NN JJ NN NN JJ NN VBZ DT NN NN NN NN JJ NN VBD DT NN NN NN VBP NN NN NN NN NN NN NN IN DT JJ NN NN VBP NN DT NN VBP NN NN VBP NN NN JJ NN VBD DT NN DT JJ NN NN NN NN NN VBD NN NN VBP NN NN JJ NN NN NN VBP DT JJ NN VBD DT NN NN NN VBP DT NN DT JJ NN NN NN NN JJ NN NN NN VBD DT NN NN NN VBP NN NN',\n",
       " 'NN NN NN NN NN NN VBD DT JJ NN IN NN NN VBP NN NN NN JJ VBP JJ NN NN VBP NN NN VBP NN NN NN IN NN NN NN NN NN IN DT NN NN JJ NN NN NN NN VBD DT NN NN VBZ DT JJ NN NN NN VBP NN NN JJ NN IN DT JJ NN NN NN NN NN NN NN VBP NN',\n",
       " 'NN NN JJ VBP JJ NN NN VBP NN VBP NN NN VBZ DT NN NN NN NN NN NN JJ NN NN NN JJ NN NN NN NN VBZ DT NN NN NN VBP NN NN NN VBP NN DT NN NN NN NN VBP NN NN NN NN VBZ DT NN NN NN NN IN DT NN NN NN',\n",
       " 'NN NN JJ VBP JJ NN JJ NN NN NN NN NN NN NN IN DT NN NN VBP NN NN VBZ DT JJ NN NN NN VBP NN NN NN VBZ DT NN NN VBZ DT NN NN VBP NN JJ NN NN NN VBD DT NN DT NN NN NN NN NN NN NN VBZ VBZ DT NN JJ NN NN NN IN NN NN VBP JJ NN JJ NN NN NN NN VBP NN JJ JJ NN DT NN NN NN VBP NN NN JJ NN NN NN NN NN NN NN NN IN JJ NN NN NNP NN NN NN NN NN NN VBZ DT JJ NN NN NN VBP',\n",
       " 'NN NN NN NN JJ NN DT JJ NN NN NN VBP NN NN VBP NN NN JJ NN NN NN NN NN NN NN .',\n",
       " 'NN MD VB JJ NN JJ NN JJ NN NN NN NN JJ NN NN JJ VBZ DT JJ NN JJ NN NN NN NN NN NN JJ NN NN NN JJ NN NN NN NN NN NN NN NN NN NN JJ NN NN NN NN NN NN NN NN NN NN JJ NN NN',\n",
       " 'NN VBZ DT NN NN NN JJ NN DT NN NN NN VBP NN NN NN NN NN NN NN NN NN IN NN NN VBP NN NN NN VBD DT NN DT NN DT NN NN NN NN NN VBZ DT JJ NN NN VBZ DT JJ NN NN NN . VB DT NN NN VBP NN NN NN JJ NN',\n",
       " 'NN NN NN NN IN NN NN VBP NN NN NN IN NN VBP DT NN NN JJ NN NN NN NN NN VBP JJ NN NN NN NN NN IN NN VBP DT NN NN IN NN NN VBP NN NN NN NN . . . JJ JJ NN VBD DT NN NN VBP NN DT NN NN VBP NN DT NN NN VBP NN DT JJ NN NN VBP JJ NN NN VBP JJ NN NN VBP JJ NN NN VBP NN NN VBP NN DT NN NN VBP NN DT NN NN VBP NN DT NN NN VBP NN DT',\n",
       " 'NN NN NN NN IN NN NN VBP NN NN NN JJ NN NN NN NN NN VBP NN NN VBP IN NN NN VBP DT NN NN IN JJ NN NN NN VBP NN NN NN VBP NN NN JJ NN .',\n",
       " 'JJ NN NN VBP NN NN JJ NN NN NN NN NN NN VBP JJ JJ NN NN NN JJ VBP VBP DT NN NN NN VBZ DT JJ NN VBD DT JJ NN NN NN NN NN NN NN VBZ DT JJ NN NN JJ NN NN NN NN NN NN',\n",
       " 'NN NN VBP NN VBP DT NN NN NN NN NN NN NN VBZ DT JJ NN NN VBD DT NN NN VBD DT NN NN NN NN VBZ DT DT JJ NN . JJ NN DT JJ NN NN VBZ DT NN . NN VBP NN DT NN NN NN NN NN NN NN VBP IN NN NN VBP NN NN NN NN VBP PDT DT JJ NN NN NN NN NN VBZ DT JJ NN NN . DT JJ NN NN JJ NN DT JJ NN NN IN DT JJ NN VBD DT NN NN DT NN NN FW NN NN NN NN NN',\n",
       " 'NN NN VBP NN NN VBP IN DT NN NN NN JJ NN NN NN NN NN NN JJ VBP NN NN VBZ DT NN NN',\n",
       " 'NN VBZ DT NN NN NN NN NN NN IN NN NN VBP JJ NN NN NN NN NN NN VBP NN NN NN NN JJ NN NN IN NN NN VBP NN DT NN NN NN JJ VBZ DT JJ NN NN NN NN NN NN VBP JJ NN NN NN NN NN NN NN NN NN NN NN NN NN NN NN VBP DT NN NN VBP NN NN JJ NN NN VBP DT NN NN NN VBP VBZ DT JJ NN NN VBD DT JJ NN VBP DT JJ NN NN . DT NN NN NN NN VBP DT JJ NN NN VBP NN NN DT NN NN NN VBD DT NN DT',\n",
       " 'NN NN NN IN NN NN VBP NN NN VBP IN DT NN NN NN JJ NN NN NN NN NN NN JJ VBP NN NN VBZ DT NN NN',\n",
       " 'NN VBZ DT NN NN VBP NN NN DT NN NN VBP NN NN VBZ DT JJ JJ NN NN JJ NN NN NN NN NN NN NN IN JJ NN NN',\n",
       " 'NN VBZ DT NN NN NN JJ NN NN NN NN JJ NN VBD DT JJ NN VBZ DT NN NN JJ NN NN NN JJ NN VBZ DT JJ NN NN NN NN NN JJ NN NN NN VBP DT NN NN NN NN NN NN VBP NN NN NN VBP NN',\n",
       " 'NN NN NN NN VBP DT NN NN NN VBP NN NN DT NN NN DT NN NN VBP VB DT JJ NN DT NN VBZ DT NN NN VBP NN NN NN NN VBZ DT NN JJ NN NN NN NN NN JJ NN NN NN NN VBP NN NN NN JJ NN NN NN VBD VBZ DT NN NN IN JJ NN NN',\n",
       " 'NN MD VB NN NN NN NN NN NN VBP JJ NN DT NN NN NN JJ JJ NN NN NN NN NN JJ NN NN JJ VBP JJ IN DT JJ NN IN NN NN VBP NN NN NN NN NN JJ JJ NN NN NN NN DT NN NN NN NN NN NNP NN VBD DT NN NN NN . NN VBD DT NN NN NN NN NN VBZ DT JJ NN VBZ DT NN NN NN NN JJ NN NN NN IN DT JJ NN NN VBZ DT JJ NN NN NN NN',\n",
       " 'VB DT JJ NN NN NN NN',\n",
       " 'VB DT JJ NN NN NN VBD NN NN VBP NN VBP DT NN NN VBZ DT NN NN VBP JJ JJ NN VBD DT JJ NN DT NN NN NN VBD DT NN NN',\n",
       " 'VB DT JJ NN NN NN VBD JJ NN NN NN NN NN NN IN NN JJ VBP JJ NN DT NN NN NN NN NN IN NN NN VBP NN NN VBP NN NN VBP NN . NN VBD DT NN NN NN NN VBP NN NN VBP NN',\n",
       " 'VB DT JJ NN NN NN NN NN NN VBP NN NN NN NN NN NN NN IN JJ NN NN . NN JJ NN NN VBP VBZ DT JJ NN DT JJ NN NN VBP . JJ NN VBP NN NN VBP NN NN NN NN',\n",
       " 'VB DT JJ NN NN NN NN , DT NN NN NN NN NN NN VBP VBZ DT NN NN NN NN NN JJ NN NN JJ NN NN NN NN FW JJ NN NN IN NN NN VBP NN NN NN NN VBP JJ NN NN VBP DT NN NN',\n",
       " 'VB DT JJ NN NN NN NN . CC JJ JJ NN NN NN VBZ DT JJ NN NN NN NN JJ NN NN . NN NN NN VBP NN . . . JJ JJ NN NN NN JJ NN NN NN VBP NN NN',\n",
       " 'VB DT JJ NN NN NN NN VBZ DT NN JJ NN NN JJ NN NN VBP NN NNS VBP JJ NN NN NN DT NN NN IN JJ NN NN NN NN VBZ DT JJ NN NN NN VBD DT NN NN . NN NN VBP PDT DT JJ NN VBZ DT NN NN VBP NN NN DT NN NN IN JJ NN . NN NN JJ NN NN NN JJ VBP NN NN VBP NN NN NN VBD DT NN NN NN NN NN VBP NN NN NN JJ NN NN NN',\n",
       " 'VB DT JJ NN NN NN NN VBZ DT NN NN . NN NN NN NN NN NN NN NN VBD DT JJ NN NN NN NN NN NN NN NN NN NN JJ NN NN NN NN JJ NN VBZ DT NN NN NN NN NN NN NN NN NN',\n",
       " 'VB DT JJ NN NN IN NN VBP DT NN MD VB JJ JJ NN NN VBZ DT JJ NN NN VBP NN DT NN NN JJ NN NN NN NN NN NN VBZ DT NN NN NN NN VBP JJ NN NN NN NN NN VBD DT NN NN . NN NN NN NN NN NN JJ NN NN NN NN VBZ DT NN NN . DT JJ NN NN VBP NN NN NN NN NN VBP . JJ JJ NN NN NN NNP NNP MD VB NN . NN NN NN NN VBZ DT NN JJ NN NN NN VBP',\n",
       " 'VB DT JJ NN NN IN NN NN VBP NN JJ NN NN NN NN NN NN NN NN NN NN VBP NN NN NN JJ NN NN VBP NN NN NN JJ NN NN VBD DT NN DT JJ NN JJ JJ NN . JJ JJ JJ NN NN NN NN NN NN NN NN NN NN NN NN NN NN NN NN NN JJ NN NN NN . . JJ JJ NN JJ NN NN NN NN NN JJ VBP JJ NN NN . NN JJ JJ NN VBD DT NN NN NN NN NN NN NN NN NN',\n",
       " 'VB DT JJ NN NN IN NN NN VBP NN NN VBZ DT NN NN VBD DT NN VBZ DT NN NN VBP NN VBP DT NN NN . VB VBP DT JJ NN NN NN NN NN NN JJ NN NN NN VBZ DT NN . . NN VBZ DT NN NN VBD DT NN NN NN NN VBZ DT JJ NN VBD DT NN DT NN DT . NN NN NN NN NN NN NN VBZ DT JJ NN NN VBZ DT JJ NN NN NN . DT NN NN JJ NN NN NN VBP NN NN NN VBZ DT JJ NN VBD DT NN NN',\n",
       " 'VB DT JJ NN NN NN VBD JJ JJ VBP NN NN NN JJ JJ NN NN VBZ DT NN NN VBD DT NN . NN JJ NN VBZ DT NN NN NN NN NN NN JJ VBP JJ NN NN VBP NN',\n",
       " 'VB DT JJ NN NN NN VBD NN NN VBP NN NN DT JJ NN NN NN NN NN NN VBD DT NN . NN NN VBZ DT NN NN VBZ DT NN',\n",
       " 'VB DT JJ NN NN NN NN NN NN NN VBP NN . NN JJ NN NN NN NN NN NN JJ NN VBZ DT JJ NN NN NN NN VBD DT JJ NN VBD DT NN NN IN JJ NN NN NN . NN NN VBP DT NN NN NN . DT JJ NN NN NN NN VBZ DT NN NN NN NN VBP NN NN VBP NN . NN NN NN NN NN NN NN NN NN NN . NN JJ VBP JJ NN NN NN NN NN NN NN NN NN VBP JJ NN , JJ NN NN NN VBZ DT NN NN JJ NN NN NN VBP NN',\n",
       " 'VB DT JJ NN NN NN NN NN NN NN NN VBZ DT NN NN NN NN NN DT NN NN JJ NN',\n",
       " 'VB DT JJ NN NN NN NN VBZ DT NN VBZ DT NN NN NN NN NN NN NN VBD DT NN NN NN NN VBP NN NN NN NN NN NN , JJ VBP VBP DT NN NN NN VBP JJ NN . . . NN NN NN',\n",
       " 'VB DT JJ NN NN NN NN VBD DT JJ NN NN NN JJ JJ NN NN NN NN VBZ DT JJ NN NN VBZ DT NN NN NN NN NN',\n",
       " 'NN NN NN NN NN NN NN NN . . . . . . . JJ NN DT NN NN IN JJ NN VBP NN NN VBP NN NN NN VBP NN NN JJ NN NN NN VBP NN NN NN NN NN JJ NN NN JJ VBP NN NN VBP NN NN NN NNP VBZ DT JJ NN NN VBP NN DT NN NN JJ NN NN NN NN IN JJ NN MD VB NN NN VBP NN NN NN VBP JJ JJ NN NN NN NN NN',\n",
       " 'NN NN NN NN NN NN NN NN . . . . . VB DT NN NN NN NN NN JJ NN NN NN VBP NN NN NN NN NN IN NN NN NN NN JJ NN VBD DT JJ NN DT JJ NN NN NN IN DT JJ NN NN NN NN NN VBP NN NN NN NN NN NN NN NN VBD DT JJ NN NN NN NN VBP NN DT NN DT NN NN NN NN NN NN NN NN NN NN NN NN NN NN',\n",
       " 'NN MD VB NN NN VBP NN JJ NN NN NN NN VBZ DT NN NN JJ NN NN NN NN VBP JJ NN NN NN NN VBP NN NN JJ NN NN NN NN NN JJ NN NN NN NN NN NN NN JJ VBP NN NN VBZ DT NN NN NN FW NN NN NN VBZ DT NN NN NN VBP RB VBP DT',\n",
       " 'DT NN NN NN NN NN NN NN NN NN NN NN VBZ DT NN VBZ DT JJ NN NN VBD DT NN NN NN JJ NN NN NN JJ NN NN VBP NN . . NN NN VBP JJ NN NN NN NN VBP NN NN IN NN NN VBP NN NN DT NN NN NN NN NN NN NN NN NN VBP PDT DT NN NN NN NN',\n",
       " 'DT JJ NN NN NN NN NN VBZ DT NN DT NN NN NN NN NN NN VBD DT JJ NN NN NN VBZ DT NN NN VBZ DT NN NN NN VBZ DT JJ NN NN NN NN NN NN NN NN NN NN NN NN NN NN VBP NN NN WRB NN DT NN NN NN VBZ DT JJ NN NN IN NN NN VBP NN NN NN NN',\n",
       " 'VB DT NN DT JJ NN NN VBP VBZ DT NN NN NN VBP NN NN NN NN',\n",
       " 'NN NN NN NN NN NN VBP NN NN NN NN',\n",
       " 'NN NN NN VBP NN NN VBP NN NN NN VBP NN NN VBP NN NN NN JJ NN NN JJ NN NN VBD DT JJ NN VBD DT JJ NN NN VBP NN NN NN JJ NN VBZ DT NN VBZ DT',\n",
       " 'NNS VBP VB DT NN NN VBZ DT NN NN VBZ DT NN NN VBP NN NN JJ NN NN NN NN IN JJ NN SYM NN VBZ DT NN NN',\n",
       " 'NN NN JJ JJ NN NN VBZ DT JJ NN NN VBZ DT JJ NN NN NN VBD DT JJ NN NN NN NN NN NN NN VBZ DT JJ NN NN NN NN JJ NN NN NN',\n",
       " 'VB DT NN NN NN NN NN NN JJ NN NN NN NN NN NN NN JJ JJ NN NN NN NN VBP NN NN NN NN NN NN NN NN . . . . . . . . . . . . . . . . . . . . . . . . . NN JJ NN NN VBD DT NN NN NN NN NN . NN IN DT NN VBZ DT NN . VB DT NN NN DT NN NN VBZ DT NN NN NN NN JJ NN NN NN NN NN NN VBP NN NN NN VBD DT NN DT NN NN JJ NN NN NN NN FW NN NN NN NN',\n",
       " 'VB DT NN NN NN NN VBD DT NN NN NN NN NN NN NN VBZ DT JJ NN NN VBP IN NN NN VBP JJ VBP JJ VBP NN NN VBP DT NN NN NN NN VBD DT NN NN IN NN NN IN NN NN VBP NN NN VBP NN NN NN JJ NN NN NN NN NN JJ NN NN NN NN NN NN NN NN DT NN VBZ DT JJ JJ NN NN VBP JJ NN NN VBP NN NN VBP NN VBP DT NN NN NN NN NN NN NN NN VBZ DT NN NN VBZ DT JJ NN NN NN NN NN',\n",
       " 'NN NN VBP NN NN NN VBP NN NN NN NN NN VBP DT NN NN NN NN NN NN NN NN JJ VBP NN NN VBZ DT NN NN',\n",
       " 'JJ NN NNP CC JJ NN NN NN JJ NN VBD DT NN DT NN NN NN NN IN DT NN NN NN NN VBP VB DT NN NN DT NN NN VBD DT JJ NN NN VBZ DT JJ NN NN NN NN NN VBP DT NN VBP DT JJ NN VBD DT NN DT JJ NN NN NN . NN VBD DT JJ NN NN NN NN NN NN NN JJ JJ NN NN NN NN NN VBZ DT NN DT NN NN NN NN VBD DT JJ NN NN VBZ DT NN NN',\n",
       " 'NN MD VB DT NN NN NN NN VBP NN NN NN NN NN NN NN NN NN IN DT JJ JJ NN NN VBP NN NN IN NN NN VBP JJ VBP DT NN NN VBP NN NN JJ NN NN NN NN JJ NN NN NN IN NN NN VBP NN NN VBD DT NN NN NN NN JJ JJ NN DT NN NN VBZ DT JJ NN NN NN VBP NN NN VBP NN',\n",
       " 'NN MD VB NN JJ NN NN NN NN JJ NN NN NN NN NN JJ NN NN NN NN NN NN NN NN NN NN NN JJ NN NN',\n",
       " 'NN MD VB NN NN VBD DT NN NN NN NN NN NN VBP NN NN',\n",
       " 'NN MD VB NN NN VBP NN VBP DT JJ NN , JJ VBP JJ NN NN NNP NNP NN NN NN NN NN JJ IN NN NN VBP DT NN NN VBP NN NN NN NN NN NN JJ VBP JJ NN DT NN NN NN VBD DT NN NN DT NN NN . JJ NN NN NN',\n",
       " 'NN VBP NN JJ NN NN NN NN JJ JJ NN NN NN NN VBD DT JJ NN NN NN VBZ DT JJ NN NN JJ NN NN NN IN JJ NN NN NN NN NN NN NN NN JJ NN NN NN VBP VBZ DT NN NN JJ NN . JJ VBP JJ JJ JJ NN NN NN NN NN VBZ DT JJ NN NN VBP JJ NN NN NN VBP IN DT NN NN VBP NN VBP NN NN DT JJ NN NN NN JJ NN NN NN NN NN NN NN VBD DT NN NN VBP NN',\n",
       " 'NN VBP NN NN NN NN NN NN NN NN NN JJ NN NN NN NN VBP NN NN IN DT NN NN JJ NN NN NN IN DT NN NN NN VBZ DT NN NN VBZ DT JJ NN NN NN VBP NN NN VBP NN NN . NN . JJ JJ NN NN NN NN JJ VBP JJ NN DT NN NN NN IN DT JJ NN NN NN NN JJ NN NN NN NN',\n",
       " 'NN VBP JJ NN NN NN NN NN NN VBP NN NN DT JJ NN NN VBP NN NN VBP . VB DT JJ NN NN NN NN NN NN JJ NN NN NN NN NN JJ VBP NN NN VBP . JJ JJ NN . JJ VBP JJ JJ NN NN NN JJ JJ NN DT NN',\n",
       " 'NN NN NN NN NN NN NN VBP NN VBP NN JJ VBZ DT NN DT NN MD VB IN JJ NN VBP NN NN . NN VBP NN NN DT NN DT NN JJ RB VBP DT DT NN NN IN NN NN VBP NN NN DT NN NN NN NN JJ IN NN NN VBP NN FW DT NN NN VBP JJ NN NN IN NN NN VBP NN NN',\n",
       " 'NN NN NN NN JJ NN NN NN NN VBP NN NN VBP NN NN VBZ DT JJ NN NN VBP JJ NN NN NN NN NN VBP NN NN NN NN',\n",
       " 'NN MD VB NN IN DT JJ NN NN NN JJ NN VBD DT NN NN NN NN NN NN NN VBD DT NN NN NN NN NN NN NN NN NN NN NN NN NN NN NN NN NN NN NN NN NN NN , JJ VBP DT NN NN VBP NN NN JJ VBP DT NN NN DT NN NN , JJ VBP JJ NN VBD DT NN NN NN NN JJ NN NN NN NN',\n",
       " 'NN NN VBD DT NN NN JJ NN NN , NN NN IN NN NN VBP NN',\n",
       " 'NN NN VBP NN NN NN NN JJ NN NN NN NN JJ NN IN DT JJ NN NN NN NN NN NN VBD DT NN NN VBZ DT',\n",
       " 'NN MD VB JJ NN VBP NN NN NN NN NN NN NN NN NN NN JJ NN NN NN NN NN NN NN NN VBP NN NN NN VBP NN . NN NN VBP NN NN DT NN NN JJ NN NN VBD DT JJ NN NN NN NN JJ NN JJ NN NN VBP NN IN NN NN VBP JJ NN NN VBP VBZ DT NN NN NN IN NN NN VBP NN VBP JJ NN . VB DT NN NN NN NN NN VBZ DT NN JJ NN NN NN NN JJ JJ NN NN NN NN NN NN NN NN VBZ DT NN DT NN NN NN NN NN NN NN NN NN',\n",
       " 'NN NN NN IN JJ NN NN VBP NN NN VBP JJ NN NN IN DT NN NN IN NN NN VBP JJ VBP DT NN NN VBP NN NN NN JJ NN NN NN NN NN NN NN NN NN JJ NN NN NN VBP NN NN DT NN NN VBD NN NN VBP NN VBP NN NN DT NN NN NN VBD DT NN NN FW NN FW NN NN NN IN JJ NN',\n",
       " 'NN NN NN IN DT JJ NN NN JJ NN NN JJ NN NN NN NN NN NN IN DT JJ JJ NN NN VBP NN NN NN VBP NN NN NN DT NN NN NN NN JJ JJ NN NN',\n",
       " 'NN NN NN NN NN NN JJ NN DT NN NN NN IN DT NN NN JJ NN NN JJ NN NN NN NN NN VBP NN',\n",
       " 'RB DT NN NN VBP IN DT NN NN NN JJ NN NN JJ JJ NN VBZ DT NN NN NN VBP NN NN NN NN VBD DT JJ NN NN',\n",
       " 'JJ NN NN NN VBZ DT NN NN VBP NN NN NN VBP NN NN DT NN NN VBP NN NN NN JJ NN NN NN NN JJ NN NN NN NN VBP VBZ DT NN NN NN NN NN IN DT JJ NN VBD DT . NN NN VBP NN NN DT JJ NN NN VBP IN NN NN VBP',\n",
       " 'JJ NN NN NN NN NN NN NN VBP NN NN DT NN NN NN IN NN NN NN IN NN NN VBP NN VBP DT NN . VB PDT DT NN MD VB DT NN VBZ DT DT JJ NN NN NN NN NNP NN NN DT .',\n",
       " 'JJ MD VB JJ VB DT JJ NN NN NN NN VBP NN JJ NN NN VBP NN NN JJ VBP NN NN VBP NN NN NN VBP NN NN DT NN NN VBP NN NN NN JJ VBP JJ NN JJ NN',\n",
       " 'VB DT JJ NN NN NN JJ NN NN NN VBP NN DT NN NN VBP NN NN VBP NN NN NN NN NN NN JJ NN NN NN NN NN NN NN VBP NN DT NN NN NN NN NN NN VBP NN NN VBZ DT NN NN JJ NN JJ NN NN JJ VBP JJ NN NN JJ VBZ DT NN NN JJ NN NN',\n",
       " 'NN NN JJ NN NN JJ NN NN NN NN JJ NN NN NN NN NN NN NN NN NN NN NN JJ JJ NN NN NN JJ NN NN NN VBZ DT NN',\n",
       " 'NN MD VB RB , DT JJ NN NN NN NN VBP , JJ VBP JJ JJ NN NN , JJ VBP DT NN , JJ NN NNP , NNP NNP NNP , DT FW DT NN DT NN DT NN NN DT NN NN VBP NN NN VBZ DT JJ NN NN NN VBZ DT NN NN DT JJ NN NN JJ NN NN NN JJ NN DT NN NN',\n",
       " 'NN MD VB RB , DT JJ NN NN NN NN VBP , JJ VBP JJ JJ NN NN , JJ VBP DT NN , JJ NN NNP , NNP NNP NNP , DT FW DT NN NN NN VBP DT NN DT NN NN NN VBZ DT NN NN NN VBP NN NN VBP NN NN',\n",
       " 'NN MD VB RB , DT JJ NN NN NN NN VBP , JJ VBP JJ JJ NN NN , JJ VBP DT NN , JJ NN NNP , NNP NNP NNP , DT FW DT NN NN NN NN JJ NN NN NN VBZ DT JJ NN VBZ DT JJ NN NN JJ NN NN VBZ NN',\n",
       " 'NN MD VB RB , DT JJ NN NN NN NN VBP , JJ VBP JJ JJ NN NN , JJ VBP DT NN , JJ NN NNP , NNP NNP NNP , DT FW DT NN NN DT NN NN NN NN NN NN IN NN NN VBP NN VBP NN NN JJ NN NN VBZ DT NN DT NN NN NN JJ JJ NN NN VBP NN',\n",
       " 'NN MD VB RB , DT JJ NN NN NN NN VBP , JJ VBP JJ JJ NN NN , JJ VBP DT NN , JJ NN NNP , NNP NNP NNP , NN NN NN NN NN DT NN NN VBP VB DT NN NN NN NN NN DT NN NN NN NN NN VBP NN NN NN NN VBP NN JJ NN NN VBZ DT JJ NN DT NN NN',\n",
       " 'NN MD VB RB , DT JJ NN NN NN NN VBP , JJ VBP JJ JJ NN NN , JJ VBP DT NN , JJ NN NNP , NNP NNP NNP , VBD DT NN NN NN NN NN NN NN VBD DT NN NN NN JJ NN NN NN',\n",
       " 'NN MD VB RB , DT JJ NN NN NN NN VBP , JJ VBP JJ JJ NN NN , JJ VBP DT NN , JJ NN NNP , NNP NNP NNP , NN NN DT NN NN VBZ DT JJ NN NN VBZ DT NN NN VBP NN NN NN NN NN NN VBP NN NN NN NN NN JJ NN NN NN NN VBP JJ JJ NN NN NN VBZ DT NN NN',\n",
       " 'NN MD VB RB , DT JJ NN NN NN NN VBP , JJ VBP JJ JJ NN NN , JJ VBP DT NN , JJ NN NNP , NNP NNP NNP , NN NN VBP NN NN VBP JJ NN JJ NN NN NN NN NN NN NN NN VBP JJ NN JJ NN NN NN VBP NN NN VBP NN NN VBZ DT NN NN NN NN VBP NN NN NN NN NN NN NN JJ NN JJ NN NN NN',\n",
       " 'NN MD VB RB , DT JJ NN NN NN NN VBP , JJ VBP JJ JJ NN NN , JJ VBP DT NN , JJ NN NNP , NNP NNP NNP , JJ NN NN NN NN JJ VBZ DT JJ NN NN NN NN NN NN JJ NN NN NN NN NN IN JJ NN JJ NN',\n",
       " 'NN MD VB RB , DT JJ NN NN NN NN VBP , JJ VBP JJ JJ NN NN , JJ VBP DT NN , JJ NN NNP , NNP NNP NNP , JJ NN NN NN NN JJ NN NN NN NN NN VBP NN NN VBP NN NN JJ NN NN VBZ DT JJ NN NN NN VBP NN NN NN NN VBZ DT JJ NN NN JJ NN NN',\n",
       " 'NN MD VB RB , DT JJ NN NN NN NN VBP , JJ VBP JJ JJ NN NN , JJ VBP DT NN , JJ NN NNP , NNP NNP NNP , JJ NN NN NN NN JJ VBZ DT NN DT NN NN JJ NN NN JJ NN NN NN NN VBZ DT NN NN NN NN NN VBP JJ NN NN IN JJ NN JJ NN',\n",
       " 'NN MD VB RB , DT JJ NN NN NN NN VBP , JJ VBP JJ JJ NN NN , JJ VBP DT NN , JJ NN NNP , NNP NNP NNP , JJ NN NN NN NN JJ NN NN JJ NN NN NN JJ NN NN NN NN VBZ DT JJ NN NN NN JJ NN NN NN NN NN IN JJ NN JJ NN',\n",
       " 'NN MD VB RB , DT JJ NN NN NN NN VBP , JJ VBP JJ JJ NN NN , JJ VBP DT NN , JJ NN NNP , NNP NNP NNP , JJ NN NN NN NN JJ NN NN JJ NN NN NN NN JJ NN NN VBP NN NN NN NN JJ NN',\n",
       " 'NN MD VB RB , DT JJ NN NN NN NN VBP , JJ VBP JJ JJ NN NN , JJ VBP DT NN , JJ NN NNP , NNP NNP NNP , JJ NN VBZ DT NN NN NN VBP NN NN JJ JJ NN NN DT NN DT JJ NN NN NN NN NN VBP NN NN VBD DT JJ NN NN NN JJ JJ NN NN NN NN',\n",
       " 'NN MD VB RB , DT JJ NN NN NN NN VBP , JJ VBP JJ JJ NN NN , JJ VBP DT NN , JJ NN NNP , NNP NNP NNP , JJ NN NN NN VBP NN NN VBP NN IN NN NN VBP RB VB DT NN NN DT NN NN VBP NN JJ JJ NN NN NN NN NN JJ NN NN VBD DT JJ JJ NN',\n",
       " 'NN MD VB RB , DT JJ NN NN NN NN VBP , JJ VBP JJ JJ NN NN , JJ VBP DT NN , JJ NN NNP , NNP NNP NNP , JJ NN NN NN VBP DT NN NN',\n",
       " 'NN MD VB RB , DT JJ NN NN NN NN VBP , JJ VBP JJ JJ NN NN , JJ VBP DT NN , JJ NN NNP , NNP NNP NNP , JJ NN NN NN VBP DT NN NN',\n",
       " 'NN MD VB RB , DT JJ NN NN NN NN VBP , JJ VBP JJ JJ NN NN , JJ VBP DT NN , JJ NN NNP , NNP NNP NNP , NN NN NN JJ NN NN NN NN JJ NN NN NN VBZ DT NN NN NN NN NN NN VBP NN NN NN VBP NN NN NN NN NN JJ NN NN NN',\n",
       " 'NN MD VB RB , DT JJ NN NN NN NN VBP , JJ VBP JJ JJ NN NN , JJ VBP DT NN , JJ NN NNP , NNP NNP NNP , VBZ NN IN NN NN VBP NN NN IN NN NN VBP DT JJ NN NN NN VBP NN NN NN VBP PDT DT JJ NN NN JJ NN NN NN NN JJ NN NN JJ VBP NN',\n",
       " 'NN MD VB RB , DT JJ NN NN NN NN VBP , JJ VBP JJ JJ NN NN , JJ VBP DT NN , JJ NN NNP , NNP NNP NNP , VBZ DT NN NN DT NN NN NN NN JJ NN NN NN VBZ DT JJ NN NN NN NN JJ NN NN NN NN NN NN VBZ DT JJ NN NN VBZ DT JJ NN VBD DT NN NN DT NN NN VBP NN NN',\n",
       " 'NN MD VB RB , DT JJ NN NN NN NN VBP , JJ VBP JJ JJ NN NN , JJ VBP DT NN , JJ NN NNP , NNP NNP NNP , NN NN VBP NN NN VBP NN NN JJ NN NN NN NN VBP NN NN NN JJ VBP NN NN VBP NN NN NN NN VBP NN JJ NN NN NN',\n",
       " 'NN MD VB RB , DT JJ NN NN NN NN VBP , JJ VBP JJ JJ NN NN , JJ VBP DT NN , JJ NN NNP , NNP NNP NNP , NN NN VBP NN NN VBP NN NN NN NN NN NN NN NN NN NN NN NN NN JJ JJ NN NN NN VBP NN NN VBP NN NN VBP NN DT NN NN NN NN NN NN JJ NN NN NN',\n",
       " 'NN MD VB RB , DT JJ NN NN NN NN VBP , JJ VBP JJ JJ NN NN , JJ VBP DT NN , JJ NN NNP , NNP NNP NNP , NN NN VBP NN NN VBP NN NN NN JJ VBP JJ NN NN NN NN VBZ DT NN NN NN VBP NN NN VBP NN',\n",
       " 'NN MD VB RB , DT JJ NN NN NN NN VBP , JJ VBP JJ JJ NN NN , JJ VBP DT NN , JJ NN NNP , NNP NNP NNP , VBD DT JJ NN NN NN VBZ DT NN NN NN NN VBD DT JJ NN NN NN JJ NN NN NN NN JJ NN NN NN VBP NN NN IN NN NN VBP NN NN NN NN',\n",
       " 'NN MD VB RB , DT JJ NN NN NN NN VBP , JJ VBP JJ JJ NN NN , JJ VBP DT NN , JJ NN NNP , NNP NNP NNP , VBD DT JJ NN NN VBD DT JJ NN NN NN NN NN NN NN JJ NN NN NN NN JJ NN NN VBD DT NN NN VBP NN NN NN VBP NN NN NN VBD DT JJ NN NN NN NN NN NN JJ NN NN NN',\n",
       " 'NN MD VB RB , DT JJ NN NN NN NN VBP , JJ VBP JJ JJ NN NN , JJ VBP DT NN , JJ NN NNP , NNP NNP NNP , VBD DT JJ NN NN VBD DT JJ NN NN NN JJ NN NN NN',\n",
       " 'NN MD VB RB , DT JJ NN NN NN NN VBP , JJ VBP JJ JJ NN NN , JJ VBP DT NN , JJ NN NNP , NNP NNP NNP , VBD DT JJ NN NN VBD DT JJ NN NN NN JJ NN NN NN',\n",
       " 'NN MD VB RB , DT JJ NN NN NN NN VBP , JJ VBP JJ JJ NN NN , JJ VBP DT NN , JJ NN NNP , NNP NNP NNP , VBD DT JJ NN NN NN NN NN DT JJ NN NN NN VBD DT JJ NN NN JJ NN NN JJ NN NN NN NN NN NN NN JJ NN NN NN',\n",
       " 'NN MD VB RB , DT JJ NN NN NN NN VBP , JJ VBP JJ JJ NN NN , JJ VBP DT NN , JJ NN NNP , NNP NNP NNP , NN NN VBP NN NN JJ VBZ DT NN VBZ DT NN DT NN NN JJ NN NN NN NN NN JJ NN NN JJ VBP NN NN NN VBP NN NN NN JJ VBP JJ NN JJ VBZ DT NN',\n",
       " 'NN MD VB RB , DT JJ NN NN NN NN VBP , JJ VBP JJ JJ NN NN , JJ VBP DT NN , JJ NN NNP , NNP NNP NNP , NN NN VBP NN NN JJ VBZ DT JJ NN VBD DT JJ NN NN VBP NN JJ NN NN NN NN NN JJ NN NN NN NN VBZ VBZ DT NN NN VBP NN NN JJ NN',\n",
       " 'NN MD VB RB , DT JJ NN NN NN NN VBP , JJ VBP JJ JJ NN NN , JJ VBP DT NN , JJ NN NNP , NNP NNP NNP , JJ JJ NN NN VBD DT NN NN NN JJ NN NN VBD DT NN NN . NN NN NN NN VBP NN NN NN NN NN NN VBP NN NN NN NN NN JJ NN NN NN',\n",
       " 'NN MD VB RB , DT JJ NN NN NN NN VBP , JJ VBP JJ JJ NN NN , JJ VBP DT NN , JJ NN NNP , NNP NNP NNP , JJ JJ NN NN VBD DT NN NN JJ NN NN VBP NN NN NN NN NN IN NN NN VBP NN NN VBP NN NN NN VBP NN NN JJ JJ NN NN NN NN NN . NN JJ NN NN VBD DT NN VBZ DT NN DT NN NN JJ NN',\n",
       " 'NN MD VB RB , DT JJ NN NN NN NN VBP , JJ VBP JJ JJ NN NN , JJ VBP DT NN , JJ NN NNP , NNP NNP NNP , JJ VBP DT NN NN DT JJ NN NN VBD DT NN NN NN JJ NN NN NN',\n",
       " 'NN MD VB RB , DT JJ NN NN NN NN VBP , JJ VBP JJ JJ NN NN , JJ VBP DT NN , JJ NN NNP , NNP NNP NNP , VBZ DT NN DT JJ NN NN NN NN NN NN NN NN NN NN NN JJ JJ NN NN DT NN DT JJ NN NN NN NN NN VBP NN NN NN JJ NN NN JJ JJ NN NN JJ NN NN VBZ VBZ DT NN NN NN',\n",
       " 'NN MD VB RB , DT JJ NN NN NN NN VBP , JJ VBP JJ JJ NN NN , JJ VBP DT NN , JJ NN NNP , NNP NNP NNP , VBZ DT NN DT JJ NN NN NN NN NN JJ JJ NN NN DT NN DT JJ NN NN NN NN NN VBP NN NN VBD DT JJ NN NN NN JJ JJ NN NN NN VBZ DT NN NN NN VBP NN',\n",
       " 'NN MD VB RB , DT JJ NN NN NN NN VBP , JJ VBP JJ JJ NN NN , JJ VBP DT NN , JJ NN NNP , NNP NNP NNP , NN JJ NN VBZ DT JJ NN MD VB VB DT JJ NN NN VBP NN NN NN NN VBP JJ NN NN JJ NN NN NN',\n",
       " 'NN MD VB RB , DT JJ NN NN NN NN VBP , JJ VBP JJ JJ NN NN , JJ VBP DT NN , JJ NN NNP , NNP NNP NNP , VBZ DT NN NN VBP DT NN DT NN NN VBP DT NN NN JJ VBP NN NN NN NN NN NN NN NN NN JJ NN NN NN NN JJ NN NN NN NN',\n",
       " 'NN MD VB RB , DT JJ NN NN NN NN VBP , JJ VBP JJ JJ NN NN , JJ VBP DT NN , JJ NN NNP , NNP NNP NNP , VBZ DT NN NN VBP DT NN DT NN NN VBP DT NN DT NN JJ NN NN NN NN VBP NN JJ NN NN NN',\n",
       " 'NN MD VB RB , DT JJ NN NN NN NN VBP , JJ VBP JJ JJ NN NN , JJ VBP DT NN , JJ NN NNP , NNP NNP NNP , VBZ DT NN NN VBP DT NN DT NN NN VBP DT NN NN VBP NN NN NN VBP NN NN NN JJ NN NN NN',\n",
       " 'NN MD VB RB , DT JJ NN NN NN NN VBP , JJ VBP JJ JJ NN NN , JJ VBP DT NN , JJ NN NNP , NNP NNP NNP , JJ NN NN NN NN DT JJ NN NN NN NN NN DT JJ NN NN VBP NN NN DT NN NN VBP NN NN JJ NN NN NN',\n",
       " 'NN MD VB RB , DT JJ NN NN NN NN VBP , JJ VBP JJ JJ NN NN , JJ VBP DT NN , JJ NN NNP , NNP NNP NNP , NN NN VBP NN NN NN NN VBP NN NN VBP NN NN JJ VBP NN NN VBP NN NN NN NN VBP NN NN IN NN NN VBP NN NN NN NN NN NN NN NN JJ JJ NN NN NN JJ JJ NN NN NN',\n",
       " 'NN MD VB RB , DT JJ NN NN NN NN VBP , JJ VBP JJ JJ NN NN , JJ VBP DT NN , JJ NN NNP , NNP NNP NNP , VBZ DT JJ NN JJ NN VBD DT NN NN VBP IN DT NN NN NN NN NN NN NN NN NN DT NN NN NNP VBZ DT JJ JJ NN NN VBP PDT DT JJ NN NN',\n",
       " 'NN MD VB RB , DT JJ NN NN NN NN VBP , JJ VBP JJ JJ NN NN , JJ VBP DT NN , JJ NN NNP , NNP NNP NNP , JJ NN NN NN NN JJ JJ NN NN NN NN NN NN VBP NN NN NN NN VBZ DT JJ NN NN NN JJ NN NN NN IN NN NN VBP NN NN NN JJ JJ NN NN NN JJ NN',\n",
       " 'NN MD VB RB , DT JJ NN NN NN NN VBP , JJ VBP JJ JJ NN NN , JJ VBP DT NN , JJ NN NNP , NNP NNP NNP , JJ NN NN NN NN JJ JJ NN NN NN NN VBD DT JJ NN NN VBP JJ NN NN IN NN NN VBP NN NN NN JJ JJ NN DT JJ NN NN NN NN NN IN JJ NN JJ VBP NN NN NN NN JJ NN NN NN',\n",
       " 'NN MD VB RB , DT JJ NN NN NN NN VBP , JJ VBP JJ JJ NN NN , JJ VBP DT NN , JJ NN NNP , NNP NNP NNP , JJ FW DT NN NN NN NN VBP NN NN VBD DT NN NN NN NN VBP NN NN NN NN NN NN NN NN NN JJ NN NN NN JJ NN NN JJ VBP JJ NN NN VBP NN JJ NN NN NN NN NN NN NN NN NN VBZ DT NN',\n",
       " 'NN MD VB RB , DT JJ NN NN NN NN VBP , JJ VBP JJ JJ NN NN , JJ VBP DT NN , JJ NN NNP , NNP NNP NNP , JJ NN NN JJ NN JJ NN NN VBP NN NN NN NN NN DT JJ NN NN NN JJ NN NN NN NN NN NN NN VBP NN',\n",
       " 'NN MD VB RB , DT JJ NN NN NN NN VBP , JJ VBP JJ JJ NN NN , JJ VBP DT NN , JJ NN NNP , NNP NNP NNP , NNP NNP NNP VBD DT JJ NN NN DT NN NN VBP VB DT NN NN VBP NN NN VBZ DT NN NN NN NN VBP NN NN NN NN NN VBZ DT NN DT JJ NN DT NN NN NN NN JJ NN NN NN',\n",
       " 'NN MD VB RB , DT JJ NN NN NN NN VBP , JJ VBP JJ JJ NN NN , JJ VBP DT NN , JJ NN NNP , NNP NNP NNP , NNP NNP NNP VBD JJ NN NN VBD DT NN NN NN JJ NN NN NN VBZ DT NN NN VBP NN',\n",
       " 'NN MD VB JJ NN DT JJ NN VBZ DT NN JJ NN DT NN NN VBP NN IN JJ NN VBP NN NN NN NN NN NNP NN NN NNP VBZ JJ NN NN NN JJ NN NN NN NN NN IN NN JJ NN NN JJ NN NN NN NN NN NN VBP NN NN NN NN NN JJ NN DT NN NN VBP NN IN JJ NN NN',\n",
       " 'NN VBZ DT NN NN NN NN NN NN NN NN NN NN NN JJ NN NN NN NN NN NN NN NN VBP NN NN NN NN VBD DT NN DT NN NN NN NN NN NN NN NN NN NN NN , JJ VBP JJ VBP PDT DT NN NN NN',\n",
       " 'NN VBZ DT NN NN DT NN NN JJ VBP JJ NN IN DT NN NN VBZ DT JJ NN NN NN NN NN NN NN NN NN NN NN NN VBP JJ NN NN NN VBP NN NN IN NN NN IN JJ NN NN NN JJ NN NN NNP NN NN VBP NN NN NN NN VBZ DT JJ NN NN NN JJ VBP JJ NN NN NN NN NN NN NN IN DT NN NN VBP NNS VBP JJ JJ NN VBZ DT NN NN NN NN NN NN NN',\n",
       " 'NN NN NN JJ NN NNS VBP JJ NN NN NN NN JJ NN NN . NN NN NN JJ NN NN NN NN VBZ DT NN NN NN NN VBP DT',\n",
       " 'NN NN NN NN VBP NN NN NN NN VBZ DT JJ JJ NN NN NN NN IN NN VBP DT NN NN NN VBP NN NN NN NN NN VBZ DT NN NN VBP VB DT NN NN NN VBZ DT NN , VBP PDT DT NN NN NN VBP NN NN NN NN NN',\n",
       " 'NN MD VB NN NN VBZ DT NN IN NN NN VBP DT NN DT NN DT NN NN VBP NN JJ NN NN JJ NN NN NN VBZ DT NN IN DT NN NN VBP RB VB DT NN NN JJ NN DT NN DT JJ NN NN VBD DT NN NN NN NN NN NN NN NN NN VBD DT NN NN NN VBP VBZ DT JJ NN JJ NN NN VBP NN NN NN NN NN NN NN VBZ DT NN DT NN NN NN NN NN NN NN NN NN NN VBP NN NN NN NN',\n",
       " 'NN VBZ DT NN NN IN JJ NN NN NN JJ NN NN VBP JJ NN NN JJ NN NN VBZ DT JJ NN NN NN VBP NN NN VBP NN NN NN NN NN NN NN NN NN NN NN NN NN NN NN VBP NN JJ NN VBD DT NN NN DT NN NN NN VBD DT NN NN VBD DT JJ NN NN VBP NN JJ NN NN VBZ DT NN NN NN VBP NN NN VBP NN NN NN NN NN NN NN NN VBP NN NN',\n",
       " 'NN NN NN NN NN IN NN NN VBP NN DT NN DT NN NN NN VBP NN NN',\n",
       " 'NN NN NN NN NN NN NN IN NN NN VBP JJ NN NN NN NN NN VBD DT NN NN',\n",
       " 'NN NN NN NN NN NN NN NN IN JJ JJ NN NN NN NN NN NN NN NN NN NN VBZ DT NN NN DT NN NN NN VBP NN . . . JJ IN NN NN VBP DT NN NN VBP NN NN',\n",
       " 'NN NN NN NN NN NN IN JJ VBP JJ NN NN NNP NN NN NN VBP NN NN NN NN NN JJ NN NN NNP NN NN VBP NN NN NN',\n",
       " 'NN VBZ DT NN DT NN NN NN NN NN VBD DT NN NN NN NN VBP IN NN NN VBP NN NN VBP NN NN VBP NN NN VBP NN NN NN NN NN NN NN IN NN NN VBP JJ VBP JJ NN VBD DT NN NN , VBP NN JJ NN NN VBZ DT NN NN NN VBZ DT NN NN , JJ NN NN VBP JJ NN , JJ VBP JJ NN NN NN VBZ DT NN , JJ NN VBZ DT NN NN NN JJ NN NN NN NN NN NN NN NN NN NN NN NN JJ NN NN JJ NN DT NN NN NN NN',\n",
       " 'NN NN NN NN NN VBD DT NN NN NNP NN NN NN NN VBP NN NN NN VBP NN NN NN VBD DT NN NN NN NN NN VBP NN NN VBP NN NN NN VBP NN NN NN NN NN NN NN JJ NN NN VBZ NN',\n",
       " 'NN NN VBP JJ VBP JJ VBP JJ JJ NN NN NN IN JJ NN NN NN NN NN NN NN VBD DT NN NN IN JJ NN VBD DT NN NN NN VBP NN NN NN NN JJ NN IN DT NN NN NN NN VBZ DT NN DT NN NN NN VBZ DT JJ NN NN VBP JJ VBP NN',\n",
       " 'NN NN JJ NN NN NN NN VBP JJ NN NN JJ NN NN VBZ DT JJ NN NN NN NN VBP NN NN',\n",
       " 'NN NN NN NN IN NN NN VBP NN NN NN NN NN VBP DT NN NN NN JJ NN NN NN NN JJ VBZ DT NN NN VBP NN NN NN JJ NN NN NN NN JJ VBZ DT NN DT NN NN JJ VBP JJ JJ NN NN NN VBP NN NN',\n",
       " 'JJ NN NN NN VBP DT NN NN NN NN VBP NN JJ NN NN NN VBP NN NN NN VBP NN NN NN NN NN IN DT NN NN NN . NN JJ NN NN VBD NN NN VBP NN NN NN JJ NN IN NN NN VBP NN NN NN NN NN NN JJ NN NN',\n",
       " 'JJ NN NN NN NN NN NN IN NN NN VBP NN NN NN NN NN NN JJ NN NN NN JJ VBP NN NN NN NN NN VBP NN . NN NN NN NN VBP NN VBP NN NN VBP NN NN NN NN VBP NN NN NN NN VBP JJ JJ NN NN NN VBD DT NN NN VBP NN NN VBZ DT JJ NN NN VBP JJ NN NN NN . VB DT NN NN NN NN NN NN VBZ DT NN DT NN NN NN NN NN VBD DT NN NN',\n",
       " 'NN NN VBD DT NN NN NN VBP NN NN',\n",
       " 'VB DT NN NN NN NN NN NN NN VBD DT NN DT NN NN NN NN NN VBP NN NN',\n",
       " 'NN NN VBD DT NN NN NN NN NN VBD DT NN NN NN VBP NN NN NN NN',\n",
       " 'NN NN NN NN NN VBP NN NN',\n",
       " 'NN NN NN JJ NN NN NN VBP NN NN JJ NN NN NN NN . . JJ NN NN NN NN NN NN VBP NN NN VBP JJ NN NN NN VBP NN NN NN NN JJ VBP JJ NN NN JJ NN IN JJ NN VBP NN NN NN NN JJ VBP JJ NN NN NN , JJ VBP JJ NN NN NN NN NN VBZ DT NN JJ NN NN VBP NN NN VBP NN NN DT NN NN NN . VB DT NN NN VBP JJ NN DT NN NN NN NN NN NN JJ NN NN NN',\n",
       " 'NN VBZ DT JJ NN NN VBZ DT JJ NN NN VBP NN JJ NN NN JJ NN NN NN NN IN NN NN VBP NN NN NN VBP NN NN JJ NN NN NN VBP NN . NN NN NN NN VBZ DT NN NN NN NN NN NN IN JJ NN NN NN NN NN NN NN NN',\n",
       " 'NN MD VB DT NN NN NN NN NN VBZ DT NN NN VBZ DT JJ NN NN VBP NN NN VBP IN DT NN VBZ DT NN NN NN VBP NN NN',\n",
       " 'NN NN VBP NN NN NN NN NN IN DT NN DT NN NN NN NN VBP NN NN DT NN NN NNP NN NN NN NN VBP NN NN NN VBD DT NN NN NN VBZ DT NN NN NN NN JJ NN VBD DT NN NN VBP NN NN',\n",
       " 'NN JJ NN NN NN VBP NN VBP DT JJ NN NN NN NN NN NN NN JJ NN VBD DT NN NN NN NN VBD DT NN NN NN , NN NN JJ NN NN VBP NN NN VBP NN VBP NN DT NN DT NN DT NN NN NN VBP NN NN VBZ DT JJ NN NN VBD DT NN . JJ NN NN VBP NN NN JJ NN NN JJ NN VBD DT JJ JJ JJ NN NN IN JJ NN NN NN VBP NN VBP NN NN DT NN NN NN JJ NN NN NN JJ NN NN',\n",
       " 'NN MD VB JJ NN NN NN NN JJ NN NN NN NN VBZ DT JJ NN VBD DT JJ NN NN NN NN VBP NN NN NN NN VBP DT NN NN IN NN NN VBP PDT DT JJ NN NN NN NN NN NN VBP JJ NN NN JJ NN NN JJ NN NN NN NN VBP NN DT JJ NN NN VBP NN NN NN NN NN NN VBD DT NN NN JJ NN NN JJ NN NN NNP NNP NNP NNP NNP VBP NN NN',\n",
       " 'NN NN NN JJ NN NN NN NN NN NN VBP NN . NN NN NN NN JJ NN NN VBP NN NN NN NN NN NN NN VBZ DT NN NN VBP NN NN NN NN VBZ DT JJ NN VBZ DT NN NN NN NN VBP NN NN JJ NN NN JJ JJ NN NN NN',\n",
       " 'NN NN NN VBD DT NN NN VBP NNS VBP JJ NN NN JJ NN NN NN',\n",
       " 'NN NN NN VBP JJ NN NN VBD DT NN DT NN NN VBD DT JJ NN VBD DT NN NN JJ NN NN NNP VBZ JJ NN NN NN NN , VB DT NN DT NN DT NN DT NN',\n",
       " 'NN NN JJ NN NN NN NN NN NN NN NN NN NN NN',\n",
       " 'NN NN NN NN NN NN NN NN NN VBP NN NN JJ NN NN VBZ DT JJ NN NN JJ NN NN NN NN VBZ DT NN NN VBP JJ JJ NN JJ NN NN VBZ VBZ DT JJ NN VBZ DT JJ NN NN JJ NN NN NN VBP NN',\n",
       " 'NN VBP NN NN NN JJ NN NN VBD DT NN NN NN NN VBZ DT NN NN NN NN NN VBP NN . . JJ NN NN NN NN NN NN NN NN NN NN NN NN VBP NN NN',\n",
       " 'NN NN VBP NN NN NN NN JJ NN NN . JJ VBP JJ NN NN NN NN NN . NN JJ NN NN NN IN DT NN NN NN . NN JJ NN NN VBP JJ NN NN NN NN NN . NN NN NN JJ NN NN VBP WRB DT NN NN NN JJ VBP NN',\n",
       " 'NN NN NN NN JJ VBP JJ JJ NN NN NN VBD DT JJ NN NN JJ NN NN NN NN JJ VBP JJ NN JJ NN JJ NN NN JJ VBP JJ NN NN VBP NN',\n",
       " 'NN VBZ DT NN NN NN VBD DT JJ NN NN IN JJ VBP VBP DT NN NN JJ NN NN JJ VBP NN NN NN NN IN NN NN VBP NN NN NN . NN VBZ DT NN NN NN NN NN VBZ DT NN NN JJ VBP JJ NN NN VBP NN NN NN VBP NN NN NN NN',\n",
       " 'NN NN NN NN NN NN NN NN NN VBP NN NN NN NN NN VBD DT NN NN NN NN NN NN JJ IN NN NN VBP NN DT NN NN NN VBZ DT NN NN NN . JJ JJ NN NN JJ NN NN NN NN NN VBZ DT JJ NN',\n",
       " 'NN NN VBP NN NN NN VBD NN NN VBP NN VBP NN NN DT NN NN NN NN NN NN',\n",
       " 'JJ NN NN NN NN NN NN NN IN DT JJ NN NN NN NN NN NN NN JJ NN NN NN VBP NN NN NN NN IN JJ NNS VBP JJ JJ NN NN NN NN NN JJ NN JJ NN NN NN NN VBD DT NN NN VBP NN VBP NN NN NN NN VBP JJ JJ NN NN NN JJ VBP JJ NN NN',\n",
       " 'NN NN NN NN VBP NN DT NN DT JJ NN VBD DT JJ NN NN VBP NN NN JJ VBP JJ JJ NN , VB DT NN NN JJ VBP JJ JJ NN VBZ DT NN NN VBP NN NN NN VBZ DT JJ NN JJ NN IN DT JJ NN NN NN VBD NN NN VBP NN NN NN VBP NN NN NN NN NN NN NN NN JJ NN NN NN NN',\n",
       " 'NN NN NN NN NN VBP NN NN NN NN VBZ DT NN JJ NN NN VBD DT JJ NN NN JJ VBP JJ NN NN VBP NN NN NN NN NN NN VBP NN NN NN JJ NN NN JJ NN NN NN NN NN NN VBP NN NN VBP',\n",
       " 'NN NN NN NN JJ NN NN NN VBP JJ NN NN . . . VB DT NN VBZ DT NN NN VBP NN NN NN NN NN NN NN NN NN NN NN NN NN NN NN VBP NN NN NN NN IN DT JJ NN NN VBP NN NN NN NN NN NN NN IN NN NN VBP VBZ DT JJ JJ NN NN',\n",
       " 'NN NN NN VBP NN DT NN NN NN NN NN NN VBZ DT NN NN NN NN NN NN VBP NN NN NN NN VBD DT NN DT JJ JJ NN NN NN NN IN NN NN VBZ DT NN DT NN NN',\n",
       " 'NN NN NN NN NN VBZ DT NN NN NN NN VBP NN NN NN NN VBD DT JJ NN VBZ DT JJ NN NN NN NN NN NN NN NN NN NN NN NN NN VBD DT NN NN JJ NN NN NN NN VBP NN NN NN VBZ DT NN NN NN NN NN VBP VBZ DT JJ JJ NN NN JJ NN JJ NN',\n",
       " 'NN NN VBP NN',\n",
       " 'NN NN NN JJ VBZ DT NN DT NN NN NN . NN NN NN NN NN NN NN JJ NN JJ NN JJ NN NN VBZ DT NN NN NN NN VBZ DT JJ NN NN NN NN JJ NN NN JJ NN NN NN NN VBP NN JJ NN VBD DT NN NN NN . NN JJ JJ NN JJ NN . . . DT JJ NN NN NN NN VBP VBZ DT JJ NN NN NN VBP VB DT JJ NN NN JJ NN DT JJ NN VBD DT NN NN VBD DT NN NN',\n",
       " 'NNS VBP JJ NN NN DT NN NN NN NN JJ NN NN NN JJ NN JJ NN VBZ DT NN IN NN NN VBP NN VBP DT NN NN JJ NN NN NN NN VBP NN , NN NN JJ NN NN NN NN NN NN JJ VBP JJ NN NN NN NN JJ NN NN JJ NN NN JJ NN NN NN VBD DT NN NN NN NN VBP NN NN VBP NN NN NN NN NN NN JJ VBP JJ VBP NN NN VBP JJ NN . NN JJ NN NN VBD DT NN NN JJ NN JJ NN NN JJ NN NN NN JJ NN NN VBP NN NN NN',\n",
       " 'NN MD VB JJ NN NN NN VBP NN NN NN NN VBP NN IN NN NN VBP NN NN JJ NN NN VBD DT NN NN NN NN NN NN NN NN NN NN',\n",
       " 'JJ NN NN NN JJ NN NN NN NN JJ VBP JJ NN NN VBP JJ NN NN NN JJ VBZ DT NN NN JJ NN NN VBZ DT JJ NN NN , WP FW JJ NN NN NN NN NN VBD DT NN NN DT NN NN JJ VBP JJ NN NN JJ VBP JJ VBP NN NN NN NN NN NN VBP NN , CC JJ JJ NN JJ NN NN , DT NN NN NN NN JJ NN NN NN NN VBP NN NN',\n",
       " 'NN MD VB JJ NN NN VBZ DT JJ NN NN NN NN JJ NN NN JJ VBP JJ NN NN VBP NN NN NN NN',\n",
       " 'NN NN IN NN NN NN NN NN NN NN NN NN NN NN NN NN NN NN NN VBZ DT JJ NN NN NN NN NN VBP NN NN NN NN NN NN NN NN NN NN NN NN NN NN NN NN NN NN NN NN NN JJ NN NN IN DT JJ NN JJ NN',\n",
       " 'NN NN NN JJ NN NN NN NN NN JJ NN . NN NN NN IN JJ NN NN NN . . .',\n",
       " 'NN VBZ DT JJ NN NN NN NN VBP NN DT . NN NN NN NN NN NN VBD DT NN NN NN IN DT NN NN NN NN NN NN NN IN JJ NN VBP NN NN NN NN VBP NN NN NN VBZ DT JJ NN NN JJ VBP NN NN DT NN VBZ DT JJ NN NN NN NN NN VBP NN NN IN NN VBP NN NN IN NN NN VBP DT NN',\n",
       " 'DT NN NN NN VBP NN NN IN DT JJ NN VBD DT NN NN NN NN NN JJ NN NN JJ NN NN NN NN VBZ DT NN NN JJ NN NN JJ NN NN NN NN',\n",
       " 'JJ NN NN NN NN VBP NN NN JJ NN NN NN NN NN NN IN DT NN NN NN VBD DT NN DT JJ NN NN NN JJ NN NN JJ NN NN NN NN VBP NN NN NN NN VBZ DT JJ NN NN VBD NN NN VBP NN NN NN NN NN NN NN NN NN NN JJ NN NN JJ NN JJ NN VBZ DT NN NN JJ VBP JJ JJ NN NN NN JJ NN VBD DT JJ NN NN NN NN VBZ DT JJ NN NN NN NN',\n",
       " 'NN JJ NN NN NN NN NN VBP NN NN NN VBP NN NN NN VBP NN NN NN VBZ DT NN DT NN DT JJ VBP DT NN . . . . . JJ NN . DT NN NN',\n",
       " 'JJ JJ NN NN NN NN JJ NN NN NN',\n",
       " 'NN NN NN NN VBZ DT NN NN JJ NN NN NN',\n",
       " 'NN NN NN NN VBP NN NN',\n",
       " 'NN VBP NN NN NN NN NN NN NN NN VBP NN NN NN VBD DT JJ NN NN NN JJ JJ NN . DT NN NN NN NN JJ VBP JJ NN NN NN NN NN DT NN NN NN JJ NN NN NN NN NN VBP DT JJ NN NN NN VBP NN NN VBP VBZ DT NN NN NN NN NN VBP NN NN . NN JJ NN NN NN VBD DT NN',\n",
       " 'VB DT NN NN VBP IN DT NN NN NN NN JJ NN NN . . JJ JJ NN NN JJ NN NN JJ NN NN NN',\n",
       " 'NN JJ JJ NN NN VBP NN DT NN NN VBP NN NN NN IN JJ NN NN NN JJ NN NN JJ NN NN VBP NN NN NN NN VBD DT NN NN JJ NN NN NN NN VBP NN NN VBD DT NN NN NN VBP NN NN DT NN MD VB NN IN NN NN VBD DT NN NN DT NN NN NN NN',\n",
       " 'NN NN NN VBP VBP JJ VBP JJ NN NN NN NN NN NN NN NN NN NN NN NN NN NN VBP NN NN NN NN NN NN VBP NN NN VBP JJ NN JJ NN NN VBP NN NN NN NNP NN NN VBP NN NN NN NN JJ NN NN JJ VBP NN NN VBP NN',\n",
       " 'NN NN NN NN VBD DT JJ NN NN NN VBP NN NN JJ VBZ DT JJ NN NN JJ VBP JJ NN NN NN IN DT NN NN NN VBZ DT NN NN VBP NN NN NN VBD DT NN NN NN NN NN IN NN NN VBP NN NN NNP NN VBD DT NN NN NN VBP NN NN JJ NN NN JJ VBP PDT DT NN NN NN VBP NN NN NN VBD DT JJ NN NN NN NN NN JJ NN VBZ DT NN DT NN NN NN NN',\n",
       " 'NN NN JJ NN NN NN NN NN NN NN JJ NN NN NN NN NN VBD DT NN NN NN NN JJ NN NN VBP',\n",
       " 'NN MD VB NN NN NN NN NN NN NN JJ VBZ DT NN NN VBP NN NN NN NN NN NN NN VBD DT NN NN VBP NN NN JJ JJ JJ NN NN NN NN IN NN NN VBP NN JJ VBZ DT NN VBZ DT NN DT JJ NN NN NN NN NN NN NN',\n",
       " 'VB DT NN NN VBD DT NN NN NN IN NN NN VBP NN NN NN NNP . JJ JJ NN NN . . JJ NN NN VBP NN NN NN NN NN NN VBP NN NN JJ NN NN NN NN VBP NN NN VBZ DT JJ NN NN NN NN IN JJ VBP NN NN VBP NN NN VBP NN VBP JJ NN NN NN NN NN NN VBD DT NN NN',\n",
       " 'JJ NN NN NN JJ NN NN NN VBP JJ JJ NN NN NN NN JJ JJ NN NN VBD DT NN NN NN VBZ DT JJ NN . JJ NN NN NN NN VBP NN NN NN VBP NN NN NN NN NN NN NN VBD DT NN NN NN VBP NN NN JJ NN NNP NN NN NN NN .',\n",
       " 'NN NN NN NN VBP VBZ DT JJ NN NN VBP IN DT JJ JJ NN NN VBP VBZ DT NN JJ NN JJ NN VBD DT NN NN NN NN JJ VBP JJ NN NN IN JJ VBP VBP DT NN NN DT NN NN VBZ DT NN NN VBP NN NN NN VBP NN NN NN NN .',\n",
       " 'NN NN VBP NN NN NN NN NN NN NN NN NN JJ NN NN NN NN JJ NN .',\n",
       " 'JJ JJ NN NN NN JJ VBP VBP DT NN JJ NN NN NN NN NN NN NN NN NN JJ NN NN NN VBP JJ NN',\n",
       " 'VB DT DT DT DT DT JJ NN IN JJ NN VBP JJ NN NN JJ NN . NN IN NN NN VBP NN NN NN NN IN NN NN VBP JJ JJ NN NN NN JJ NN NN NN NN JJ NN NN NN IN NN NN VBP NN NN VBD DT NN NN NN VBP IN DT NN NN NN',\n",
       " 'NN NN VBP FW VBP DT NN NN NN NN NN NN NN NN VBP NN',\n",
       " 'NN NN VBP NN DT JJ NN NN IN NN NN VBP NN NN NN NN NN NN JJ NN NN JJ NN NN NN JJ NN NN NN NN NN NN NN NN NN NN VBP NN NN NN VBD NN NN VBP NN NN NN NN NN NN NN NNP NN NN VBP NN NN JJ NN',\n",
       " 'NN NN JJ VBP JJ NN NN VBP NN NN NN VBP NN NN IN NN NN VBP NN NN NN IN NN NN VBP NN NN NN NN NN JJ NN',\n",
       " 'NN VBP NN NN IN DT NN NN JJ VBZ DT NN NN NN NN VBP NN NN JJ VBP JJ JJ NN NN NN JJ VBP JJ NN NN NN NN NN JJ VBP NN NN',\n",
       " 'NN NN VBP VB DT NN NN NN VBD DT NN VBZ DT NN NN JJ NN NN NN NN NN NN NN NN JJ NN NN JJ NN NN',\n",
       " 'NN NN NN NN JJ VBP JJ JJ NN NN JJ NN NN NN NN NN NN NN VBD DT NN NN VBP JJ NN NN NN NN NN NN VBP NN JJ NN NN VBP NN NN JJ NN NN NN VBZ DT NN NN . . . JJ JJ NN NN JJ VBP JJ NN NN NN JJ JJ NN NNS VBP IN NN NN VBP DT NN NN NN JJ NN , JJ JJ NN NN IN JJ NN NN NN NN NN NN',\n",
       " 'NN NN NN NN NN IN DT NN NN NN FW NN NN NN NN NN NN NN IN DT JJ NN NN NN NN NN VBP IN DT NN NN NN NN NN NN NN NN NN NN NN NN',\n",
       " 'NN NN NN NN VBP NN NN JJ VBP JJ NN NN NN NN JJ NN NN NN VBD DT NN NN NN NN JJ NN NN JJ NN NN NN JJ NN NN',\n",
       " 'NN NN VBP NN NN NN NN NN NN NN',\n",
       " 'NN JJ NN JJ NN NN JJ NN NN NN NN NN VBP NN',\n",
       " 'JJ NN JJ NN NN VBD DT JJ NN NN VBD DT NN NN NN NN NN NN NN NN NN NN VBD DT NN NN JJ NN NN NN NN VBP NN NN NN JJ VBP JJ NN NN NN NN NN VBD DT JJ NN NNS VBP DT NN NN NN JJ NN NN NN NN IN NN NN VBP NN JJ NN NN NN , VB DT NN NN NN JJ NN VBD DT NN NN',\n",
       " 'RB DT NN NN VBP NN NN JJ NN NN JJ JJ NN NN NN NN NN JJ NN NN NN NN NN NN NN NN JJ NN NN NN NN VBP NN NN NN VBD NN NN VBP NN JJ IN JJ NN VBP NN DT NN NN NN NN NN NN NN VBP NN',\n",
       " 'NN VBZ DT NN NN NN NN VBD DT NN NN NN VBP NN DT JJ NN NN NN NN VBP NN NN NN VBD DT NN NN NN NN NN VBD DT NN NN . . . JJ NN NN NN NN NN NN',\n",
       " 'JJ NN NN NN VBP NN NN NN IN DT NN DT NN NN JJ NN JJ VBZ DT NN DT NN NN NN',\n",
       " 'NN NN VBP NN NN VBZ DT JJ NN DT NN DT NN',\n",
       " 'NN VBP DT NN NN NN NN NN . NN JJ NN NN NN JJ NN NN NN NN VBP DT NN NN IN NN NN VBP JJ NN JJ NN . NN NN IN NN NN VBP NN NN NN NN VBZ DT JJ NN DT JJ NN NN NN NN NN NN VBZ DT NN NN . JJ NN NN NN JJ NN NN NN JJ NN NN NN',\n",
       " 'NN NN NN NN NN JJ NN NN JJ NN NN NN NN NN NN VBP NN NN NN NN NN VBZ DT NN NN JJ NN NN NN JJ NN NN JJ NN NN NN NN VBP NN NN JJ IN NN NN VBP NN NN JJ NN NN NN VBP NN NN NN VBZ DT NN NN',\n",
       " 'NN NN NN JJ NN VBZ DT JJ JJ NN NN NN NN NN NN JJ NN NN JJ VBP NN NN NN VBP NN NN NN NN NN JJ NN NN NN NN NN',\n",
       " 'NN NN VBP NN NN JJ VBP JJ NN JJ NN NN NN NN NN NN NN NN NN NN VBP NN NN JJ JJ NN NN NN NN NN NN NN NN NN NN NN JJ NN NN NN NN VBP NN NN JJ NN NN',\n",
       " 'NN NN NN NN NN NN NN NN NN VBD JJ NN VBD DT NN . JJ VBP NN JJ NN NN NN NN NN NN NN NN VBD DT NN NN NNP VBZ DT NN NN',\n",
       " 'NN NN NN VBP IN DT JJ NN NN NN VBP NN NN JJ NN NN NN NN NN VBD DT NN',\n",
       " 'NN NN NN NN NN NN NN VBP NN NN JJ NN NN NN NN VBP NN NN VBZ DT NN NN',\n",
       " ...]"
      ]
     },
     "execution_count": 104,
     "metadata": {},
     "output_type": "execute_result"
    }
   ],
   "source": [
    "tweet_tags"
   ]
  },
  {
   "cell_type": "code",
   "execution_count": 105,
   "metadata": {},
   "outputs": [],
   "source": [
    "#We can use the TFIDF vectorizer to get a token matrix for the POS tags\n",
    "pos_vectorizer = TfidfVectorizer(\n",
    "    tokenizer=None,\n",
    "    lowercase=False,\n",
    "    preprocessor=None,\n",
    "    ngram_range=(1, 3),\n",
    "    stop_words=None,\n",
    "    use_idf=False,\n",
    "    smooth_idf=False,\n",
    "    norm=None,\n",
    "    decode_error='replace',\n",
    "    max_features=5000,\n",
    "    min_df=5,\n",
    "    max_df=0.75,\n",
    "    )"
   ]
  },
  {
   "cell_type": "code",
   "execution_count": 106,
   "metadata": {},
   "outputs": [],
   "source": [
    "#Construct POS TF matrix and get vocab dict\n",
    "pos = pos_vectorizer.fit_transform(pd.Series(tweet_tags)).toarray()\n",
    "pos_vocab = {v:i for i, v in enumerate(pos_vectorizer.get_feature_names())}"
   ]
  },
  {
   "cell_type": "code",
   "execution_count": 107,
   "metadata": {},
   "outputs": [
    {
     "data": {
      "text/plain": [
       "['CC',\n",
       " 'CC DT',\n",
       " 'CC DT JJ',\n",
       " 'CC DT NN',\n",
       " 'CC FW',\n",
       " 'CC IN',\n",
       " 'CC JJ',\n",
       " 'CC JJ IN',\n",
       " 'CC JJ JJ',\n",
       " 'CC JJ NN',\n",
       " 'CC NN',\n",
       " 'CC NN IN',\n",
       " 'CC NN NN',\n",
       " 'CC NN VBP',\n",
       " 'CC VBP',\n",
       " 'CC VBZ',\n",
       " 'CC VBZ DT',\n",
       " 'CD',\n",
       " 'CD NN',\n",
       " 'DT CC',\n",
       " 'DT CC JJ',\n",
       " 'DT DT',\n",
       " 'DT DT DT',\n",
       " 'DT DT JJ',\n",
       " 'DT DT NN',\n",
       " 'DT FW',\n",
       " 'DT FW DT',\n",
       " 'DT JJ',\n",
       " 'DT JJ IN',\n",
       " 'DT JJ JJ',\n",
       " 'DT JJ NN',\n",
       " 'DT JJ NNP',\n",
       " 'DT JJ VBP',\n",
       " 'DT NN CC',\n",
       " 'DT NN DT',\n",
       " 'DT NN FW',\n",
       " 'DT NN IN',\n",
       " 'DT NN JJ',\n",
       " 'DT NN MD',\n",
       " 'DT NN NNP',\n",
       " 'DT NN UH',\n",
       " 'DT NN VB',\n",
       " 'DT NN VBD',\n",
       " 'DT NN VBP',\n",
       " 'DT NN VBZ',\n",
       " 'DT NN WP',\n",
       " 'DT NN WRB',\n",
       " 'DT VB',\n",
       " 'DT VB DT',\n",
       " 'DT VBZ',\n",
       " 'DT VBZ DT',\n",
       " 'EX',\n",
       " 'EX VB',\n",
       " 'EX VB DT',\n",
       " 'FW',\n",
       " 'FW CC',\n",
       " 'FW CC FW',\n",
       " 'FW CC JJ',\n",
       " 'FW DT',\n",
       " 'FW DT DT',\n",
       " 'FW DT JJ',\n",
       " 'FW DT NN',\n",
       " 'FW FW',\n",
       " 'FW FW DT',\n",
       " 'FW FW FW',\n",
       " 'FW FW IN',\n",
       " 'FW FW JJ',\n",
       " 'FW FW NN',\n",
       " 'FW FW VB',\n",
       " 'FW FW VBP',\n",
       " 'FW IN',\n",
       " 'FW IN NN',\n",
       " 'FW JJ',\n",
       " 'FW JJ FW',\n",
       " 'FW JJ JJ',\n",
       " 'FW JJ NN',\n",
       " 'FW NN',\n",
       " 'FW NN DT',\n",
       " 'FW NN FW',\n",
       " 'FW NN IN',\n",
       " 'FW NN JJ',\n",
       " 'FW NN NN',\n",
       " 'FW NN VBD',\n",
       " 'FW NN VBP',\n",
       " 'FW NN VBZ',\n",
       " 'FW NNP',\n",
       " 'FW NNP VBP',\n",
       " 'FW VB',\n",
       " 'FW VB DT',\n",
       " 'FW VBP',\n",
       " 'FW VBP DT',\n",
       " 'FW VBP JJ',\n",
       " 'FW VBP VB',\n",
       " 'FW VBZ',\n",
       " 'FW VBZ DT',\n",
       " 'IN',\n",
       " 'IN DT',\n",
       " 'IN DT JJ',\n",
       " 'IN DT NN',\n",
       " 'IN FW',\n",
       " 'IN FW FW',\n",
       " 'IN FW NN',\n",
       " 'IN FW VB',\n",
       " 'IN JJ',\n",
       " 'IN JJ FW',\n",
       " 'IN JJ JJ',\n",
       " 'IN JJ NN',\n",
       " 'IN JJ NNS',\n",
       " 'IN JJ VBP',\n",
       " 'IN NN',\n",
       " 'IN NN IN',\n",
       " 'IN NN JJ',\n",
       " 'IN NN NN',\n",
       " 'IN NN VBP',\n",
       " 'IN NNP',\n",
       " 'IN NNP NN',\n",
       " 'IN NNS',\n",
       " 'IN NNS NNS',\n",
       " 'IN NNS VBP',\n",
       " 'JJ FW',\n",
       " 'JJ FW DT',\n",
       " 'JJ FW FW',\n",
       " 'JJ FW NN',\n",
       " 'JJ IN',\n",
       " 'JJ IN DT',\n",
       " 'JJ IN JJ',\n",
       " 'JJ IN NN',\n",
       " 'JJ JJ',\n",
       " 'JJ JJ FW',\n",
       " 'JJ JJ IN',\n",
       " 'JJ JJ JJ',\n",
       " 'JJ JJ NN',\n",
       " 'JJ JJ VBP',\n",
       " 'JJ MD',\n",
       " 'JJ MD VB',\n",
       " 'JJ NN CC',\n",
       " 'JJ NN DT',\n",
       " 'JJ NN FW',\n",
       " 'JJ NN IN',\n",
       " 'JJ NN JJ',\n",
       " 'JJ NN MD',\n",
       " 'JJ NN NNP',\n",
       " 'JJ NN NNS',\n",
       " 'JJ NN VB',\n",
       " 'JJ NN VBD',\n",
       " 'JJ NN VBP',\n",
       " 'JJ NN VBZ',\n",
       " 'JJ NN WP',\n",
       " 'JJ NNP',\n",
       " 'JJ NNP NN',\n",
       " 'JJ NNS',\n",
       " 'JJ NNS JJ',\n",
       " 'JJ NNS VBP',\n",
       " 'JJ VB',\n",
       " 'JJ VB DT',\n",
       " 'JJ VBD',\n",
       " 'JJ VBD DT',\n",
       " 'JJ VBP',\n",
       " 'JJ VBP DT',\n",
       " 'JJ VBP FW',\n",
       " 'JJ VBP JJ',\n",
       " 'JJ VBP NN',\n",
       " 'JJ VBP NNS',\n",
       " 'JJ VBP PDT',\n",
       " 'JJ VBP VB',\n",
       " 'JJ VBP VBP',\n",
       " 'JJ VBZ',\n",
       " 'JJ VBZ DT',\n",
       " 'JJ WRB',\n",
       " 'JJ WRB DT',\n",
       " 'MD',\n",
       " 'MD VB',\n",
       " 'MD VB DT',\n",
       " 'MD VB IN',\n",
       " 'MD VB JJ',\n",
       " 'MD VB NN',\n",
       " 'MD VB RB',\n",
       " 'MD VB RP',\n",
       " 'MD VB VB',\n",
       " 'NN CC',\n",
       " 'NN CC DT',\n",
       " 'NN CC IN',\n",
       " 'NN CC JJ',\n",
       " 'NN CC NN',\n",
       " 'NN CC VBZ',\n",
       " 'NN CD',\n",
       " 'NN CD NN',\n",
       " 'NN DT',\n",
       " 'NN DT DT',\n",
       " 'NN DT FW',\n",
       " 'NN DT JJ',\n",
       " 'NN DT NN',\n",
       " 'NN DT VB',\n",
       " 'NN DT VBZ',\n",
       " 'NN EX',\n",
       " 'NN EX VB',\n",
       " 'NN FW',\n",
       " 'NN FW CC',\n",
       " 'NN FW DT',\n",
       " 'NN FW FW',\n",
       " 'NN FW JJ',\n",
       " 'NN FW NN',\n",
       " 'NN FW NNP',\n",
       " 'NN FW VBZ',\n",
       " 'NN IN',\n",
       " 'NN IN DT',\n",
       " 'NN IN FW',\n",
       " 'NN IN JJ',\n",
       " 'NN IN NN',\n",
       " 'NN IN NNP',\n",
       " 'NN IN NNS',\n",
       " 'NN JJ FW',\n",
       " 'NN JJ IN',\n",
       " 'NN JJ JJ',\n",
       " 'NN JJ NNP',\n",
       " 'NN JJ VBD',\n",
       " 'NN JJ VBP',\n",
       " 'NN JJ VBZ',\n",
       " 'NN MD',\n",
       " 'NN MD VB',\n",
       " 'NN NN CC',\n",
       " 'NN NN CD',\n",
       " 'NN NN DT',\n",
       " 'NN NN EX',\n",
       " 'NN NN FW',\n",
       " 'NN NN IN',\n",
       " 'NN NN NNP',\n",
       " 'NN NN NNS',\n",
       " 'NN NN PRP',\n",
       " 'NN NN RB',\n",
       " 'NN NN SYM',\n",
       " 'NN NN UH',\n",
       " 'NN NN VB',\n",
       " 'NN NN VBD',\n",
       " 'NN NN VBZ',\n",
       " 'NN NN WP',\n",
       " 'NN NN WRB',\n",
       " 'NN NNP',\n",
       " 'NN NNP CC',\n",
       " 'NN NNP IN',\n",
       " 'NN NNP JJ',\n",
       " 'NN NNP NN',\n",
       " 'NN NNP NNP',\n",
       " 'NN NNP VBZ',\n",
       " 'NN NNS',\n",
       " 'NN NNS JJ',\n",
       " 'NN NNS VBP',\n",
       " 'NN PDT',\n",
       " 'NN PDT DT',\n",
       " 'NN PRP',\n",
       " 'NN PRP DT',\n",
       " 'NN PRP VBP',\n",
       " 'NN RB',\n",
       " 'NN RB JJ',\n",
       " 'NN SYM',\n",
       " 'NN SYM JJ',\n",
       " 'NN SYM NN',\n",
       " 'NN SYM VBZ',\n",
       " 'NN UH',\n",
       " 'NN UH JJ',\n",
       " 'NN UH NN',\n",
       " 'NN UH VBZ',\n",
       " 'NN VB',\n",
       " 'NN VB DT',\n",
       " 'NN VB FW',\n",
       " 'NN VB IN',\n",
       " 'NN VB JJ',\n",
       " 'NN VB NN',\n",
       " 'NN VB PDT',\n",
       " 'NN VB VBP',\n",
       " 'NN VB VBZ',\n",
       " 'NN VBD',\n",
       " 'NN VBD CD',\n",
       " 'NN VBD DT',\n",
       " 'NN VBD JJ',\n",
       " 'NN VBD NN',\n",
       " 'NN VBD PDT',\n",
       " 'NN VBD VBZ',\n",
       " 'NN VBP CC',\n",
       " 'NN VBP CD',\n",
       " 'NN VBP DT',\n",
       " 'NN VBP FW',\n",
       " 'NN VBP IN',\n",
       " 'NN VBP JJ',\n",
       " 'NN VBP NNS',\n",
       " 'NN VBP PDT',\n",
       " 'NN VBP PRP',\n",
       " 'NN VBP RB',\n",
       " 'NN VBP VB',\n",
       " 'NN VBP VBP',\n",
       " 'NN VBP VBZ',\n",
       " 'NN VBP WRB',\n",
       " 'NN VBZ',\n",
       " 'NN VBZ DT',\n",
       " 'NN VBZ IN',\n",
       " 'NN VBZ JJ',\n",
       " 'NN VBZ NN',\n",
       " 'NN VBZ NNS',\n",
       " 'NN VBZ RP',\n",
       " 'NN VBZ VBP',\n",
       " 'NN VBZ VBZ',\n",
       " 'NN WP',\n",
       " 'NN WP FW',\n",
       " 'NN WP IN',\n",
       " 'NN WP NN',\n",
       " 'NN WP VBD',\n",
       " 'NN WP VBZ',\n",
       " 'NN WRB',\n",
       " 'NN WRB DT',\n",
       " 'NN WRB NN',\n",
       " 'NNP',\n",
       " 'NNP CC',\n",
       " 'NNP CC JJ',\n",
       " 'NNP DT',\n",
       " 'NNP IN',\n",
       " 'NNP IN JJ',\n",
       " 'NNP IN NN',\n",
       " 'NNP JJ',\n",
       " 'NNP JJ JJ',\n",
       " 'NNP JJ NN',\n",
       " 'NNP MD',\n",
       " 'NNP MD VB',\n",
       " 'NNP NN',\n",
       " 'NNP NN DT',\n",
       " 'NNP NN IN',\n",
       " 'NNP NN JJ',\n",
       " 'NNP NN NN',\n",
       " 'NNP NN VBD',\n",
       " 'NNP NN VBP',\n",
       " 'NNP NN VBZ',\n",
       " 'NNP NNP',\n",
       " 'NNP NNP JJ',\n",
       " 'NNP NNP MD',\n",
       " 'NNP NNP NN',\n",
       " 'NNP NNP NNP',\n",
       " 'NNP NNP VBD',\n",
       " 'NNP NNP VBZ',\n",
       " 'NNP VBD',\n",
       " 'NNP VBD DT',\n",
       " 'NNP VBD JJ',\n",
       " 'NNP VBP',\n",
       " 'NNP VBP JJ',\n",
       " 'NNP VBZ',\n",
       " 'NNP VBZ DT',\n",
       " 'NNP VBZ FW',\n",
       " 'NNP VBZ JJ',\n",
       " 'NNP VBZ NN',\n",
       " 'NNP VBZ RP',\n",
       " 'NNP VBZ VB',\n",
       " 'NNP VBZ VBZ',\n",
       " 'NNS',\n",
       " 'NNS JJ',\n",
       " 'NNS JJ JJ',\n",
       " 'NNS JJ NN',\n",
       " 'NNS NNS',\n",
       " 'NNS VB',\n",
       " 'NNS VBP',\n",
       " 'NNS VBP DT',\n",
       " 'NNS VBP IN',\n",
       " 'NNS VBP JJ',\n",
       " 'NNS VBP NN',\n",
       " 'NNS VBP NNS',\n",
       " 'NNS VBP VB',\n",
       " 'NNS VBP VBP',\n",
       " 'PDT',\n",
       " 'PDT DT',\n",
       " 'PDT DT JJ',\n",
       " 'PDT DT NN',\n",
       " 'PRP',\n",
       " 'PRP DT',\n",
       " 'PRP DT JJ',\n",
       " 'PRP DT NN',\n",
       " 'PRP JJ',\n",
       " 'PRP VBP',\n",
       " 'PRP VBP DT',\n",
       " 'RB',\n",
       " 'RB DT',\n",
       " 'RB DT DT',\n",
       " 'RB DT JJ',\n",
       " 'RB DT NN',\n",
       " 'RB JJ',\n",
       " 'RB JJ JJ',\n",
       " 'RB JJ NN',\n",
       " 'RB VB',\n",
       " 'RB VB DT',\n",
       " 'RB VBP',\n",
       " 'RB VBP DT',\n",
       " 'RB VBZ',\n",
       " 'RB VBZ DT',\n",
       " 'RP',\n",
       " 'RP DT',\n",
       " 'RP DT JJ',\n",
       " 'RP DT NN',\n",
       " 'SYM',\n",
       " 'SYM JJ',\n",
       " 'SYM JJ JJ',\n",
       " 'SYM JJ NN',\n",
       " 'SYM NN',\n",
       " 'SYM NN NN',\n",
       " 'SYM NN VBZ',\n",
       " 'SYM VBZ',\n",
       " 'SYM VBZ DT',\n",
       " 'UH',\n",
       " 'UH JJ',\n",
       " 'UH JJ JJ',\n",
       " 'UH NN',\n",
       " 'UH NN IN',\n",
       " 'UH NN JJ',\n",
       " 'UH NN NN',\n",
       " 'UH VBZ',\n",
       " 'UH VBZ DT',\n",
       " 'VB',\n",
       " 'VB DT',\n",
       " 'VB DT DT',\n",
       " 'VB DT FW',\n",
       " 'VB DT JJ',\n",
       " 'VB DT NN',\n",
       " 'VB FW',\n",
       " 'VB FW DT',\n",
       " 'VB FW FW',\n",
       " 'VB IN',\n",
       " 'VB IN DT',\n",
       " 'VB IN NN',\n",
       " 'VB JJ',\n",
       " 'VB JJ IN',\n",
       " 'VB JJ JJ',\n",
       " 'VB JJ NN',\n",
       " 'VB JJ NNP',\n",
       " 'VB JJ NNS',\n",
       " 'VB JJ VB',\n",
       " 'VB NN',\n",
       " 'VB NN DT',\n",
       " 'VB NN FW',\n",
       " 'VB NN IN',\n",
       " 'VB NN JJ',\n",
       " 'VB NN NN',\n",
       " 'VB NN NNP',\n",
       " 'VB NN VB',\n",
       " 'VB PDT',\n",
       " 'VB PDT DT',\n",
       " 'VB RB',\n",
       " 'VB RB DT',\n",
       " 'VB RP',\n",
       " 'VB VB',\n",
       " 'VB VB DT',\n",
       " 'VB VB NN',\n",
       " 'VB VBP',\n",
       " 'VB VBP DT',\n",
       " 'VB VBZ',\n",
       " 'VB VBZ DT',\n",
       " 'VBD',\n",
       " 'VBD CD',\n",
       " 'VBD CD NN',\n",
       " 'VBD DT',\n",
       " 'VBD DT DT',\n",
       " 'VBD DT FW',\n",
       " 'VBD DT JJ',\n",
       " 'VBD DT NN',\n",
       " 'VBD JJ',\n",
       " 'VBD JJ IN',\n",
       " 'VBD JJ JJ',\n",
       " 'VBD JJ NN',\n",
       " 'VBD NN',\n",
       " 'VBD NN DT',\n",
       " 'VBD NN NN',\n",
       " 'VBD PDT',\n",
       " 'VBD PDT DT',\n",
       " 'VBD RP',\n",
       " 'VBD RP DT',\n",
       " 'VBD VB',\n",
       " 'VBD VB DT',\n",
       " 'VBD VBZ',\n",
       " 'VBD VBZ DT',\n",
       " 'VBP CC',\n",
       " 'VBP CC JJ',\n",
       " 'VBP CD',\n",
       " 'VBP CD NN',\n",
       " 'VBP DT',\n",
       " 'VBP DT DT',\n",
       " 'VBP DT JJ',\n",
       " 'VBP DT NN',\n",
       " 'VBP FW',\n",
       " 'VBP FW FW',\n",
       " 'VBP FW VBP',\n",
       " 'VBP IN',\n",
       " 'VBP IN DT',\n",
       " 'VBP IN NN',\n",
       " 'VBP IN NNS',\n",
       " 'VBP JJ',\n",
       " 'VBP JJ FW',\n",
       " 'VBP JJ IN',\n",
       " 'VBP JJ JJ',\n",
       " 'VBP JJ NN',\n",
       " 'VBP JJ NNP',\n",
       " 'VBP JJ NNS',\n",
       " 'VBP JJ VBP',\n",
       " 'VBP NN CC',\n",
       " 'VBP NN DT',\n",
       " 'VBP NN FW',\n",
       " 'VBP NN IN',\n",
       " 'VBP NN JJ',\n",
       " 'VBP NN NNP',\n",
       " 'VBP NN NNS',\n",
       " 'VBP NN PDT',\n",
       " 'VBP NN PRP',\n",
       " 'VBP NN UH',\n",
       " 'VBP NN VB',\n",
       " 'VBP NN VBD',\n",
       " 'VBP NN VBP',\n",
       " 'VBP NN VBZ',\n",
       " 'VBP NN WP',\n",
       " 'VBP NN WRB',\n",
       " 'VBP NNS',\n",
       " 'VBP NNS JJ',\n",
       " 'VBP NNS VB',\n",
       " 'VBP NNS VBP',\n",
       " 'VBP PDT',\n",
       " 'VBP PDT DT',\n",
       " 'VBP PRP',\n",
       " 'VBP PRP DT',\n",
       " 'VBP RB',\n",
       " 'VBP RB DT',\n",
       " 'VBP RB JJ',\n",
       " 'VBP RB VB',\n",
       " 'VBP RB VBP',\n",
       " 'VBP VB',\n",
       " 'VBP VB DT',\n",
       " 'VBP VBP',\n",
       " 'VBP VBP DT',\n",
       " 'VBP VBP JJ',\n",
       " 'VBP VBP NN',\n",
       " 'VBP VBP VB',\n",
       " 'VBP VBP VBP',\n",
       " 'VBP VBZ',\n",
       " 'VBP VBZ DT',\n",
       " 'VBP WRB',\n",
       " 'VBP WRB DT',\n",
       " 'VBZ',\n",
       " 'VBZ DT',\n",
       " 'VBZ DT DT',\n",
       " 'VBZ DT JJ',\n",
       " 'VBZ DT NN',\n",
       " 'VBZ FW',\n",
       " 'VBZ FW DT',\n",
       " 'VBZ FW JJ',\n",
       " 'VBZ IN',\n",
       " 'VBZ IN DT',\n",
       " 'VBZ JJ',\n",
       " 'VBZ JJ IN',\n",
       " 'VBZ JJ JJ',\n",
       " 'VBZ JJ NN',\n",
       " 'VBZ JJ NNS',\n",
       " 'VBZ JJ VB',\n",
       " 'VBZ NN',\n",
       " 'VBZ NN NN',\n",
       " 'VBZ NNS',\n",
       " 'VBZ RP',\n",
       " 'VBZ RP DT',\n",
       " 'VBZ VB',\n",
       " 'VBZ VB DT',\n",
       " 'VBZ VBP',\n",
       " 'VBZ VBP DT',\n",
       " 'VBZ VBP NN',\n",
       " 'VBZ VBZ',\n",
       " 'VBZ VBZ DT',\n",
       " 'WP',\n",
       " 'WP FW',\n",
       " 'WP FW FW',\n",
       " 'WP FW NN',\n",
       " 'WP IN',\n",
       " 'WP IN JJ',\n",
       " 'WP IN NN',\n",
       " 'WP NN',\n",
       " 'WP NN NN',\n",
       " 'WP VBD',\n",
       " 'WP VBD JJ',\n",
       " 'WP VBZ',\n",
       " 'WP VBZ VBP',\n",
       " 'WRB',\n",
       " 'WRB DT',\n",
       " 'WRB DT JJ',\n",
       " 'WRB DT NN',\n",
       " 'WRB NN',\n",
       " 'WRB NN DT',\n",
       " 'WRB NN JJ',\n",
       " 'WRB NN NN',\n",
       " 'WRB NN VBZ']"
      ]
     },
     "execution_count": 107,
     "metadata": {},
     "output_type": "execute_result"
    }
   ],
   "source": [
    "pos_stuff = pos_vectorizer.get_feature_names()\n",
    "pos_stuff"
   ]
  },
  {
   "cell_type": "code",
   "execution_count": 215,
   "metadata": {},
   "outputs": [],
   "source": [
    "#Now get other features\n",
    "sentiment_analyzer = VS()\n",
    "\n",
    "def count_twitter_objs(text_string):\n",
    "    \"\"\"\n",
    "    Accepts a text string and replaces:\n",
    "    1) urls with URLHERE\n",
    "    2) lots of whitespace with one instance\n",
    "    3) mentions with MENTIONHERE\n",
    "    4) hashtags with HASHTAGHERE\n",
    "\n",
    "    This allows us to get standardized counts of urls and mentions\n",
    "    Without caring about specific people mentioned.\n",
    "    \n",
    "    Returns counts of urls, mentions, and hashtags.\n",
    "    \"\"\"\n",
    "    space_pattern = '\\s+'\n",
    "    giant_url_regex = ('http[s]?://(?:[a-zA-Z]|[0-9]|[$-_@.&+]|'\n",
    "        '[!*\\(\\),]|(?:%[0-9a-fA-F][0-9a-fA-F]))+')\n",
    "    mention_regex = '@[\\w\\-]+'\n",
    "    hashtag_regex = '#[\\w\\-]+'\n",
    "    parsed_text = re.sub(space_pattern, ' ', text_string)\n",
    "    parsed_text = re.sub(giant_url_regex, 'URLHERE', parsed_text)\n",
    "    parsed_text = re.sub(mention_regex, 'MENTIONHERE', parsed_text)\n",
    "    parsed_text = re.sub(hashtag_regex, 'HASHTAGHERE', parsed_text)\n",
    "    return(parsed_text.count('URLHERE'),parsed_text.count('MENTIONHERE'),parsed_text.count('HASHTAGHERE'))\n",
    "\n",
    "def other_features(tweet):\n",
    "    \"\"\"This function takes a string and returns a list of features.\n",
    "    These include Sentiment scores, Text and Readability scores,\n",
    "    as well as Twitter specific features\"\"\"\n",
    "    sentiment = sentiment_analyzer.polarity_scores(tweet)\n",
    "    \n",
    "    words = preprocess(tweet) #Get text only\n",
    "    \n",
    "    syllables = textstat.syllable_count(words)\n",
    "    num_chars = sum(len(w) for w in words)\n",
    "    num_chars_total = len(tweet)\n",
    "    num_terms = len(tweet.split())\n",
    "    num_words = len(words.split())\n",
    "    avg_syl = round(float((syllables+0.001))/float(num_words+0.001),4)\n",
    "    num_unique_terms = len(set(words.split()))\n",
    "    \n",
    "    ###Modified FK grade, where avg words per sentence is just num words/1\n",
    "    FKRA = round(float(0.39 * float(num_words)/1.0) + float(11.8 * avg_syl) - 15.59,1)\n",
    "    ##Modified FRE score, where sentence fixed to 1\n",
    "    FRE = round(206.835 - 1.015*(float(num_words)/1.0) - (84.6*float(avg_syl)),2)\n",
    "    \n",
    "    twitter_objs = count_twitter_objs(tweet)\n",
    "    retweet = 0\n",
    "    if \"rt\" in words:\n",
    "        retweet = 1\n",
    "    features = [FKRA, FRE,syllables, avg_syl, num_chars, num_chars_total, num_terms, num_words,\n",
    "                num_unique_terms, sentiment['neg'], sentiment['pos'], sentiment['neu'], sentiment['compound'],\n",
    "                twitter_objs[2], twitter_objs[1],\n",
    "                twitter_objs[0], retweet]\n",
    "    #features = pandas.DataFrame(features)\n",
    "    return features\n",
    "\n",
    "def get_feature_array(tweets):\n",
    "    feats=[]\n",
    "    for t in tweets:\n",
    "        feats.append(other_features(t))\n",
    "    return np.array(feats)"
   ]
  },
  {
   "cell_type": "code",
   "execution_count": 109,
   "metadata": {},
   "outputs": [],
   "source": [
    "other_features_names = [\"FKRA\", \"FRE\",\"num_syllables\", \"avg_syl_per_word\", \"num_chars\", \"num_chars_total\", \\\n",
    "                        \"num_terms\", \"num_words\", \"num_unique_words\", \"vader neg\",\"vader pos\",\"vader neu\", \\\n",
    "                        \"vader compound\", \"num_hashtags\", \"num_mentions\", \"num_urls\", \"is_retweet\"]"
   ]
  },
  {
   "cell_type": "code",
   "execution_count": 225,
   "metadata": {},
   "outputs": [
    {
     "data": {
      "text/plain": [
       "array([[  8.8 ,  73.15,  30.  , ...,   1.  ,   0.  ,   0.  ],\n",
       "       [  5.9 ,  77.81,  19.  , ...,   1.  ,   0.  ,   0.  ],\n",
       "       [  6.5 ,  80.46,  23.  , ...,   2.  ,   0.  ,   1.  ],\n",
       "       ...,\n",
       "       [  3.1 ,  96.03,  15.  , ...,   0.  ,   0.  ,   0.  ],\n",
       "       [  0.6 , 103.05,   8.  , ...,   0.  ,   0.  ,   0.  ],\n",
       "       [  9.8 ,  55.22,  27.  , ...,   0.  ,   1.  ,   0.  ]])"
      ]
     },
     "execution_count": 225,
     "metadata": {},
     "output_type": "execute_result"
    }
   ],
   "source": [
    "feats = get_feature_array(tweets)\n",
    "feats[0]"
   ]
  },
  {
   "cell_type": "code",
   "execution_count": 226,
   "metadata": {},
   "outputs": [
    {
     "data": {
      "text/plain": [
       "array([8.8000e+00, 7.3150e+01, 3.0000e+01, 1.3043e+00, 1.2000e+02,\n",
       "       1.4000e+02, 2.5000e+01, 2.3000e+01, 2.1000e+01, 0.0000e+00,\n",
       "       1.2000e-01, 8.8000e-01, 4.5630e-01, 0.0000e+00, 1.0000e+00,\n",
       "       0.0000e+00, 0.0000e+00])"
      ]
     },
     "execution_count": 226,
     "metadata": {},
     "output_type": "execute_result"
    }
   ],
   "source": [
    "feats[0]"
   ]
  },
  {
   "cell_type": "code",
   "execution_count": 112,
   "metadata": {},
   "outputs": [],
   "source": [
    "#Now join them all up\n",
    "M = np.concatenate([tfidf,pos,feats],axis=1)"
   ]
  },
  {
   "cell_type": "code",
   "execution_count": 134,
   "metadata": {},
   "outputs": [
    {
     "data": {
      "text/plain": [
       "(24783, 7516)"
      ]
     },
     "execution_count": 134,
     "metadata": {},
     "output_type": "execute_result"
    }
   ],
   "source": [
    "M.shape"
   ]
  },
  {
   "cell_type": "code",
   "execution_count": 114,
   "metadata": {},
   "outputs": [],
   "source": [
    "#Finally get a list of variable names\n",
    "variables = ['']*len(vocab)\n",
    "for k,v in vocab.items():\n",
    "    variables[v] = k\n",
    "\n",
    "pos_variables = ['']*len(pos_vocab)\n",
    "for k,v in pos_vocab.items():\n",
    "    pos_variables[v] = k\n",
    "\n",
    "feature_names = variables+pos_variables+other_features_names"
   ]
  },
  {
   "cell_type": "code",
   "execution_count": 115,
   "metadata": {},
   "outputs": [
    {
     "name": "stdout",
     "output_type": "stream",
     "text": [
      "['ab', 'ability', 'able', 'abo', 'abortion', 'absolute', 'absolutely', 'abt', 'accent', 'accept', 'accident', 'accidentally', 'according', 'account', 'accurate', 'across', 'act', 'act like', 'act like bitch', 'actin', 'actin like', 'acting', 'acting like', 'acting like bitch', 'action', 'active', 'activity', 'actor', 'actual', 'actually', 'ad', 'adam', 'add', 'added', 'addicted', 'address', 'admit', 'adorable', 'adult', 'advice', 'ae', 'af', 'afford', 'afraid', 'african', 'afterwards', 'ag', 'age', 'ago', 'agree', 'agreed', 'ah', 'ah bitch', 'aha', 'ahaha', 'ahead', 'ahh', 'ahhh', 'aid', 'aim', 'ainn', 'aint', 'aint bitch', 'aint even', 'aint fuckin', 'aint fucking', 'aint got', 'aint hoe', 'aint hoe get', 'aint loyal', 'aint never', 'aint nobody', 'aint nothing', 'aint shit', 'aint shit bitch', 'air', 'aka', 'al', 'al qaeda', 'alabama', 'alarm', 'albino', 'album', 'alcohol', 'alert', 'alex', 'alex smith', 'alien', 'alike', 'alive', 'allah', 'allen', 'allowed', 'almost', 'almost got', 'alone', 'along', 'alot', 'alotta', 'alpha', 'already', 'already got', 'already know', 'alright', 'alsina', 'also', 'always', 'always bitch', 'always get', 'always got', 'always hoe', 'always look', 'always tryna', 'always wan', 'always wan na', 'always want', 'always wanted', 'amanda', 'amazing', 'amber', 'amber rose', 'amen', 'amendment', 'america', 'american', 'amos', 'amount', 'amp', 'amp amp', 'amp bitch', 'amp fuck', 'amp get', 'amp go', 'amp got', 'amp hoe', 'amp know', 'amp like', 'amp nigga', 'amp say', 'amp shit', 'amp still', 'amp take', 'amp throw', 'amp u', 'amp wa', 'amp white', 'amp yellow', 'anaconda', 'anal', 'anchor', 'anchor baby', 'android', 'android iphone', 'android iphone ipad', 'angel', 'anger', 'anglo', 'angry', 'angry bird', 'animal', 'animal cracker', 'ankle', 'ann', 'annoying', 'annoying bitch', 'anonymous', 'another', 'another bitch', 'another man', 'another man treasure', 'another nigga', 'another nigga bitch', 'another one', 'answer', 'answering', 'ant', 'anthem', 'anthony', 'anti', 'antonio', 'anxiety', 'anybody', 'anymore', 'anyone', 'anything', 'anything bitch', 'anytime', 'anyway', 'anyways', 'anywhere', 'ap', 'apart', 'ape', 'ape shit', 'apologize', 'apologizing', 'app', 'apparently', 'appear', 'apple', 'appreciate', 'area', 'arent', 'argue', 'arguing', 'argument', 'ariana', 'arizona', 'arm', 'armed', 'army', 'around', 'around amp', 'around bitch', 'arrest', 'arrested', 'art', 'article', 'artist', 'asap', 'asf', 'ashamed', 'asian', 'asian bitch', 'asian massage', 'asian massage brooklyn', 'asian massage park', 'aside', 'ask', 'ask bitch', 'ask every', 'ask every bitch', 'asked', 'askin', 'asking', 'asks', 'asleep', 'ass', 'asshole', 'association', 'assume', 'assuming', 'astros', 'ate', 'ate pussy', 'atl', 'atlanta', 'atleast', 'attached', 'attack', 'attempt', 'attend', 'attention', 'attitude', 'attractive', 'audience', 'august', 'aunt', 'austin', 'autocorrect', 'automatically', 'aux', 'aux cord', 'available', 'average', 'avi', 'avoid', 'aw', 'awake', 'award', 'aware', 'away', 'awe', 'awesome', 'awful', 'awkward', 'awkward moment', 'aww', 'ay', 'aye', 'ayo', 'az', 'azz', 'b', 'b bitch', 'b c', 'b like', 'babe', 'baby', 'baby bird', 'baby bitch', 'baby daddy', 'baby momma', 'bacc', 'back', 'back back', 'back bitch', 'back hoe', 'back lol', 'back old', 'back shit', 'background', 'backpack', 'backpage', 'backwards', 'bacon', 'bad', 'bad bitch', 'bad bitch come', 'bad bitch get', 'bad bitch good', 'bad bitch thats', 'bad bitch thing', 'bad built', 'bad hoe', 'badass', 'baddest', 'baddest bitch', 'bae', 'bae bitch', 'bae got', 'bag', 'bait', 'bake', 'baker', 'bald', 'ball', 'ball trash', 'ballin', 'balling', 'baltimore', 'ban', 'banana', 'band', 'bandwagon', 'bang', 'banger', 'bank', 'banking', 'banned', 'bar', 'barber', 'barbie', 'bare', 'barely', 'barrel', 'barrybonds', 'base', 'baseball', 'based', 'basement', 'bash', 'basic', 'basic bitch', 'basically', 'basis', 'basketball', 'bastard', 'bat', 'bath', 'bathroom', 'battle', 'bb', 'bc', 'bday', 'beach', 'bean', 'beaner', 'beany', 'bear', 'beard', 'beast', 'beat', 'beat bitch', 'beat pussy', 'beat yo', 'beatin', 'beating', 'beautiful', 'beautiful bitch', 'beauty', 'became', 'become', 'becomes', 'bed', 'bee', 'beef', 'beefing', 'beer', 'beg', 'begin', 'behind', 'behind back', 'bein', 'belief', 'believe', 'bell', 'belly', 'belong', 'belongs', 'belt', 'ben', 'bend', 'benghazi', 'benz', 'berg', 'besides', 'best', 'best asian', 'best asian massage', 'best friend', 'best pussy', 'bestfriend', 'bet', 'bet bitch', 'bet u', 'betta', 'better', 'better bitch', 'better get', 'better let', 'better pussy', 'better watch', 'bey', 'beyonc', 'beyonce', 'beyond', 'bf', 'bffl', 'bi', 'bible', 'bid', 'biden', 'bieber', 'big', 'big bird', 'big bitch', 'big booty', 'big booty bitch', 'big booty hoe', 'big pussy', 'bigger', 'biggest', 'biggest bitch', 'biggest faggot', 'biggest hoe', 'bike', 'bill', 'billion', 'bin', 'bio', 'bird', 'bird bee', 'bird catch', 'bird catch worm', 'bird feather', 'bird feather flock', 'bird flu', 'bird fly', 'bird get', 'bird get worm', 'bird lol', 'bird make', 'bird man', 'bird one', 'bird one stone', 'bird outside', 'bird plane', 'bird shit', 'birth', 'birth control', 'birthday', 'birthday bitch', 'bit', 'bitch', 'bitch act', 'bitch act like', 'bitch actin', 'bitch actin like', 'bitch acting', 'bitch aint', 'bitch aint shit', 'bitch almost', 'bitch already', 'bitch always', 'bitch always got', 'bitch amp', 'bitch answer', 'bitch anything', 'bitch ask', 'bitch ass', 'bitch attitude', 'bitch b', 'bitch baby', 'bitch back', 'bitch bad', 'bitch bc', 'bitch beautiful', 'bitch bed', 'bitch bet', 'bitch better', 'bitch big', 'bitch bitch', 'bitch bitch bitch', 'bitch blew', 'bitch blew high', 'bitch blow', 'bitch bout', 'bitch boy', 'bitch break', 'bitch bring', 'bitch broke', 'bitch bruh', 'bitch buy', 'bitch bye', 'bitch call', 'bitch called', 'bitch calling', 'bitch came', 'bitch cant', 'bitch car', 'bitch cause', 'bitch cheat', 'bitch chick', 'bitch childish', 'bitch choosin', 'bitch club', 'bitch come', 'bitch coming', 'bitch complain', 'bitch cook', 'bitch cool', 'bitch corny', 'bitch could', 'bitch crazy', 'bitch cry', 'bitch cut', 'bitch cuz', 'bitch da', 'bitch damn', 'bitch dat', 'bitch day', 'bitch dead', 'bitch dick', 'bitch die', 'bitch dm', 'bitch doe', 'bitch done', 'bitch dont', 'bitch dont like', 'bitch drive', 'bitch dude', 'bitch dumb', 'bitch eat', 'bitch eating', 'bitch either', 'bitch even', 'bitch ever', 'bitch every', 'bitch everything', 'bitch face', 'bitch fact', 'bitch fact trippin', 'bitch fake', 'bitch fat', 'bitch feel', 'bitch fight', 'bitch find', 'bitch finna', 'bitch foh', 'bitch follow', 'bitch foot', 'bitch friend', 'bitch fuck', 'bitch fuck nigga', 'bitch fuck u', 'bitch fucked', 'bitch fuckin', 'bitch fucking', 'bitch funny', 'bitch game', 'bitch gave', 'bitch gay', 'bitch get', 'bitch get mad', 'bitch get money', 'bitch gettin', 'bitch getting', 'bitch give', 'bitch giving', 'bitch go', 'bitch goin', 'bitch going', 'bitch gold', 'bitch gon', 'bitch gon fuck', 'bitch gon na', 'bitch gone', 'bitch good', 'bitch got', 'bitch got ta', 'bitch gt', 'bitch gucci', 'bitch guess', 'bitch guessed', 'bitch ha', 'bitch haha', 'bitch hair', 'bitch handle', 'bitch happy', 'bitch hard', 'bitch hate', 'bitch havin', 'bitch head', 'bitch hella', 'bitch hit', 'bitch hoe', 'bitch hold', 'bitch hope', 'bitch hot', 'bitch house', 'bitch huh', 'bitch im', 'bitch ima', 'bitch imma', 'bitch ina', 'bitch inch', 'bitch ion', 'bitch jus', 'bitch keep', 'bitch kill', 'bitch kill vibe', 'bitch knew', 'bitch know', 'bitch knowing', 'bitch last', 'bitch last night', 'bitch leave', 'bitch left', 'bitch let', 'bitch let nigga', 'bitch lie', 'bitch life', 'bitch like', 'bitch like argue', 'bitch like bitch', 'bitch like im', 'bitch lil', 'bitch listen', 'bitch literally', 'bitch live', 'bitch lmao', 'bitch lmfao', 'bitch lol', 'bitch long', 'bitch look', 'bitch look like', 'bitch lookin', 'bitch looking', 'bitch lost', 'bitch lot', 'bitch love', 'bitch loyal', 'bitch lt', 'bitch lucky', 'bitch mad', 'bitch made', 'bitch made nigga', 'bitch main', 'bitch make', 'bitch man', 'bitch maybe', 'bitch mean', 'bitch meet', 'bitch might', 'bitch mind', 'bitch mine', 'bitch moment', 'bitch money', 'bitch move', 'bitch much', 'bitch must', 'bitch n', 'bitch nah', 'bitch name', 'bitch named', 'bitch nap', 'bitch need', 'bitch need get', 'bitch needa', 'bitch never', 'bitch new', 'bitch next', 'bitch next nigga', 'bitch nigga', 'bitch nigga joe', 'bitch nigga u', 'bitch nobody', 'bitch oh', 'bitch ok', 'bitch old', 'bitch one', 'bitch open', 'bitch outta', 'bitch party', 'bitch people', 'bitch phone', 'bitch play', 'bitch playing', 'bitch please', 'bitch pregnant', 'bitch probably', 'bitch prolly', 'bitch pussy', 'bitch put', 'bitch ready', 'bitch real', 'bitch really', 'bitch respect', 'bitch ride', 'bitch right', 'bitch run', 'bitch said', 'bitch saw', 'bitch say', 'bitch saying', 'bitch see', 'bitch seen', 'bitch sending', 'bitch set', 'bitch shit', 'bitch short', 'bitch show', 'bitch shut', 'bitch shut fuck', 'bitch side', 'bitch slap', 'bitch slapped', 'bitch slut', 'bitch smell', 'bitch smell like', 'bitch smh', 'bitch smoke', 'bitch someone', 'bitch something', 'bitch sometimes', 'bitch song', 'bitch stand', 'bitch start', 'bitch stay', 'bitch stfu', 'bitch still', 'bitch stop', 'bitch straight', 'bitch stupid', 'bitch suck', 'bitch suck dick', 'bitch sure', 'bitch swear', 'bitch take', 'bitch talk', 'bitch talk shit', 'bitch talking', 'bitch talking shit', 'bitch tell', 'bitch text', 'bitch texting', 'bitch tf', 'bitch thank', 'bitch thats', 'bitch thing', 'bitch thing like', 'bitch think', 'bitch thinking', 'bitch thirsty', 'bitch tho', 'bitch thot', 'bitch though', 'bitch thought', 'bitch throw', 'bitch time', 'bitch tit', 'bitch today', 'bitch told', 'bitch tonight', 'bitch took', 'bitch tried', 'bitch trust', 'bitch try', 'bitch trying', 'bitch tryna', 'bitch turn', 'bitch tweet', 'bitch twerk', 'bitch twitter', 'bitch u', 'bitch ugly', 'bitch ur', 'bitch use', 'bitch voice', 'bitch w', 'bitch wa', 'bitch wait', 'bitch walk', 'bitch walking', 'bitch wan', 'bitch wan na', 'bitch want', 'bitch wanted', 'bitch watch', 'bitch way', 'bitch wear', 'bitch wearing', 'bitch well', 'bitch went', 'bitch wet', 'bitch white', 'bitch wife', 'bitch wit', 'bitch work', 'bitch world', 'bitch would', 'bitch wtf', 'bitch ya', 'bitch yeah', 'bitch year', 'bitch year old', 'bitch yes', 'bitch yo', 'bitch yu', 'bitchin', 'bitching', 'bitchy', 'bite', 'bitter', 'bitter bitch', 'bitty', 'bitty bitch', 'black', 'black bitch', 'black girl', 'black guy', 'black hoe', 'black man', 'black people', 'black woman', 'black yellow', 'blade', 'blah', 'blah blah', 'blah blah blah', 'blame', 'blanket', 'blast', 'blaxican', 'bless', 'blessed', 'blessing', 'blessjesus', 'blew', 'blew high', 'blind', 'blind bitch', 'blk', 'block', 'block bitch', 'blocked', 'blocking', 'blonde', 'blood', 'bloody', 'blow', 'blowin', 'blowing', 'blue', 'blue clue', 'blue clue left', 'blue yellow', 'blunt', 'blunts', 'bm', 'bo', 'boa', 'boat', 'bob', 'bobby', 'bobby bitch', 'body', 'body count', 'boi', 'bold', 'bomb', 'bone', 'boo', 'boob', 'book', 'boom', 'boon', 'boosie', 'boot', 'booty', 'booty bitch', 'booty hoe', 'border', 'bored', 'boring', 'born', 'borrow', 'bos', 'bos bitch', 'bosh', 'boston', 'bother', 'bottle', 'bottom', 'bought', 'bounce', 'bound', 'bout', 'bout bitch', 'bout get', 'bout hoe', 'bout make', 'bout shit', 'bouta', 'boutta', 'bow', 'bow bitch', 'bow wow', 'bowl', 'box', 'boxing', 'boy', 'boy bitch', 'boy discover', 'boy discover hoe', 'boy got', 'boy pussy', 'boyfriend', 'bra', 'brady', 'brag', 'bragging', 'brah', 'braid', 'brain', 'brake', 'brand', 'brand new', 'brandon', 'brave', 'brazil', 'brazilian', 'bread', 'break', 'break bitch', 'breakfast', 'breaking', 'breast', 'breath', 'breathe', 'breed', 'breh', 'brian', 'brick', 'bridge', 'bright', 'bring', 'bring another', 'bring another bitch', 'bring bitch', 'bring food', 'bring food outside', 'bringing', 'brings', 'british', 'britney', 'bro', 'bro lol', 'broad', 'broadcast', 'broke', 'broke bitch', 'broke hoe', 'broke nigga', 'broken', 'bronx', 'brooklyn', 'brooklyn park', 'brooklyn park slope', 'bros', 'bros hoe', 'brother', 'brought', 'brown', 'brown rejectedpeanutsspecials', 'brownie', 'bruh', 'bruh bitch', 'bruh lol', 'bruise', 'bruno', 'bt', 'btw', 'bubble', 'buck', 'bucket', 'bud', 'buddy', 'bug', 'build', 'building', 'built', 'built like', 'bull', 'bullet', 'bullshit', 'bully', 'bullying', 'bum', 'bum bitch', 'bumblebee', 'bump', 'bumpin', 'bun', 'bunch', 'bunny', 'burger', 'burn', 'burning', 'burnt', 'bus', 'bush', 'business', 'bust', 'busted', 'busting', 'busy', 'butt', 'butter', 'butthurt', 'button', 'buy', 'buy bitch', 'buying', 'bye', 'bye bitch', 'c', 'c mon', 'ca', 'cage', 'cake', 'cali', 'california', 'call', 'call bitch', 'call dumb', 'call duty', 'call girl', 'call girl bitch', 'call hoe', 'call nigger', 'call someone', 'call trash', 'called', 'called bad', 'called bad bitch', 'called bitch', 'called hoe', 'called nigger', 'called pussy', 'callin', 'calling', 'calling bitch', 'calling hoe', 'calm', 'cam', 'came', 'camel', 'camera', 'camp', 'campaign', 'campus', 'canadian', 'cancel', 'cancer', 'candidate', 'candy', 'cannon', 'cant', 'cant even', 'cant stand', 'cant tell', 'cant wait', 'cap', 'captain', 'caption', 'car', 'car bitch', 'card', 'cardinal', 'care', 'care bitch', 'care bout', 'career', 'careful', 'cargo', 'cargo haircut', 'caring', 'carl', 'carry', 'carrying', 'cartel', 'carter', 'cartoon', 'case', 'cash', 'casket', 'cat', 'cat bitch', 'cat inside', 'catch', 'catch hoe', 'catch worm', 'catching', 'catfish', 'caught', 'cause', 'cause bitch', 'cause got', 'cause hoe', 'cause know', 'cause like', 'cause look', 'cause look like', 'cause nigga', 'cause pussy', 'causing', 'cavs', 'cay', 'cc', 'cdfu', 'celebrate', 'celebrity', 'cell', 'center', 'certain', 'chad', 'chain', 'challenge', 'champ', 'champagne', 'champion', 'chance', 'change', 'changed', 'changing', 'channel', 'chaplin', 'character', 'charge', 'charger', 'charles', 'charlie', 'charlie baker', 'charlie brown', 'charlie brown rejectedpeanutsspecials', 'charlie chaplin', 'charlie crist', 'charlie daniel', 'charlie murphy', 'charlie rangel', 'charlie sheen', 'charlie strong', 'charlies', 'chase', 'chasing', 'chat', 'cheap', 'cheaper', 'cheat', 'cheat bitch', 'cheat girl', 'cheat girl wear', 'cheated', 'cheating', 'check', 'checking', 'cheek', 'cheer', 'cheese', 'cheesecake', 'cheesy', 'cherry', 'chest', 'chicago', 'chick', 'chicken', 'chief', 'chief keef', 'child', 'child support', 'childish', 'chill', 'chill bitch', 'chillin', 'chilling', 'china', 'chinese', 'chink', 'chip', 'chipotle', 'chocolate', 'choice', 'choke', 'choke bitch', 'choose', 'choosin', 'choosing', 'chop', 'chose', 'chris', 'chris brown', 'christ', 'christian', 'christmas', 'chu', 'chubby', 'chuck', 'chucker', 'chug', 'chunky', 'church', 'cigarette', 'cinnamon', 'circle', 'citizen', 'city', 'ck', 'claim', 'claiming', 'clam', 'clan', 'clap', 'class', 'class oriental', 'class oriental massage', 'classic', 'classy', 'cle', 'clean', 'clean bitch', 'cleaned', 'cleaning', 'clear', 'clearly', 'cleveland', 'click', 'clingy', 'clip', 'clock', 'close', 'closed', 'closer', 'closet', 'clothes', 'clothing', 'cloud', 'clown', 'club', 'clue', 'clue left', 'clue left u', 'clutch', 'cnn', 'co', 'coach', 'coast', 'coat', 'cocaine', 'cock', 'cocky', 'cod', 'code', 'coffee', 'coke', 'cold', 'cold bitch', 'cole', 'college', 'color', 'colored', 'colored contact', 'colored eye', 'colored folk', 'colored glass', 'colored man', 'coloured', 'coloured cargo', 'coloured cargo haircut', 'columbus', 'combo', 'come', 'come across', 'come amp', 'come around', 'come back', 'come bitch', 'come get', 'come go', 'come hoe', 'come home', 'come wit', 'comeback', 'comedy', 'comfortable', 'comin', 'coming', 'comment', 'commercial', 'commie', 'commit', 'committed', 'common', 'community', 'company', 'compare', 'compared', 'compete', 'complain', 'complaining', 'complete', 'complete trash', 'completely', 'compliment', 'computer', 'con', 'concerned', 'concert', 'condition', 'condom', 'conference', 'confused', 'congrats', 'congratulation', 'conservative', 'consider', 'considered', 'constantly', 'cont', 'contact', 'continue', 'continues', 'contract', 'control', 'conversation', 'convo', 'cook', 'cooked', 'cookie', 'cooking', 'cooky', 'cool', 'cooler', 'coolest', 'coon', 'cop', 'copy', 'cord', 'core', 'corn', 'corner', 'corny', 'correct', 'cost', 'costume', 'cotton', 'couch', 'could', 'could fuck', 'could get', 'could go', 'could never', 'could say', 'coulda', 'count', 'country', 'country bitch', 'county', 'couple', 'course', 'court', 'cousin', 'cover', 'covering', 'coward', 'cowboy', 'crack', 'crack bitch', 'cracked', 'cracker', 'cramp', 'crap', 'crash', 'craving', 'crayon', 'crazy', 'crazy bitch', 'crazy hoe', 'cream', 'create', 'created', 'creator', 'creature', 'credit', 'creepy', 'crew', 'crib', 'cried', 'crime', 'criminal', 'cripple', 'crist', 'critical', 'crooked', 'cross', 'crossed', 'crow', 'crowd', 'crown', 'cruise', 'crush', 'crust', 'crusty', 'cruz', 'cry', 'cry baby', 'cry bitch', 'cry like', 'cry like bitch', 'crybaby', 'cryin', 'crystal', 'ctfu', 'ctfuu', 'cu', 'cu u', 'cuddle', 'cuff', 'cuffed', 'cuffin', 'cuffing', 'cuh', 'culture', 'cum', 'cunt', 'cunt go', 'cunt like', 'cup', 'curb', 'cure', 'curl', 'current', 'currently', 'curse', 'curve', 'curved', 'customer', 'cut', 'cut bitch', 'cut hair', 'cute', 'cute bitch', 'cute pic', 'cute pic dont', 'cutting', 'cuz', 'cuz bitch', 'cuz got', 'cuz hoe', 'cuz u', 'cyrus', 'da', 'da bitch', 'da club', 'da colored', 'da colored folk', 'da fuck', 'da hoe', 'da pussy', 'da way', 'da white', 'dad', 'dad bitch', 'daddy', 'daily', 'dallas', 'dam', 'damage', 'dammit', 'damn', 'damn bitch', 'damn girl', 'damn got', 'damn hate', 'damn hoe', 'damn lol', 'damn near', 'damn sure', 'damn well', 'damned', 'dance', 'dancing', 'daniel', 'danny', 'dare', 'dark', 'dark skin', 'darkie', 'darkskin', 'dat', 'dat bitch', 'dat hoe', 'dat nicca', 'dat pussy', 'dat shit', 'dat u', 'date', 'date dont', 'date dont mean', 'dating', 'daughter', 'dave', 'david', 'davis', 'dawg', 'dawn', 'day', 'day bitch', 'day day', 'day get', 'day hoe', 'day later', 'day like', 'day nigga', 'day u', 'day wont', 'day wont make', 'dayum', 'dc', 'de', 'de hoe', 'dead', 'deal', 'dealer', 'dealing', 'dear', 'death', 'debate', 'december', 'decent', 'decide', 'decided', 'decision', 'deck', 'dee', 'deep', 'deep fried', 'deep pussy', 'deez', 'deez hoe', 'def', 'defeat', 'defend', 'defending', 'defense', 'definitely', 'definition', 'degenerateartist', 'degree', 'dej', 'dej loaf', 'delete', 'deleted', 'delivering', 'dem', 'dem bitch', 'dem hoe', 'dem niccas', 'demand', 'democrat', 'democratic', 'demon', 'dems', 'den', 'denial', 'denna', 'deny', 'deported', 'depressed', 'derek', 'derek jeter', 'dese', 'dese bitch', 'dese hoe', 'desert', 'deserve', 'deserved', 'deserves', 'designer', 'desk', 'desperate', 'destiny', 'destroying', 'detroit', 'devil', 'dey', 'dez', 'di', 'diamond', 'dice', 'dick', 'dick amp', 'dick bitch', 'dick called', 'dick hoe', 'dick like', 'dick pussy', 'didnt', 'die', 'die bitch', 'died', 'diego', 'diet', 'difference', 'different', 'different bitch', 'dig', 'dike', 'dildo', 'dime', 'dink', 'dinner', 'dip', 'direction', 'dirt', 'dirty', 'dirty bitch', 'dis', 'dis bitch', 'dis hoe', 'dis nicca', 'dis shit', 'discover', 'discover hoe', 'discovered', 'discus', 'disease', 'disgrace', 'disgust', 'disgusting', 'dish', 'dislike', 'disrespect', 'disrespectful', 'disrupts', 'disrupts shylock', 'disrupts shylock banking', 'distance', 'diving', 'divorce', 'divorced', 'dj', 'dm', 'dm like', 'dmv', 'dnt', 'doc', 'doctor', 'dodge', 'doe', 'doe bitch', 'doe make', 'doe mean', 'doesnt', 'dog', 'dog house', 'dog like', 'doin', 'doll', 'dolla', 'dollar', 'dollar bad', 'dollar every', 'dolphin', 'dome', 'done', 'dont', 'dont bitch', 'dont call', 'dont even', 'dont fuck', 'dont get', 'dont give', 'dont got', 'dont know', 'dont like', 'dont love', 'dont love hoe', 'dont mean', 'dont mean happy', 'dont mean hoe', 'dont talk', 'dont think', 'dont wan', 'dont wan na', 'dont want', 'doo', 'door', 'dope', 'double', 'doubt', 'douche', 'douche bag', 'download', 'downtown', 'dr', 'draft', 'drafted', 'dragon', 'drake', 'drama', 'dramatic', 'draw', 'drawing', 'dre', 'dread', 'dream', 'dreaming', 'dress', 'dress like', 'dressed', 'dressing', 'drink', 'drinking', 'drive', 'driven', 'driver', 'driving', 'drop', 'drop bitch', 'dropped', 'dropping', 'drove', 'drown', 'drug', 'drunk', 'drunk bitch', 'dry', 'duck', 'dude', 'dude fucking', 'dude get', 'due', 'duh', 'duh bitch', 'dumb', 'dumb bitch', 'dumb cunt', 'dumb fuck', 'dumb hoe', 'dumbass', 'dummy', 'dump', 'dumpster', 'dust', 'dusty', 'dutch', 'duty', 'dwight', 'dy', 'dying', 'dyke', 'dyke bitch', 'e', 'eachother', 'eagle', 'ear', 'earlier', 'early', 'early bird', 'early bird catch', 'early bird get', 'early morning', 'earn', 'earned', 'earth', 'easier', 'easily', 'east', 'easy', 'eat', 'eat bitch', 'eat dick', 'eat pussy', 'eat pussy dip', 'eat pussy like', 'eat shit', 'eaten', 'eater', 'eatin', 'eatin pussy', 'eating', 'eating pussy', 'eats', 'ebola', 'ed', 'edge', 'education', 'een', 'effect', 'egg', 'eggplant', 'ego', 'eh', 'either', 'either way', 'el', 'elect', 'election', 'element', 'elementary', 'elementary school', 'elephant', 'elevator', 'eli', 'elissa', 'elite', 'else', 'em', 'emabiggestfans', 'email', 'embarrassing', 'emoji', 'emojis', 'emotion', 'emotional', 'empty', 'en', 'end', 'ended', 'ending', 'enemy', 'energy', 'english', 'enjoy', 'enjoying', 'enough', 'enter', 'entertain', 'entertaining', 'entire', 'epic', 'episode', 'equal', 'equality', 'er', 'era', 'eric', 'escort', 'especially', 'espn', 'essay', 'esteem', 'etc', 'european', 'eva', 'eve', 'even', 'even funny', 'even get', 'even go', 'even got', 'even know', 'even like', 'even make', 'even need', 'even say', 'even think', 'even tho', 'even though', 'ever', 'ever fuck', 'ever get', 'ever got', 'ever met', 'ever seen', 'every', 'every bad', 'every bad bitch', 'every bitch', 'every bitch gay', 'every day', 'every female', 'every girl', 'every hoe', 'every nigga', 'every night', 'every single', 'every time', 'every week', 'every weekend', 'everybody', 'everybody bitch', 'everyday', 'everyone', 'everyone else', 'everyone know', 'everything', 'everytime', 'everywhere', 'evil', 'evolved', 'ew', 'ewww', 'ex', 'ex bitch', 'ex hoe', 'exactly', 'example', 'except', 'excited', 'excuse', 'excuse bitch', 'exist', 'exit', 'exotic', 'expect', 'expected', 'expecting', 'expensive', 'experience', 'explain', 'explains', 'expose', 'exposed', 'express', 'extra', 'extreme', 'eye', 'eye like', 'eye red', 'eyebrow', 'eyed', 'eyelash', 'f', 'fa', 'face', 'face bitch', 'face hoe', 'facebook', 'faced', 'faced bitch', 'facing', 'fact', 'fact bitch', 'fact hoe', 'fact trippin', 'fade', 'faded', 'fag', 'fag boy', 'faggot', 'faggot bitch', 'faggot ever', 'faggot go', 'faggot like', 'fail', 'failed', 'fails', 'fair', 'fairy', 'fairy tale', 'faith', 'faithful', 'faithful girl', 'fake', 'fake bitch', 'fake hoe', 'fall', 'fall love', 'fallin', 'falling', 'false', 'fam', 'fam think', 'fame', 'familiar', 'family', 'famous', 'famu', 'fan', 'fancy', 'fantasy', 'far', 'far away', 'farewellcaptain', 'farm', 'fart', 'fashion', 'fasho', 'fast', 'faster', 'fat', 'fat bitch', 'fat hoe', 'fat nigga', 'father', 'fault', 'fav', 'fave', 'favor', 'favorite', 'favorite line', 'fb', 'fck', 'fckn', 'fear', 'feather', 'feather flock', 'feather flock together', 'feature', 'fed', 'fee', 'feed', 'feel', 'feel bad', 'feel good', 'feel like', 'feel like bitch', 'feel sorry', 'feelin', 'feelin like', 'feeling', 'feeling bitch', 'feeling like', 'fell', 'fell asleep', 'fell love', 'fella', 'fellow', 'felt', 'felt like', 'female', 'female love', 'female think', 'feminist', 'ferguson', 'fest', 'fever', 'field', 'fight', 'fight bitch', 'fight night', 'fighter', 'fighting', 'figure', 'figured', 'fil', 'fill', 'filled', 'film', 'filth', 'filthy', 'final', 'finally', 'find', 'find bitch', 'find good', 'find hoe', 'finding', 'fine', 'fine bitch', 'finger', 'finish', 'finished', 'finna', 'finna get', 'fire', 'fire cracker', 'fired', 'first', 'first bitch', 'first day', 'first one', 'first place', 'first thing', 'first time', 'fish', 'fishing', 'fist', 'fit', 'fitness', 'five', 'fix', 'fixed', 'fizz', 'flag', 'flame', 'flappy', 'flappy bird', 'flash', 'flat', 'flavored', 'flaw', 'flawless', 'fleek', 'flex', 'flexin', 'flick', 'flight', 'flip', 'flipped', 'flipping', 'flirt', 'flirting', 'flock', 'flock together', 'floor', 'florida', 'flow', 'flower', 'floyd', 'flu', 'fly', 'fly bitch', 'flying', 'fml', 'fo', 'fo da', 'foam', 'fob', 'focus', 'foe', 'foh', 'foley', 'folk', 'follow', 'follow back', 'follow bitch', 'followed', 'follower', 'following', 'food', 'food outside', 'food outside movie', 'fool', 'foot', 'football', 'force', 'foreal', 'forehead', 'foreign', 'forever', 'forever bitch', 'forget', 'forgetting', 'forgot', 'form', 'former', 'forreal', 'forward', 'fought', 'foul', 'found', 'four', 'fox', 'fox news', 'foxnews', 'fr', 'frank', 'franklin', 'freak', 'freak hoe', 'freaky', 'free', 'free bird', 'freedom', 'freeze', 'freeze bitch', 'french', 'fresh', 'freshman', 'freshman year', 'frfr', 'friday', 'friday bitch', 'fridge', 'fried', 'fried chicken', 'fried oreo', 'friend', 'friend bitch', 'friend hoe', 'friend love', 'friend pussy', 'friendly', 'frm', 'fro', 'front', 'front bitch', 'frontin', 'frozen', 'fruit', 'fry', 'ft', 'fu', 'fuc', 'fucc', 'fucc nicca', 'fucced', 'fuccing', 'fuck', 'fuck amp', 'fuck around', 'fuck bad', 'fuck bad bitch', 'fuck bitch', 'fuck bitch get', 'fuck bitch shit', 'fuck boy', 'fuck da', 'fuck dat', 'fuck dat bitch', 'fuck doe', 'fuck em', 'fuck faggot', 'fuck fucking', 'fuck get', 'fuck girl', 'fuck got', 'fuck hoe', 'fuck hoe nigga', 'fuck like', 'fuck lol', 'fuck mean', 'fuck need', 'fuck next', 'fuck next nigga', 'fuck nigga', 'fuck nigga bitch', 'fuck niggah', 'fuck outta', 'fuck pussy', 'fuck right', 'fuck right pussy', 'fuck shit', 'fuck skinny', 'fuck skinny bitch', 'fuck stupid', 'fuck think', 'fuck u', 'fuck u bitch', 'fuck ugly', 'fuck ur', 'fuck ur bitch', 'fuck w', 'fuck wit', 'fuck would', 'fuck wrong', 'fuck ya', 'fuck yall', 'fuck yeah', 'fuck yo', 'fuck yo bitch', 'fucked', 'fucked bitch', 'fucked nigga', 'fucked yo', 'fucked yo bitch', 'fucken', 'fucker', 'fuckin', 'fuckin bitch', 'fuckin faggot', 'fuckin hoe', 'fuckin trash', 'fuckin wit', 'fucking', 'fucking bitch', 'fucking cunt', 'fucking fag', 'fucking faggot', 'fucking gay', 'fucking hate', 'fucking hoe', 'fucking nigga', 'fucking nigger', 'fucking pussy', 'fucking queer', 'fucking retard', 'fucking retarded', 'fucking stupid', 'fucking trash', 'fucking twat', 'fugly', 'fuk', 'fukin', 'full', 'full retard', 'full white', 'full white trash', 'fully', 'fun', 'function', 'funeral', 'funky', 'funniest', 'funny', 'funny bitch', 'future', 'fuzzy', 'fw', 'fwm', 'g', 'ga', 'gabby', 'gaga', 'gain', 'gal', 'game', 'game bitch', 'gang', 'gangster', 'gap', 'garbage', 'garden', 'gas', 'gas station', 'gassing', 'gate', 'gator', 'gave', 'gave bitch', 'gay', 'gay bitch', 'gay shit', 'gear', 'gemini', 'general', 'generation', 'genius', 'genuinely', 'george', 'get', 'get away', 'get back', 'get bad', 'get beat', 'get better', 'get bitch', 'get caught', 'get dem', 'get dick', 'get drunk', 'get em', 'get excited', 'get free', 'get fuck', 'get fucked', 'get fucking', 'get get', 'get good', 'get head', 'get high', 'get hit', 'get hoe', 'get home', 'get hurt', 'get job', 'get know', 'get life', 'get like', 'get mad', 'get money', 'get new', 'get nigga', 'get offended', 'get one', 'get outta', 'get pregnant', 'get pussy', 'get real', 'get real bitch', 'get rid', 'get right', 'get shit', 'get shot', 'get slayed', 'get tf', 'get time', 'get trap', 'get treated', 'get twitter', 'get two', 'get u', 'get way', 'get worm', 'get ya', 'get yellow', 'get yo', 'gettin', 'gettin pussy', 'getting', 'getting bitch', 'getting fucked', 'getting money', 'getting pregnant', 'getting pussy', 'gf', 'ghetto', 'ghetto bitch', 'ghetto fuck', 'ghetto girl', 'ghetto name', 'ghetto people', 'ghetto u', 'ghetto u bring', 'ghost', 'giant', 'gift', 'gim', 'girl', 'girl bitch', 'girl get', 'girl getting', 'girl good', 'girl got', 'girl guy', 'girl hoe', 'girl know', 'girl let', 'girl like', 'girl look', 'girl pussy', 'girl really', 'girl say', 'girl single', 'girl suck', 'girl talk', 'girl tweeted', 'girl tweeted might', 'girl u', 'girl wear', 'girl wear khaki', 'girl worth', 'girlfriend', 'girlfriend got', 'girlfriend like', 'give', 'give attitude', 'give bitch', 'give fuck', 'give head', 'give nigga', 'give pussy', 'give shit', 'give two', 'give u', 'given', 'givin', 'giving', 'giving head', 'glad', 'glass', 'glizzy', 'glo', 'glory', 'gm', 'go', 'go ahead', 'go away', 'go back', 'go bed', 'go bitch', 'go crazy', 'go eat', 'go find', 'go fuck', 'go full', 'go full retard', 'go get', 'go hard', 'go hoe', 'go home', 'go like', 'go party', 'go sleep', 'go suck', 'go talk', 'go talk hoe', 'go text', 'go text hoe', 'go yankee', 'goal', 'goat', 'god', 'god bless', 'god damn', 'goddamn', 'goin', 'going', 'going bitch', 'going get', 'going make', 'gold', 'golden', 'golf', 'gon', 'gon fuck', 'gon get', 'gon hoe', 'gon na', 'gon na bitch', 'gon na die', 'gon na end', 'gon na fuck', 'gon na get', 'gon na go', 'gon na hoe', 'gon na make', 'gon na steal', 'gon na take', 'gon say', 'gone', 'gone get', 'gone hoe', 'good', 'good amp', 'good bitch', 'good day', 'good dick', 'good girl', 'good girl worth', 'good got', 'good job', 'good lol', 'good luck', 'good morning', 'good one', 'good pussy', 'good thing', 'good weed', 'good weed bad', 'good woman', 'goodbye', 'goodnight', 'goofy', 'google', 'gook', 'gop', 'gorgeous', 'gorilla', 'gossip', 'gossip like', 'got', 'got amp', 'got bad', 'got bad bitch', 'got best', 'got big', 'got bitch', 'got body', 'got called', 'got da', 'got damn', 'got fucked', 'got girl', 'got good', 'got good pussy', 'got hella', 'got hella hoe', 'got hit', 'got hoe', 'got job', 'got life', 'got like', 'got mad', 'got man', 'got many', 'got many hoe', 'got money', 'got much', 'got nerve', 'got new', 'got nigga', 'got nigga got', 'got nothing', 'got one', 'got problem', 'got problem bitch', 'got pussy', 'got shit', 'got something', 'got ta', 'got ta bitch', 'got ta chill', 'got ta find', 'got ta get', 'got ta go', 'got ta hit', 'got ta hoe', 'got ta keep', 'got ta love', 'got ta new', 'got ta pay', 'got ta take', 'got ta watch', 'got time', 'got two', 'got type', 'got type bad', 'got u', 'got ugly', 'got ya', 'got yo', 'got yo bitch', 'gots', 'gotten', 'gov', 'government', 'governor', 'grab', 'grade', 'graduation', 'graham', 'graham cracker', 'gram', 'grand', 'grand opening', 'grand opening top', 'grandma', 'grandpa', 'graphic', 'grass', 'grave', 'grease', 'great', 'great day', 'greatest', 'greedy', 'green', 'green bitch', 'greg', 'grew', 'griffin', 'grill', 'grind', 'grinding', 'gross', 'ground', 'group', 'groupie', 'grow', 'growing', 'grown', 'grown man', 'gt', 'gt gt', 'gt gt gt', 'gta', 'gtf', 'gtfo', 'gtfoh', 'guala', 'guarantee', 'guard', 'gucci', 'gucci mane', 'guess', 'guess got', 'guessed', 'guilty', 'guinea', 'guinea pig', 'guitar', 'gum', 'gun', 'gunna', 'gurl', 'gut', 'guy', 'gym', 'h', 'ha', 'ha bitch', 'ha ha', 'ha hoe', 'ha many', 'ha nothing', 'ha two', 'haha', 'haha bitch', 'hahaha', 'hahahaha', 'hair', 'haircut', 'hairy', 'hairy pussy', 'half', 'half bitch', 'half breed', 'half hoe', 'half naked', 'hall', 'halloween', 'hallway', 'ham', 'hand', 'handed', 'handicapped', 'handle', 'handsome', 'hang', 'hangin', 'hanging', 'happen', 'happened', 'happens', 'happiness', 'happy', 'happy birthday', 'happy birthday bitch', 'happy bitch', 'happy halloween', 'hard', 'hard bitch', 'hardcore', 'harder', 'hardly', 'harlem', 'harry', 'hart', 'harvard', 'hashtag', 'hat', 'hate', 'hate bitch', 'hate bitch like', 'hate faggot', 'hate ghetto', 'hate girl', 'hate hoe', 'hate nigger', 'hate people', 'hate shit', 'hate u', 'hate yankee', 'hated', 'hater', 'hatin', 'hating', 'hating bitch', 'havent', 'havin', 'hawk', 'head', 'head bitch', 'head game', 'headed', 'headed bitch', 'headed hoe', 'health', 'hear', 'hear bird', 'heard', 'heard bitch', 'heard wa', 'hearing', 'heart', 'heart rather', 'heart rather purse', 'hearted', 'heartless', 'heartless bitch', 'heat', 'heated', 'heaven', 'heel', 'height', 'held', 'helicopter', 'hell', 'hell naw', 'hell yea', 'hell yeah', 'hella', 'hella hoe', 'hello', 'help', 'help bitch', 'helped', 'henny', 'hero', 'hey', 'hey bitch', 'hi', 'hi ho', 'hick', 'hide', 'hiding', 'high', 'high bitch', 'high hoe', 'high school', 'higher', 'highest', 'highly', 'hilarious', 'hill', 'hillary', 'hillbilly', 'hip', 'hip hop', 'hippo', 'hipster', 'hire', 'hispanic', 'history', 'hit', 'hit bitch', 'hit blunt', 'hit girl', 'hit hoe', 'hit like', 'hittin', 'hitting', 'hmm', 'hmmm', 'hmu', 'ho', 'ho get', 'ho ho', 'hobby', 'hockey', 'hoe', 'hoe acting', 'hoe aint', 'hoe aint loyal', 'hoe always', 'hoe amp', 'hoe around', 'hoe attention', 'hoe b', 'hoe back', 'hoe bitch', 'hoe bout', 'hoe bro', 'hoe broke', 'hoe cause', 'hoe come', 'hoe could', 'hoe crazy', 'hoe cuz', 'hoe da', 'hoe dat', 'hoe day', 'hoe dick', 'hoe dont', 'hoe dumb', 'hoe em', 'hoe even', 'hoe ever', 'hoe every', 'hoe everybody', 'hoe favorite', 'hoe feel', 'hoe feel like', 'hoe fuck', 'hoe fucked', 'hoe fuckin', 'hoe fucking', 'hoe get', 'hoe get slayed', 'hoe getting', 'hoe give', 'hoe go', 'hoe going', 'hoe gon', 'hoe gon hoe', 'hoe gon na', 'hoe gone', 'hoe gone hoe', 'hoe good', 'hoe got', 'hoe got ta', 'hoe ha', 'hoe haha', 'hoe happy', 'hoe hoe', 'hoe house', 'hoe house wife', 'hoe housewife', 'hoe im', 'hoe keep', 'hoe know', 'hoe let', 'hoe like', 'hoe like nigga', 'hoe live', 'hoe lmao', 'hoe lmfao', 'hoe lol', 'hoe look', 'hoe looking', 'hoe love', 'hoe loyal', 'hoe lying', 'hoe made', 'hoe make', 'hoe man', 'hoe mean', 'hoe money', 'hoe move', 'hoe n', 'hoe need', 'hoe never', 'hoe nigga', 'hoe nothing', 'hoe one', 'hoe one hoe', 'hoe put', 'hoe real', 'hoe really', 'hoe right', 'hoe said', 'hoe say', 'hoe saying', 'hoe shit', 'hoe since', 'hoe slut', 'hoe smh', 'hoe start', 'hoe still', 'hoe stop', 'hoe straight', 'hoe suck', 'hoe swear', 'hoe taken', 'hoe talk', 'hoe tell', 'hoe thats', 'hoe think', 'hoe tho', 'hoe though', 'hoe time', 'hoe today', 'hoe trick', 'hoe trying', 'hoe tryna', 'hoe tweet', 'hoe twitter', 'hoe u', 'hoe w', 'hoe wa', 'hoe waiting', 'hoe waiting day', 'hoe wan', 'hoe wan na', 'hoe want', 'hoe way', 'hoe wit', 'hoe would', 'hoe ya', 'hold', 'holder', 'holding', 'hole', 'holiday', 'holla', 'hollywood', 'holy', 'holy fuck', 'holy shit', 'home', 'home bitch', 'homeboy', 'homecoming', 'homegirl', 'homeless', 'homemade', 'homework', 'homie', 'homies', 'homo', 'honest', 'honestly', 'honey', 'honkey', 'honkie', 'honky', 'honor', 'hood', 'hood bitch', 'hoodie', 'hook', 'hooker', 'hoop', 'hoosier', 'hop', 'hope', 'hope get', 'hopefully', 'hoping', 'horn', 'horny', 'horrible', 'horror', 'horse', 'hoser', 'hospital', 'hot', 'hot air', 'hot bitch', 'hot nigga', 'hotel', 'hotter', 'hour', 'house', 'house wife', 'housewife', 'houston', 'howard', 'however', 'hr', 'ht', 'htgawm', 'htt', 'http', 'hug', 'huge', 'huh', 'huh lol', 'human', 'humble', 'humor', 'hun', 'hundred', 'hungry', 'hunt', 'hunter', 'hunting', 'hurricane', 'hurry', 'hurt', 'hurt bitch', 'hurt feeling', 'hurt like', 'hurt like bitch', 'hurting', 'husband', 'hustle', 'hype', 'hypocrisy', 'hypocrite', 'ian', 'ice', 'ice cream', 'icy', 'id', 'id rather', 'idc', 'idea', 'ideology', 'idgaf', 'idiot', 'idk', 'iffy', 'ig', 'iggy', 'ight', 'ignorance', 'ignorant', 'ignorant bitch', 'ignore', 'ignoring', 'ik', 'ike', 'ill', 'illegal', 'illegal alien', 'illiterate', 'ily', 'im', 'im back', 'im bitch', 'im done', 'im going', 'im gon', 'im gon na', 'im hoe', 'im like', 'im ready', 'im sorry', 'im still', 'im talking', 'im tired', 'im tryna', 'ima', 'ima get', 'ima kill', 'ima make', 'ima pull', 'ima pull eat', 'image', 'imaginary', 'imagine', 'imma', 'imma get', 'immature', 'immediately', 'imo', 'important', 'impossible', 'impress', 'impress bitch', 'impression', 'ina', 'inbox', 'inbred', 'inch', 'incident', 'include', 'including', 'inconsiderate', 'incredible', 'indeed', 'indiana', 'industry', 'infection', 'influence', 'info', 'ing', 'injun', 'injury', 'inlove', 'inning', 'innocent', 'insane', 'insecure', 'inside', 'insta', 'instagram', 'instead', 'insult', 'insurance', 'intention', 'interest', 'interested', 'interesting', 'international', 'internet', 'interview', 'invite', 'io', 'ion', 'ion care', 'ion even', 'ion like', 'ion want', 'iont', 'iont got', 'iont got type', 'ipad', 'ipad sex', 'ipad sex xxx', 'iphone', 'iphone ipad', 'iphone ipad sex', 'iraq', 'irish', 'irrelevant', 'irrelevant bitch', 'ish', 'isi', 'isi jihadis', 'island', 'isnt', 'israel', 'issue', 'italian', 'iu', 'iubb', 'iubb hoosier', 'ive', 'j', 'j cole', 'jack', 'jacket', 'jackson', 'jacob', 'jada', 'jail', 'jake', 'jam', 'jamaica', 'jameis', 'james', 'jane', 'japanese', 'jason', 'jaw', 'jay', 'jay z', 'je', 'jealous', 'jealous bitch', 'jean', 'jeff', 'jenna', 'jerk', 'jersey', 'jesus', 'jesus christ', 'jet', 'jeter', 'jew', 'jewish', 'jig', 'jigg', 'jiggaboo', 'jihadi', 'jihadis', 'jim', 'jimmy', 'jj', 'jk', 'job', 'job bitch', 'joe', 'joey', 'john', 'johnny', 'johnson', 'join', 'joint', 'joke', 'jones', 'jordan', 'josh', 'joy', 'joy next', 'joy next getting', 'jr', 'judge', 'judging', 'juice', 'juicy', 'juicy j', 'jump', 'jump bitch', 'jumped', 'jumper', 'jungle', 'jungle bunny', 'jus', 'jus wan', 'jus wan na', 'juss', 'justice', 'justin', 'justin bieber', 'k', 'k bitch', 'k follower', 'k michelle', 'kanye', 'karate', 'kardashian', 'karma', 'karma bitch', 'katy', 'kay', 'keef', 'keep', 'keep bitch', 'keep getting', 'keep hoe', 'keep pussy', 'keep real', 'keep talking', 'keeper', 'keeping', 'kelly', 'kendrick', 'kept', 'ketchup', 'kevin', 'kevin hart', 'key', 'khaki', 'khaki coloured', 'khaki coloured cargo', 'kick', 'kick bitch', 'kicked', 'kicking', 'kid', 'kid bitch', 'kidding', 'kik', 'kike', 'kill', 'kill bitch', 'kill cracker', 'kill dat', 'kill vibe', 'kill yo', 'killa', 'killed', 'killer', 'killer push', 'killer push revenge', 'killin', 'killing', 'kim', 'kim k', 'kim kardashian', 'kind', 'kind bitch', 'kind hoe', 'kinda', 'king', 'kirk', 'kiss', 'kissed', 'kissing', 'kitchen', 'kitty', 'kkk', 'knee', 'knew', 'knew wa', 'knicks', 'knife', 'knight', 'kno', 'knock', 'knocked', 'knocking', 'know', 'know bitch', 'know bout', 'know fuck', 'know get', 'know good', 'know got', 'know hoe', 'know im', 'know know', 'know like', 'know live', 'know love', 'know mean', 'know nigga', 'know nothing', 'know one', 'know pussy', 'know real', 'know right', 'know shit', 'know trash', 'know u', 'know wa', 'knowin', 'knowing', 'knowing bitch', 'knowledge', 'known', 'knw', 'kobe', 'kush', 'l', 'la', 'lab', 'lack', 'lad', 'lady', 'lady bitch', 'ladykimora', 'laid', 'lake', 'lakers', 'lamar', 'lame', 'lame bitch', 'lame nigga', 'lana', 'land', 'landed', 'lane', 'language', 'lap', 'large', 'larry', 'larry bird', 'last', 'last bitch', 'last day', 'last night', 'last night wa', 'last time', 'last week', 'last year', 'lastnight', 'late', 'late night', 'lately', 'later', 'latest', 'latina', 'latino', 'laugh', 'laughed', 'laughin', 'laughing', 'laundry', 'law', 'lawd', 'lawyer', 'lay', 'laying', 'lazy', 'lb', 'le', 'lead', 'leader', 'leaf', 'league', 'lean', 'learn', 'learned', 'leash', 'least', 'leather', 'leave', 'leave alone', 'leavin', 'leaving', 'lebron', 'lee', 'left', 'left u', 'left u bitch', 'leftover', 'leg', 'legal', 'legend', 'legging', 'legit', 'lem', 'lem find', 'lemon', 'leo', 'leprechaun', 'lesbian', 'lesson', 'let', 'let bitch', 'let em', 'let fuck', 'let get', 'let go', 'let hoe', 'let know', 'let nigga', 'let play', 'let say', 'let see', 'let tell', 'letter', 'letting', 'level', 'liar', 'liberal', 'license', 'lick', 'lie', 'lie bitch', 'lied', 'life', 'life amp', 'life bitch', 'life shit', 'light', 'light skin', 'light skin bitch', 'lighter', 'lightskin', 'like', 'like aint', 'like amp', 'like argue', 'like bad', 'like bad bitch', 'like big', 'like bird', 'like bitch', 'like bitch got', 'like black', 'like charlie', 'like cute', 'like da', 'like damn', 'like dat', 'like dyke', 'like eating', 'like even', 'like fag', 'like faggot', 'like fight', 'like fight night', 'like fuck', 'like fuck bitch', 'like fucking', 'like get', 'like girl', 'like give', 'like go', 'like god', 'like gon', 'like gon na', 'like good', 'like got', 'like ho', 'like hoe', 'like hoe got', 'like im', 'like know', 'like let', 'like like', 'like lil', 'like lil bitch', 'like little', 'like little bitch', 'like look', 'like love', 'like make', 'like man', 'like monkey', 'like nasty', 'like need', 'like never', 'like new', 'like nigga', 'like nigger', 'like oh', 'like one', 'like pussy', 'like real', 'like really', 'like rest', 'like retard', 'like retarded', 'like said', 'like see', 'like shit', 'like something', 'like stop', 'like straight', 'like tranny', 'like trash', 'like u', 'like ur', 'like wa', 'like want', 'like week', 'like white', 'like woman', 'like wtf', 'like ya', 'like yankee', 'like yeah', 'like yellow', 'like yellow starburst', 'like yes', 'like yo', 'liked', 'likely', 'liking', 'lil', 'lil b', 'lil bitch', 'lil hoe', 'lil nigga', 'lil stupid', 'lil stupid bitch', 'lil wayne', 'limit', 'line', 'ling', 'ling ling', 'lingerie', 'lingo', 'link', 'lip', 'liquor', 'list', 'listen', 'listening', 'lit', 'literally', 'little', 'little bird', 'little bitch', 'little cunt', 'little girl', 'little hoe', 'little pussy', 'little stupid', 'little stupid bitch', 'live', 'live bitch', 'live life', 'lived', 'livin', 'living', 'living bitch', 'lls', 'lmao', 'lmao bitch', 'lmao fuck', 'lmao got', 'lmao hoe', 'lmao im', 'lmao jk', 'lmao nigga', 'lmao u', 'lmaoo', 'lmaooo', 'lmaoooo', 'lmaooooo', 'lmaoooooo', 'lmaooooooo', 'lmfao', 'lmfao bitch', 'lmfaoo', 'lmfaooo', 'lmfaoooo', 'lmfaooooo', 'lmfaooooooo', 'lml', 'lo', 'load', 'loaded', 'loaf', 'local', 'location', 'lock', 'locked', 'log', 'logic', 'logo', 'lol', 'lol bitch', 'lol got', 'lol hoe', 'lol like', 'lol lol', 'lol look', 'lol nigga', 'lol u', 'lol wa', 'lol want', 'lolol', 'lololol', 'lolz', 'lonely', 'lonely bitch', 'lonely hoe', 'long', 'longer', 'look', 'look better', 'look bitch', 'look cute', 'look fucking', 'look good', 'look like', 'look like bitch', 'look like hoe', 'look like tranny', 'look like trash', 'look mirror', 'looked', 'looked like', 'lookin', 'lookin bitch', 'lookin like', 'looking', 'looking bitch', 'looking hoe', 'looking like', 'loose', 'lord', 'los', 'losangeles', 'lose', 'loser', 'losing', 'loss', 'lost', 'lot', 'lot bitch', 'lotta', 'lottery', 'lou', 'loud', 'louis', 'love', 'love amp', 'love bad', 'love bad bitch', 'love bird', 'love bitch', 'love em', 'love faggot', 'love fat', 'love fuck', 'love hoe', 'love life', 'love pussy', 'love sosa', 'love u', 'loved', 'lovely', 'lover', 'lovin', 'loving', 'low', 'low key', 'lower', 'lowkey', 'loyal', 'loyal girl', 'loyal pussy', 'loyalty', 'lt', 'lt lt', 'lt lt lt', 'luck', 'lucky', 'lucky bitch', 'luke', 'lunch', 'luv', 'lux', 'lyin', 'lying', 'lying bitch', 'lyric', 'maar', 'mac', 'mad', 'mad bitch', 'mad cause', 'mad cuz', 'mad hoe', 'mad like', 'madden', 'made', 'made bitch', 'made hoe', 'made nigga', 'magic', 'mail', 'main', 'main bitch', 'main bitch side', 'main hoe', 'major', 'majority', 'make', 'make bitch', 'make bitch mad', 'make brownie', 'make feel', 'make feel like', 'make fun', 'make happy', 'make hoe', 'make laugh', 'make look', 'make look like', 'make mad', 'make money', 'make pussy', 'make sense', 'make sick', 'make song', 'make sure', 'make think', 'make u', 'make wan', 'make wan na', 'make want', 'make wife', 'make wife cute', 'makeup', 'makin', 'making', 'making fun', 'male', 'mall', 'mama', 'man', 'man bad', 'man bitch', 'man fuck', 'man fuck bitch', 'man get', 'man got', 'man ha', 'man hoe', 'man like', 'man lol', 'man need', 'man nigga', 'man pussy', 'man shit', 'man swear', 'man trash', 'man trash another', 'man treasure', 'man u', 'man wa', 'manager', 'mane', 'mane bitch', 'mango', 'manly', 'mann', 'manner', 'manning', 'mannn', 'mansion', 'many', 'many bitch', 'many hoe', 'many nigga', 'many nigger', 'many nigger store', 'many time', 'manziel', 'march', 'marcus', 'marie', 'marijuana', 'mark', 'market', 'marriage', 'married', 'marry', 'martin', 'mary', 'mass', 'massage', 'massage brooklyn', 'massage brooklyn park', 'massage park', 'massage park slope', 'massage perfect', 'master', 'match', 'matching', 'mate', 'material', 'math', 'matt', 'matter', 'matter fact', 'mature', 'maury', 'may', 'maybe', 'mayne', 'mayweather', 'mc', 'mcdonald', 'mcdonalds', 'mcm', 'meal', 'mean', 'mean bitch', 'mean get', 'mean happy', 'mean hoe', 'mean hoe waiting', 'mean like', 'meaning', 'meant', 'meanwhile', 'meat', 'medical', 'medium', 'mee', 'meek', 'meet', 'meeting', 'melo', 'member', 'memory', 'memphis', 'men', 'mental', 'mentality', 'mentally', 'mention', 'mentioned', 'merica', 'mermaid', 'merry', 'merry christmas', 'mess', 'message', 'messi', 'messing', 'messy', 'messy hoe', 'met', 'met bitch', 'metal', 'mets', 'mexican', 'mexican bitch', 'mexico', 'mf', 'mi', 'mia', 'miami', 'mic', 'michael', 'michael sam', 'michelle', 'michigan', 'mickey', 'microwave', 'mid', 'middle', 'middle school', 'midnight', 'might', 'might get', 'might ghetto', 'might ghetto u', 'might stupid', 'might stupid u', 'might well', 'migos', 'mike', 'mil', 'mile', 'miley', 'miley cyrus', 'milf', 'military', 'milk', 'mill', 'million', 'million dollar', 'mimi', 'min', 'minaj', 'mind', 'mind bitch', 'mind business', 'minded', 'mine', 'mini', 'mint', 'minute', 'miracle', 'mirror', 'miserable', 'miss', 'miss bitch', 'miss ya', 'missed', 'missed call', 'missing', 'mission', 'mississippi', 'mistake', 'mix', 'mixed', 'mixtape', 'mj', 'mk', 'mlb', 'mlk', 'mn', 'mo', 'moan', 'moaning', 'mob', 'mock', 'mock draft', 'mocked', 'model', 'moe', 'moet', 'molly', 'mom', 'mom bitch', 'moma', 'moment', 'momma', 'mommy', 'mon', 'monday', 'money', 'money bitch', 'money fuck', 'money hoe', 'money nigga', 'money weed', 'monkey', 'monkey bar', 'monkey see', 'monkey see monkey', 'montana', 'month', 'month ago', 'mood', 'mook', 'moon', 'moor', 'moral', 'morgan', 'mornin', 'morning', 'morningjoe', 'moron', 'mostly', 'mother', 'mother fucker', 'motherfucker', 'motherfuckin', 'motherfucking', 'mouf', 'mouse', 'mouth', 'mouth bitch', 'move', 'moved', 'movie', 'movie u', 'movie u might', 'moving', 'mr', 'msnbc', 'mt', 'much', 'much better', 'much bitch', 'much hoe', 'much pussy', 'much shit', 'mullet', 'multiple', 'mum', 'murda', 'murder', 'murdered', 'murphy', 'muscle', 'music', 'music trash', 'muslim', 'must', 'mustache', 'mustard', 'mute', 'mutt', 'muzzie', 'muzzies', 'mvp', 'n', 'n bitch', 'n da', 'n nigga', 'n shit', 'na', 'na act', 'na act like', 'na argue', 'na b', 'na bitch', 'na buy', 'na call', 'na come', 'na die', 'na eat', 'na end', 'na fuck', 'na get', 'na give', 'na go', 'na hear', 'na hoe', 'na keep', 'na know', 'na make', 'na play', 'na see', 'na smoke', 'na steal', 'na take', 'na talk', 'na talk shit', 'na text', 'na trash', 'na try', 'na watch', 'naa', 'nah', 'nah bitch', 'nahh', 'nahh bitch', 'nail', 'naked', 'naked bitch', 'naked hoe', 'name', 'name bitch', 'name hoe', 'name mouth', 'named', 'nap', 'nappy', 'nappy headed', 'nappy headed hoe', 'nasty', 'nasty bitch', 'nasty hoe', 'nation', 'national', 'native', 'natural', 'naturally', 'nature', 'naw', 'naw bitch', 'naw nigga', 'nawl', 'nb', 'nba', 'ncaa', 'nd', 'ne', 'near', 'nearly', 'necessary', 'neck', 'neck bitch', 'ned', 'need', 'need bad', 'need bad bitch', 'need bitch', 'need get', 'need go', 'need grow', 'need hoe', 'need know', 'need life', 'need one', 'need pussy', 'need put', 'need real', 'need stop', 'needa', 'needa stop', 'needed', 'needle', 'negative', 'negro', 'neighbor', 'neighborhood', 'neither', 'nem', 'nephew', 'nerd', 'nerve', 'nest', 'net', 'netflix', 'network', 'neva', 'never', 'never date', 'never get', 'never give', 'never hoe', 'never let', 'never met', 'never seen', 'never trust', 'never trust bitch', 'nevermind', 'new', 'new avi', 'new bitch', 'new hoe', 'new one', 'new orleans', 'new pussy', 'new song', 'new way', 'new year', 'new york', 'new york yankee', 'news', 'next', 'next bitch', 'next day', 'next door', 'next getting', 'next getting pussy', 'next nigga', 'next nigga bitch', 'next time', 'next year', 'nfl', 'nicca', 'nicca need', 'niccas', 'nice', 'nice bitch', 'nicer', 'nick', 'nicki', 'nicki minaj', 'niece', 'niet', 'nig', 'nig nog', 'nigga', 'nigga act', 'nigga act like', 'nigga aint', 'nigga always', 'nigga amp', 'nigga amp bitch', 'nigga bitch', 'nigga call', 'nigga cheat', 'nigga come', 'nigga dat', 'nigga dont', 'nigga either', 'nigga even', 'nigga fuck', 'nigga fucked', 'nigga fuckin', 'nigga fucking', 'nigga get', 'nigga get bitch', 'nigga get pussy', 'nigga go', 'nigga gon', 'nigga gon na', 'nigga gone', 'nigga gossip', 'nigga gossip like', 'nigga got', 'nigga got bitch', 'nigga got ta', 'nigga hoe', 'nigga joe', 'nigga know', 'nigga lame', 'nigga let', 'nigga like', 'nigga lol', 'nigga look', 'nigga love', 'nigga made', 'nigga make', 'nigga n', 'nigga need', 'nigga nigga', 'nigga pressed', 'nigga pressed pussy', 'nigga pussy', 'nigga put', 'nigga really', 'nigga said', 'nigga say', 'nigga see', 'nigga shit', 'nigga spend', 'nigga still', 'nigga stop', 'nigga take', 'nigga talk', 'nigga talk bitch', 'nigga talking', 'nigga tell', 'nigga thats', 'nigga think', 'nigga trash', 'nigga try', 'nigga tryna', 'nigga u', 'nigga wa', 'nigga wan', 'nigga wan na', 'nigga want', 'nigga would', 'nigga yo', 'niggah', 'niggah got', 'niggah lol', 'niggah niggah', 'niggah really', 'niggah said', 'niggahs', 'niggaz', 'niggaz bitch', 'nigger', 'nigger amp', 'nigger love', 'nigger store', 'nigglet', 'nigguh', 'nigguhs', 'night', 'night bitch', 'night wa', 'niglet', 'nigs', 'nike', 'nikki', 'nikko', 'ninja', 'nip', 'nip pierced', 'nipple', 'niqqa', 'nite', 'nobody', 'nobody care', 'nobody got', 'nobody want', 'nog', 'noise', 'nomo', 'nomore', 'non', 'none', 'none bitch', 'none hoe', 'nonsense', 'nooo', 'nope', 'normal', 'north', 'nose', 'nosey', 'notch', 'note', 'nothin', 'nothin cut', 'nothin cut bitch', 'nothing', 'nothing better', 'nothing bitch', 'nothing cut', 'nothing cut bitch', 'nothing wrong', 'notice', 'noticed', 'nowadays', 'nowhere', 'nowplaying', 'nt', 'nude', 'nude trash', 'nugget', 'number', 'nun', 'nurse', 'nut', 'nuttin', 'nvm', 'ny', 'nyc', 'obama', 'obamas', 'obsessed', 'obvious', 'obviously', 'ocean', 'october', 'ofay', 'offend', 'offended', 'offense', 'offensive', 'offer', 'office', 'officer', 'official', 'officially', 'often', 'og', 'oh', 'oh bitch', 'oh god', 'oh hell', 'oh really', 'oh well', 'oh yeah', 'ohh', 'ohio', 'oil', 'ok', 'ok bitch', 'ok hoe', 'okay', 'okay bitch', 'ol', 'ol bitch', 'old', 'old bitch', 'old hoe', 'old pussy', 'older', 'ole', 'olympics', 'omfg', 'omg', 'omg bitch', 'oml', 'omm', 'ona', 'one', 'one best', 'one bitch', 'one care', 'one day', 'one friend', 'one girl', 'one go', 'one good', 'one hoe', 'one like', 'one lol', 'one man', 'one man trash', 'one nigga', 'one night', 'one one', 'one stone', 'one thing', 'one time', 'one two', 'one wa', 'one want', 'online', 'ont', 'ooh', 'ook', 'oomf', 'op', 'open', 'opened', 'opening', 'opening top', 'opening top class', 'operation', 'operation disrupts', 'operation disrupts shylock', 'opinion', 'opinion irrelevant', 'opportunity', 'ops', 'option', 'orange', 'order', 'ordered', 'ordering', 'oreo', 'oreo cheesecake', 'oreo ice', 'oreo ice cream', 'oriental', 'oriental massage', 'oriental massage perfect', 'original', 'orleans', 'oscar', 'others', 'otherwise', 'ounce', 'outchea', 'outfit', 'outside', 'outside movie', 'outside movie u', 'outta', 'outta bitch', 'outta face', 'outta line', 'overrated', 'ovum', 'owe', 'owner', 'p', 'pac', 'pacer', 'pack', 'page', 'paid', 'pain', 'paint', 'pair', 'pal', 'pan', 'pancake', 'pant', 'panty', 'paper', 'paper ball', 'paper ball trash', 'papoose', 'parent', 'park', 'park slope', 'park slope top', 'parking', 'part', 'partner', 'party', 'pas', 'passed', 'passing', 'passion', 'past', 'pat', 'pathetic', 'patience', 'patrick', 'pattern', 'patty', 'paul', 'pay', 'pay bill', 'pay pussy', 'payback', 'payback bitch', 'paying', 'peace', 'peanut', 'pecker', 'peckerwood', 'pee', 'peep', 'pencil', 'penis', 'penny', 'people', 'people ask', 'people bitch', 'people call', 'people get', 'people ghetto', 'people hate', 'people like', 'people need', 'people person', 'people say', 'people talk', 'people think', 'people use', 'pepper', 'pepsi', 'per', 'perfect', 'perfectly', 'period', 'perry', 'person', 'personal', 'personality', 'pet', 'peter', 'petty', 'peyton', 'peyton manning', 'phase', 'phil', 'philly', 'phone', 'phone bitch', 'photo', 'pic', 'pic dont', 'pic dont mean', 'pick', 'picked', 'picking', 'picture', 'picture get', 'pie', 'piece', 'piece pussy', 'piece shit', 'pierced', 'pig', 'pill', 'pillow', 'pilot', 'pimp', 'pimpin', 'pineapple', 'pink', 'pinto', 'pipe', 'piss', 'pissed', 'pissing', 'pistol', 'pit', 'pitcher', 'pity', 'pizza', 'pjnet', 'place', 'place bitch', 'plain', 'plan', 'plane', 'planet', 'planet ape', 'plano', 'plant', 'plastic', 'plate', 'play', 'play bitch', 'play flappy', 'play flappy bird', 'play game', 'play hoe', 'play pussy', 'play soccer', 'play soccer cheat', 'played', 'player', 'playin', 'playing', 'playing flappy', 'playing flappy bird', 'playing game', 'playing like', 'playoff', 'please', 'please stop', 'please tell', 'plenty', 'plot', 'plot twist', 'pls', 'plug', 'plus', 'plz', 'pm', 'po', 'pocket', 'point', 'pointless', 'pole', 'police', 'policy', 'political', 'politics', 'poll', 'pollo', 'polo', 'pom', 'pom pom', 'pool', 'poop', 'poor', 'pop', 'pop pussy', 'popcorn', 'popped', 'poppin', 'popping', 'popular', 'porch', 'porch monkey', 'porn', 'porn android', 'porn android iphone', 'porn star', 'pose', 'position', 'positive', 'possessed', 'possible', 'post', 'post picture', 'posted', 'posting', 'pot', 'pot brownie', 'potato', 'pound', 'power', 'ppl', 'practice', 'praise', 'pray', 'pre', 'preach', 'precious', 'prefer', 'pregnant', 'pregnant bitch', 'present', 'president', 'press', 'pressed', 'pressed pussy', 'pressure', 'pretend', 'pretending', 'pretty', 'pretty bitch', 'pretty much', 'pretty sure', 'price', 'priceless', 'pride', 'prime', 'princess', 'print', 'prison', 'private', 'privilege', 'pro', 'probably', 'problem', 'problem bitch', 'problem bitch one', 'product', 'professor', 'profile', 'program', 'project', 'prolly', 'prom', 'promise', 'proof', 'propaganda', 'proper', 'property', 'protect', 'protest', 'proud', 'proved', 'proven', 'proving', 'prude', 'psycho', 'pt', 'public', 'puff', 'pull', 'pull bitch', 'pull eat', 'pull eat pussy', 'pull hoe', 'pulled', 'pulling', 'pump', 'pumpkin', 'punch', 'punch bitch', 'punched', 'punching', 'punk', 'punk bitch', 'puppy', 'pure', 'pure trash', 'purge', 'purple', 'purpose', 'purse', 'pus', 'push', 'push revenge', 'push revenge sweetest', 'pushing', 'pussy', 'pussy aint', 'pussy always', 'pussy amp', 'pussy ate', 'pussy back', 'pussy bad', 'pussy best', 'pussy better', 'pussy bitch', 'pussy boy', 'pussy call', 'pussy cat', 'pussy cat inside', 'pussy come', 'pussy dick', 'pussy dip', 'pussy eating', 'pussy even', 'pussy feel', 'pussy fuck', 'pussy get', 'pussy go', 'pussy good', 'pussy got', 'pussy got ta', 'pussy hoe', 'pussy juice', 'pussy juicy', 'pussy juicy j', 'pussy know', 'pussy life', 'pussy like', 'pussy like fight', 'pussy lip', 'pussy lmao', 'pussy lol', 'pussy love', 'pussy make', 'pussy never', 'pussy nigga', 'pussy one', 'pussy pop', 'pussy poppin', 'pussy pussy', 'pussy put', 'pussy real', 'pussy right', 'pussy shit', 'pussy slowly', 'pussy smell', 'pussy smell like', 'pussy smh', 'pussy stank', 'pussy still', 'pussy stink', 'pussy taste', 'pussy taste like', 'pussy tho', 'pussy time', 'pussy tonight', 'pussy u', 'pussy wa', 'pussy wet', 'pussy whipped', 'put', 'put bitch', 'put hoe', 'put place', 'put pussy', 'put trash', 'put ya', 'putting', 'q', 'qaeda', 'qb', 'quad', 'quality', 'quan', 'queen', 'queer', 'queer folk', 'question', 'quick', 'quiet', 'quit', 'quit bitch', 'quit pussy', 'quite', 'quote', 'r', 'r p', 'r u', 'r u talking', 'race', 'race traitor', 'racial', 'racism', 'racist', 'rack', 'radio', 'raider', 'rain', 'raise', 'raise hoe', 'raised', 'rally', 'ram', 'ran', 'random', 'randomly', 'range', 'rangel', 'rant', 'rap', 'rape', 'rape bitch', 'raped', 'raping', 'rapper', 'rapping', 'rare', 'rat', 'ratchet', 'ratchet bitch', 'ratchet hoe', 'ratchet pussy', 'ratchet pussy juicy', 'rate', 'rated', 'rated spa', 'rather', 'rather purse', 'raven', 'raw', 'ray', 'ray rice', 'rd', 'reach', 'reaction', 'read', 'reading', 'ready', 'real', 'real bitch', 'real life', 'real nicca', 'real nigga', 'real nigger', 'real quick', 'real shit', 'real talk', 'real woman', 'realest', 'reality', 'realize', 'realized', 'really', 'really bitch', 'really care', 'really get', 'really good', 'really got', 'really hate', 'really hoe', 'really like', 'really need', 'really nice', 'really think', 'really trash', 'really wan', 'really wan na', 'really want', 'realtalk', 'reason', 'reason bitch', 'rebel', 'receipt', 'recent', 'recently', 'recognize', 'record', 'red', 'red bone', 'red sox', 'red yellow', 'redneck', 'redneck white', 'redskin', 'ref', 'refer', 'refuse', 'reg', 'regardless', 'regret', 'regular', 'rejectedpeanutsspecials', 'relate', 'related', 'relationship', 'relationship goal', 'relax', 'release', 'released', 'relevant', 'remember', 'remember bitch', 'remember steve', 'remember steve blue', 'remembers', 'remind', 'reminds', 'remix', 'rent', 'rep', 'repeat', 'replied', 'reply', 'report', 'reported', 'represent', 'republican', 'republican teabaggers', 'resist', 'respect', 'respond', 'response', 'rest', 'rest u', 'restaurant', 'resting', 'result', 'retard', 'retarded', 'retarded lol', 'return', 'retweet', 'retweets', 'revenge', 'revenge sweetest', 'revenge sweetest joy', 'review', 'reward', 'rey', 'rhyme', 'rice', 'rich', 'rich bitch', 'rich homie', 'rick', 'rick james', 'rick scott', 'rico', 'rid', 'ride', 'ride dick', 'ride die', 'rider', 'ridin', 'riding', 'right', 'right back', 'right bitch', 'right get', 'right hoe', 'right nigga', 'right pussy', 'rihanna', 'rim', 'ring', 'rip', 'ripped', 'rise', 'rite', 'river', 'rivera', 'rn', 'roach', 'road', 'roast', 'roasted', 'rob', 'robert', 'robin', 'rock', 'rocket', 'rockin', 'rod', 'role', 'roll', 'rolled', 'rollin', 'rolling', 'romney', 'romo', 'ron', 'rookie', 'room', 'roommate', 'root', 'rose', 'rose colored', 'rose colored glass', 'ross', 'rough', 'round', 'row', 'royal', 'rts', 'rub', 'rubbing', 'rube', 'rude', 'rug', 'ruin', 'ruined', 'rule', 'run', 'run bitch', 'run mouth', 'runnin', 'running', 'running around', 'russell', 'russian', 'ruth', 'ryan', 'sack', 'sad', 'safe', 'safe say', 'said', 'said aint', 'said bitch', 'said fuck', 'said got', 'said hoe', 'said like', 'said pussy', 'said pussy cat', 'said wa', 'saint', 'saiyan', 'salad', 'sale', 'salt', 'salty', 'salute', 'sam', 'sample', 'san', 'sand', 'sand nigger', 'sandal', 'sandwich', 'sang', 'sarcastic', 'sat', 'satan', 'saturday', 'sauce', 'saudi', 'savage', 'save', 'save hoe', 'save life', 'saved', 'saving', 'saving hoe', 'saw', 'saw bitch', 'say', 'say anything', 'say bitch', 'say dont', 'say fuck', 'say got', 'say hi', 'say hoe', 'say im', 'say like', 'say love', 'say nigga', 'say nigger', 'say pussy', 'say ratchet', 'say ratchet pussy', 'say shit', 'say shit like', 'say something', 'say u', 'say wa', 'sayin', 'saying', 'saying bitch', 'sc', 'scale', 'scally', 'scally lad', 'scandal', 'scare', 'scared', 'scaring', 'scary', 'scary hoe', 'scene', 'schedule', 'school', 'science', 'scientist', 'score', 'scott', 'scrappy', 'scratch', 'scream', 'screamed', 'screamin', 'screaming', 'screen', 'screen shot', 'screw', 'scrolling', 'scum', 'sea', 'sean', 'search', 'season', 'seat', 'seattle', 'second', 'secret', 'security', 'see', 'see bad', 'see bitch', 'see hoe', 'see monkey', 'see nigga', 'see pussy', 'see u', 'see white', 'see ya', 'seed', 'seeing', 'seem', 'seem like', 'seems', 'seems like', 'seen', 'seen bitch', 'seen hoe', 'self', 'self esteem', 'selfie', 'selfies', 'selfish', 'selfish bitch', 'sell', 'sell pussy', 'sellin', 'selling', 'selling pussy', 'sellout', 'senate', 'send', 'send bitch', 'sending', 'sends', 'senior', 'sense', 'sense humor', 'sensitive', 'sent', 'sentence', 'septic', 'series', 'serious', 'seriously', 'service', 'serving', 'set', 'settle', 'several', 'severely', 'sex', 'sex bitch', 'sex st', 'sex st date', 'sex tape', 'sex xxx', 'sexual', 'sexy', 'sexy bitch', 'sh', 'shade', 'shady', 'shady bitch', 'shake', 'shaking', 'shall', 'shame', 'shape', 'shaped', 'shaped like', 'share', 'sharing', 'shave', 'shaved', 'shawty', 'sheen', 'sheet', 'shes', 'shine', 'shiner', 'shirt', 'shit', 'shit aint', 'shit amp', 'shit back', 'shit bird', 'shit bitch', 'shit cuz', 'shit fuck', 'shit funny', 'shit get', 'shit go', 'shit going', 'shit gon', 'shit got', 'shit hoe', 'shit hoe trick', 'shit im', 'shit like', 'shit like bitch', 'shit lol', 'shit need', 'shit nigga', 'shit outta', 'shit pussy', 'shit retarded', 'shit say', 'shit shit', 'shit still', 'shit tho', 'shit trash', 'shit u', 'shit wa', 'shit yo', 'shittin', 'shitting', 'shitty', 'shocked', 'shoe', 'shoot', 'shoot bitch', 'shooting', 'shop', 'shopping', 'short', 'shorty', 'shot', 'shoulda', 'shout', 'shout bitch', 'shoutout', 'shove', 'shoved', 'shovel', 'show', 'show bitch', 'show hoe', 'show u', 'showed', 'shower', 'showin', 'showing', 'shrug', 'shut', 'shut bitch', 'shut faggot', 'shut fuck', 'shut hoe', 'shut yo', 'shutup', 'shy', 'shy glizzy', 'shylock', 'shylock banking', 'shyt', 'si', 'sick', 'sick bitch', 'side', 'side bitch', 'side bitch main', 'side hoe', 'sideline', 'sideline hoe', 'sight', 'sign', 'signed', 'sike', 'silence', 'silly', 'silly hoe', 'silver', 'simple', 'simply', 'sin', 'since', 'sing', 'singer', 'singing', 'single', 'single hoe', 'single life', 'sings', 'sink', 'sip', 'sir', 'sister', 'sit', 'sit face', 'sit yo', 'site', 'sittin', 'sitting', 'situation', 'six', 'size', 'skank', 'skill', 'skin', 'skin bitch', 'skinny', 'skinny bitch', 'skirt', 'skit', 'sky', 'slam', 'slant', 'slap', 'slap bitch', 'slap hoe', 'slapped', 'slapping', 'slave', 'slavery', 'slay', 'slayed', 'slaying', 'sleep', 'sleeping', 'slept', 'slick', 'slide', 'slim', 'slip', 'slippery', 'slippery slope', 'slit', 'slit throat', 'slope', 'slope top', 'slope top rated', 'sloppy', 'slow', 'slowly', 'slut', 'slutty', 'smack', 'smack bitch', 'smack hoe', 'smacking', 'small', 'smart', 'smart mouth', 'smarter', 'smash', 'smashed', 'smd', 'smdh', 'smell', 'smell like', 'smelly', 'smfh', 'smh', 'smh bitch', 'smile', 'smith', 'smoke', 'smoke good', 'smoke good weed', 'smoke weed', 'smoked', 'smokin', 'smoking', 'snack', 'snake', 'snap', 'snapchat', 'snapchat bitch', 'snatch', 'sneak', 'sneaky', 'sniff', 'snitch', 'snoop', 'snow', 'sober', 'soccer', 'soccer cheat', 'soccer cheat girl', 'social', 'social medium', 'social network', 'society', 'sock', 'soda', 'soft', 'sol', 'sold', 'sold pussy', 'soldier', 'sole', 'sole purpose', 'solid', 'solo', 'somebody', 'somebody tell', 'somehow', 'someone', 'someone bitch', 'someone else', 'someone get', 'someone tell', 'somethin', 'something', 'something bitch', 'something else', 'something like', 'something real', 'something right', 'something say', 'sometimes', 'somewhere', 'son', 'son bitch', 'son bitch moment', 'song', 'song hoe', 'songz', 'soo', 'soon', 'sooo', 'soooo', 'sooooo', 'soooooo', 'sore', 'sorry', 'sorry bitch', 'sorry hoe', 'sosa', 'soul', 'soulja', 'soulja boy', 'sound', 'sound like', 'sounded', 'sounded like', 'sounding', 'soup', 'sour', 'source', 'south', 'southern', 'sox', 'spa', 'space', 'spaghetti', 'spam', 'spanish', 'speak', 'speaking', 'spear', 'spear chucker', 'special', 'specie', 'speech', 'speed', 'spell', 'spelling', 'spend', 'spend money', 'spent', 'spic', 'spice', 'spicy', 'spider', 'spirit', 'spiritual', 'spit', 'spitting', 'splash', 'split', 'spoil', 'spoiled', 'spoke', 'spongebob', 'spook', 'sport', 'spot', 'spray', 'spread', 'spring', 'spy', 'squad', 'square', 'st', 'st date', 'st date dont', 'stack', 'stadium', 'stage', 'stain', 'stair', 'stalk', 'stalking', 'stand', 'standard', 'standing', 'stank', 'stank pussy', 'star', 'starbucks', 'starburst', 'stare', 'staring', 'start', 'start shit', 'started', 'starter', 'starting', 'state', 'statement', 'station', 'status', 'stay', 'stay away', 'stay home', 'stayed', 'staying', 'std', 'steady', 'steak', 'steal', 'stealing', 'steelers', 'step', 'stepping', 'sterling', 'steve', 'steve blue', 'steve blue clue', 'stevie', 'stevie j', 'stfu', 'stfu bitch', 'stfu hoe', 'stfu talking', 'stfu u', 'stick', 'stiff', 'still', 'still bitch', 'still feel', 'still get', 'still getting', 'still go', 'still going', 'still gon', 'still got', 'still hoe', 'still look', 'still love', 'still talking', 'still think', 'still trash', 'still ugly', 'still want', 'stink', 'stock', 'stockboy', 'stole', 'stolen', 'stomach', 'stone', 'stoned', 'stoner', 'stood', 'stop', 'stop acting', 'stop acting like', 'stop bitch', 'stop calling', 'stop cry', 'stop fuckin', 'stop fucking', 'stop hoe', 'stop little', 'stop little bitch', 'stop looking', 'stop making', 'stop playing', 'stop pussy', 'stop talking', 'stopped', 'store', 'story', 'str', 'straight', 'straight bitch', 'straight hoe', 'straight trash', 'stranger', 'strap', 'stream', 'street', 'strength', 'stress', 'stressed', 'stressin', 'stretch', 'stribpol', 'strike', 'string', 'strip', 'stripper', 'stripping', 'strong', 'struggle', 'stuck', 'stuck bitch', 'stud', 'student', 'studio', 'study', 'studying', 'stuff', 'stuffed', 'stunt', 'stupid', 'stupid bitch', 'stupid bitch aint', 'stupid bitch fuckin', 'stupid cunt', 'stupid fucking', 'stupid hoe', 'stupid nigger', 'stupid shit', 'stupid u', 'stupid u pay', 'stupidity', 'style', 'sub', 'subject', 'subtweet', 'subtweeting', 'successful', 'suck', 'suck dick', 'sucka', 'sucked', 'sucker', 'suckin', 'suckin dick', 'sucking', 'sucking dick', 'sudden', 'sue', 'sugar', 'suicide', 'suit', 'sum', 'sum bitch', 'sum hoe', 'summer', 'sumn', 'sun', 'sunday', 'sup', 'super', 'superman', 'support', 'supporter', 'supporting', 'suppose', 'supposed', 'sure', 'sure bitch', 'surgery', 'surprise', 'surprised', 'survive', 'suspect', 'swag', 'swag bitch', 'swag fag', 'swear', 'swear bitch', 'swear god', 'swear hoe', 'sweat', 'sweater', 'sweating', 'sweep', 'sweet', 'sweetest', 'sweetest joy', 'sweetest joy next', 'swerve', 'swing', 'switch', 'swore', 'syria', 'system', 'ta', 'ta bitch', 'ta chill', 'ta find', 'ta get', 'ta go', 'ta hit', 'ta hoe', 'ta keep', 'ta love', 'ta new', 'ta pay', 'ta take', 'ta watch', 'table', 'tackle', 'taco', 'tag', 'tail', 'take', 'take bitch', 'take care', 'take da', 'take note', 'take one', 'take pic', 'take picture', 'take selfies', 'take trash', 'take yo', 'take yo bitch', 'taken', 'takin', 'taking', 'taking trash', 'tale', 'taliban', 'talk', 'talk bitch', 'talk bitch day', 'talk bout', 'talk hoe', 'talk like', 'talk much', 'talk shit', 'talk trash', 'talk ur', 'talked', 'talker', 'talkin', 'talkin bout', 'talkin shit', 'talking', 'talking bout', 'talking bout hoe', 'talking hoe', 'talking like', 'talking shit', 'talking trash', 'talking u', 'talkn', 'tall', 'taller', 'talm', 'talm bout', 'talmbout', 'tan', 'tanaka', 'tank', 'tap', 'tape', 'target', 'taste', 'taste like', 'tat', 'tatted', 'tattoo', 'taught', 'tax', 'taylor', 'tbh', 'tbt', 'tcot', 'tcot pjnet', 'tcot teaparty', 'td', 'te', 'tea', 'teabagger', 'teabaggers', 'teach', 'teacher', 'teacher say', 'teaching', 'team', 'team bitch', 'teaparty', 'tear', 'teddy', 'teddy bear', 'tee', 'teen', 'teeth', 'teixeira', 'tell', 'tell bitch', 'tell em', 'tell hoe', 'tell nigga', 'tell pussy', 'tell shit', 'tell u', 'tell yo', 'tell yo bitch', 'tellin', 'telling', 'temple', 'ten', 'ten bitch', 'tend', 'term', 'terrible', 'terrorist', 'test', 'test bitch', 'texan', 'texas', 'text', 'text back', 'text bitch', 'text first', 'text hoe', 'text u', 'texted', 'textin', 'texting', 'texting bitch', 'tf', 'tf bitch', 'th', 'th grade', 'tha', 'thang', 'thank', 'thank god', 'thanks', 'thanks bitch', 'thanks charlie', 'thanksgiving', 'thats', 'thats hoe', 'thee', 'thenna', 'thenna bitch', 'theory', 'therefore', 'thesis', 'theyre', 'thick', 'thick bitch', 'thigh', 'thin', 'thincc', 'thing', 'thing bitch', 'thing ever', 'thing hoe', 'thing like', 'thing never', 'thing say', 'think', 'think bad', 'think bitch', 'think cute', 'think funny', 'think got', 'think hoe', 'think im', 'think know', 'think nigga', 'think pussy', 'think u', 'thinkin', 'thinking', 'thinking bout', 'third', 'thirst', 'thirsty', 'thirsty bitch', 'thirsty hoe', 'tho', 'tho bitch', 'tho hoe', 'tho lol', 'thot', 'thot bitch', 'thots', 'thou', 'though', 'though bitch', 'thought', 'thought bitch', 'thought wa', 'thousand', 'threat', 'threaten', 'three', 'threesome', 'threw', 'throat', 'throbbing', 'throbbing pussy', 'throw', 'throw pussy', 'throw trash', 'throwing', 'thrown', 'thru', 'thru bitch', 'tht', 'tht bitch', 'thts', 'thug', 'thumb', 'thunder', 'thursday', 'ticket', 'tie', 'tied', 'tiger', 'tight', 'tight pussy', 'til', 'till', 'till get', 'tim', 'timbs', 'time', 'time bitch', 'time day', 'time go', 'time hoe', 'time lol', 'time wa', 'timeline', 'tinker', 'tiny', 'tip', 'tire', 'tired', 'tired bitch', 'tit', 'title', 'titty', 'titty bitch', 'tl', 'tn', 'today', 'today bitch', 'today got', 'today lol', 'today wa', 'toe', 'together', 'toilet', 'told', 'told bitch', 'told hoe', 'told u', 'told wa', 'tom', 'tom brady', 'tomorrow', 'ton', 'tone', 'tongue', 'tonight', 'tonite', 'tony', 'took', 'took bitch', 'tool', 'top', 'top class', 'top class oriental', 'top rated', 'top rated spa', 'topic', 'toss', 'total', 'total bitch', 'totally', 'touch', 'touchdown', 'touched', 'touching', 'tough', 'tour', 'towards', 'towel', 'town', 'toy', 'track', 'trade', 'traded', 'traffic', 'trailer', 'trailer trash', 'train', 'trainer', 'training', 'traitor', 'tranny', 'trap', 'trap house', 'trash', 'trash af', 'trash amp', 'trash another', 'trash another man', 'trash bag', 'trash dump', 'trash fuck', 'trash like', 'trash lol', 'trash man', 'trash nigga', 'trash talk', 'trash talking', 'trash tho', 'trash though', 'trash would', 'trashy', 'traveling', 'treasure', 'treat', 'treat like', 'treat like yellow', 'treated', 'treated like', 'treating', 'tree', 'trend', 'trending', 'trey', 'trey songz', 'trick', 'tried', 'trifling', 'trigger', 'trill', 'trip', 'triple', 'trippen', 'trippin', 'tripping', 'troll', 'trolling', 'trophy', 'trouble', 'truck', 'true', 'truly', 'trunk', 'trust', 'trust bitch', 'trust hoe', 'trust nigga', 'trusted', 'trusting', 'truth', 'try', 'try fuck', 'tryin', 'trying', 'trying get', 'trying make', 'tryn', 'tryna', 'tryna fuck', 'tryna fuck next', 'tryna get', 'tryna hoe', 'tryna make', 'trynna', 'tu', 'tuesday', 'tumblr', 'tupac', 'turd', 'turn', 'turn bitch', 'turn good', 'turn hoe', 'turn hoe house', 'turn hoe housewife', 'turned', 'turned hoe', 'turning', 'turnt', 'turntup', 'turnup', 'turtle', 'tv', 'twat', 'tweakin', 'tweakin hoe', 'tweaking', 'tweet', 'tweet bitch', 'tweet hoe', 'tweet like', 'tweet shit', 'tweet wa', 'tweeted', 'tweeted might', 'tweeted might ghetto', 'tweetin', 'tweeting', 'twerk', 'twerkin', 'twerking', 'twice', 'twin', 'twinkie', 'twist', 'twisted', 'twitpic', 'twitpic selfie', 'twitter', 'twitter bitch', 'twitter hoe', 'twitter like', 'twitter name', 'twitter nigga', 'two', 'two bird', 'two bird one', 'two bitch', 'two hoe', 'two year', 'tx', 'tx trash', 'tyga', 'tyler', 'type', 'type bad', 'type bad bitch', 'type bitch', 'typical', 'tyrese', 'u', 'u aint', 'u amp', 'u bad', 'u better', 'u bitch', 'u bitch nigga', 'u bout', 'u bring', 'u bring food', 'u call', 'u dont', 'u dumb', 'u dumb bitch', 'u eat', 'u even', 'u ever', 'u fag', 'u faggot', 'u feel', 'u fuck', 'u fuckin', 'u fucking', 'u get', 'u ghetto', 'u go', 'u going', 'u gon', 'u gone', 'u got', 'u got ta', 'u guy', 'u hoe', 'u know', 'u let', 'u like', 'u look', 'u look like', 'u love', 'u mad', 'u mean', 'u might', 'u might stupid', 'u need', 'u never', 'u nigga', 'u nigger', 'u one', 'u pay', 'u pussy', 'u put', 'u r', 'u really', 'u remember', 'u remember steve', 'u say', 'u see', 'u shut', 'u stfu', 'u still', 'u stupid', 'u talk', 'u talking', 'u tell', 'u think', 'u u', 'u ugly', 'u wa', 'u wan', 'u wan na', 'u want', 'u white', 'u white trash', 'uber', 'ugh', 'ugliest', 'ugliest bitch', 'ugly', 'ugly bitch', 'ugly girl', 'ugly hoe', 'ugly like', 'ugly nigga', 'uh', 'uh oh', 'uk', 'ultimate', 'um', 'umm', 'un', 'unattractive', 'uncle', 'uncle tom', 'undercover', 'understand', 'understood', 'unemployed', 'unfollow', 'unfollow bitch', 'unfollowed', 'unfollowing', 'ungrateful', 'uniform', 'union', 'university', 'unless', 'unless bitch', 'unlike', 'unloyal', 'update', 'upon', 'upper', 'upset', 'ur', 'ur bitch', 'ur faggot', 'ur fucking', 'ur hoe', 'ur pussy', 'urge', 'urge smack', 'urge smack bitch', 'urself', 'us', 'usa', 'use', 'use word', 'used', 'useless', 'using', 'usually', 'v', 'vagina', 'valentine', 'valentine day', 'value', 'vampire', 'van', 'vega', 'vega bitch', 'vegetable', 'verse', 'version', 'vet', 'via', 'vibe', 'vice', 'vick', 'victim', 'victoria', 'video', 'video game', 'view', 'vile', 'vine', 'virgin', 'virginia', 'vision', 'visit', 'vodka', 'voice', 'volunteer', 'voor', 'vote', 'voted', 'voting', 'w', 'w bitch', 'wa', 'wa always', 'wa bad', 'wa best', 'wa bird', 'wa bitch', 'wa bitch nigga', 'wa born', 'wa bout', 'wa cute', 'wa eating', 'wa first', 'wa fucking', 'wa funny', 'wa getting', 'wa ghetto', 'wa going', 'wa gon', 'wa gon na', 'wa good', 'wa high', 'wa hoe', 'wa last', 'wa like', 'wa like bitch', 'wa never', 'wa one', 'wa playing', 'wa pussy', 'wa ready', 'wa real', 'wa really', 'wa right', 'wa sleep', 'wa talkin', 'wa talking', 'wa trash', 'wa trying', 'wack', 'wacko', 'wacko bird', 'waffle', 'wage', 'wait', 'wait see', 'wait til', 'wait till', 'waiting', 'waiting day', 'waiting day wont', 'waka', 'wake', 'waking', 'walk', 'walk around', 'walk bitch', 'walked', 'walkin', 'walking', 'walking around', 'walking dead', 'wall', 'wallah', 'wallet', 'walmart', 'wan', 'wan na', 'wan na b', 'wan na bitch', 'wan na eat', 'wan na fuck', 'wan na get', 'wan na go', 'wan na hear', 'wan na play', 'wan na see', 'wan na smoke', 'wan na talk', 'wana', 'want', 'want bitch', 'want fuck', 'want get', 'want girl', 'want go', 'want good', 'want hoe', 'want love', 'want man', 'want nigga', 'want none', 'want one', 'want oreo', 'want pussy', 'want see', 'wanted', 'wanted know', 'wantin', 'wanting', 'war', 'warm', 'warm fuzzy', 'warning', 'warrior', 'wash', 'washed', 'washing', 'washington', 'washy', 'wasnt', 'wasp', 'wassup', 'waste', 'waste time', 'wasted', 'wasting', 'wat', 'watch', 'watch bitch', 'watch hoe', 'watch yo', 'watched', 'watchin', 'watching', 'water', 'watermelon', 'wats', 'wave', 'way', 'way fuck', 'way fuck bitch', 'way get', 'wayne', 'wcvb', 'wcw', 'weak', 'weak bitch', 'weapon', 'wear', 'wear beany', 'wear khaki', 'wear khaki coloured', 'wearin', 'wearing', 'weather', 'weave', 'website', 'wedding', 'wee', 'weed', 'weed bad', 'weed bad bitch', 'weed bitch', 'weed brownie', 'week', 'week ago', 'weekend', 'weeknd', 'weezy', 'weight', 'weird', 'welcome', 'welfare', 'well', 'well bitch', 'well damn', 'welp', 'wen', 'went', 'went jail', 'west', 'westside', 'wet', 'wet pussy', 'wetback', 'wh', 'whatchu', 'whatever', 'whats', 'wheel', 'whenever', 'whether', 'whine', 'whining', 'whiny', 'whiny bitch', 'whip', 'whipped', 'whisper', 'white', 'white bitch', 'white boy', 'white folk', 'white girl', 'white hoe', 'white kid', 'white man', 'white people', 'white ppl', 'white trash', 'white woman', 'whitey', 'whoa', 'whoever', 'whole', 'whole lot', 'whole team', 'whole time', 'whoop', 'whore', 'whose', 'wi', 'wid', 'wide', 'wife', 'wife bitch', 'wife cute', 'wife cute pic', 'wife hoe', 'wifey', 'wifi', 'wig', 'wigga', 'wigger', 'wiggers', 'wild', 'williams', 'willing', 'wilson', 'win', 'win lose', 'wind', 'window', 'wine', 'wing', 'winner', 'winning', 'winston', 'winter', 'wipe', 'wise', 'wish', 'wish bitch', 'wish bitch would', 'wish could', 'wish wa', 'wish would', 'wishing', 'wishy', 'wishy washy', 'wit', 'wit bad', 'wit bitch', 'wit da', 'wit dis', 'wit hoe', 'wit u', 'wit ya', 'wit yo', 'witch', 'witcha', 'without', 'witness', 'wiz', 'wizard', 'wnba', 'woke', 'wolf', 'woman', 'woman bitch', 'woman hoe', 'woman love', 'woman want', 'wonder', 'wonder many', 'wonderful', 'wondering', 'wont', 'wont make', 'wont make wife', 'wood', 'woof', 'woof woof', 'wop', 'word', 'word bitch', 'word cunt', 'wore', 'work', 'work bitch', 'worked', 'worker', 'working', 'workout', 'world', 'world bitch', 'world series', 'worm', 'worried', 'worried bout', 'worried bout bitch', 'worry', 'worry bout', 'worse', 'worst', 'worth', 'worthless', 'would', 'would bitch', 'would call', 'would get', 'would go', 'would like', 'would love', 'would make', 'would never', 'would probably', 'would put', 'would rather', 'would say', 'would stop', 'would think', 'would trash', 'would u', 'would want', 'woulda', 'wouldnt', 'wow', 'wrap', 'wreck', 'wrist', 'write', 'written', 'wrong', 'wrong bitch', 'wrong w', 'wrong wit', 'wrote', 'wtf', 'wtf bitch', 'wth', 'wu', 'wussup', 'wut', 'x', 'xbox', 'xxx', 'xxx hairy', 'ya', 'ya bitch', 'ya face', 'ya friend', 'ya girl', 'ya hoe', 'ya know', 'ya life', 'ya man', 'ya name', 'ya nigga', 'ya pussy', 'ya side', 'yah', 'yal', 'yall', 'yall bitch', 'yall got', 'yall hoe', 'yall nigga', 'yall think', 'yank', 'yankee', 'yankee ever', 'yankee fan', 'yankee game', 'yankee mlb', 'yankee stadium', 'yankee win', 'yard', 'yardie', 'yass', 'yasss', 'yasss bitch', 'yassss', 'yay', 'yea', 'yea bitch', 'yeah', 'yeah bitch', 'yeah fuck', 'yeah hoe', 'yeah right', 'year', 'year ago', 'year bitch', 'year old', 'yeen', 'yell', 'yelled', 'yelling', 'yellow', 'yellow bone', 'yellow card', 'yellow jacket', 'yellow light', 'yellow rice', 'yellow starburst', 'yep', 'yer', 'yes', 'yes bitch', 'yesterday', 'yet', 'yo', 'yo bitch', 'yo bitch choosin', 'yo bitch get', 'yo bitch like', 'yo fat', 'yo girl', 'yo hoe', 'yo hoe get', 'yo life', 'yo main', 'yo main bitch', 'yo mama', 'yo man', 'yo nigga', 'yo pussy', 'yo self', 'yo shit', 'yoga', 'yokel', 'yolo', 'york', 'york yankee', 'young', 'young bitch', 'young hoe', 'young niggah', 'young thug', 'younger', 'youre', 'youre bitch', 'youre little', 'yous', 'youtube', 'yr', 'yr old', 'yu', 'yuh', 'yung', 'yup', 'z', 'zebra', 'zero', 'zimmerman', 'zone', 'zoo', 'CC', 'CC DT', 'CC DT JJ', 'CC DT NN', 'CC FW', 'CC IN', 'CC JJ', 'CC JJ IN', 'CC JJ JJ', 'CC JJ NN', 'CC NN', 'CC NN IN', 'CC NN NN', 'CC NN VBP', 'CC VBP', 'CC VBZ', 'CC VBZ DT', 'CD', 'CD NN', 'DT CC', 'DT CC JJ', 'DT DT', 'DT DT DT', 'DT DT JJ', 'DT DT NN', 'DT FW', 'DT FW DT', 'DT JJ', 'DT JJ IN', 'DT JJ JJ', 'DT JJ NN', 'DT JJ NNP', 'DT JJ VBP', 'DT NN CC', 'DT NN DT', 'DT NN FW', 'DT NN IN', 'DT NN JJ', 'DT NN MD', 'DT NN NNP', 'DT NN UH', 'DT NN VB', 'DT NN VBD', 'DT NN VBP', 'DT NN VBZ', 'DT NN WP', 'DT NN WRB', 'DT VB', 'DT VB DT', 'DT VBZ', 'DT VBZ DT', 'EX', 'EX VB', 'EX VB DT', 'FW', 'FW CC', 'FW CC FW', 'FW CC JJ', 'FW DT', 'FW DT DT', 'FW DT JJ', 'FW DT NN', 'FW FW', 'FW FW DT', 'FW FW FW', 'FW FW IN', 'FW FW JJ', 'FW FW NN', 'FW FW VB', 'FW FW VBP', 'FW IN', 'FW IN NN', 'FW JJ', 'FW JJ FW', 'FW JJ JJ', 'FW JJ NN', 'FW NN', 'FW NN DT', 'FW NN FW', 'FW NN IN', 'FW NN JJ', 'FW NN NN', 'FW NN VBD', 'FW NN VBP', 'FW NN VBZ', 'FW NNP', 'FW NNP VBP', 'FW VB', 'FW VB DT', 'FW VBP', 'FW VBP DT', 'FW VBP JJ', 'FW VBP VB', 'FW VBZ', 'FW VBZ DT', 'IN', 'IN DT', 'IN DT JJ', 'IN DT NN', 'IN FW', 'IN FW FW', 'IN FW NN', 'IN FW VB', 'IN JJ', 'IN JJ FW', 'IN JJ JJ', 'IN JJ NN', 'IN JJ NNS', 'IN JJ VBP', 'IN NN', 'IN NN IN', 'IN NN JJ', 'IN NN NN', 'IN NN VBP', 'IN NNP', 'IN NNP NN', 'IN NNS', 'IN NNS NNS', 'IN NNS VBP', 'JJ FW', 'JJ FW DT', 'JJ FW FW', 'JJ FW NN', 'JJ IN', 'JJ IN DT', 'JJ IN JJ', 'JJ IN NN', 'JJ JJ', 'JJ JJ FW', 'JJ JJ IN', 'JJ JJ JJ', 'JJ JJ NN', 'JJ JJ VBP', 'JJ MD', 'JJ MD VB', 'JJ NN CC', 'JJ NN DT', 'JJ NN FW', 'JJ NN IN', 'JJ NN JJ', 'JJ NN MD', 'JJ NN NNP', 'JJ NN NNS', 'JJ NN VB', 'JJ NN VBD', 'JJ NN VBP', 'JJ NN VBZ', 'JJ NN WP', 'JJ NNP', 'JJ NNP NN', 'JJ NNS', 'JJ NNS JJ', 'JJ NNS VBP', 'JJ VB', 'JJ VB DT', 'JJ VBD', 'JJ VBD DT', 'JJ VBP', 'JJ VBP DT', 'JJ VBP FW', 'JJ VBP JJ', 'JJ VBP NN', 'JJ VBP NNS', 'JJ VBP PDT', 'JJ VBP VB', 'JJ VBP VBP', 'JJ VBZ', 'JJ VBZ DT', 'JJ WRB', 'JJ WRB DT', 'MD', 'MD VB', 'MD VB DT', 'MD VB IN', 'MD VB JJ', 'MD VB NN', 'MD VB RB', 'MD VB RP', 'MD VB VB', 'NN CC', 'NN CC DT', 'NN CC IN', 'NN CC JJ', 'NN CC NN', 'NN CC VBZ', 'NN CD', 'NN CD NN', 'NN DT', 'NN DT DT', 'NN DT FW', 'NN DT JJ', 'NN DT NN', 'NN DT VB', 'NN DT VBZ', 'NN EX', 'NN EX VB', 'NN FW', 'NN FW CC', 'NN FW DT', 'NN FW FW', 'NN FW JJ', 'NN FW NN', 'NN FW NNP', 'NN FW VBZ', 'NN IN', 'NN IN DT', 'NN IN FW', 'NN IN JJ', 'NN IN NN', 'NN IN NNP', 'NN IN NNS', 'NN JJ FW', 'NN JJ IN', 'NN JJ JJ', 'NN JJ NNP', 'NN JJ VBD', 'NN JJ VBP', 'NN JJ VBZ', 'NN MD', 'NN MD VB', 'NN NN CC', 'NN NN CD', 'NN NN DT', 'NN NN EX', 'NN NN FW', 'NN NN IN', 'NN NN NNP', 'NN NN NNS', 'NN NN PRP', 'NN NN RB', 'NN NN SYM', 'NN NN UH', 'NN NN VB', 'NN NN VBD', 'NN NN VBZ', 'NN NN WP', 'NN NN WRB', 'NN NNP', 'NN NNP CC', 'NN NNP IN', 'NN NNP JJ', 'NN NNP NN', 'NN NNP NNP', 'NN NNP VBZ', 'NN NNS', 'NN NNS JJ', 'NN NNS VBP', 'NN PDT', 'NN PDT DT', 'NN PRP', 'NN PRP DT', 'NN PRP VBP', 'NN RB', 'NN RB JJ', 'NN SYM', 'NN SYM JJ', 'NN SYM NN', 'NN SYM VBZ', 'NN UH', 'NN UH JJ', 'NN UH NN', 'NN UH VBZ', 'NN VB', 'NN VB DT', 'NN VB FW', 'NN VB IN', 'NN VB JJ', 'NN VB NN', 'NN VB PDT', 'NN VB VBP', 'NN VB VBZ', 'NN VBD', 'NN VBD CD', 'NN VBD DT', 'NN VBD JJ', 'NN VBD NN', 'NN VBD PDT', 'NN VBD VBZ', 'NN VBP CC', 'NN VBP CD', 'NN VBP DT', 'NN VBP FW', 'NN VBP IN', 'NN VBP JJ', 'NN VBP NNS', 'NN VBP PDT', 'NN VBP PRP', 'NN VBP RB', 'NN VBP VB', 'NN VBP VBP', 'NN VBP VBZ', 'NN VBP WRB', 'NN VBZ', 'NN VBZ DT', 'NN VBZ IN', 'NN VBZ JJ', 'NN VBZ NN', 'NN VBZ NNS', 'NN VBZ RP', 'NN VBZ VBP', 'NN VBZ VBZ', 'NN WP', 'NN WP FW', 'NN WP IN', 'NN WP NN', 'NN WP VBD', 'NN WP VBZ', 'NN WRB', 'NN WRB DT', 'NN WRB NN', 'NNP', 'NNP CC', 'NNP CC JJ', 'NNP DT', 'NNP IN', 'NNP IN JJ', 'NNP IN NN', 'NNP JJ', 'NNP JJ JJ', 'NNP JJ NN', 'NNP MD', 'NNP MD VB', 'NNP NN', 'NNP NN DT', 'NNP NN IN', 'NNP NN JJ', 'NNP NN NN', 'NNP NN VBD', 'NNP NN VBP', 'NNP NN VBZ', 'NNP NNP', 'NNP NNP JJ', 'NNP NNP MD', 'NNP NNP NN', 'NNP NNP NNP', 'NNP NNP VBD', 'NNP NNP VBZ', 'NNP VBD', 'NNP VBD DT', 'NNP VBD JJ', 'NNP VBP', 'NNP VBP JJ', 'NNP VBZ', 'NNP VBZ DT', 'NNP VBZ FW', 'NNP VBZ JJ', 'NNP VBZ NN', 'NNP VBZ RP', 'NNP VBZ VB', 'NNP VBZ VBZ', 'NNS', 'NNS JJ', 'NNS JJ JJ', 'NNS JJ NN', 'NNS NNS', 'NNS VB', 'NNS VBP', 'NNS VBP DT', 'NNS VBP IN', 'NNS VBP JJ', 'NNS VBP NN', 'NNS VBP NNS', 'NNS VBP VB', 'NNS VBP VBP', 'PDT', 'PDT DT', 'PDT DT JJ', 'PDT DT NN', 'PRP', 'PRP DT', 'PRP DT JJ', 'PRP DT NN', 'PRP JJ', 'PRP VBP', 'PRP VBP DT', 'RB', 'RB DT', 'RB DT DT', 'RB DT JJ', 'RB DT NN', 'RB JJ', 'RB JJ JJ', 'RB JJ NN', 'RB VB', 'RB VB DT', 'RB VBP', 'RB VBP DT', 'RB VBZ', 'RB VBZ DT', 'RP', 'RP DT', 'RP DT JJ', 'RP DT NN', 'SYM', 'SYM JJ', 'SYM JJ JJ', 'SYM JJ NN', 'SYM NN', 'SYM NN NN', 'SYM NN VBZ', 'SYM VBZ', 'SYM VBZ DT', 'UH', 'UH JJ', 'UH JJ JJ', 'UH NN', 'UH NN IN', 'UH NN JJ', 'UH NN NN', 'UH VBZ', 'UH VBZ DT', 'VB', 'VB DT', 'VB DT DT', 'VB DT FW', 'VB DT JJ', 'VB DT NN', 'VB FW', 'VB FW DT', 'VB FW FW', 'VB IN', 'VB IN DT', 'VB IN NN', 'VB JJ', 'VB JJ IN', 'VB JJ JJ', 'VB JJ NN', 'VB JJ NNP', 'VB JJ NNS', 'VB JJ VB', 'VB NN', 'VB NN DT', 'VB NN FW', 'VB NN IN', 'VB NN JJ', 'VB NN NN', 'VB NN NNP', 'VB NN VB', 'VB PDT', 'VB PDT DT', 'VB RB', 'VB RB DT', 'VB RP', 'VB VB', 'VB VB DT', 'VB VB NN', 'VB VBP', 'VB VBP DT', 'VB VBZ', 'VB VBZ DT', 'VBD', 'VBD CD', 'VBD CD NN', 'VBD DT', 'VBD DT DT', 'VBD DT FW', 'VBD DT JJ', 'VBD DT NN', 'VBD JJ', 'VBD JJ IN', 'VBD JJ JJ', 'VBD JJ NN', 'VBD NN', 'VBD NN DT', 'VBD NN NN', 'VBD PDT', 'VBD PDT DT', 'VBD RP', 'VBD RP DT', 'VBD VB', 'VBD VB DT', 'VBD VBZ', 'VBD VBZ DT', 'VBP CC', 'VBP CC JJ', 'VBP CD', 'VBP CD NN', 'VBP DT', 'VBP DT DT', 'VBP DT JJ', 'VBP DT NN', 'VBP FW', 'VBP FW FW', 'VBP FW VBP', 'VBP IN', 'VBP IN DT', 'VBP IN NN', 'VBP IN NNS', 'VBP JJ', 'VBP JJ FW', 'VBP JJ IN', 'VBP JJ JJ', 'VBP JJ NN', 'VBP JJ NNP', 'VBP JJ NNS', 'VBP JJ VBP', 'VBP NN CC', 'VBP NN DT', 'VBP NN FW', 'VBP NN IN', 'VBP NN JJ', 'VBP NN NNP', 'VBP NN NNS', 'VBP NN PDT', 'VBP NN PRP', 'VBP NN UH', 'VBP NN VB', 'VBP NN VBD', 'VBP NN VBP', 'VBP NN VBZ', 'VBP NN WP', 'VBP NN WRB', 'VBP NNS', 'VBP NNS JJ', 'VBP NNS VB', 'VBP NNS VBP', 'VBP PDT', 'VBP PDT DT', 'VBP PRP', 'VBP PRP DT', 'VBP RB', 'VBP RB DT', 'VBP RB JJ', 'VBP RB VB', 'VBP RB VBP', 'VBP VB', 'VBP VB DT', 'VBP VBP', 'VBP VBP DT', 'VBP VBP JJ', 'VBP VBP NN', 'VBP VBP VB', 'VBP VBP VBP', 'VBP VBZ', 'VBP VBZ DT', 'VBP WRB', 'VBP WRB DT', 'VBZ', 'VBZ DT', 'VBZ DT DT', 'VBZ DT JJ', 'VBZ DT NN', 'VBZ FW', 'VBZ FW DT', 'VBZ FW JJ', 'VBZ IN', 'VBZ IN DT', 'VBZ JJ', 'VBZ JJ IN', 'VBZ JJ JJ', 'VBZ JJ NN', 'VBZ JJ NNS', 'VBZ JJ VB', 'VBZ NN', 'VBZ NN NN', 'VBZ NNS', 'VBZ RP', 'VBZ RP DT', 'VBZ VB', 'VBZ VB DT', 'VBZ VBP', 'VBZ VBP DT', 'VBZ VBP NN', 'VBZ VBZ', 'VBZ VBZ DT', 'WP', 'WP FW', 'WP FW FW', 'WP FW NN', 'WP IN', 'WP IN JJ', 'WP IN NN', 'WP NN', 'WP NN NN', 'WP VBD', 'WP VBD JJ', 'WP VBZ', 'WP VBZ VBP', 'WRB', 'WRB DT', 'WRB DT JJ', 'WRB DT NN', 'WRB NN', 'WRB NN DT', 'WRB NN JJ', 'WRB NN NN', 'WRB NN VBZ', 'FKRA', 'FRE', 'num_syllables', 'avg_syl_per_word', 'num_chars', 'num_chars_total', 'num_terms', 'num_words', 'num_unique_words', 'vader neg', 'vader pos', 'vader neu', 'vader compound', 'num_hashtags', 'num_mentions', 'num_urls', 'is_retweet']\n"
     ]
    }
   ],
   "source": [
    "print(feature_names)"
   ]
  },
  {
   "cell_type": "markdown",
   "metadata": {},
   "source": [
    "# Running the model\n",
    "\n",
    "The best model was selected using a GridSearch with 5-fold CV."
   ]
  },
  {
   "cell_type": "code",
   "execution_count": 135,
   "metadata": {},
   "outputs": [],
   "source": [
    "X = pd.DataFrame(M)\n",
    "y = df['class'].astype(int)"
   ]
  },
  {
   "cell_type": "code",
   "execution_count": 130,
   "metadata": {},
   "outputs": [],
   "source": [
    "from sklearn.model_selection import train_test_split"
   ]
  },
  {
   "cell_type": "code",
   "execution_count": 118,
   "metadata": {},
   "outputs": [],
   "source": [
    "X_train, X_test, y_train, y_test = train_test_split(X, y, test_size=0.1)"
   ]
  },
  {
   "cell_type": "code",
   "execution_count": 136,
   "metadata": {},
   "outputs": [
    {
     "name": "stderr",
     "output_type": "stream",
     "text": [
      "C:\\Users\\obloc_000\\Anaconda3\\lib\\site-packages\\sklearn\\svm\\base.py:929: ConvergenceWarning: Liblinear failed to converge, increase the number of iterations.\n",
      "  \"the number of iterations.\", ConvergenceWarning)\n"
     ]
    }
   ],
   "source": [
    "select = SelectFromModel(LogisticRegression(class_weight='balanced',penalty=\"l1\",C=0.01))\n",
    "X_ = select.fit_transform(X,y)"
   ]
  },
  {
   "cell_type": "code",
   "execution_count": 137,
   "metadata": {},
   "outputs": [
    {
     "name": "stderr",
     "output_type": "stream",
     "text": [
      "C:\\Users\\obloc_000\\Anaconda3\\lib\\site-packages\\sklearn\\svm\\base.py:929: ConvergenceWarning: Liblinear failed to converge, increase the number of iterations.\n",
      "  \"the number of iterations.\", ConvergenceWarning)\n"
     ]
    }
   ],
   "source": [
    "model = LinearSVC(class_weight='balanced',C=0.01, penalty='l2', loss='squared_hinge',multi_class='ovr').fit(X_,y)"
   ]
  },
  {
   "cell_type": "code",
   "execution_count": 138,
   "metadata": {},
   "outputs": [],
   "source": [
    "y_preds = model.predict(X_)"
   ]
  },
  {
   "cell_type": "code",
   "execution_count": 140,
   "metadata": {},
   "outputs": [],
   "source": [
    "report = classification_report( y, y_preds )"
   ]
  },
  {
   "cell_type": "code",
   "execution_count": 142,
   "metadata": {},
   "outputs": [
    {
     "name": "stdout",
     "output_type": "stream",
     "text": [
      "              precision    recall  f1-score   support\n",
      "\n",
      "           0       0.46      0.56      0.51      1430\n",
      "           1       0.97      0.91      0.94     19190\n",
      "           2       0.80      0.96      0.87      4163\n",
      "\n",
      "    accuracy                           0.90     24783\n",
      "   macro avg       0.74      0.81      0.77     24783\n",
      "weighted avg       0.91      0.90      0.90     24783\n",
      "\n"
     ]
    }
   ],
   "source": [
    "print(report)"
   ]
  },
  {
   "cell_type": "code",
   "execution_count": 124,
   "metadata": {},
   "outputs": [
    {
     "name": "stdout",
     "output_type": "stream",
     "text": [
      "              precision    recall  f1-score   support\n",
      "\n",
      "           0       0.46      0.53      0.49      1290\n",
      "           1       0.96      0.91      0.94     17257\n",
      "           2       0.80      0.96      0.87      3757\n",
      "\n",
      "    accuracy                           0.90     22304\n",
      "   macro avg       0.74      0.80      0.77     22304\n",
      "weighted avg       0.91      0.90      0.90     22304\n",
      "\n"
     ]
    }
   ],
   "source": [
    "print(report) ### old report using x_train y_train when fitting model"
   ]
  },
  {
   "cell_type": "code",
   "execution_count": 238,
   "metadata": {},
   "outputs": [
    {
     "data": {
      "text/plain": [
       "['model_py3.pkl']"
      ]
     },
     "execution_count": 238,
     "metadata": {},
     "output_type": "execute_result"
    }
   ],
   "source": [
    "joblib.dump(model, \"model_py3.pkl\")"
   ]
  },
  {
   "cell_type": "markdown",
   "metadata": {},
   "source": [
    "# Getting tfidf value & features for pickling vectorizer"
   ]
  },
  {
   "cell_type": "code",
   "execution_count": 144,
   "metadata": {},
   "outputs": [],
   "source": [
    "final_features = select.get_support(indices=True) #get indices of features\n",
    "final_feature_list = [(feature_names[i]) for i in final_features] #Get list of names corresponding to indices"
   ]
  },
  {
   "cell_type": "code",
   "execution_count": 146,
   "metadata": {},
   "outputs": [
    {
     "name": "stdout",
     "output_type": "stream",
     "text": [
      "['al', 'america', 'american', 'another', 'ape', 'bad', 'bad bitch', 'beaner', 'big', 'bird', 'bitch', 'bitch nigga', 'black', 'border', 'born', 'bout', 'breed', 'brownie', 'business', 'campus', 'charlie', 'chink', 'colored', 'colored folk', 'coming', 'coon', 'country', 'cracker', 'crazy', 'crow', 'cunt', 'da', 'damn', 'die', 'doe', 'dyke', 'face', 'fag', 'faggot', 'fat', 'female', 'feminist', 'filth', 'first', 'folk', 'fuck', 'fuckin', 'fucking', 'fuzzy', 'gay', 'get u', 'girl', 'go', 'gon', 'good', 'gook', 'got', 'got nigga', 'hate', 'hate hoe', 'hating', 'ho', 'hoe', 'hood', 'hope', 'human', 'ignorant', 'israel', 'jew', 'jihadi', 'kill', 'lame', 'let', 'like', 'like need', 'lol', 'look', 'look like', 'mexican', 'mock', 'money', 'monkey', 'muslim', 'muzzie', 'negro', 'never', 'nicca', 'niccas', 'nig', 'nigga', 'nigga amp', 'nigga bitch', 'niggah', 'niggaz', 'nigger', 'nigguh', 'niglet', 'nigs', 'oreo', 'people', 'pick', 'pussy', 'pussy boy', 'pussy nigga', 'queer', 'race', 'racist', 'real', 'real nigga', 'redneck', 'redskin', 'retard', 'retarded', 'say', 'sex', 'shit', 'shoot', 'show', 'shut', 'side', 'slope', 'smh', 'sole', 'special', 'spic', 'stfu', 'stupid', 'suck', 'support', 'talk', 'tcot', 'teabagger', 'tho', 'throat', 'towel', 'trailer', 'tranny', 'trash', 'trying', 'twat', 'u', 'ugly', 'uncle', 'ur', 'use', 'via', 'wa', 'wassup', 'watch', 'wetback', 'white', 'white trash', 'whitey', 'whore', 'word', 'ya', 'yankee', 'yeah', 'yellow', 'yr', 'zimmerman', 'IN', 'JJ JJ', 'JJ NN JJ', 'JJ VBP', 'NN DT', 'NN DT JJ', 'NN JJ VBP', 'NN NN VBZ', 'NN VBZ', 'NN VBZ DT', 'VBD DT NN', 'VBP JJ NN', 'VBZ', 'FKRA', 'FRE', 'num_syllables', 'avg_syl_per_word', 'num_chars', 'num_chars_total', 'num_terms', 'num_words', 'num_unique_words', 'vader neu', 'vader compound', 'num_hashtags', 'num_mentions', 'num_urls']\n"
     ]
    }
   ],
   "source": [
    "print (final_feature_list)"
   ]
  },
  {
   "cell_type": "code",
   "execution_count": 147,
   "metadata": {},
   "outputs": [],
   "source": [
    "#Getting names for each class of features\n",
    "ngram_features = final_feature_list[:final_feature_list.index('zimmerman')+1]\n",
    "pos_features = final_feature_list[final_feature_list.index('zimmerman')+1:final_feature_list.index('VBZ')+1]\n",
    "oth_features = final_feature_list[final_feature_list.index('VBZ')+1:]"
   ]
  },
  {
   "cell_type": "code",
   "execution_count": 148,
   "metadata": {},
   "outputs": [],
   "source": [
    "new_vocab = {v:i for i, v in enumerate(ngram_features)}\n",
    "new_vocab_to_index = {}\n",
    "for k in ngram_features:\n",
    "    new_vocab_to_index[k] = vocab[k]"
   ]
  },
  {
   "cell_type": "code",
   "execution_count": 149,
   "metadata": {},
   "outputs": [],
   "source": [
    "#Get indices of text features\n",
    "ngram_indices = final_features[:len(ngram_features)]"
   ]
  },
  {
   "cell_type": "code",
   "execution_count": 150,
   "metadata": {},
   "outputs": [],
   "source": [
    "### Pickle new dillerizer\n",
    "new_vectorizer = TfidfVectorizer(\n",
    "    #vectorizer = sklearn.feature_extraction.text.CountVectorizer(\n",
    "    tokenizer=tokenize,\n",
    "    preprocessor=preprocess,\n",
    "    ngram_range=(1, 3),\n",
    "    stop_words=stopwords, #We do better when we keep stopwords\n",
    "    use_idf=False,\n",
    "    smooth_idf=False,\n",
    "    norm=None, #Applies l2 norm smoothing\n",
    "    decode_error='replace',\n",
    "    min_df=1,\n",
    "    max_df=1.0,\n",
    "    vocabulary=new_vocab\n",
    "    )"
   ]
  },
  {
   "cell_type": "code",
   "execution_count": 152,
   "metadata": {},
   "outputs": [
    {
     "data": {
      "text/plain": [
       "['true_tfidf_py3.pkl']"
      ]
     },
     "execution_count": 152,
     "metadata": {},
     "output_type": "execute_result"
    }
   ],
   "source": [
    "import joblib\n",
    "joblib.dump(new_vectorizer, 'true_tfidf_py3.pkl') "
   ]
  },
  {
   "cell_type": "code",
   "execution_count": 153,
   "metadata": {},
   "outputs": [
    {
     "name": "stderr",
     "output_type": "stream",
     "text": [
      "C:\\Users\\obloc_000\\Anaconda3\\lib\\site-packages\\sklearn\\feature_extraction\\text.py:300: UserWarning: Your stop_words may be inconsistent with your preprocessing. Tokenizing the stop words generated tokens ['doe', 'ha', 'wa'] not in stop_words.\n",
      "  'stop_words.' % sorted(inconsistent))\n"
     ]
    }
   ],
   "source": [
    "#Verifying that tfidf of features is the same \n",
    "tfidf_ = new_vectorizer.fit_transform(tweets).toarray()"
   ]
  },
  {
   "cell_type": "code",
   "execution_count": 154,
   "metadata": {},
   "outputs": [
    {
     "data": {
      "text/plain": [
       "array([0., 0., 0., 0., 0., 1., 0., 0., 0., 0., 0., 0., 0., 0., 0., 0., 0.,\n",
       "       0., 0., 0., 0., 0., 0., 0., 0., 0., 0., 0., 0., 0., 0., 0., 0., 0.,\n",
       "       0., 0., 0., 0., 0., 0., 0., 0., 0., 0., 0., 0., 0., 0., 0., 0., 0.,\n",
       "       0., 0., 0., 0., 0., 0., 0., 0., 0., 0., 0., 1., 0., 0., 0., 0., 0.,\n",
       "       0., 0., 0., 0., 0., 0., 0., 0., 0., 0., 0., 0., 0., 0., 0., 0., 0.,\n",
       "       0., 0., 0., 0., 0., 0., 0., 0., 0., 0., 0., 0., 0., 0., 0., 0., 0.,\n",
       "       0., 0., 0., 0., 0., 0., 0., 0., 0., 0., 0., 0., 0., 0., 0., 0., 0.,\n",
       "       0., 0., 0., 0., 0., 0., 0., 0., 0., 0., 0., 0., 0., 0., 0., 0., 0.,\n",
       "       0., 0., 0., 0., 0., 0., 0., 0., 0., 0., 0., 0., 0., 0., 0., 0., 0.,\n",
       "       0., 0., 0., 0., 0., 0., 0., 0.])"
      ]
     },
     "execution_count": 154,
     "metadata": {},
     "output_type": "execute_result"
    }
   ],
   "source": [
    "tfidf_[1,:]"
   ]
  },
  {
   "cell_type": "code",
   "execution_count": 155,
   "metadata": {},
   "outputs": [
    {
     "data": {
      "text/plain": [
       "2.0"
      ]
     },
     "execution_count": 155,
     "metadata": {},
     "output_type": "execute_result"
    }
   ],
   "source": [
    "tfidf_[1,:].sum()"
   ]
  },
  {
   "cell_type": "code",
   "execution_count": 156,
   "metadata": {},
   "outputs": [
    {
     "data": {
      "text/plain": [
       "array([0.        , 0.        , 0.        , 0.        , 0.        ,\n",
       "       4.81346441, 0.        , 0.        , 0.        , 0.        ,\n",
       "       0.        , 0.        , 0.        , 0.        , 0.        ,\n",
       "       0.        , 0.        , 0.        , 0.        , 0.        ,\n",
       "       0.        , 0.        , 0.        , 0.        , 0.        ,\n",
       "       0.        , 0.        , 0.        , 0.        , 0.        ,\n",
       "       0.        , 0.        , 0.        , 0.        , 0.        ,\n",
       "       0.        , 0.        , 0.        , 0.        , 0.        ,\n",
       "       0.        , 0.        , 0.        , 0.        , 0.        ,\n",
       "       0.        , 0.        , 0.        , 0.        , 0.        ,\n",
       "       0.        , 0.        , 0.        , 0.        , 0.        ,\n",
       "       0.        , 0.        , 0.        , 0.        , 0.        ,\n",
       "       0.        , 0.        , 2.81887603, 0.        , 0.        ,\n",
       "       0.        , 0.        , 0.        , 0.        , 0.        ,\n",
       "       0.        , 0.        , 0.        , 0.        , 0.        ,\n",
       "       0.        , 0.        , 0.        , 0.        , 0.        ,\n",
       "       0.        , 0.        , 0.        , 0.        , 0.        ,\n",
       "       0.        , 0.        , 0.        , 0.        , 0.        ,\n",
       "       0.        , 0.        , 0.        , 0.        , 0.        ,\n",
       "       0.        , 0.        , 0.        , 0.        , 0.        ,\n",
       "       0.        , 0.        , 0.        , 0.        , 0.        ,\n",
       "       0.        , 0.        , 0.        , 0.        , 0.        ,\n",
       "       0.        , 0.        , 0.        , 0.        , 0.        ,\n",
       "       0.        , 0.        , 0.        , 0.        , 0.        ,\n",
       "       0.        , 0.        , 0.        , 0.        , 0.        ,\n",
       "       0.        , 0.        , 0.        , 0.        , 0.        ,\n",
       "       0.        , 0.        , 0.        , 0.        , 0.        ,\n",
       "       0.        , 0.        , 0.        , 0.        , 0.        ,\n",
       "       0.        , 0.        , 0.        , 0.        , 0.        ,\n",
       "       0.        , 0.        , 0.        , 0.        , 0.        ,\n",
       "       0.        , 0.        , 0.        , 0.        , 0.        ,\n",
       "       0.        , 0.        , 0.        , 0.        , 0.        ,\n",
       "       0.        ])"
      ]
     },
     "execution_count": 156,
     "metadata": {},
     "output_type": "execute_result"
    }
   ],
   "source": [
    "X_[1,:tfidf_.shape[1]]"
   ]
  },
  {
   "cell_type": "code",
   "execution_count": 157,
   "metadata": {},
   "outputs": [
    {
     "data": {
      "text/plain": [
       "7.632340442426181"
      ]
     },
     "execution_count": 157,
     "metadata": {},
     "output_type": "execute_result"
    }
   ],
   "source": [
    "X_[1,:tfidf_.shape[1]].sum()"
   ]
  },
  {
   "cell_type": "code",
   "execution_count": 158,
   "metadata": {},
   "outputs": [],
   "source": [
    "idf_vals_ = idf_vals[ngram_indices]"
   ]
  },
  {
   "cell_type": "code",
   "execution_count": 159,
   "metadata": {},
   "outputs": [
    {
     "data": {
      "text/plain": [
       "(161,)"
      ]
     },
     "execution_count": 159,
     "metadata": {},
     "output_type": "execute_result"
    }
   ],
   "source": [
    "idf_vals_.shape"
   ]
  },
  {
   "cell_type": "code",
   "execution_count": 160,
   "metadata": {},
   "outputs": [
    {
     "data": {
      "text/plain": [
       "['idf_py3.pkl']"
      ]
     },
     "execution_count": 160,
     "metadata": {},
     "output_type": "execute_result"
    }
   ],
   "source": [
    "#TODO: Pickle idf_vals\n",
    "\n",
    "joblib.dump(idf_vals_, 'idf_py3.pkl') "
   ]
  },
  {
   "cell_type": "code",
   "execution_count": 162,
   "metadata": {},
   "outputs": [
    {
     "data": {
      "text/plain": [
       "array([ True,  True,  True,  True,  True,  True,  True,  True,  True,\n",
       "        True,  True,  True,  True,  True,  True,  True,  True,  True,\n",
       "        True,  True,  True,  True,  True,  True,  True,  True,  True,\n",
       "        True,  True,  True,  True,  True,  True,  True,  True,  True,\n",
       "        True,  True,  True,  True,  True,  True,  True,  True,  True,\n",
       "        True,  True,  True,  True,  True,  True,  True,  True,  True,\n",
       "        True,  True,  True,  True,  True,  True,  True,  True,  True,\n",
       "        True,  True,  True,  True,  True,  True,  True,  True,  True,\n",
       "        True,  True,  True,  True,  True,  True,  True,  True,  True,\n",
       "        True,  True,  True,  True,  True,  True,  True,  True,  True,\n",
       "        True,  True,  True,  True,  True,  True,  True,  True,  True,\n",
       "        True,  True,  True,  True,  True,  True,  True,  True,  True,\n",
       "        True,  True,  True,  True,  True,  True,  True,  True,  True,\n",
       "        True,  True,  True,  True,  True,  True,  True,  True,  True,\n",
       "        True,  True,  True,  True,  True,  True,  True,  True,  True,\n",
       "        True,  True,  True,  True,  True,  True,  True,  True,  True,\n",
       "        True,  True,  True,  True,  True,  True,  True,  True,  True,\n",
       "        True,  True,  True,  True,  True,  True,  True,  True])"
      ]
     },
     "execution_count": 162,
     "metadata": {},
     "output_type": "execute_result"
    }
   ],
   "source": [
    "(tfidf_[1,:]*idf_vals_) == X_[1,:161] #Got same value as final process array!"
   ]
  },
  {
   "cell_type": "code",
   "execution_count": 164,
   "metadata": {},
   "outputs": [
    {
     "data": {
      "text/plain": [
       "array([[ True,  True,  True, ...,  True,  True,  True],\n",
       "       [ True,  True,  True, ...,  True,  True,  True],\n",
       "       [ True,  True,  True, ...,  True,  True,  True],\n",
       "       ...,\n",
       "       [ True,  True,  True, ...,  True,  True,  True],\n",
       "       [ True,  True,  True, ...,  True,  True,  True],\n",
       "       [ True,  True,  True, ...,  True,  True,  True]])"
      ]
     },
     "execution_count": 164,
     "metadata": {},
     "output_type": "execute_result"
    }
   ],
   "source": [
    "tfidf_*idf_vals_ == X_[:,:161]"
   ]
  },
  {
   "cell_type": "code",
   "execution_count": 165,
   "metadata": {},
   "outputs": [],
   "source": [
    "tfidffinal = tfidf_*idf_vals_  ## in python model.py file this would be the tfidf_array * idk.pkl...\n",
    "# #tfidf array is the result of tf_array = tf_vectorizer.fit_transform(tweets).toarray() where vectorizer is the tfidf_py3.pkl \n"
   ]
  },
  {
   "cell_type": "markdown",
   "metadata": {},
   "source": [
    "# Generating POS features"
   ]
  },
  {
   "cell_type": "code",
   "execution_count": 167,
   "metadata": {},
   "outputs": [],
   "source": [
    "new_pos = {v:i for i, v in enumerate(pos_features)}"
   ]
  },
  {
   "cell_type": "code",
   "execution_count": 168,
   "metadata": {},
   "outputs": [],
   "source": [
    "#TODO: Pickle pos vectorizer\n",
    "#We can use the TFIDF vectorizer to get a token matrix for the POS tags\n",
    "new_pos_vectorizer = TfidfVectorizer(\n",
    "    #vectorizer = sklearn.feature_extraction.text.CountVectorizer(\n",
    "    tokenizer=None,\n",
    "    lowercase=False,\n",
    "    preprocessor=None,\n",
    "    ngram_range=(1, 3),\n",
    "    stop_words=None, #We do better when we keep stopwords\n",
    "    use_idf=False,\n",
    "    smooth_idf=False,\n",
    "    norm=None, #Applies l2 norm smoothing\n",
    "    decode_error='replace',\n",
    "    min_df=1,\n",
    "    max_df=1.0,\n",
    "    vocabulary=new_pos\n",
    "    )"
   ]
  },
  {
   "cell_type": "code",
   "execution_count": 169,
   "metadata": {},
   "outputs": [
    {
     "data": {
      "text/plain": [
       "['pos_vect_py3.pkl']"
      ]
     },
     "execution_count": 169,
     "metadata": {},
     "output_type": "execute_result"
    }
   ],
   "source": [
    "joblib.dump(new_pos_vectorizer, 'pos_vect_py3.pkl') "
   ]
  },
  {
   "cell_type": "code",
   "execution_count": 170,
   "metadata": {},
   "outputs": [],
   "source": [
    "pos_ = new_pos_vectorizer.fit_transform(tweet_tags).toarray()"
   ]
  },
  {
   "cell_type": "code",
   "execution_count": 171,
   "metadata": {},
   "outputs": [
    {
     "data": {
      "text/plain": [
       "['IN',\n",
       " 'JJ JJ',\n",
       " 'JJ NN JJ',\n",
       " 'JJ VBP',\n",
       " 'NN DT',\n",
       " 'NN DT JJ',\n",
       " 'NN JJ VBP',\n",
       " 'NN NN VBZ',\n",
       " 'NN VBZ',\n",
       " 'NN VBZ DT',\n",
       " 'VBD DT NN',\n",
       " 'VBP JJ NN',\n",
       " 'VBZ']"
      ]
     },
     "execution_count": 171,
     "metadata": {},
     "output_type": "execute_result"
    }
   ],
   "source": [
    "pos_new_items = new_pos_vectorizer.get_feature_names()\n",
    "pos_new_items"
   ]
  },
  {
   "cell_type": "code",
   "execution_count": 172,
   "metadata": {},
   "outputs": [
    {
     "data": {
      "text/plain": [
       "array([1., 1., 0., 0., 0., 0., 0., 2., 2., 2., 2., 0., 3.])"
      ]
     },
     "execution_count": 172,
     "metadata": {},
     "output_type": "execute_result"
    }
   ],
   "source": [
    "pos_[1,:]"
   ]
  },
  {
   "cell_type": "code",
   "execution_count": 174,
   "metadata": {},
   "outputs": [
    {
     "data": {
      "text/plain": [
       "array([1., 1., 0., 0., 0., 0., 0., 2., 2., 2., 2., 0., 3.])"
      ]
     },
     "execution_count": 174,
     "metadata": {},
     "output_type": "execute_result"
    }
   ],
   "source": [
    "X_[1,161:174]"
   ]
  },
  {
   "cell_type": "code",
   "execution_count": 175,
   "metadata": {},
   "outputs": [
    {
     "data": {
      "text/plain": [
       "array([[ True,  True,  True, ...,  True,  True,  True],\n",
       "       [ True,  True,  True, ...,  True,  True,  True],\n",
       "       [ True,  True,  True, ...,  True,  True,  True],\n",
       "       ...,\n",
       "       [ True,  True,  True, ...,  True,  True,  True],\n",
       "       [ True,  True,  True, ...,  True,  True,  True],\n",
       "       [ True,  True,  True, ...,  True,  True,  True]])"
      ]
     },
     "execution_count": 175,
     "metadata": {},
     "output_type": "execute_result"
    }
   ],
   "source": [
    "pos_[:,:] == X_[:,161:174]"
   ]
  },
  {
   "cell_type": "code",
   "execution_count": 176,
   "metadata": {},
   "outputs": [
    {
     "data": {
      "text/plain": [
       "223440.0"
      ]
     },
     "execution_count": 176,
     "metadata": {},
     "output_type": "execute_result"
    }
   ],
   "source": [
    "pos_[:,:].sum()"
   ]
  },
  {
   "cell_type": "code",
   "execution_count": 197,
   "metadata": {},
   "outputs": [
    {
     "data": {
      "text/plain": [
       "223440.0"
      ]
     },
     "execution_count": 197,
     "metadata": {},
     "output_type": "execute_result"
    }
   ],
   "source": [
    "X_[:,161:174].sum()"
   ]
  },
  {
   "cell_type": "markdown",
   "metadata": {},
   "source": [
    "# Exploring other features"
   ]
  },
  {
   "cell_type": "code",
   "execution_count": 210,
   "metadata": {},
   "outputs": [
    {
     "name": "stdout",
     "output_type": "stream",
     "text": [
      "['FKRA', 'FRE', 'num_syllables', 'avg_syl_per_word', 'num_chars', 'num_chars_total', 'num_terms', 'num_words', 'num_unique_words', 'vader neg', 'vader pos', 'vader neu', 'vader compound', 'num_hashtags', 'num_mentions', 'num_urls', 'is_retweet']\n"
     ]
    }
   ],
   "source": [
    "print (other_features_names) #original features input"
   ]
  },
  {
   "cell_type": "code",
   "execution_count": 209,
   "metadata": {},
   "outputs": [
    {
     "name": "stdout",
     "output_type": "stream",
     "text": [
      "['FKRA', 'FRE', 'num_syllables', 'avg_syl_per_word', 'num_chars', 'num_chars_total', 'num_terms', 'num_words', 'num_unique_words', 'vader neu', 'vader compound', 'num_hashtags', 'num_mentions', 'num_urls']\n"
     ]
    }
   ],
   "source": [
    "print (oth_features) ### comes from the output of select variable length is 14"
   ]
  },
  {
   "cell_type": "code",
   "execution_count": 227,
   "metadata": {},
   "outputs": [],
   "source": [
    "def other_features_(tweet):\n",
    "    \"\"\"This function takes a string and returns a list of features.\n",
    "    These include Sentiment scores, Text and Readability scores,\n",
    "    as well as Twitter specific features\"\"\"\n",
    "    ##SENTIMENT\n",
    "    sentiment = sentiment_analyzer.polarity_scores(tweet)\n",
    "    \n",
    "    words = preprocess(tweet) #Get text only\n",
    "    \n",
    "    syllables = textstat.syllable_count(words) #count syllables in words\n",
    "    num_chars = sum(len(w) for w in words) #num chars in words\n",
    "    num_chars_total = len(tweet)\n",
    "    num_terms = len(tweet.split())\n",
    "    num_words = len(words.split())\n",
    "    avg_syl = round(float((syllables+0.001))/float(num_words+0.001),4)\n",
    "    num_unique_terms = len(set(words.split()))\n",
    "    \n",
    "    ###Modified FK grade, where avg words per sentence is just num words/1\n",
    "    FKRA = round(float(0.39 * float(num_words)/1.0) + float(11.8 * avg_syl) - 15.59,1)\n",
    "    ##Modified FRE score, where sentence fixed to 1\n",
    "    FRE = round(206.835 - 1.015*(float(num_words)/1.0) - (84.6*float(avg_syl)),2)\n",
    "    \n",
    "    twitter_objs = count_twitter_objs(tweet) #Count #, @, and http://\n",
    "    features = [FKRA, FRE, syllables, avg_syl, num_chars, num_chars_total, num_terms, num_words,\n",
    "                num_unique_terms,sentiment['neu'], sentiment['compound'],\n",
    "                twitter_objs[2],twitter_objs[1],twitter_objs[0]]\n",
    "    #features = pandas.DataFrame(features)\n",
    "    return features\n",
    "\n",
    "def get_feature_array_(tweets):\n",
    "    feats=[]\n",
    "    for t in tweets:\n",
    "        feats.append(other_features_(t))\n",
    "    return np.array(feats)"
   ]
  },
  {
   "cell_type": "code",
   "execution_count": 228,
   "metadata": {},
   "outputs": [],
   "source": [
    "feats_ = get_feature_array_(tweets)"
   ]
  },
  {
   "cell_type": "code",
   "execution_count": 229,
   "metadata": {},
   "outputs": [
    {
     "data": {
      "text/plain": [
       "14"
      ]
     },
     "execution_count": 229,
     "metadata": {},
     "output_type": "execute_result"
    }
   ],
   "source": [
    "len(feats_[0,:])"
   ]
  },
  {
   "cell_type": "code",
   "execution_count": 230,
   "metadata": {},
   "outputs": [
    {
     "data": {
      "text/plain": [
       "14"
      ]
     },
     "execution_count": 230,
     "metadata": {},
     "output_type": "execute_result"
    }
   ],
   "source": [
    "len(X_[0,174:])"
   ]
  },
  {
   "cell_type": "code",
   "execution_count": 231,
   "metadata": {},
   "outputs": [
    {
     "data": {
      "text/plain": [
       "array([[ True,  True,  True, ...,  True,  True,  True],\n",
       "       [ True,  True,  True, ...,  True,  True,  True],\n",
       "       [ True,  True,  True, ...,  True,  True,  True],\n",
       "       ...,\n",
       "       [ True,  True,  True, ...,  True,  True,  True],\n",
       "       [ True,  True,  True, ...,  True,  True,  True],\n",
       "       [ True,  True,  True, ...,  True,  True,  True]])"
      ]
     },
     "execution_count": 231,
     "metadata": {},
     "output_type": "execute_result"
    }
   ],
   "source": [
    "feats_[:,:] == X_[:,174:]"
   ]
  },
  {
   "cell_type": "markdown",
   "metadata": {},
   "source": [
    " # Now that we have put it all together using a simplified process we can assess if these new data return the same answers."
   ]
  },
  {
   "cell_type": "code",
   "execution_count": 232,
   "metadata": {},
   "outputs": [],
   "source": [
    "M_ = np.concatenate([tfidffinal, pos_, feats_],axis=1)"
   ]
  },
  {
   "cell_type": "code",
   "execution_count": 233,
   "metadata": {},
   "outputs": [
    {
     "data": {
      "text/plain": [
       "(24783, 188)"
      ]
     },
     "execution_count": 233,
     "metadata": {},
     "output_type": "execute_result"
    }
   ],
   "source": [
    "M_.shape"
   ]
  },
  {
   "cell_type": "code",
   "execution_count": 234,
   "metadata": {},
   "outputs": [],
   "source": [
    "X__ = pd.DataFrame(M_)"
   ]
  },
  {
   "cell_type": "code",
   "execution_count": 235,
   "metadata": {},
   "outputs": [],
   "source": [
    "y_preds_ = model.predict(X__)"
   ]
  },
  {
   "cell_type": "code",
   "execution_count": 236,
   "metadata": {},
   "outputs": [],
   "source": [
    "report = classification_report( y, y_preds_ )"
   ]
  },
  {
   "cell_type": "code",
   "execution_count": 237,
   "metadata": {},
   "outputs": [
    {
     "name": "stdout",
     "output_type": "stream",
     "text": [
      "              precision    recall  f1-score   support\n",
      "\n",
      "           0       0.46      0.56      0.51      1430\n",
      "           1       0.97      0.91      0.94     19190\n",
      "           2       0.80      0.96      0.87      4163\n",
      "\n",
      "    accuracy                           0.90     24783\n",
      "   macro avg       0.74      0.81      0.77     24783\n",
      "weighted avg       0.91      0.90      0.90     24783\n",
      "\n"
     ]
    }
   ],
   "source": [
    "print(report)"
   ]
  },
  {
   "cell_type": "code",
   "execution_count": null,
   "metadata": {},
   "outputs": [],
   "source": []
  },
  {
   "cell_type": "code",
   "execution_count": null,
   "metadata": {},
   "outputs": [],
   "source": []
  },
  {
   "cell_type": "code",
   "execution_count": null,
   "metadata": {},
   "outputs": [],
   "source": []
  },
  {
   "cell_type": "markdown",
   "metadata": {},
   "source": [
    "# Using grid search"
   ]
  },
  {
   "cell_type": "code",
   "execution_count": 119,
   "metadata": {},
   "outputs": [],
   "source": [
    "from sklearn.model_selection import StratifiedKFold, GridSearchCV\n",
    "from sklearn.pipeline import Pipeline"
   ]
  },
  {
   "cell_type": "code",
   "execution_count": 25,
   "metadata": {},
   "outputs": [],
   "source": [
    "pipe = Pipeline(\n",
    "        [('select', SelectFromModel(LogisticRegression(class_weight='balanced',\n",
    "                                                  penalty=\"l1\", C=0.01))),\n",
    "        ('model', LogisticRegression(class_weight='balanced',penalty='l2'))])"
   ]
  },
  {
   "cell_type": "code",
   "execution_count": 26,
   "metadata": {},
   "outputs": [],
   "source": [
    "param_grid = [{}] # Optionally add parameters here"
   ]
  },
  {
   "cell_type": "code",
   "execution_count": 27,
   "metadata": {},
   "outputs": [],
   "source": [
    "grid_search = GridSearchCV(pipe, \n",
    "                           param_grid,\n",
    "                           cv=StratifiedKFold(n_splits=5, \n",
    "                                              random_state=42).split(X_train, y_train), \n",
    "                           verbose=2)"
   ]
  },
  {
   "cell_type": "code",
   "execution_count": 28,
   "metadata": {
    "scrolled": true
   },
   "outputs": [
    {
     "name": "stdout",
     "output_type": "stream",
     "text": [
      "Fitting 5 folds for each of 1 candidates, totalling 5 fits\n",
      "[CV]  ................................................................\n"
     ]
    },
    {
     "name": "stderr",
     "output_type": "stream",
     "text": [
      "[Parallel(n_jobs=1)]: Using backend SequentialBackend with 1 concurrent workers.\n"
     ]
    },
    {
     "name": "stdout",
     "output_type": "stream",
     "text": [
      "[CV] ................................................. , total=  14.4s\n",
      "[CV]  ................................................................\n"
     ]
    },
    {
     "name": "stderr",
     "output_type": "stream",
     "text": [
      "[Parallel(n_jobs=1)]: Done   1 out of   1 | elapsed:   14.4s remaining:    0.0s\n"
     ]
    },
    {
     "name": "stdout",
     "output_type": "stream",
     "text": [
      "[CV] ................................................. , total=  10.2s\n",
      "[CV]  ................................................................\n",
      "[CV] ................................................. , total=   8.7s\n",
      "[CV]  ................................................................\n",
      "[CV] ................................................. , total=   8.7s\n",
      "[CV]  ................................................................\n",
      "[CV] ................................................. , total=  10.7s\n"
     ]
    },
    {
     "name": "stderr",
     "output_type": "stream",
     "text": [
      "[Parallel(n_jobs=1)]: Done   5 out of   5 | elapsed:   53.0s finished\n"
     ]
    }
   ],
   "source": [
    "model = grid_search.fit(X_train, y_train)"
   ]
  },
  {
   "cell_type": "code",
   "execution_count": 29,
   "metadata": {},
   "outputs": [],
   "source": [
    "y_preds = model.predict(X_test)"
   ]
  },
  {
   "cell_type": "code",
   "execution_count": 34,
   "metadata": {},
   "outputs": [
    {
     "data": {
      "text/plain": [
       "array([1, 2, 1, ..., 2, 1, 1])"
      ]
     },
     "execution_count": 34,
     "metadata": {},
     "output_type": "execute_result"
    }
   ],
   "source": [
    "y_preds"
   ]
  },
  {
   "cell_type": "code",
   "execution_count": 37,
   "metadata": {},
   "outputs": [],
   "source": []
  },
  {
   "cell_type": "markdown",
   "metadata": {},
   "source": [
    "## Evaluating the results"
   ]
  },
  {
   "cell_type": "code",
   "execution_count": 35,
   "metadata": {},
   "outputs": [],
   "source": [
    "report = classification_report( y_test, y_preds )"
   ]
  },
  {
   "cell_type": "markdown",
   "metadata": {},
   "source": [
    "***Note: Results in paper are from best model retrained on the entire dataset (see the other notebook). Here the results are reported after using cross-validation and only for the held-out set.***"
   ]
  },
  {
   "cell_type": "code",
   "execution_count": 36,
   "metadata": {},
   "outputs": [
    {
     "name": "stdout",
     "output_type": "stream",
     "text": [
      "              precision    recall  f1-score   support\n",
      "\n",
      "           0       0.34      0.44      0.38       154\n",
      "           1       0.93      0.88      0.91      1907\n",
      "           2       0.70      0.82      0.75       418\n",
      "\n",
      "    accuracy                           0.84      2479\n",
      "   macro avg       0.66      0.71      0.68      2479\n",
      "weighted avg       0.86      0.84      0.85      2479\n",
      "\n"
     ]
    }
   ],
   "source": [
    "print(report)"
   ]
  },
  {
   "cell_type": "code",
   "execution_count": 139,
   "metadata": {},
   "outputs": [
    {
     "data": {
      "image/png": "[encoded data removed]",
      "text/plain": [
       "<Figure size 360x360 with 1 Axes>"
      ]
     },
     "metadata": {
      "needs_background": "light"
     },
     "output_type": "display_data"
    }
   ],
   "source": [
    "from sklearn.metrics import confusion_matrix\n",
    "confusion_matrix = confusion_matrix(y_test,y_preds)\n",
    "matrix_proportions = np.zeros((3,3))\n",
    "for i in range(0,3):\n",
    "    matrix_proportions[i,:] = confusion_matrix[i,:]/float(confusion_matrix[i,:].sum())\n",
    "names=['Hate','Offensive','Neither']\n",
    "confusion_df = pd.DataFrame(matrix_proportions, index=names,columns=names)\n",
    "plt.figure(figsize=(5,5))\n",
    "seaborn.heatmap(confusion_df,annot=True,annot_kws={\"size\": 12},cmap='gist_gray_r',cbar=False, square=True,fmt='.2f')\n",
    "plt.ylabel(r'True categories',fontsize=14)\n",
    "plt.xlabel(r'Predicted categories',fontsize=14)\n",
    "plt.tick_params(labelsize=12)\n",
    "\n",
    "#Uncomment line below if you want to save the output\n",
    "plt.savefig('confusion.pdf')"
   ]
  },
  {
   "cell_type": "code",
   "execution_count": 140,
   "metadata": {},
   "outputs": [
    {
     "data": {
      "text/plain": [
       "<matplotlib.axes._subplots.AxesSubplot at 0x244ee6b0208>"
      ]
     },
     "execution_count": 140,
     "metadata": {},
     "output_type": "execute_result"
    },
    {
     "data": {
      "image/png": "[encoded data removed]",
      "text/plain": [
       "<Figure size 432x288 with 1 Axes>"
      ]
     },
     "metadata": {
      "needs_background": "light"
     },
     "output_type": "display_data"
    }
   ],
   "source": [
    "#True distribution\n",
    "y.hist()"
   ]
  },
  {
   "cell_type": "code",
   "execution_count": 141,
   "metadata": {},
   "outputs": [
    {
     "data": {
      "text/plain": [
       "<matplotlib.axes._subplots.AxesSubplot at 0x244edb949e8>"
      ]
     },
     "execution_count": 141,
     "metadata": {},
     "output_type": "execute_result"
    },
    {
     "data": {
      "image/png": "[encoded data removed]",
      "text/plain": [
       "<Figure size 432x288 with 1 Axes>"
      ]
     },
     "metadata": {
      "needs_background": "light"
     },
     "output_type": "display_data"
    }
   ],
   "source": [
    "pd.Series(y_preds).hist()"
   ]
  },
  {
   "cell_type": "code",
   "execution_count": 142,
   "metadata": {},
   "outputs": [
    {
     "name": "stdout",
     "output_type": "stream",
     "text": [
      "              precision    recall  f1-score   support\n",
      "\n",
      "           0       0.38      0.57      0.45       144\n",
      "           1       0.97      0.90      0.93      1932\n",
      "           2       0.82      0.94      0.88       403\n",
      "\n",
      "    accuracy                           0.89      2479\n",
      "   macro avg       0.72      0.80      0.75      2479\n",
      "weighted avg       0.91      0.89      0.90      2479\n",
      "\n"
     ]
    }
   ],
   "source": [
    "print(report)"
   ]
  },
  {
   "cell_type": "code",
   "execution_count": 143,
   "metadata": {},
   "outputs": [
    {
     "data": {
      "text/html": [
       "<div>\n",
       "<style scoped>\n",
       "    .dataframe tbody tr th:only-of-type {\n",
       "        vertical-align: middle;\n",
       "    }\n",
       "\n",
       "    .dataframe tbody tr th {\n",
       "        vertical-align: top;\n",
       "    }\n",
       "\n",
       "    .dataframe thead th {\n",
       "        text-align: right;\n",
       "    }\n",
       "</style>\n",
       "<table border=\"1\" class=\"dataframe\">\n",
       "  <thead>\n",
       "    <tr style=\"text-align: right;\">\n",
       "      <th></th>\n",
       "      <th>Hate</th>\n",
       "      <th>Offensive</th>\n",
       "      <th>Neither</th>\n",
       "    </tr>\n",
       "  </thead>\n",
       "  <tbody>\n",
       "    <tr>\n",
       "      <th>Hate</th>\n",
       "      <td>0.569444</td>\n",
       "      <td>0.340278</td>\n",
       "      <td>0.090278</td>\n",
       "    </tr>\n",
       "    <tr>\n",
       "      <th>Offensive</th>\n",
       "      <td>0.063147</td>\n",
       "      <td>0.901139</td>\n",
       "      <td>0.035714</td>\n",
       "    </tr>\n",
       "    <tr>\n",
       "      <th>Neither</th>\n",
       "      <td>0.032258</td>\n",
       "      <td>0.029777</td>\n",
       "      <td>0.937965</td>\n",
       "    </tr>\n",
       "  </tbody>\n",
       "</table>\n",
       "</div>"
      ],
      "text/plain": [
       "               Hate  Offensive   Neither\n",
       "Hate       0.569444   0.340278  0.090278\n",
       "Offensive  0.063147   0.901139  0.035714\n",
       "Neither    0.032258   0.029777  0.937965"
      ]
     },
     "execution_count": 143,
     "metadata": {},
     "output_type": "execute_result"
    }
   ],
   "source": [
    "confusion_df"
   ]
  },
  {
   "cell_type": "code",
   "execution_count": 146,
   "metadata": {},
   "outputs": [],
   "source": [
    "from xgboost import XGBClassifier"
   ]
  },
  {
   "cell_type": "code",
   "execution_count": 147,
   "metadata": {},
   "outputs": [
    {
     "data": {
      "text/plain": [
       "XGBClassifier(base_score=0.5, booster='gbtree', colsample_bylevel=1,\n",
       "              colsample_bynode=1, colsample_bytree=1, gamma=0,\n",
       "              learning_rate=0.1, max_delta_step=0, max_depth=3,\n",
       "              min_child_weight=1, missing=None, n_estimators=100, n_jobs=1,\n",
       "              nthread=None, objective='multi:softprob', random_state=0,\n",
       "              reg_alpha=0, reg_lambda=1, scale_pos_weight=1, seed=None,\n",
       "              silent=None, subsample=1, verbosity=1)"
      ]
     },
     "execution_count": 147,
     "metadata": {},
     "output_type": "execute_result"
    }
   ],
   "source": [
    "model = XGBClassifier()\n",
    "model.fit(X_train, y_train)"
   ]
  },
  {
   "cell_type": "code",
   "execution_count": 169,
   "metadata": {},
   "outputs": [],
   "source": [
    "y_pred = model.predict(X_test)\n",
    "predictions = [round(value) for value in y_pred]"
   ]
  },
  {
   "cell_type": "code",
   "execution_count": 170,
   "metadata": {},
   "outputs": [
    {
     "name": "stdout",
     "output_type": "stream",
     "text": [
      "Accuracy: 89.35%\n"
     ]
    }
   ],
   "source": [
    "from sklearn.metrics import accuracy_score\n",
    "\n",
    "accuracy = accuracy_score(y_test, predictions)\n",
    "print(\"Accuracy: %.2f%%\" % (accuracy * 100.0))"
   ]
  },
  {
   "cell_type": "code",
   "execution_count": 171,
   "metadata": {},
   "outputs": [
    {
     "data": {
      "image/png": "[encoded data removed]",
      "text/plain": [
       "<Figure size 360x360 with 1 Axes>"
      ]
     },
     "metadata": {
      "needs_background": "light"
     },
     "output_type": "display_data"
    }
   ],
   "source": [
    "from sklearn.metrics import confusion_matrix\n",
    "confusion_matrix = confusion_matrix(y_test,predictions)\n",
    "matrix_proportions = np.zeros((3,3))\n",
    "for i in range(0,3):\n",
    "    matrix_proportions[i,:] = confusion_matrix[i,:]/float(confusion_matrix[i,:].sum())\n",
    "names=['Hate','Offensive','Neither']\n",
    "confusion_df = pd.DataFrame(matrix_proportions, index=names,columns=names)\n",
    "plt.figure(figsize=(5,5))\n",
    "seaborn.heatmap(confusion_df,annot=True,annot_kws={\"size\": 12},cmap='gist_gray_r',cbar=False, square=True,fmt='.2f')\n",
    "plt.ylabel(r'True categories',fontsize=14)\n",
    "plt.xlabel(r'Predicted categories',fontsize=14)\n",
    "plt.tick_params(labelsize=12)\n",
    "\n",
    "#Uncomment line below if you want to save the output\n",
    "plt.savefig('confusion.pdf')"
   ]
  },
  {
   "cell_type": "code",
   "execution_count": 172,
   "metadata": {},
   "outputs": [
    {
     "data": {
      "text/html": [
       "<div>\n",
       "<style scoped>\n",
       "    .dataframe tbody tr th:only-of-type {\n",
       "        vertical-align: middle;\n",
       "    }\n",
       "\n",
       "    .dataframe tbody tr th {\n",
       "        vertical-align: top;\n",
       "    }\n",
       "\n",
       "    .dataframe thead th {\n",
       "        text-align: right;\n",
       "    }\n",
       "</style>\n",
       "<table border=\"1\" class=\"dataframe\">\n",
       "  <thead>\n",
       "    <tr style=\"text-align: right;\">\n",
       "      <th></th>\n",
       "      <th>Hate</th>\n",
       "      <th>Offensive</th>\n",
       "      <th>Neither</th>\n",
       "    </tr>\n",
       "  </thead>\n",
       "  <tbody>\n",
       "    <tr>\n",
       "      <th>Hate</th>\n",
       "      <td>0.180556</td>\n",
       "      <td>0.680556</td>\n",
       "      <td>0.138889</td>\n",
       "    </tr>\n",
       "    <tr>\n",
       "      <th>Offensive</th>\n",
       "      <td>0.013975</td>\n",
       "      <td>0.944617</td>\n",
       "      <td>0.041408</td>\n",
       "    </tr>\n",
       "    <tr>\n",
       "      <th>Neither</th>\n",
       "      <td>0.000000</td>\n",
       "      <td>0.096774</td>\n",
       "      <td>0.903226</td>\n",
       "    </tr>\n",
       "  </tbody>\n",
       "</table>\n",
       "</div>"
      ],
      "text/plain": [
       "               Hate  Offensive   Neither\n",
       "Hate       0.180556   0.680556  0.138889\n",
       "Offensive  0.013975   0.944617  0.041408\n",
       "Neither    0.000000   0.096774  0.903226"
      ]
     },
     "execution_count": 172,
     "metadata": {},
     "output_type": "execute_result"
    }
   ],
   "source": [
    "confusion_df"
   ]
  },
  {
   "cell_type": "code",
   "execution_count": 175,
   "metadata": {},
   "outputs": [],
   "source": [
    "report = classification_report( y_test, predictions )"
   ]
  },
  {
   "cell_type": "code",
   "execution_count": 176,
   "metadata": {},
   "outputs": [
    {
     "name": "stdout",
     "output_type": "stream",
     "text": [
      "              precision    recall  f1-score   support\n",
      "\n",
      "           0       0.49      0.18      0.26       144\n",
      "           1       0.93      0.94      0.94      1932\n",
      "           2       0.78      0.90      0.84       403\n",
      "\n",
      "    accuracy                           0.89      2479\n",
      "   macro avg       0.74      0.68      0.68      2479\n",
      "weighted avg       0.88      0.89      0.88      2479\n",
      "\n"
     ]
    }
   ],
   "source": [
    "print(report)"
   ]
  },
  {
   "cell_type": "code",
   "execution_count": null,
   "metadata": {},
   "outputs": [],
   "source": []
  }
 ],
 "metadata": {
  "kernelspec": {
   "display_name": "Python 3",
   "language": "python",
   "name": "python3"
  },
  "language_info": {
   "codemirror_mode": {
    "name": "ipython",
    "version": 3
   },
   "file_extension": ".py",
   "mimetype": "text/x-python",
   "name": "python",
   "nbconvert_exporter": "python",
   "pygments_lexer": "ipython3",
   "version": "3.7.3"
  }
 },
 "nbformat": 4,
 "nbformat_minor": 2
}
