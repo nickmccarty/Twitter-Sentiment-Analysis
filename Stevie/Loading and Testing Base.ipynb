{
 "cells": [
  {
   "cell_type": "code",
   "execution_count": 1,
   "metadata": {},
   "outputs": [
    {
     "name": "stderr",
     "output_type": "stream",
     "text": [
      "[nltk_data] Downloading package stopwords to\n",
      "[nltk_data]     /Users/stephengriggs/nltk_data...\n",
      "[nltk_data]   Package stopwords is already up-to-date!\n"
     ]
    },
    {
     "data": {
      "text/plain": [
       "True"
      ]
     },
     "execution_count": 1,
     "metadata": {},
     "output_type": "execute_result"
    }
   ],
   "source": [
    "import pickle\n",
    "import numpy as np\n",
    "import pandas as pd\n",
    "from sklearn.externals import joblib\n",
    "from sklearn.svm import LinearSVC\n",
    "from sklearn.linear_model import LogisticRegression\n",
    "from sklearn.feature_selection import SelectFromModel\n",
    "from sklearn.feature_extraction.text import TfidfVectorizer\n",
    "import nltk\n",
    "from nltk.stem.porter import *\n",
    "import string\n",
    "import re\n",
    "\n",
    "from bs4 import BeautifulSoup\n",
    "from nltk.tokenize import sent_tokenize, word_tokenize\n",
    "\n",
    "from vaderSentiment.vaderSentiment import SentimentIntensityAnalyzer as VS\n",
    "from textstat.textstat import *\n",
    "\n",
    "nltk.download(\"stopwords\")"
   ]
  },
  {
   "cell_type": "code",
   "execution_count": 2,
   "metadata": {},
   "outputs": [],
   "source": [
    "stopwords=stopwords = nltk.corpus.stopwords.words(\"english\")\n",
    "\n",
    "other_exclusions = [\"#ff\", \"ff\", \"rt\"]\n",
    "stopwords.extend(other_exclusions)"
   ]
  },
  {
   "cell_type": "code",
   "execution_count": 3,
   "metadata": {},
   "outputs": [],
   "source": [
    "sentiment_analyzer = VS()"
   ]
  },
  {
   "cell_type": "code",
   "execution_count": 4,
   "metadata": {},
   "outputs": [],
   "source": [
    "stemmer = PorterStemmer()"
   ]
  },
  {
   "cell_type": "code",
   "execution_count": 5,
   "metadata": {},
   "outputs": [],
   "source": [
    "# def preprocess(text_string):\n",
    "#     \"\"\"\n",
    "#     Accepts a text string and replaces:\n",
    "#     1) urls with URLHERE\n",
    "#     2) lots of whitespace with one instance\n",
    "#     3) mentions with MENTIONHERE\n",
    "\n",
    "#     This allows us to get standardized counts of urls and mentions\n",
    "#     Without caring about specific people mentioned\n",
    "#     \"\"\"\n",
    "#     space_pattern = '\\s+'\n",
    "#     giant_url_regex = ('http[s]?://(?:[a-zA-Z]|[0-9]|[$-_@.&+]|'\n",
    "#         '[!*\\(\\),]|(?:%[0-9a-fA-F][0-9a-fA-F]))+')\n",
    "#     mention_regex = '@[\\w\\-]+'\n",
    "#     parsed_text = re.sub(space_pattern, ' ', text_string)\n",
    "#     parsed_text = re.sub(giant_url_regex, 'URLHERE', parsed_text)\n",
    "#     parsed_text = re.sub(mention_regex, 'MENTIONHERE', parsed_text)\n",
    "#     # parsed_text = parsed_text.code(\"utf-8\", errors='ignore')\n",
    "#     return parsed_text\n",
    "\n",
    "\n",
    "## Omari's version\n",
    "def preprocess(text_string):\n",
    "    \"\"\"\n",
    "    Accepts a text string and replaces:\n",
    "    1) urls with URLHERE\n",
    "    2) lots of whitespace with one instance\n",
    "    3) mentions with MENTIONHERE\n",
    "    This allows us to get standardized counts of urls and mentions\n",
    "    Without caring about specific people mentioned\n",
    "    \"\"\"\n",
    "    space_pattern = '\\s+'\n",
    "    giant_url_regex = ('http[s]?://(?:[a-zA-Z]|[0-9]|[$-_@.&+]|'\n",
    "       '[!*\\(\\),]|(?:%[0-9a-fA-F][0-9a-fA-F]))+')\n",
    "    mention_regex = '@[\\w\\-\\:]+' #<<<<<<added the semicolon after the + to remove : at end of Rt's\n",
    "    emoji_regex = '&#[0-9\\;\\:]+'    #<<<<<<<<<remove emoji's .ex; &#1214324\n",
    "    parsed_text = re.sub(space_pattern, ' ', text_string)\n",
    "    parsed_text = re.sub(giant_url_regex, '', parsed_text)\n",
    "    parsed_text = re.sub(mention_regex, '', parsed_text)\n",
    "    parsed_text = re.sub(emoji_regex,'',parsed_text)\n",
    "    parsed_text = parsed_text.strip(string.punctuation)\n",
    "    return parsed_text\n",
    "\n"
   ]
  },
  {
   "cell_type": "code",
   "execution_count": 6,
   "metadata": {},
   "outputs": [],
   "source": [
    "# def tokenize(tweet):\n",
    "#     \"\"\"Removes punctuation & excess whitespace, sets to lowercase,\n",
    "#     and stems tweets. Returns a list of stemmed tokens.\"\"\"\n",
    "#     tweet = \" \".join(re.split(\"[^a-zA-Z]*\", tweet.lower())).strip()\n",
    "#     #tokens = re.split(\"[^a-zA-Z]*\", tweet.lower())\n",
    "#     tokens = [stemmer.stem(t) for t in tweet.split()]\n",
    "#     return tokens\n",
    "\n",
    "\n",
    "## Omari's Version\n",
    "def tokenize(tweet):\n",
    "    \"\"\"Removes punctuation & excess whitespace, sets to lowercase,\n",
    "    and stems tweets. Returns a list of stemmed tokens.\"\"\"\n",
    "    tweet = \" \".join(re.split('\\s|(?<!\\d)[,.]|[,.](?!\\d)', tweet.lower())).strip()\n",
    "    tokens = [stemmer.stem(t) for t in tweet.split()]\n",
    "    return tokens\n",
    "\n",
    "\n",
    "## Kelly's Version\n",
    "# def tokenize(tweet):\n",
    "#     tokens = []\n",
    "#     # remove non-alphabetic characters\n",
    "#     tweet_text = tweet_text = re.sub(\"[^a-zA-Z]\",\" \", str(tweet))\n",
    "#     #remove html content\n",
    "#     tweet_text = BeautifulSoup(tweet_text).get_text()\n",
    "#     # tokenize\n",
    "#     words = word_tokenize(tweet_text.lower())\n",
    "#     # lemmatize each word to its lemma\n",
    "#     lemma_words = [lemmatizer.lemmatize(i) for i in words]\n",
    "#     tokens.append(lemma_words)\n",
    "#     return(tokens[0])"
   ]
  },
  {
   "cell_type": "code",
   "execution_count": 7,
   "metadata": {},
   "outputs": [],
   "source": [
    "def basic_tokenize(tweet):\n",
    "    \"\"\"Same as tokenize but without the stemming\"\"\"\n",
    "    tweet = \" \".join(re.split(\"[^a-zA-Z.,!?]*\", tweet.lower())).strip()\n",
    "    return tweet.split()"
   ]
  },
  {
   "cell_type": "code",
   "execution_count": 8,
   "metadata": {},
   "outputs": [],
   "source": [
    "def get_pos_tags(tweets):\n",
    "    \"\"\"Takes a list of strings (tweets) and\n",
    "    returns a list of strings of (POS tags).\n",
    "    \"\"\"\n",
    "    tweet_tags = []\n",
    "    for t in tweets:\n",
    "        tokens = basic_tokenize(preprocess(t))\n",
    "        tags = nltk.pos_tag(tokens)\n",
    "        tag_list = [x[1] for x in tags]\n",
    "        #for i in range(0, len(tokens)):\n",
    "        tag_str = \" \".join(tag_list)\n",
    "        tweet_tags.append(tag_str)\n",
    "    return tweet_tags"
   ]
  },
  {
   "cell_type": "code",
   "execution_count": 9,
   "metadata": {},
   "outputs": [],
   "source": [
    "def count_twitter_objs(text_string):\n",
    "    \"\"\"\n",
    "    Accepts a text string and replaces:\n",
    "    1) urls with URLHERE\n",
    "    2) lots of whitespace with one instance\n",
    "    3) mentions with MENTIONHERE\n",
    "    4) hashtags with HASHTAGHERE\n",
    "\n",
    "    This allows us to get standardized counts of urls and mentions\n",
    "    Without caring about specific people mentioned.\n",
    "\n",
    "    Returns counts of urls, mentions, and hashtags.\n",
    "    \"\"\"\n",
    "    space_pattern = '\\s+'\n",
    "    giant_url_regex = ('http[s]?://(?:[a-zA-Z]|[0-9]|[$-_@.&+]|'\n",
    "        '[!*\\(\\),]|(?:%[0-9a-fA-F][0-9a-fA-F]))+')\n",
    "    mention_regex = '@[\\w\\-]+'\n",
    "    hashtag_regex = '#[\\w\\-]+'\n",
    "    parsed_text = re.sub(space_pattern, ' ', text_string)\n",
    "    parsed_text = re.sub(giant_url_regex, 'URLHERE', parsed_text)\n",
    "    parsed_text = re.sub(mention_regex, 'MENTIONHERE', parsed_text)\n",
    "    parsed_text = re.sub(hashtag_regex, 'HASHTAGHERE', parsed_text)\n",
    "    return(parsed_text.count('URLHERE'),parsed_text.count('MENTIONHERE'),parsed_text.count('HASHTAGHERE'))"
   ]
  },
  {
   "cell_type": "code",
   "execution_count": 10,
   "metadata": {},
   "outputs": [],
   "source": [
    "# def other_features_(tweet):\n",
    "#     \"\"\"This function takes a string and returns a list of features.\n",
    "#     These include Sentiment scores, Text and Readability scores,\n",
    "#     as well as Twitter specific features.\n",
    "\n",
    "#     This is modified to only include those features in the final\n",
    "#     model.\"\"\"\n",
    "\n",
    "#     sentiment = sentiment_analyzer.polarity_scores(tweet)\n",
    "\n",
    "#     words = preprocess(tweet) #Get text only\n",
    "\n",
    "#     syllables = textstat.syllable_count(words) #count syllables in words\n",
    "#     num_chars = sum(len(w) for w in words) #num chars in words\n",
    "#     num_chars_total = len(tweet)\n",
    "#     num_terms = len(tweet.split())\n",
    "#     num_words = len(words.split())\n",
    "#     avg_syl = round(float((syllables+0.001))/float(num_words+0.001),4)\n",
    "#     num_unique_terms = len(set(words.split()))\n",
    "\n",
    "#     ###Modified FK grade, where avg words per sentence is just num words/1\n",
    "#     FKRA = round(float(0.39 * float(num_words)/1.0) + float(11.8 * avg_syl) - 15.59,1)\n",
    "#     ##Modified FRE score, where sentence fixed to 1\n",
    "#     FRE = round(206.835 - 1.015*(float(num_words)/1.0) - (84.6*float(avg_syl)),2)\n",
    "\n",
    "#     twitter_objs = count_twitter_objs(tweet) #Count #, @, and http://\n",
    "#     features = [FKRA, FRE, syllables, num_chars, num_chars_total, num_terms, num_words,\n",
    "#                 num_unique_terms, sentiment['compound'],\n",
    "#                 twitter_objs[2], twitter_objs[1],]\n",
    "#     #features = pandas.DataFrame(features)\n",
    "#     return features\n",
    "\n",
    "\n",
    "\n",
    "\n",
    "def other_features_(tweet):\n",
    "    \"\"\"This function takes a string and returns a list of features.\n",
    "    These include Sentiment scores, Text and Readability scores,\n",
    "    as well as Twitter specific features\"\"\"\n",
    "    ##SENTIMENT\n",
    "    sentiment = sentiment_analyzer.polarity_scores(tweet)\n",
    "    \n",
    "    words = preprocess(tweet) #Get text only\n",
    "    \n",
    "    syllables = textstat.syllable_count(words) #count syllables in words\n",
    "    num_chars = sum(len(w) for w in words) #num chars in words\n",
    "    num_chars_total = len(tweet)\n",
    "    num_terms = len(tweet.split())\n",
    "    num_words = len(words.split())\n",
    "    avg_syl = round(float((syllables+0.001))/float(num_words+0.001),4)\n",
    "    num_unique_terms = len(set(words.split()))\n",
    "    \n",
    "    ###Modified FK grade, where avg words per sentence is just num words/1\n",
    "    FKRA = round(float(0.39 * float(num_words)/1.0) + float(11.8 * avg_syl) - 15.59,1)\n",
    "    ##Modified FRE score, where sentence fixed to 1\n",
    "    FRE = round(206.835 - 1.015*(float(num_words)/1.0) - (84.6*float(avg_syl)),2)\n",
    "    \n",
    "    twitter_objs = count_twitter_objs(tweet) #Count #, @, and http://\n",
    "    features = [FKRA,\n",
    "                FRE,\n",
    "                syllables,\n",
    "                avg_syl,\n",
    "                num_chars,\n",
    "                num_chars_total,\n",
    "                num_terms,\n",
    "                num_words,\n",
    "                num_unique_terms,\n",
    "                sentiment['neu'],\n",
    "                sentiment['compound'],\n",
    "                twitter_objs[2],\n",
    "                twitter_objs[1],\n",
    "                twitter_objs[0]]\n",
    "\n",
    "    #features = pandas.DataFrame(features)\n",
    "    \n",
    "    return features"
   ]
  },
  {
   "cell_type": "code",
   "execution_count": 11,
   "metadata": {},
   "outputs": [],
   "source": [
    "def get_oth_features(tweets):\n",
    "    \"\"\"Takes a list of tweets, generates features for\n",
    "    each tweet, and returns a numpy array of tweet x features\"\"\"\n",
    "    feats=[]\n",
    "    for t in tweets:\n",
    "        feats.append(other_features_(t))\n",
    "    return np.array(feats)\n",
    "\n"
   ]
  },
  {
   "cell_type": "code",
   "execution_count": 12,
   "metadata": {},
   "outputs": [],
   "source": [
    "def transform_inputs(tweets, tf_vectorizer, idf_vector, pos_vectorizer):\n",
    "    \"\"\"\n",
    "    This function takes a list of tweets, along with used to\n",
    "    transform the tweets into the format accepted by the model.\n",
    "\n",
    "    Each tweet is decomposed into\n",
    "    (a) An array of TF-IDF scores for a set of n-grams in the tweet.\n",
    "    (b) An array of POS tag sequences in the tweet.\n",
    "    (c) An array of features including sentiment, vocab, and readability.\n",
    "\n",
    "    Returns a pandas dataframe where each row is the set of features\n",
    "    for a tweet. The features are a subset selected using a Logistic\n",
    "    Regression with L1-regularization on the training data.\n",
    "\n",
    "    \"\"\"\n",
    "    tf_array = tf_vectorizer.fit_transform(tweets).toarray()\n",
    "    tfidf_array = tf_array*idf_vector\n",
    "    print(\"Built TF-IDF array\")\n",
    "\n",
    "    pos_tags = get_pos_tags(tweets)\n",
    "    pos_array = pos_vectorizer.fit_transform(pos_tags).toarray()\n",
    "    print(\"Built POS array\")\n",
    "\n",
    "    oth_array = get_oth_features(tweets)\n",
    "    print(\"Built other feature array\")\n",
    "\n",
    "    M = np.concatenate([tfidf_array, pos_array, oth_array],axis=1)\n",
    "    return pd.DataFrame(M)\n"
   ]
  },
  {
   "cell_type": "code",
   "execution_count": 13,
   "metadata": {},
   "outputs": [],
   "source": [
    "def predictions(X, model):\n",
    "    \"\"\"\n",
    "    This function calls the predict function on\n",
    "    the trained model to generated a predicted y\n",
    "    value for each observation.\n",
    "    \"\"\"\n",
    "    print(X.shape)\n",
    "    y_preds = model.predict(X)\n",
    "    return y_preds"
   ]
  },
  {
   "cell_type": "code",
   "execution_count": 14,
   "metadata": {},
   "outputs": [],
   "source": [
    "def class_to_name(class_label):\n",
    "    \"\"\"\n",
    "    This function can be used to map a numeric\n",
    "    feature name to a particular class.\n",
    "    \"\"\"\n",
    "    if class_label == 0:\n",
    "        return \"Hate speech\"\n",
    "    elif class_label == 1:\n",
    "        return \"Offensive language\"\n",
    "    elif class_label == 2:\n",
    "        return \"Neither\"\n",
    "    else:\n",
    "        return \"No label\""
   ]
  },
  {
   "cell_type": "code",
   "execution_count": 15,
   "metadata": {},
   "outputs": [],
   "source": [
    "def get_tweets_predictions(tweets, perform_prints=True):\n",
    "    fixed_tweets = []\n",
    "    for i, t_orig in enumerate(tweets):\n",
    "        s = t_orig\n",
    "        try:\n",
    "            s = s.encode(\"latin1\")\n",
    "        except:\n",
    "            try:\n",
    "                s = s.encode(\"utf-8\")\n",
    "            except:\n",
    "                pass\n",
    "        if type(s) != str:\n",
    "            fixed_tweets.append(str(s, errors=\"ignore\"))\n",
    "        else:\n",
    "            fixed_tweets.append(s)\n",
    "    assert len(tweets) == len(fixed_tweets), \"shouldn't remove any tweets\"\n",
    "    tweets = fixed_tweets\n",
    "    print(len(tweets), \" tweets to classify\")\n",
    "\n",
    "    print(\"Loading trained classifier... \")\n",
    "\n",
    "\n",
    "\n",
    "\n",
    "#     model = joblib.load('py3models/final_mdl.pkl')\n",
    "    model = joblib.load('py3models/final_mdl2.pkl')\n",
    "\n",
    "    print(\"Loading other information...\")\n",
    "#     tf_vectorizer = joblib.load('py3models/final_tfidf.pkl')\n",
    "#     idf_vector = joblib.load('py3models/final_idf.pkl')\n",
    "#     pos_vectorizer = joblib.load('py3models/final_pos.pkl')\n",
    "\n",
    "    tf_vectorizer = joblib.load('py3models/final_tfidf2.pkl')\n",
    "    idf_vector = joblib.load('py3models/final_idf2.pkl')\n",
    "    pos_vectorizer = joblib.load('py3models/final_pos2.pkl')\n",
    "    \n",
    "    \n",
    "    #Load ngram dict\n",
    "    #Load pos dictionary\n",
    "    #Load function to transform data\n",
    "\n",
    "    print(\"Transforming inputs...\")\n",
    "    X = transform_inputs(tweets, tf_vectorizer, idf_vector, pos_vectorizer)\n",
    "\n",
    "    print(\"Running classification model...\")\n",
    "    predicted_class = predictions(X, model)\n",
    "\n",
    "    return predicted_class\n"
   ]
  },
  {
   "cell_type": "code",
   "execution_count": 16,
   "metadata": {},
   "outputs": [
    {
     "name": "stdout",
     "output_type": "stream",
     "text": [
      "29885  tweets to classify\n",
      "Loading trained classifier... \n",
      "Loading other information...\n",
      "Transforming inputs...\n"
     ]
    },
    {
     "name": "stderr",
     "output_type": "stream",
     "text": [
      "/anaconda3/lib/python3.7/site-packages/sklearn/feature_extraction/text.py:301: UserWarning: Your stop_words may be inconsistent with your preprocessing. Tokenizing the stop words generated tokens ['abov', 'ani', 'becaus', 'befor', 'doe', 'dure', 'ha', 'hi', \"it'\", 'onc', 'onli', 'ourselv', \"she'\", \"should'v\", 'themselv', 'thi', 'veri', 'wa', 'whi', \"you'r\", \"you'v\", 'yourselv'] not in stop_words.\n",
      "  'stop_words.' % sorted(inconsistent))\n"
     ]
    },
    {
     "name": "stdout",
     "output_type": "stream",
     "text": [
      "Built TF-IDF array\n",
      "Built POS array\n",
      "Built other feature array\n",
      "Running classification model...\n",
      "(29885, 205)\n"
     ]
    }
   ],
   "source": [
    "df = pd.read_csv('data/trump_tweets2.csv')\n",
    "trump_tweets = df.Text\n",
    "trump_tweets = [x for x in trump_tweets if type(x) == str]\n",
    "trump_predictions = get_tweets_predictions(trump_tweets)"
   ]
  },
  {
   "cell_type": "code",
   "execution_count": 68,
   "metadata": {},
   "outputs": [],
   "source": [
    "# print(\"Printing predicted values: \")\n",
    "# for i,t in enumerate(trump_tweets):\n",
    "#     print(t)\n",
    "#     print(\"----------\")\n",
    "#     print(class_to_name(trump_predictions[i]))\n",
    "#     print(\"------------------------------------\")\n",
    "#     print(\"------------------------------------\")"
   ]
  },
  {
   "cell_type": "code",
   "execution_count": 34,
   "metadata": {},
   "outputs": [
    {
     "data": {
      "text/plain": [
       "numpy.int64"
      ]
     },
     "execution_count": 34,
     "metadata": {},
     "output_type": "execute_result"
    }
   ],
   "source": [
    "type(trump_predictions[0])"
   ]
  },
  {
   "cell_type": "code",
   "execution_count": null,
   "metadata": {},
   "outputs": [],
   "source": []
  },
  {
   "cell_type": "code",
   "execution_count": 52,
   "metadata": {},
   "outputs": [
    {
     "name": "stdout",
     "output_type": "stream",
     "text": [
      "201\n"
     ]
    }
   ],
   "source": [
    "ctr = 0\n",
    "for x in trump_predictions:\n",
    "    if str(x) == '0':\n",
    "        ctr +=1\n",
    "        \n",
    "print(ctr)"
   ]
  },
  {
   "cell_type": "code",
   "execution_count": 61,
   "metadata": {},
   "outputs": [],
   "source": [
    "hate = 0\n",
    "hurtful = 0\n",
    "neither = 0\n",
    "\n",
    "for x in trump_predictions:\n",
    "    if str(x) == '0':\n",
    "        hate +=1\n",
    "    elif str(x) == '1':\n",
    "        hurtful += 1\n",
    "    elif str(x) == '2':\n",
    "        neither += 1"
   ]
  },
  {
   "cell_type": "code",
   "execution_count": 62,
   "metadata": {},
   "outputs": [
    {
     "name": "stdout",
     "output_type": "stream",
     "text": [
      "Hateful tweets: 201; % of total: 0.006725782164965702\n",
      "Hurtful tweets: 500; % of total: 0.016730801405387317\n",
      "Neither tweets: 29184; % of total: 0.9765434164296469\n"
     ]
    }
   ],
   "source": [
    "print(f'Hateful tweets: {hate}; % of total: {hate/(hate+hurtful+neither)}')\n",
    "print(f'Hurtful tweets: {hurtful}; % of total: {hurtful/(hate+hurtful+neither)}')\n",
    "print(f'Neither tweets: {neither}; % of total: {neither/(hate+hurtful+neither)}')"
   ]
  },
  {
   "cell_type": "code",
   "execution_count": 63,
   "metadata": {},
   "outputs": [
    {
     "name": "stdout",
     "output_type": "stream",
     "text": [
      "29885\n"
     ]
    }
   ],
   "source": []
  },
  {
   "cell_type": "code",
   "execution_count": 64,
   "metadata": {},
   "outputs": [
    {
     "name": "stdout",
     "output_type": "stream",
     "text": [
      "29885\n"
     ]
    }
   ],
   "source": []
  },
  {
   "cell_type": "code",
   "execution_count": 73,
   "metadata": {},
   "outputs": [
    {
     "name": "stdout",
     "output_type": "stream",
     "text": [
      "3323  tweets to classify\n",
      "Loading trained classifier... \n",
      "Loading other information...\n",
      "Transforming inputs...\n"
     ]
    },
    {
     "name": "stderr",
     "output_type": "stream",
     "text": [
      "/anaconda3/lib/python3.7/site-packages/sklearn/feature_extraction/text.py:301: UserWarning: Your stop_words may be inconsistent with your preprocessing. Tokenizing the stop words generated tokens ['abov', 'ani', 'becaus', 'befor', 'doe', 'dure', 'ha', 'hi', \"it'\", 'onc', 'onli', 'ourselv', \"she'\", \"should'v\", 'themselv', 'thi', 'veri', 'wa', 'whi', \"you'r\", \"you'v\", 'yourselv'] not in stop_words.\n",
      "  'stop_words.' % sorted(inconsistent))\n"
     ]
    },
    {
     "name": "stdout",
     "output_type": "stream",
     "text": [
      "Built TF-IDF array\n",
      "Built POS array\n",
      "Built other feature array\n",
      "Running classification model...\n",
      "(3323, 205)\n"
     ]
    }
   ],
   "source": [
    "df2 = pd.read_csv('data/tweets.csv')\n",
    "tweets2 = df2.Text\n",
    "tweets2 = [x for x in tweets2 if type(x) == str]\n",
    "tweets2_predictions = get_tweets_predictions(tweets2)"
   ]
  },
  {
   "cell_type": "code",
   "execution_count": 75,
   "metadata": {},
   "outputs": [
    {
     "name": "stdout",
     "output_type": "stream",
     "text": [
      "Hateful tweets: 20; % of total: 0.006018657839301836\n",
      "Hurtful tweets: 46; % of total: 0.013842913030394222\n",
      "Neither tweets: 3257; % of total: 0.9801384291303039\n"
     ]
    }
   ],
   "source": [
    "hate2 = 0\n",
    "hurtful2 = 0\n",
    "neither2 = 0\n",
    "\n",
    "for x in tweets2_predictions:\n",
    "    if str(x) == '0':\n",
    "        hate2 +=1\n",
    "    elif str(x) == '1':\n",
    "        hurtful2 += 1\n",
    "    elif str(x) == '2':\n",
    "        neither2 += 1\n",
    "        \n",
    "        \n",
    "        \n",
    "print(f'Hateful tweets: {hate2}; % of total: {hate2/(hate2+hurtful2+neither2)}')\n",
    "print(f'Hurtful tweets: {hurtful2}; % of total: {hurtful2/(hate2+hurtful2+neither2)}')\n",
    "print(f'Neither tweets: {neither2}; % of total: {neither2/(hate2+hurtful2+neither2)}')"
   ]
  },
  {
   "cell_type": "code",
   "execution_count": 98,
   "metadata": {},
   "outputs": [
    {
     "name": "stdout",
     "output_type": "stream",
     "text": [
      "4  tweets to classify\n",
      "Loading trained classifier... \n",
      "Loading other information...\n",
      "Transforming inputs...\n",
      "Built TF-IDF array\n",
      "Built POS array\n",
      "Built other feature array\n",
      "Running classification model...\n",
      "(4, 205)\n"
     ]
    },
    {
     "name": "stderr",
     "output_type": "stream",
     "text": [
      "/anaconda3/lib/python3.7/site-packages/sklearn/feature_extraction/text.py:301: UserWarning: Your stop_words may be inconsistent with your preprocessing. Tokenizing the stop words generated tokens ['abov', 'ani', 'becaus', 'befor', 'doe', 'dure', 'ha', 'hi', \"it'\", 'onc', 'onli', 'ourselv', \"she'\", \"should'v\", 'themselv', 'thi', 'veri', 'wa', 'whi', \"you'r\", \"you'v\", 'yourselv'] not in stop_words.\n",
      "  'stop_words.' % sorted(inconsistent))\n"
     ]
    },
    {
     "data": {
      "text/plain": [
       "array([1, 2, 2, 1])"
      ]
     },
     "execution_count": 98,
     "metadata": {},
     "output_type": "execute_result"
    }
   ],
   "source": [
    "test_string = [\"Fuck you\",\"asshole\",\"good work\", \"FUCK YOU\"]\n",
    "get_tweets_predictions(test_string)"
   ]
  },
  {
   "cell_type": "code",
   "execution_count": null,
   "metadata": {},
   "outputs": [],
   "source": []
  },
  {
   "cell_type": "code",
   "execution_count": null,
   "metadata": {},
   "outputs": [],
   "source": []
  }
 ],
 "metadata": {
  "kernelspec": {
   "display_name": "Python 3",
   "language": "python",
   "name": "python3"
  },
  "language_info": {
   "codemirror_mode": {
    "name": "ipython",
    "version": 3
   },
   "file_extension": ".py",
   "mimetype": "text/x-python",
   "name": "python",
   "nbconvert_exporter": "python",
   "pygments_lexer": "ipython3",
   "version": "3.7.3"
  }
 },
 "nbformat": 4,
 "nbformat_minor": 2
}
