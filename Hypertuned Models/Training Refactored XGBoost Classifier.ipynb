{
 "cells": [
  {
   "cell_type": "markdown",
   "metadata": {},
   "source": [
    "# Inspired by Davidson et al. 2017. \"Automated Hate Speech Detection and the Problem of Offensive Language\""
   ]
  },
  {
   "cell_type": "code",
   "execution_count": 1,
   "metadata": {},
   "outputs": [],
   "source": [
    "import pandas as pd\n",
    "import numpy as np\n",
    "import pickle\n",
    "import sys\n",
    "from sklearn.feature_extraction.text import TfidfVectorizer\n",
    "import nltk\n",
    "from nltk.stem.porter import *\n",
    "import string\n",
    "import re\n",
    "from vaderSentiment.vaderSentiment import SentimentIntensityAnalyzer as VS\n",
    "from textstat.textstat import *\n",
    "from sklearn.linear_model import LogisticRegression\n",
    "from sklearn.feature_selection import SelectFromModel\n",
    "from sklearn.metrics import classification_report\n",
    "from sklearn.svm import LinearSVC\n",
    "from sklearn.model_selection import GridSearchCV\n",
    "import matplotlib.pyplot as plt\n",
    "import seaborn\n",
    "%matplotlib inline\n",
    "import joblib\n",
    "from joblib import dump, load"
   ]
  },
  {
   "cell_type": "code",
   "execution_count": 2,
   "metadata": {},
   "outputs": [],
   "source": [
    "import warnings\n",
    "warnings.simplefilter(action='ignore', category=FutureWarning)"
   ]
  },
  {
   "cell_type": "code",
   "execution_count": 3,
   "metadata": {},
   "outputs": [
    {
     "name": "stderr",
     "output_type": "stream",
     "text": [
      "[nltk_data] Downloading package averaged_perceptron_tagger to\n",
      "[nltk_data]     C:\\Users\\Nicholas McCarty\\AppData\\Roaming\\nltk_data...\n",
      "[nltk_data]   Package averaged_perceptron_tagger is already up-to-\n",
      "[nltk_data]       date!\n",
      "[nltk_data] Downloading package stopwords to C:\\Users\\Nicholas\n",
      "[nltk_data]     McCarty\\AppData\\Roaming\\nltk_data...\n",
      "[nltk_data]   Package stopwords is already up-to-date!\n"
     ]
    },
    {
     "data": {
      "text/plain": [
       "True"
      ]
     },
     "execution_count": 3,
     "metadata": {},
     "output_type": "execute_result"
    }
   ],
   "source": [
    "nltk.download('averaged_perceptron_tagger')\n",
    "nltk.download(\"stopwords\")"
   ]
  },
  {
   "cell_type": "code",
   "execution_count": 4,
   "metadata": {},
   "outputs": [],
   "source": [
    "stopwords= nltk.corpus.stopwords.words(\"english\")\n",
    "\n",
    "other_exclusions = [\"#ff\", \"ff\", \"rt\"]\n",
    "stopwords.extend(other_exclusions)"
   ]
  },
  {
   "cell_type": "code",
   "execution_count": 5,
   "metadata": {},
   "outputs": [],
   "source": [
    "sentiment_analyzer = VS()"
   ]
  },
  {
   "cell_type": "code",
   "execution_count": 6,
   "metadata": {},
   "outputs": [],
   "source": [
    "stemmer = PorterStemmer()"
   ]
  },
  {
   "cell_type": "markdown",
   "metadata": {},
   "source": [
    "## Loading the data"
   ]
  },
  {
   "cell_type": "code",
   "execution_count": 7,
   "metadata": {},
   "outputs": [],
   "source": [
    "df = pd.read_csv(\"data/labeled_data.csv\")"
   ]
  },
  {
   "cell_type": "code",
   "execution_count": 8,
   "metadata": {},
   "outputs": [],
   "source": [
    "tweets=df.tweet"
   ]
  },
  {
   "cell_type": "markdown",
   "metadata": {},
   "source": [
    "## Feature generation"
   ]
  },
  {
   "cell_type": "code",
   "execution_count": 9,
   "metadata": {},
   "outputs": [],
   "source": [
    "def preprocess(text_string):\n",
    "    \"\"\"\n",
    "    Accepts a text string and replaces:\n",
    "    1) urls with URLHERE\n",
    "    2) lots of whitespace with one instance\n",
    "    3) mentions with MENTIONHERE\n",
    "\n",
    "    This allows us to get standardized counts of urls and mentions\n",
    "    Without caring about specific people mentioned\n",
    "    \"\"\"\n",
    "    space_pattern = '\\s+'\n",
    "    giant_url_regex = ('http[s]?://(?:[a-zA-Z]|[0-9]|[$-_@.&+]|'\n",
    "       '[!*\\(\\),]|(?:%[0-9a-fA-F][0-9a-fA-F]))+')\n",
    "    mention_regex = '@[\\w\\-\\:]+' #<<<<<<added the semicolon after the + to remove : at end of Rt's\n",
    "    emoji_regex = '&#[0-9\\;\\:]+'    #<<<<<<<<<remove emoji's .ex; &#1214324\n",
    "    parsed_text = re.sub(space_pattern, ' ', text_string)\n",
    "    parsed_text = re.sub(giant_url_regex, '', parsed_text)\n",
    "    parsed_text = re.sub(mention_regex, '', parsed_text)\n",
    "    parsed_text = re.sub(emoji_regex,'',parsed_text)\n",
    "    parsed_text = parsed_text.strip(string.punctuation)\n",
    "    return parsed_text\n",
    "\n",
    "def tokenize(tweet):\n",
    "    \"\"\"Removes punctuation & excess whitespace, sets to lowercase,\n",
    "    and stems tweets. Returns a list of stemmed tokens.\"\"\"\n",
    "    tweet = \" \".join(re.split('\\s|(?<!\\d)[,.]|[,.](?!\\d)', tweet.lower())).strip()\n",
    "    tokens = [stemmer.stem(t) for t in tweet.split()]\n",
    "    return tokens\n",
    "\n",
    "def basic_tokenize(tweet):\n",
    "    \"\"\"Same as tokenize but without the stemming\"\"\"\n",
    "    tweet = \" \".join(re.split(\"[^a-zA-Z.,!?]*\", tweet.lower())).strip()\n",
    "    return tweet.split()"
   ]
  },
  {
   "cell_type": "code",
   "execution_count": 10,
   "metadata": {},
   "outputs": [
    {
     "name": "stderr",
     "output_type": "stream",
     "text": [
      "C:\\Users\\Public\\Anaconda3\\lib\\site-packages\\sklearn\\feature_extraction\\text.py:300: UserWarning: Your stop_words may be inconsistent with your preprocessing. Tokenizing the stop words generated tokens ['abov', 'ani', 'becaus', 'befor', 'doe', 'dure', 'ha', 'hi', \"it'\", 'onc', 'onli', 'ourselv', \"she'\", \"should'v\", 'themselv', 'thi', 'veri', 'wa', 'whi', \"you'r\", \"you'v\", 'yourselv'] not in stop_words.\n",
      "  'stop_words.' % sorted(inconsistent))\n"
     ]
    }
   ],
   "source": [
    "vectorizer = TfidfVectorizer(\n",
    "    tokenizer=tokenize,\n",
    "    preprocessor=preprocess,\n",
    "    ngram_range=(1, 3),\n",
    "    stop_words=stopwords,\n",
    "    use_idf=True,\n",
    "    smooth_idf=False,\n",
    "    norm=None,\n",
    "    decode_error='replace',\n",
    "    max_features=10000,\n",
    "    min_df=5,\n",
    "    max_df=0.75\n",
    "    )\n",
    "\n",
    "tfidf = vectorizer.fit_transform(tweets).toarray()\n",
    "vocab = {v:i for i, v in enumerate(vectorizer.get_feature_names())}\n",
    "idf_vals = vectorizer.idf_\n",
    "idf_dict = {i:idf_vals[i] for i in vocab.values()}"
   ]
  },
  {
   "cell_type": "code",
   "execution_count": 11,
   "metadata": {},
   "outputs": [],
   "source": [
    "tweet_tags = []\n",
    "for t in tweets:\n",
    "    tokens = basic_tokenize(preprocess(t))\n",
    "    tags = nltk.pos_tag(tokens)\n",
    "    tag_list = [x[1] for x in tags]\n",
    "    #for i in range(0, len(tokens)):\n",
    "    tag_str = \" \".join(tag_list)\n",
    "    tweet_tags.append(tag_str)"
   ]
  },
  {
   "cell_type": "code",
   "execution_count": 12,
   "metadata": {},
   "outputs": [],
   "source": [
    "#Construct POS TF matrix and get vocab dict\n",
    "\n",
    "pos_vectorizer = TfidfVectorizer(\n",
    "    tokenizer=None,\n",
    "    lowercase=False,\n",
    "    preprocessor=None,\n",
    "    ngram_range=(1, 3),\n",
    "    stop_words=None,\n",
    "    use_idf=False,\n",
    "    smooth_idf=False,\n",
    "    norm=None,\n",
    "    decode_error='replace',\n",
    "    max_features=5000,\n",
    "    min_df=5,\n",
    "    max_df=0.75,\n",
    "    )\n",
    "\n",
    "pos = vectorizer.fit_transform(pd.Series(tweet_tags)).toarray()\n",
    "pos_vocab = {v:i for i, v in enumerate(vectorizer.get_feature_names())}"
   ]
  },
  {
   "cell_type": "code",
   "execution_count": 13,
   "metadata": {},
   "outputs": [],
   "source": [
    "def count_twitter_objs(text_string):\n",
    "    \"\"\"\n",
    "    Accepts a text string and replaces:\n",
    "    1) urls with URLHERE\n",
    "    2) lots of whitespace with one instance\n",
    "    3) mentions with MENTIONHERE\n",
    "    4) hashtags with HASHTAGHERE\n",
    "\n",
    "    This allows us to get standardized counts of urls and mentions\n",
    "    Without caring about specific people mentioned.\n",
    "    \n",
    "    Returns counts of urls, mentions, and hashtags.\n",
    "    \"\"\"\n",
    "    space_pattern = '\\s+'\n",
    "    giant_url_regex = ('http[s]?://(?:[a-zA-Z]|[0-9]|[$-_@.&+]|'\n",
    "        '[!*\\(\\),]|(?:%[0-9a-fA-F][0-9a-fA-F]))+')\n",
    "    mention_regex = '@[\\w\\-]+'\n",
    "    hashtag_regex = '#[\\w\\-]+'\n",
    "    parsed_text = re.sub(space_pattern, ' ', text_string)\n",
    "    parsed_text = re.sub(giant_url_regex, 'URLHERE', parsed_text)\n",
    "    parsed_text = re.sub(mention_regex, 'MENTIONHERE', parsed_text)\n",
    "    parsed_text = re.sub(hashtag_regex, 'HASHTAGHERE', parsed_text)\n",
    "    return(parsed_text.count('URLHERE'),parsed_text.count('MENTIONHERE'),parsed_text.count('HASHTAGHERE'))\n",
    "\n",
    "def other_features(tweet):\n",
    "    \"\"\"This function takes a string and returns a list of features.\n",
    "    These include Sentiment scores, Text and Readability scores,\n",
    "    as well as Twitter specific features\"\"\"\n",
    "    sentiment = sentiment_analyzer.polarity_scores(tweet)\n",
    "    \n",
    "    words = preprocess(tweet) #Get text only\n",
    "    \n",
    "    syllables = textstat.syllable_count(words)\n",
    "    num_chars = sum(len(w) for w in words)\n",
    "    num_chars_total = len(tweet)\n",
    "    num_terms = len(tweet.split())\n",
    "    num_words = len(words.split())\n",
    "    avg_syl = round(float((syllables+0.001))/float(num_words+0.001),4)\n",
    "    num_unique_terms = len(set(words.split()))\n",
    "    \n",
    "    ###Modified FK grade, where avg words per sentence is just num words/1\n",
    "    FKRA = round(float(0.39 * float(num_words)/1.0) + float(11.8 * avg_syl) - 15.59,1)\n",
    "    ##Modified FRE score, where sentence fixed to 1\n",
    "    FRE = round(206.835 - 1.015*(float(num_words)/1.0) - (84.6*float(avg_syl)),2)\n",
    "    \n",
    "    twitter_objs = count_twitter_objs(tweet)\n",
    "    retweet = 0\n",
    "    if \"rt\" in words:\n",
    "        retweet = 1\n",
    "    features = [FKRA, FRE,syllables, avg_syl, num_chars, num_chars_total, num_terms, num_words,\n",
    "                num_unique_terms, sentiment['neg'], sentiment['pos'], sentiment['neu'], sentiment['compound'],\n",
    "                twitter_objs[2], twitter_objs[1],\n",
    "                twitter_objs[0], retweet]\n",
    "    #features = pandas.DataFrame(features)\n",
    "    return features\n",
    "\n",
    "def get_feature_array(tweets):\n",
    "    feats=[]\n",
    "    for t in tweets:\n",
    "        feats.append(other_features(t))\n",
    "    return np.array(feats)"
   ]
  },
  {
   "cell_type": "code",
   "execution_count": 14,
   "metadata": {},
   "outputs": [],
   "source": [
    "other_features_names = [\"FKRA\", \"FRE\",\"num_syllables\", \"avg_syl_per_word\", \"num_chars\", \"num_chars_total\", \\\n",
    "                        \"num_terms\", \"num_words\", \"num_unique_words\", \"vader neg\",\"vader pos\",\"vader neu\", \\\n",
    "                        \"vader compound\", \"num_hashtags\", \"num_mentions\", \"num_urls\", \"is_retweet\"]"
   ]
  },
  {
   "cell_type": "code",
   "execution_count": 15,
   "metadata": {},
   "outputs": [],
   "source": [
    "feats = get_feature_array(tweets)"
   ]
  },
  {
   "cell_type": "code",
   "execution_count": 16,
   "metadata": {},
   "outputs": [],
   "source": [
    "#Now join them all up\n",
    "M = np.concatenate([tfidf,pos,feats],axis=1)"
   ]
  },
  {
   "cell_type": "code",
   "execution_count": 17,
   "metadata": {},
   "outputs": [
    {
     "data": {
      "text/plain": [
       "(24783, 10313)"
      ]
     },
     "execution_count": 17,
     "metadata": {},
     "output_type": "execute_result"
    }
   ],
   "source": [
    "M.shape"
   ]
  },
  {
   "cell_type": "code",
   "execution_count": 18,
   "metadata": {},
   "outputs": [],
   "source": [
    "# #Finally get a list of variable names\n",
    "# variables = ['']*len(vocab)\n",
    "# for k,v in vocab.items():\n",
    "#     variables[v] = k\n",
    "\n",
    "# pos_variables = ['']*len(pos_vocab)\n",
    "# for k,v in pos_vocab.items():\n",
    "#     pos_variables[v] = k\n",
    "\n",
    "# feature_names = variables+pos_variables+other_features_names"
   ]
  },
  {
   "cell_type": "markdown",
   "metadata": {},
   "source": [
    "# Running the model\n",
    "\n",
    "The best model was selected using a GridSearch with 5-fold CV."
   ]
  },
  {
   "cell_type": "code",
   "execution_count": 19,
   "metadata": {},
   "outputs": [],
   "source": [
    "X = pd.DataFrame(M)\n",
    "y = df['class'].astype(int)"
   ]
  },
  {
   "cell_type": "code",
   "execution_count": 20,
   "metadata": {},
   "outputs": [],
   "source": [
    "from sklearn.model_selection import train_test_split"
   ]
  },
  {
   "cell_type": "code",
   "execution_count": 21,
   "metadata": {},
   "outputs": [],
   "source": [
    "X_train, X_test, y_train, y_test = train_test_split(X, y, test_size=0.1)"
   ]
  },
  {
   "cell_type": "code",
   "execution_count": 22,
   "metadata": {},
   "outputs": [],
   "source": [
    "from sklearn.model_selection import StratifiedKFold, GridSearchCV\n",
    "from sklearn.pipeline import Pipeline"
   ]
  },
  {
   "cell_type": "code",
   "execution_count": 23,
   "metadata": {},
   "outputs": [],
   "source": [
    "from xgboost import XGBClassifier"
   ]
  },
  {
   "cell_type": "code",
   "execution_count": 24,
   "metadata": {},
   "outputs": [],
   "source": [
    "pipe =XGBClassifier(n_estimators=100,\n",
    "                    verbosity=1,\n",
    "                    silent=None,\n",
    "                    objective='multi:softmax',\n",
    "                    n_jobs=-1,\n",
    "                    min_child_weight=1,\n",
    "                    colsample_bytree=1,\n",
    "                    colsample_bylevel=1,\n",
    "                    colsample_bynode=1,\n",
    "                    scale_pos_weight=1,\n",
    "                    base_score=0.5,\n",
    "                    random_state=42,\n",
    "                    missing=None)"
   ]
  },
  {
   "cell_type": "code",
   "execution_count": 25,
   "metadata": {},
   "outputs": [],
   "source": [
    "param_grid = [\n",
    "    \n",
    "#   {'C': [.1, 1, 10, 100],\n",
    "#    'penalty': ['l1'],\n",
    "#    'solver': ['saga']},\n",
    "    \n",
    "  {'learning_rate': [.01, .09, .17],\n",
    "   'max_depth': [5],\n",
    "   'booster': [\"gbtree\"],\n",
    "   'subsample': [.75],\n",
    "   'reg_lambda': [.5, 1.5],\n",
    "   'reg_alpha': [.5, 1.5]},\n",
    "    \n",
    "#   {'C': [.1, 1, 10, 100],\n",
    "#    'penalty': ['l1', 'l2'],\n",
    "#    'solver': ['liblinear']},\n",
    "    \n",
    "]"
   ]
  },
  {
   "cell_type": "code",
   "execution_count": 26,
   "metadata": {},
   "outputs": [],
   "source": [
    "grid_search = GridSearchCV(pipe,\n",
    "                           param_grid,\n",
    "                           cv=StratifiedKFold(n_splits=3, \n",
    "                                              random_state=42).split(X_train, y_train),\n",
    "                           verbose=2)"
   ]
  },
  {
   "cell_type": "code",
   "execution_count": 27,
   "metadata": {
    "scrolled": true
   },
   "outputs": [
    {
     "name": "stdout",
     "output_type": "stream",
     "text": [
      "Fitting 3 folds for each of 12 candidates, totalling 36 fits\n",
      "[CV] booster=gbtree, learning_rate=0.01, max_depth=5, reg_alpha=0.5, reg_lambda=0.5, subsample=0.75 \n"
     ]
    },
    {
     "name": "stderr",
     "output_type": "stream",
     "text": [
      "[Parallel(n_jobs=1)]: Using backend SequentialBackend with 1 concurrent workers.\n"
     ]
    },
    {
     "name": "stdout",
     "output_type": "stream",
     "text": [
      "[CV]  booster=gbtree, learning_rate=0.01, max_depth=5, reg_alpha=0.5, reg_lambda=0.5, subsample=0.75, total=13.0min\n"
     ]
    },
    {
     "name": "stderr",
     "output_type": "stream",
     "text": [
      "[Parallel(n_jobs=1)]: Done   1 out of   1 | elapsed: 13.0min remaining:    0.0s\n"
     ]
    },
    {
     "name": "stdout",
     "output_type": "stream",
     "text": [
      "[CV] booster=gbtree, learning_rate=0.01, max_depth=5, reg_alpha=0.5, reg_lambda=0.5, subsample=0.75 \n",
      "[CV]  booster=gbtree, learning_rate=0.01, max_depth=5, reg_alpha=0.5, reg_lambda=0.5, subsample=0.75, total=14.4min\n",
      "[CV] booster=gbtree, learning_rate=0.01, max_depth=5, reg_alpha=0.5, reg_lambda=0.5, subsample=0.75 \n",
      "[CV]  booster=gbtree, learning_rate=0.01, max_depth=5, reg_alpha=0.5, reg_lambda=0.5, subsample=0.75, total=14.0min\n",
      "[CV] booster=gbtree, learning_rate=0.01, max_depth=5, reg_alpha=0.5, reg_lambda=1.5, subsample=0.75 \n",
      "[CV]  booster=gbtree, learning_rate=0.01, max_depth=5, reg_alpha=0.5, reg_lambda=1.5, subsample=0.75, total=14.0min\n",
      "[CV] booster=gbtree, learning_rate=0.01, max_depth=5, reg_alpha=0.5, reg_lambda=1.5, subsample=0.75 \n",
      "[CV]  booster=gbtree, learning_rate=0.01, max_depth=5, reg_alpha=0.5, reg_lambda=1.5, subsample=0.75, total=13.9min\n",
      "[CV] booster=gbtree, learning_rate=0.01, max_depth=5, reg_alpha=0.5, reg_lambda=1.5, subsample=0.75 \n",
      "[CV]  booster=gbtree, learning_rate=0.01, max_depth=5, reg_alpha=0.5, reg_lambda=1.5, subsample=0.75, total=13.9min\n",
      "[CV] booster=gbtree, learning_rate=0.01, max_depth=5, reg_alpha=1.5, reg_lambda=0.5, subsample=0.75 \n",
      "[CV]  booster=gbtree, learning_rate=0.01, max_depth=5, reg_alpha=1.5, reg_lambda=0.5, subsample=0.75, total=14.6min\n",
      "[CV] booster=gbtree, learning_rate=0.01, max_depth=5, reg_alpha=1.5, reg_lambda=0.5, subsample=0.75 \n",
      "[CV]  booster=gbtree, learning_rate=0.01, max_depth=5, reg_alpha=1.5, reg_lambda=0.5, subsample=0.75, total=14.1min\n",
      "[CV] booster=gbtree, learning_rate=0.01, max_depth=5, reg_alpha=1.5, reg_lambda=0.5, subsample=0.75 \n",
      "[CV]  booster=gbtree, learning_rate=0.01, max_depth=5, reg_alpha=1.5, reg_lambda=0.5, subsample=0.75, total=14.0min\n",
      "[CV] booster=gbtree, learning_rate=0.01, max_depth=5, reg_alpha=1.5, reg_lambda=1.5, subsample=0.75 \n",
      "[CV]  booster=gbtree, learning_rate=0.01, max_depth=5, reg_alpha=1.5, reg_lambda=1.5, subsample=0.75, total=13.9min\n",
      "[CV] booster=gbtree, learning_rate=0.01, max_depth=5, reg_alpha=1.5, reg_lambda=1.5, subsample=0.75 \n",
      "[CV]  booster=gbtree, learning_rate=0.01, max_depth=5, reg_alpha=1.5, reg_lambda=1.5, subsample=0.75, total=13.8min\n",
      "[CV] booster=gbtree, learning_rate=0.01, max_depth=5, reg_alpha=1.5, reg_lambda=1.5, subsample=0.75 \n",
      "[CV]  booster=gbtree, learning_rate=0.01, max_depth=5, reg_alpha=1.5, reg_lambda=1.5, subsample=0.75, total=13.8min\n",
      "[CV] booster=gbtree, learning_rate=0.09, max_depth=5, reg_alpha=0.5, reg_lambda=0.5, subsample=0.75 \n",
      "[CV]  booster=gbtree, learning_rate=0.09, max_depth=5, reg_alpha=0.5, reg_lambda=0.5, subsample=0.75, total=13.6min\n",
      "[CV] booster=gbtree, learning_rate=0.09, max_depth=5, reg_alpha=0.5, reg_lambda=0.5, subsample=0.75 \n",
      "[CV]  booster=gbtree, learning_rate=0.09, max_depth=5, reg_alpha=0.5, reg_lambda=0.5, subsample=0.75, total=13.7min\n",
      "[CV] booster=gbtree, learning_rate=0.09, max_depth=5, reg_alpha=0.5, reg_lambda=0.5, subsample=0.75 \n",
      "[CV]  booster=gbtree, learning_rate=0.09, max_depth=5, reg_alpha=0.5, reg_lambda=0.5, subsample=0.75, total=13.9min\n",
      "[CV] booster=gbtree, learning_rate=0.09, max_depth=5, reg_alpha=0.5, reg_lambda=1.5, subsample=0.75 \n",
      "[CV]  booster=gbtree, learning_rate=0.09, max_depth=5, reg_alpha=0.5, reg_lambda=1.5, subsample=0.75, total=14.5min\n",
      "[CV] booster=gbtree, learning_rate=0.09, max_depth=5, reg_alpha=0.5, reg_lambda=1.5, subsample=0.75 \n",
      "[CV]  booster=gbtree, learning_rate=0.09, max_depth=5, reg_alpha=0.5, reg_lambda=1.5, subsample=0.75, total=14.7min\n",
      "[CV] booster=gbtree, learning_rate=0.09, max_depth=5, reg_alpha=0.5, reg_lambda=1.5, subsample=0.75 \n",
      "[CV]  booster=gbtree, learning_rate=0.09, max_depth=5, reg_alpha=0.5, reg_lambda=1.5, subsample=0.75, total=13.6min\n",
      "[CV] booster=gbtree, learning_rate=0.09, max_depth=5, reg_alpha=1.5, reg_lambda=0.5, subsample=0.75 \n",
      "[CV]  booster=gbtree, learning_rate=0.09, max_depth=5, reg_alpha=1.5, reg_lambda=0.5, subsample=0.75, total=13.6min\n",
      "[CV] booster=gbtree, learning_rate=0.09, max_depth=5, reg_alpha=1.5, reg_lambda=0.5, subsample=0.75 \n",
      "[CV]  booster=gbtree, learning_rate=0.09, max_depth=5, reg_alpha=1.5, reg_lambda=0.5, subsample=0.75, total=13.8min\n",
      "[CV] booster=gbtree, learning_rate=0.09, max_depth=5, reg_alpha=1.5, reg_lambda=0.5, subsample=0.75 \n",
      "[CV]  booster=gbtree, learning_rate=0.09, max_depth=5, reg_alpha=1.5, reg_lambda=0.5, subsample=0.75, total=13.8min\n",
      "[CV] booster=gbtree, learning_rate=0.09, max_depth=5, reg_alpha=1.5, reg_lambda=1.5, subsample=0.75 \n",
      "[CV]  booster=gbtree, learning_rate=0.09, max_depth=5, reg_alpha=1.5, reg_lambda=1.5, subsample=0.75, total=14.0min\n",
      "[CV] booster=gbtree, learning_rate=0.09, max_depth=5, reg_alpha=1.5, reg_lambda=1.5, subsample=0.75 \n",
      "[CV]  booster=gbtree, learning_rate=0.09, max_depth=5, reg_alpha=1.5, reg_lambda=1.5, subsample=0.75, total=13.9min\n",
      "[CV] booster=gbtree, learning_rate=0.09, max_depth=5, reg_alpha=1.5, reg_lambda=1.5, subsample=0.75 \n",
      "[CV]  booster=gbtree, learning_rate=0.09, max_depth=5, reg_alpha=1.5, reg_lambda=1.5, subsample=0.75, total=14.4min\n",
      "[CV] booster=gbtree, learning_rate=0.17, max_depth=5, reg_alpha=0.5, reg_lambda=0.5, subsample=0.75 \n",
      "[CV]  booster=gbtree, learning_rate=0.17, max_depth=5, reg_alpha=0.5, reg_lambda=0.5, subsample=0.75, total=13.6min\n",
      "[CV] booster=gbtree, learning_rate=0.17, max_depth=5, reg_alpha=0.5, reg_lambda=0.5, subsample=0.75 \n",
      "[CV]  booster=gbtree, learning_rate=0.17, max_depth=5, reg_alpha=0.5, reg_lambda=0.5, subsample=0.75, total=13.7min\n",
      "[CV] booster=gbtree, learning_rate=0.17, max_depth=5, reg_alpha=0.5, reg_lambda=0.5, subsample=0.75 \n",
      "[CV]  booster=gbtree, learning_rate=0.17, max_depth=5, reg_alpha=0.5, reg_lambda=0.5, subsample=0.75, total=13.8min\n",
      "[CV] booster=gbtree, learning_rate=0.17, max_depth=5, reg_alpha=0.5, reg_lambda=1.5, subsample=0.75 \n",
      "[CV]  booster=gbtree, learning_rate=0.17, max_depth=5, reg_alpha=0.5, reg_lambda=1.5, subsample=0.75, total=13.7min\n",
      "[CV] booster=gbtree, learning_rate=0.17, max_depth=5, reg_alpha=0.5, reg_lambda=1.5, subsample=0.75 \n",
      "[CV]  booster=gbtree, learning_rate=0.17, max_depth=5, reg_alpha=0.5, reg_lambda=1.5, subsample=0.75, total=13.7min\n",
      "[CV] booster=gbtree, learning_rate=0.17, max_depth=5, reg_alpha=0.5, reg_lambda=1.5, subsample=0.75 \n",
      "[CV]  booster=gbtree, learning_rate=0.17, max_depth=5, reg_alpha=0.5, reg_lambda=1.5, subsample=0.75, total=13.6min\n",
      "[CV] booster=gbtree, learning_rate=0.17, max_depth=5, reg_alpha=1.5, reg_lambda=0.5, subsample=0.75 \n",
      "[CV]  booster=gbtree, learning_rate=0.17, max_depth=5, reg_alpha=1.5, reg_lambda=0.5, subsample=0.75, total=13.6min\n",
      "[CV] booster=gbtree, learning_rate=0.17, max_depth=5, reg_alpha=1.5, reg_lambda=0.5, subsample=0.75 \n",
      "[CV]  booster=gbtree, learning_rate=0.17, max_depth=5, reg_alpha=1.5, reg_lambda=0.5, subsample=0.75, total=13.7min\n",
      "[CV] booster=gbtree, learning_rate=0.17, max_depth=5, reg_alpha=1.5, reg_lambda=0.5, subsample=0.75 \n",
      "[CV]  booster=gbtree, learning_rate=0.17, max_depth=5, reg_alpha=1.5, reg_lambda=0.5, subsample=0.75, total=13.6min\n",
      "[CV] booster=gbtree, learning_rate=0.17, max_depth=5, reg_alpha=1.5, reg_lambda=1.5, subsample=0.75 \n",
      "[CV]  booster=gbtree, learning_rate=0.17, max_depth=5, reg_alpha=1.5, reg_lambda=1.5, subsample=0.75, total=13.8min\n",
      "[CV] booster=gbtree, learning_rate=0.17, max_depth=5, reg_alpha=1.5, reg_lambda=1.5, subsample=0.75 \n",
      "[CV]  booster=gbtree, learning_rate=0.17, max_depth=5, reg_alpha=1.5, reg_lambda=1.5, subsample=0.75, total=14.1min\n",
      "[CV] booster=gbtree, learning_rate=0.17, max_depth=5, reg_alpha=1.5, reg_lambda=1.5, subsample=0.75 \n",
      "[CV]  booster=gbtree, learning_rate=0.17, max_depth=5, reg_alpha=1.5, reg_lambda=1.5, subsample=0.75, total=13.7min\n"
     ]
    },
    {
     "name": "stderr",
     "output_type": "stream",
     "text": [
      "[Parallel(n_jobs=1)]: Done  36 out of  36 | elapsed: 499.8min finished\n"
     ]
    }
   ],
   "source": [
    "model = grid_search.fit(X_train, y_train)"
   ]
  },
  {
   "cell_type": "code",
   "execution_count": 28,
   "metadata": {},
   "outputs": [],
   "source": [
    "y_preds = model.predict(X_test)"
   ]
  },
  {
   "cell_type": "markdown",
   "metadata": {},
   "source": [
    "## Evaluating the results"
   ]
  },
  {
   "cell_type": "code",
   "execution_count": 29,
   "metadata": {},
   "outputs": [],
   "source": [
    "report = classification_report( y_test, y_preds )"
   ]
  },
  {
   "cell_type": "markdown",
   "metadata": {},
   "source": [
    "***Note: Results in paper are from best model retrained on the entire dataset (see the other notebook). Here the results are reported after using cross-validation and only for the held-out set.***"
   ]
  },
  {
   "cell_type": "code",
   "execution_count": 30,
   "metadata": {},
   "outputs": [
    {
     "name": "stdout",
     "output_type": "stream",
     "text": [
      "              precision    recall  f1-score   support\n",
      "\n",
      "           0       0.60      0.20      0.30       135\n",
      "           1       0.94      0.95      0.94      1940\n",
      "           2       0.79      0.90      0.84       404\n",
      "\n",
      "    accuracy                           0.90      2479\n",
      "   macro avg       0.77      0.68      0.69      2479\n",
      "weighted avg       0.89      0.90      0.89      2479\n",
      "\n"
     ]
    }
   ],
   "source": [
    "print(report)"
   ]
  },
  {
   "cell_type": "code",
   "execution_count": 31,
   "metadata": {},
   "outputs": [
    {
     "data": {
      "text/plain": [
       "{'booster': 'gbtree',\n",
       " 'learning_rate': 0.17,\n",
       " 'max_depth': 5,\n",
       " 'reg_alpha': 0.5,\n",
       " 'reg_lambda': 0.5,\n",
       " 'subsample': 0.75}"
      ]
     },
     "execution_count": 31,
     "metadata": {},
     "output_type": "execute_result"
    }
   ],
   "source": [
    "model.best_params_"
   ]
  },
  {
   "cell_type": "code",
   "execution_count": 32,
   "metadata": {},
   "outputs": [
    {
     "data": {
      "image/png": "[encoded data removed]",
      "text/plain": [
       "<Figure size 360x360 with 1 Axes>"
      ]
     },
     "metadata": {
      "needs_background": "light"
     },
     "output_type": "display_data"
    }
   ],
   "source": [
    "from sklearn.metrics import confusion_matrix\n",
    "confusion_matrix = confusion_matrix(y_test,y_preds)\n",
    "matrix_proportions = np.zeros((3,3))\n",
    "for i in range(0,3):\n",
    "    matrix_proportions[i,:] = confusion_matrix[i,:]/float(confusion_matrix[i,:].sum())\n",
    "names=['Hate','Offensive','Neither']\n",
    "confusion_df = pd.DataFrame(matrix_proportions, index=names,columns=names)\n",
    "plt.figure(figsize=(5,5))\n",
    "seaborn.heatmap(confusion_df,annot=True,annot_kws={\"size\": 12},cmap='gist_gray_r',cbar=False, square=True,fmt='.2f')\n",
    "plt.ylabel(r'True categories',fontsize=14)\n",
    "plt.xlabel(r'Predicted categories',fontsize=14)\n",
    "plt.tick_params(labelsize=12)\n",
    "\n",
    "#Uncomment line below if you want to save the output\n",
    "# plt.savefig('confusion.pdf')"
   ]
  },
  {
   "cell_type": "code",
   "execution_count": 33,
   "metadata": {},
   "outputs": [
    {
     "data": {
      "text/plain": [
       "<matplotlib.axes._subplots.AxesSubplot at 0x213e96d9e80>"
      ]
     },
     "execution_count": 33,
     "metadata": {},
     "output_type": "execute_result"
    },
    {
     "data": {
      "image/png": "[encoded data removed]",
      "text/plain": [
       "<Figure size 432x288 with 1 Axes>"
      ]
     },
     "metadata": {
      "needs_background": "light"
     },
     "output_type": "display_data"
    }
   ],
   "source": [
    "#True distribution\n",
    "y.hist()"
   ]
  },
  {
   "cell_type": "code",
   "execution_count": 34,
   "metadata": {},
   "outputs": [
    {
     "data": {
      "text/plain": [
       "<matplotlib.axes._subplots.AxesSubplot at 0x213e9cf6710>"
      ]
     },
     "execution_count": 34,
     "metadata": {},
     "output_type": "execute_result"
    },
    {
     "data": {
      "image/png": "[encoded data removed]",
      "text/plain": [
       "<Figure size 432x288 with 1 Axes>"
      ]
     },
     "metadata": {
      "needs_background": "light"
     },
     "output_type": "display_data"
    }
   ],
   "source": [
    "pd.Series(y_preds).hist()"
   ]
  },
  {
   "cell_type": "code",
   "execution_count": 35,
   "metadata": {},
   "outputs": [
    {
     "data": {
      "text/html": [
       "<div>\n",
       "<style scoped>\n",
       "    .dataframe tbody tr th:only-of-type {\n",
       "        vertical-align: middle;\n",
       "    }\n",
       "\n",
       "    .dataframe tbody tr th {\n",
       "        vertical-align: top;\n",
       "    }\n",
       "\n",
       "    .dataframe thead th {\n",
       "        text-align: right;\n",
       "    }\n",
       "</style>\n",
       "<table border=\"1\" class=\"dataframe\">\n",
       "  <thead>\n",
       "    <tr style=\"text-align: right;\">\n",
       "      <th></th>\n",
       "      <th>Hate</th>\n",
       "      <th>Offensive</th>\n",
       "      <th>Neither</th>\n",
       "    </tr>\n",
       "  </thead>\n",
       "  <tbody>\n",
       "    <tr>\n",
       "      <th>Hate</th>\n",
       "      <td>0.200000</td>\n",
       "      <td>0.644444</td>\n",
       "      <td>0.155556</td>\n",
       "    </tr>\n",
       "    <tr>\n",
       "      <th>Offensive</th>\n",
       "      <td>0.008763</td>\n",
       "      <td>0.951546</td>\n",
       "      <td>0.039691</td>\n",
       "    </tr>\n",
       "    <tr>\n",
       "      <th>Neither</th>\n",
       "      <td>0.002475</td>\n",
       "      <td>0.099010</td>\n",
       "      <td>0.898515</td>\n",
       "    </tr>\n",
       "  </tbody>\n",
       "</table>\n",
       "</div>"
      ],
      "text/plain": [
       "               Hate  Offensive   Neither\n",
       "Hate       0.200000   0.644444  0.155556\n",
       "Offensive  0.008763   0.951546  0.039691\n",
       "Neither    0.002475   0.099010  0.898515"
      ]
     },
     "execution_count": 35,
     "metadata": {},
     "output_type": "execute_result"
    }
   ],
   "source": [
    "confusion_df"
   ]
  },
  {
   "cell_type": "code",
   "execution_count": 37,
   "metadata": {},
   "outputs": [
    {
     "data": {
      "text/plain": [
       "['XGBoost_Classifier_Hypertuned.joblib']"
      ]
     },
     "execution_count": 37,
     "metadata": {},
     "output_type": "execute_result"
    }
   ],
   "source": [
    "from joblib import dump, load\n",
    "dump(grid_search.best_estimator_, 'XGBoost_Classifier_Hypertuned.joblib') "
   ]
  },
  {
   "cell_type": "code",
   "execution_count": 38,
   "metadata": {},
   "outputs": [],
   "source": [
    "from sklearn.metrics import roc_auc_score, auc, roc_curve\n",
    "\n",
    "probabilities = model.predict_proba(X_test)[:,1]\n",
    "\n",
    "fpr, tpr, _ = roc_curve(y_test, probabilities, 0)\n",
    "roc_auc = auc(fpr, tpr)"
   ]
  },
  {
   "cell_type": "code",
   "execution_count": 39,
   "metadata": {},
   "outputs": [
    {
     "data": {
      "image/png": "[encoded data removed]",
      "text/plain": [
       "<Figure size 432x288 with 1 Axes>"
      ]
     },
     "metadata": {
      "needs_background": "light"
     },
     "output_type": "display_data"
    }
   ],
   "source": [
    "plt.figure()\n",
    "plt.plot(fpr, tpr, color='darkorange', label='ROC curve (area = %0.2f)' % roc_auc)\n",
    "plt.plot([0, 1], [0, 1], color='navy', label = 'Chance', linestyle='--')\n",
    "plt.xlim([0.0, 1.0])\n",
    "plt.ylim([0.0, 1.05])\n",
    "plt.xlabel('False Positive Rate')\n",
    "plt.ylabel('True Positive Rate')\n",
    "plt.title('Class = 0 (\"Hate\")')\n",
    "plt.suptitle('ROC Curve--XGBoost Classifier', fontsize=14)\n",
    "plt.legend(loc=\"best\")\n",
    "# plt.savefig('ROC Curve--XGBoost Classifier.jpeg', dpi = 1200, format = 'jpeg', optimize = True)\n",
    "plt.show()"
   ]
  },
  {
   "cell_type": "code",
   "execution_count": null,
   "metadata": {},
   "outputs": [],
   "source": []
  }
 ],
 "metadata": {
  "kernelspec": {
   "display_name": "Python 3",
   "language": "python",
   "name": "python3"
  },
  "language_info": {
   "codemirror_mode": {
    "name": "ipython",
    "version": 3
   },
   "file_extension": ".py",
   "mimetype": "text/x-python",
   "name": "python",
   "nbconvert_exporter": "python",
   "pygments_lexer": "ipython3",
   "version": "3.6.8"
  }
 },
 "nbformat": 4,
 "nbformat_minor": 2
}
